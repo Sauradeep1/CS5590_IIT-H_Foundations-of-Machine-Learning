{
 "cells": [
  {
   "cell_type": "markdown",
   "id": "69b01139",
   "metadata": {},
   "source": [
    "### Importing necessary libraries"
   ]
  },
  {
   "cell_type": "code",
   "execution_count": 1,
   "id": "299b23a0",
   "metadata": {},
   "outputs": [],
   "source": [
    "from sklearn.pipeline import make_pipeline\n",
    "#importing necessary libraries\n",
    "import numpy as np\n",
    "import pandas as pd\n",
    "import os\n",
    "from sklearn import svm\n",
    "from sklearn.metrics import accuracy_score\n",
    "import functools\n",
    "from itertools import product\n",
    "from sklearn.preprocessing import StandardScaler\n",
    "from sklearn.preprocessing import MinMaxScaler"
   ]
  },
  {
   "cell_type": "code",
   "execution_count": 2,
   "id": "6e8a32ea",
   "metadata": {},
   "outputs": [],
   "source": [
    "from io import StringIO"
   ]
  },
  {
   "cell_type": "markdown",
   "id": "56478de1",
   "metadata": {},
   "source": [
    "### Set the input path"
   ]
  },
  {
   "cell_type": "code",
   "execution_count": 3,
   "id": "d3e2fb2e",
   "metadata": {},
   "outputs": [
    {
     "data": {
      "text/plain": [
       "['features.test.txt',\n",
       " 'features.train.txt',\n",
       " 'gisette.param',\n",
       " 'gisette_test.data',\n",
       " 'gisette_train.data',\n",
       " 'gisette_train.labels',\n",
       " 'gisette_valid.data',\n",
       " 'gisette_valid.labels',\n",
       " 'Q4__Polynomialresult.txt',\n",
       " 'Q4__RBF__result.txt']"
      ]
     },
     "execution_count": 3,
     "metadata": {},
     "output_type": "execute_result"
    }
   ],
   "source": [
    "data_path = r'C:\\Users\\saura\\OneDrive\\Documents\\IIT Hyderabad\\Assignments\\ML\\Assignment 2\\Dataset'\n",
    "os.chdir(data_path)\n",
    "os.listdir()"
   ]
  },
  {
   "cell_type": "markdown",
   "id": "37d3a4e3",
   "metadata": {},
   "source": [
    "### load the datasets"
   ]
  },
  {
   "cell_type": "code",
   "execution_count": 4,
   "id": "2bb1416e",
   "metadata": {},
   "outputs": [
    {
     "data": {
      "text/html": [
       "<div>\n",
       "<style scoped>\n",
       "    .dataframe tbody tr th:only-of-type {\n",
       "        vertical-align: middle;\n",
       "    }\n",
       "\n",
       "    .dataframe tbody tr th {\n",
       "        vertical-align: top;\n",
       "    }\n",
       "\n",
       "    .dataframe thead th {\n",
       "        text-align: right;\n",
       "    }\n",
       "</style>\n",
       "<table border=\"1\" class=\"dataframe\">\n",
       "  <thead>\n",
       "    <tr style=\"text-align: right;\">\n",
       "      <th></th>\n",
       "      <th>0</th>\n",
       "    </tr>\n",
       "  </thead>\n",
       "  <tbody>\n",
       "    <tr>\n",
       "      <th>0</th>\n",
       "      <td>1</td>\n",
       "    </tr>\n",
       "    <tr>\n",
       "      <th>1</th>\n",
       "      <td>1</td>\n",
       "    </tr>\n",
       "    <tr>\n",
       "      <th>2</th>\n",
       "      <td>-1</td>\n",
       "    </tr>\n",
       "    <tr>\n",
       "      <th>3</th>\n",
       "      <td>1</td>\n",
       "    </tr>\n",
       "    <tr>\n",
       "      <th>4</th>\n",
       "      <td>1</td>\n",
       "    </tr>\n",
       "  </tbody>\n",
       "</table>\n",
       "</div>"
      ],
      "text/plain": [
       "   0\n",
       "0  1\n",
       "1  1\n",
       "2 -1\n",
       "3  1\n",
       "4  1"
      ]
     },
     "execution_count": 4,
     "metadata": {},
     "output_type": "execute_result"
    }
   ],
   "source": [
    "train_data = pd.read_csv('gisette_train.data', sep =' ', header =None)\n",
    "train_data.dropna(axis =1, how ='all', inplace =True)\n",
    "test_data = pd.read_csv('gisette_valid.data', sep =' ', header =None)\n",
    "test_data.dropna(axis =1,how ='all', inplace =True)\n",
    "train_labels = pd.read_csv('gisette_train.labels', sep =' ', header =None)\n",
    "train_labels.dropna(axis =1,how ='all', inplace =True)\n",
    "test_labels = pd.read_csv('gisette_valid.labels', sep =' ', header =None)\n",
    "test_labels.dropna(axis =1,how ='all', inplace =True)\n",
    "test_labels.head()"
   ]
  },
  {
   "cell_type": "code",
   "execution_count": 5,
   "id": "98a0b3bd",
   "metadata": {},
   "outputs": [
    {
     "data": {
      "text/plain": [
       "-1    3000\n",
       " 1    3000\n",
       "dtype: int64"
      ]
     },
     "execution_count": 5,
     "metadata": {},
     "output_type": "execute_result"
    }
   ],
   "source": [
    "train_labels.value_counts()"
   ]
  },
  {
   "cell_type": "code",
   "execution_count": 6,
   "id": "8762aede",
   "metadata": {},
   "outputs": [
    {
     "data": {
      "text/plain": [
       "-1    500\n",
       " 1    500\n",
       "dtype: int64"
      ]
     },
     "execution_count": 6,
     "metadata": {},
     "output_type": "execute_result"
    }
   ],
   "source": [
    "test_labels.value_counts()"
   ]
  },
  {
   "cell_type": "code",
   "execution_count": 7,
   "id": "aca381b3",
   "metadata": {},
   "outputs": [
    {
     "data": {
      "text/html": [
       "<div>\n",
       "<style scoped>\n",
       "    .dataframe tbody tr th:only-of-type {\n",
       "        vertical-align: middle;\n",
       "    }\n",
       "\n",
       "    .dataframe tbody tr th {\n",
       "        vertical-align: top;\n",
       "    }\n",
       "\n",
       "    .dataframe thead th {\n",
       "        text-align: right;\n",
       "    }\n",
       "</style>\n",
       "<table border=\"1\" class=\"dataframe\">\n",
       "  <thead>\n",
       "    <tr style=\"text-align: right;\">\n",
       "      <th></th>\n",
       "      <th>0</th>\n",
       "      <th>1</th>\n",
       "      <th>2</th>\n",
       "      <th>3</th>\n",
       "      <th>4</th>\n",
       "      <th>5</th>\n",
       "      <th>6</th>\n",
       "      <th>7</th>\n",
       "      <th>8</th>\n",
       "      <th>9</th>\n",
       "      <th>...</th>\n",
       "      <th>4990</th>\n",
       "      <th>4991</th>\n",
       "      <th>4992</th>\n",
       "      <th>4993</th>\n",
       "      <th>4994</th>\n",
       "      <th>4995</th>\n",
       "      <th>4996</th>\n",
       "      <th>4997</th>\n",
       "      <th>4998</th>\n",
       "      <th>4999</th>\n",
       "    </tr>\n",
       "  </thead>\n",
       "  <tbody>\n",
       "    <tr>\n",
       "      <th>0</th>\n",
       "      <td>550</td>\n",
       "      <td>0</td>\n",
       "      <td>495</td>\n",
       "      <td>0</td>\n",
       "      <td>0</td>\n",
       "      <td>0</td>\n",
       "      <td>0</td>\n",
       "      <td>976</td>\n",
       "      <td>0</td>\n",
       "      <td>0</td>\n",
       "      <td>...</td>\n",
       "      <td>0</td>\n",
       "      <td>0</td>\n",
       "      <td>0</td>\n",
       "      <td>991</td>\n",
       "      <td>991</td>\n",
       "      <td>0</td>\n",
       "      <td>0</td>\n",
       "      <td>0</td>\n",
       "      <td>0</td>\n",
       "      <td>983</td>\n",
       "    </tr>\n",
       "    <tr>\n",
       "      <th>1</th>\n",
       "      <td>0</td>\n",
       "      <td>0</td>\n",
       "      <td>0</td>\n",
       "      <td>0</td>\n",
       "      <td>0</td>\n",
       "      <td>0</td>\n",
       "      <td>0</td>\n",
       "      <td>976</td>\n",
       "      <td>0</td>\n",
       "      <td>0</td>\n",
       "      <td>...</td>\n",
       "      <td>0</td>\n",
       "      <td>475</td>\n",
       "      <td>0</td>\n",
       "      <td>991</td>\n",
       "      <td>0</td>\n",
       "      <td>0</td>\n",
       "      <td>991</td>\n",
       "      <td>0</td>\n",
       "      <td>0</td>\n",
       "      <td>0</td>\n",
       "    </tr>\n",
       "    <tr>\n",
       "      <th>2</th>\n",
       "      <td>0</td>\n",
       "      <td>0</td>\n",
       "      <td>0</td>\n",
       "      <td>0</td>\n",
       "      <td>0</td>\n",
       "      <td>0</td>\n",
       "      <td>0</td>\n",
       "      <td>0</td>\n",
       "      <td>0</td>\n",
       "      <td>0</td>\n",
       "      <td>...</td>\n",
       "      <td>0</td>\n",
       "      <td>0</td>\n",
       "      <td>0</td>\n",
       "      <td>0</td>\n",
       "      <td>0</td>\n",
       "      <td>0</td>\n",
       "      <td>0</td>\n",
       "      <td>0</td>\n",
       "      <td>0</td>\n",
       "      <td>0</td>\n",
       "    </tr>\n",
       "    <tr>\n",
       "      <th>3</th>\n",
       "      <td>0</td>\n",
       "      <td>0</td>\n",
       "      <td>742</td>\n",
       "      <td>0</td>\n",
       "      <td>0</td>\n",
       "      <td>0</td>\n",
       "      <td>0</td>\n",
       "      <td>684</td>\n",
       "      <td>0</td>\n",
       "      <td>956</td>\n",
       "      <td>...</td>\n",
       "      <td>0</td>\n",
       "      <td>0</td>\n",
       "      <td>0</td>\n",
       "      <td>0</td>\n",
       "      <td>0</td>\n",
       "      <td>0</td>\n",
       "      <td>674</td>\n",
       "      <td>0</td>\n",
       "      <td>0</td>\n",
       "      <td>838</td>\n",
       "    </tr>\n",
       "    <tr>\n",
       "      <th>4</th>\n",
       "      <td>0</td>\n",
       "      <td>0</td>\n",
       "      <td>0</td>\n",
       "      <td>0</td>\n",
       "      <td>0</td>\n",
       "      <td>0</td>\n",
       "      <td>0</td>\n",
       "      <td>608</td>\n",
       "      <td>0</td>\n",
       "      <td>979</td>\n",
       "      <td>...</td>\n",
       "      <td>991</td>\n",
       "      <td>0</td>\n",
       "      <td>0</td>\n",
       "      <td>828</td>\n",
       "      <td>0</td>\n",
       "      <td>0</td>\n",
       "      <td>0</td>\n",
       "      <td>0</td>\n",
       "      <td>0</td>\n",
       "      <td>0</td>\n",
       "    </tr>\n",
       "  </tbody>\n",
       "</table>\n",
       "<p>5 rows × 5000 columns</p>\n",
       "</div>"
      ],
      "text/plain": [
       "   0     1     2     3     4     5     6     7     8     9     ...  4990  \\\n",
       "0   550     0   495     0     0     0     0   976     0     0  ...     0   \n",
       "1     0     0     0     0     0     0     0   976     0     0  ...     0   \n",
       "2     0     0     0     0     0     0     0     0     0     0  ...     0   \n",
       "3     0     0   742     0     0     0     0   684     0   956  ...     0   \n",
       "4     0     0     0     0     0     0     0   608     0   979  ...   991   \n",
       "\n",
       "   4991  4992  4993  4994  4995  4996  4997  4998  4999  \n",
       "0     0     0   991   991     0     0     0     0   983  \n",
       "1   475     0   991     0     0   991     0     0     0  \n",
       "2     0     0     0     0     0     0     0     0     0  \n",
       "3     0     0     0     0     0   674     0     0   838  \n",
       "4     0     0   828     0     0     0     0     0     0  \n",
       "\n",
       "[5 rows x 5000 columns]"
      ]
     },
     "execution_count": 7,
     "metadata": {},
     "output_type": "execute_result"
    }
   ],
   "source": [
    "train_data.head()"
   ]
  },
  {
   "cell_type": "code",
   "execution_count": 8,
   "id": "2a126acc",
   "metadata": {},
   "outputs": [
    {
     "data": {
      "text/plain": [
       "0"
      ]
     },
     "execution_count": 8,
     "metadata": {},
     "output_type": "execute_result"
    }
   ],
   "source": [
    "#checking for null values\n",
    "train_data.isna().sum().sum()"
   ]
  },
  {
   "cell_type": "markdown",
   "id": "b57cddc6",
   "metadata": {},
   "source": [
    "### Scaling "
   ]
  },
  {
   "cell_type": "code",
   "execution_count": 5,
   "id": "1d443efd",
   "metadata": {},
   "outputs": [],
   "source": [
    "scaler = MinMaxScaler()\n",
    "train_data_mm = scaler.fit_transform(train_data.values)\n",
    "test_data_mm = scaler.transform(test_data.values)\n",
    "#NOTE - only need transform the test data, not fit transform \n",
    "# Source - https://stackoverflow.com/questions/43675665/when-scale-the-data-why-the-train-dataset-use-fit-and-transform-but-the-te"
   ]
  },
  {
   "cell_type": "code",
   "execution_count": 6,
   "id": "d99e0c80",
   "metadata": {},
   "outputs": [],
   "source": [
    "scaler = StandardScaler()\n",
    "train_data_std = scaler.fit_transform(train_data.values)\n",
    "test_data_std = scaler.transform(test_data.values)"
   ]
  },
  {
   "cell_type": "code",
   "execution_count": 7,
   "id": "6e4f861a",
   "metadata": {},
   "outputs": [],
   "source": [
    "def gisette_fit_SVM(train_data_mm,  test_data_mm, kernel='linear' , scaling = \"None\"):\n",
    "    '''\n",
    "    for a given test train data & kernel type -- fits the model & stores the error metrics in a text file.\n",
    "    -----\n",
    "    Input Parameters:\n",
    "    -----\n",
    "    train_data_mm , test_data_mm: train & test dataframes\n",
    "    kernel : string \n",
    "        can hold the below values - 'poly', 'linear'(default), 'rbf'\n",
    "    scaling : string \n",
    "        denotes whether no scaling is done , or standard or min -max. This string is used in outputting suitable text \n",
    "        in the text results files\n",
    "    -----\n",
    "    Returns \n",
    "    -----\n",
    "    None \n",
    "    '''\n",
    "    if kernel=='poly' :\n",
    "        classifier = svm.SVC(kernel='poly', degree = 2, coef0 = 1, gamma =1)# create SVM classifier object with poly kernel\n",
    "    if kernel=='linear' :\n",
    "        classifier = svm.SVC(kernel='linear')\n",
    "    if kernel =='rbf':\n",
    "        classifier = svm.SVC(kernel='rbf', gamma = 0.001)\n",
    " \n",
    "    classifier.fit(train_data_mm, train_labels)\n",
    "    print('the number of support vectors : '+str(classifier.n_support_))# printing the number of support vectors\n",
    "    # predicting for test set\n",
    "    predicted_class = classifier.predict(test_data_mm)\n",
    "    train_predicted_class = classifier.predict(train_data_mm)\n",
    "    train_accuracy = accuracy_score(train_labels, train_predicted_class)\n",
    "    test_accuracy = accuracy_score(test_labels, predicted_class)\n",
    "    # get the accuracy on the test data\n",
    "    print('poly train error with '+str(scaling)+' scaling : '+str(1-train_accuracy))\n",
    "    print('poly test error with '+str(scaling)+' scaling : '+str(1-test_accuracy))\n",
    "    #write output /results to text file\n",
    "    myname = \"Q5__\"+kernel+\"__\"\n",
    "    f = open(myname+\"result.txt\", \"a\")\n",
    "    f.write('\\n')\n",
    "    f.write('the number of support vectors for '+str(kernel)+\" & scaling: \"+scaling+\" is :\"+str(classifier.n_support_))\n",
    "    f.write('\\n')\n",
    "\n",
    "    f.write('Training error for kernel ='+str(kernel)+\"scaling: \"+scaling+\" is :\"+str(1-train_accuracy))\n",
    "    f.write('\\n')\n",
    "    f.write('Test error for kernel ='+str(kernel)+\"scaling: \"+scaling+\" is :\"+str(1-test_accuracy))\n",
    "    f.write ('----------------------------------------------------------------------------')\n",
    "    f.write('\\n')\n",
    "    f.write('\\n')\n",
    "    f.close()"
   ]
  },
  {
   "cell_type": "code",
   "execution_count": 32,
   "id": "98eba754",
   "metadata": {},
   "outputs": [
    {
     "data": {
      "text/plain": [
       "'C:\\\\Users\\\\saura\\\\OneDrive\\\\Documents\\\\IIT Hyderabad\\\\Assignments\\\\ML\\\\Assignment 2\\\\Dataset'"
      ]
     },
     "execution_count": 32,
     "metadata": {},
     "output_type": "execute_result"
    }
   ],
   "source": [
    "os.getcwd()"
   ]
  },
  {
   "cell_type": "code",
   "execution_count": 8,
   "id": "499f8a4f",
   "metadata": {},
   "outputs": [
    {
     "name": "stderr",
     "output_type": "stream",
     "text": [
      "C:\\Users\\saura\\Anaconda3\\lib\\site-packages\\sklearn\\utils\\validation.py:63: DataConversionWarning: A column-vector y was passed when a 1d array was expected. Please change the shape of y to (n_samples, ), for example using ravel().\n",
      "  return f(*args, **kwargs)\n"
     ]
    },
    {
     "name": "stdout",
     "output_type": "stream",
     "text": [
      "the number of support vectors : [542 542]\n",
      "poly train error with None scaling : 0.0\n",
      "poly test error with None scaling : 0.02400000000000002\n"
     ]
    }
   ],
   "source": [
    "gisette_fit_SVM(train_data,  test_data, kernel='linear')"
   ]
  },
  {
   "cell_type": "code",
   "execution_count": 9,
   "id": "6bc908b2",
   "metadata": {},
   "outputs": [
    {
     "name": "stderr",
     "output_type": "stream",
     "text": [
      "C:\\Users\\saura\\Anaconda3\\lib\\site-packages\\sklearn\\utils\\validation.py:63: DataConversionWarning: A column-vector y was passed when a 1d array was expected. Please change the shape of y to (n_samples, ), for example using ravel().\n",
      "  return f(*args, **kwargs)\n"
     ]
    },
    {
     "name": "stdout",
     "output_type": "stream",
     "text": [
      "the number of support vectors : [542 542]\n",
      "poly train error with minmax scaling : 0.0\n",
      "poly test error with minmax scaling : 0.02400000000000002\n"
     ]
    }
   ],
   "source": [
    "gisette_fit_SVM(train_data_mm,  test_data_mm, kernel='linear' , scaling = 'minmax' )"
   ]
  },
  {
   "cell_type": "code",
   "execution_count": 10,
   "id": "9c1dfac6",
   "metadata": {},
   "outputs": [
    {
     "name": "stderr",
     "output_type": "stream",
     "text": [
      "C:\\Users\\saura\\Anaconda3\\lib\\site-packages\\sklearn\\utils\\validation.py:63: DataConversionWarning: A column-vector y was passed when a 1d array was expected. Please change the shape of y to (n_samples, ), for example using ravel().\n",
      "  return f(*args, **kwargs)\n"
     ]
    },
    {
     "name": "stdout",
     "output_type": "stream",
     "text": [
      "the number of support vectors : [628 608]\n",
      "poly train error with standard scaling : 0.0\n",
      "poly test error with standard scaling : 0.019000000000000017\n"
     ]
    }
   ],
   "source": [
    "gisette_fit_SVM(train_data_std,  test_data_std, kernel='linear' , scaling = 'standard' )"
   ]
  },
  {
   "cell_type": "code",
   "execution_count": 11,
   "id": "7e4c8c68",
   "metadata": {},
   "outputs": [
    {
     "name": "stderr",
     "output_type": "stream",
     "text": [
      "C:\\Users\\saura\\Anaconda3\\lib\\site-packages\\sklearn\\utils\\validation.py:63: DataConversionWarning: A column-vector y was passed when a 1d array was expected. Please change the shape of y to (n_samples, ), for example using ravel().\n",
      "  return f(*args, **kwargs)\n"
     ]
    },
    {
     "name": "stdout",
     "output_type": "stream",
     "text": [
      "the number of support vectors : [817 938]\n",
      "poly train error with None scaling : 0.0\n",
      "poly test error with None scaling : 0.02100000000000002\n"
     ]
    },
    {
     "name": "stderr",
     "output_type": "stream",
     "text": [
      "C:\\Users\\saura\\Anaconda3\\lib\\site-packages\\sklearn\\utils\\validation.py:63: DataConversionWarning: A column-vector y was passed when a 1d array was expected. Please change the shape of y to (n_samples, ), for example using ravel().\n",
      "  return f(*args, **kwargs)\n"
     ]
    },
    {
     "name": "stdout",
     "output_type": "stream",
     "text": [
      "the number of support vectors : [2287 2372]\n",
      "poly train error with standard scaling : 0.0\n",
      "poly test error with standard scaling : 0.019000000000000017\n"
     ]
    },
    {
     "name": "stderr",
     "output_type": "stream",
     "text": [
      "C:\\Users\\saura\\Anaconda3\\lib\\site-packages\\sklearn\\utils\\validation.py:63: DataConversionWarning: A column-vector y was passed when a 1d array was expected. Please change the shape of y to (n_samples, ), for example using ravel().\n",
      "  return f(*args, **kwargs)\n"
     ]
    },
    {
     "name": "stdout",
     "output_type": "stream",
     "text": [
      "the number of support vectors : [814 938]\n",
      "poly train error with minmax scaling : 0.0\n",
      "poly test error with minmax scaling : 0.020000000000000018\n"
     ]
    }
   ],
   "source": [
    "gisette_fit_SVM(train_data,  test_data, kernel='poly'  )\n",
    "gisette_fit_SVM(train_data_std,  test_data_std, kernel='poly' , scaling = 'standard' )\n",
    "gisette_fit_SVM(train_data_mm,  test_data_mm, kernel='poly' , scaling = 'minmax' )"
   ]
  },
  {
   "cell_type": "code",
   "execution_count": 12,
   "id": "cd6f9e9f",
   "metadata": {},
   "outputs": [
    {
     "name": "stderr",
     "output_type": "stream",
     "text": [
      "C:\\Users\\saura\\Anaconda3\\lib\\site-packages\\sklearn\\utils\\validation.py:63: DataConversionWarning: A column-vector y was passed when a 1d array was expected. Please change the shape of y to (n_samples, ), for example using ravel().\n",
      "  return f(*args, **kwargs)\n"
     ]
    },
    {
     "name": "stdout",
     "output_type": "stream",
     "text": [
      "the number of support vectors : [3000 3000]\n",
      "poly train error with None scaling : 0.0\n",
      "poly test error with None scaling : 0.5\n"
     ]
    },
    {
     "name": "stderr",
     "output_type": "stream",
     "text": [
      "C:\\Users\\saura\\Anaconda3\\lib\\site-packages\\sklearn\\utils\\validation.py:63: DataConversionWarning: A column-vector y was passed when a 1d array was expected. Please change the shape of y to (n_samples, ), for example using ravel().\n",
      "  return f(*args, **kwargs)\n"
     ]
    },
    {
     "name": "stdout",
     "output_type": "stream",
     "text": [
      "the number of support vectors : [2999 3000]\n",
      "poly train error with standard scaling : 0.0\n",
      "poly test error with standard scaling : 0.14600000000000002\n"
     ]
    },
    {
     "name": "stderr",
     "output_type": "stream",
     "text": [
      "C:\\Users\\saura\\Anaconda3\\lib\\site-packages\\sklearn\\utils\\validation.py:63: DataConversionWarning: A column-vector y was passed when a 1d array was expected. Please change the shape of y to (n_samples, ), for example using ravel().\n",
      "  return f(*args, **kwargs)\n"
     ]
    },
    {
     "name": "stdout",
     "output_type": "stream",
     "text": [
      "the number of support vectors : [809 832]\n",
      "poly train error with minmax scaling : 0.010166666666666657\n",
      "poly test error with minmax scaling : 0.03500000000000003\n"
     ]
    }
   ],
   "source": [
    "gisette_fit_SVM(train_data,  test_data, kernel='rbf'  )\n",
    "gisette_fit_SVM(train_data_std,  test_data_std, kernel='rbf' , scaling = 'standard' )\n",
    "gisette_fit_SVM(train_data_mm,  test_data_mm, kernel='rbf' , scaling = 'minmax' )"
   ]
  },
  {
   "cell_type": "code",
   "execution_count": null,
   "id": "db0d3c93",
   "metadata": {},
   "outputs": [],
   "source": []
  },
  {
   "cell_type": "code",
   "execution_count": null,
   "id": "6ffa051a",
   "metadata": {},
   "outputs": [],
   "source": []
  },
  {
   "cell_type": "code",
   "execution_count": null,
   "id": "16df52bd",
   "metadata": {},
   "outputs": [],
   "source": []
  },
  {
   "cell_type": "code",
   "execution_count": null,
   "id": "fa238e62",
   "metadata": {},
   "outputs": [],
   "source": []
  }
 ],
 "metadata": {
  "kernelspec": {
   "display_name": "Python 3",
   "language": "python",
   "name": "python3"
  },
  "language_info": {
   "codemirror_mode": {
    "name": "ipython",
    "version": 3
   },
   "file_extension": ".py",
   "mimetype": "text/x-python",
   "name": "python",
   "nbconvert_exporter": "python",
   "pygments_lexer": "ipython3",
   "version": "3.8.8"
  }
 },
 "nbformat": 4,
 "nbformat_minor": 5
}
