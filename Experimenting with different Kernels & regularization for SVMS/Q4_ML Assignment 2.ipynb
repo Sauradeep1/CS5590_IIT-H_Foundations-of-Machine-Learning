{
 "cells": [
  {
   "cell_type": "code",
   "execution_count": 15,
   "id": "ec11a352",
   "metadata": {},
   "outputs": [],
   "source": [
    "from sklearn.pipeline import make_pipeline\n",
    "#importing necessary libraries\n",
    "import numpy as np\n",
    "import pandas as pd\n",
    "import os\n",
    "from sklearn import svm\n",
    "from sklearn.metrics import accuracy_score\n",
    "import functools\n",
    "from itertools import product\n",
    "from sklearn.preprocessing import StandardScaler\n",
    "from sklearn.preprocessing import MinMaxScaler"
   ]
  },
  {
   "cell_type": "markdown",
   "id": "3bd8dd3c",
   "metadata": {},
   "source": [
    "### Set Input Path"
   ]
  },
  {
   "cell_type": "code",
   "execution_count": 16,
   "id": "2d673df3",
   "metadata": {},
   "outputs": [
    {
     "data": {
      "text/plain": [
       "['features.test.txt',\n",
       " 'features.train.txt',\n",
       " 'gisette.param',\n",
       " 'gisette_test.data',\n",
       " 'gisette_train.data',\n",
       " 'gisette_train.labels',\n",
       " 'gisette_valid.data',\n",
       " 'gisette_valid.labels',\n",
       " 'Linear_all_dataresult.txt',\n",
       " 'Q5__minmax__result.txt',\n",
       " 'Q5__None__result.txt']"
      ]
     },
     "execution_count": 16,
     "metadata": {},
     "output_type": "execute_result"
    }
   ],
   "source": [
    "# data_path := the path where the test -train datasets are placed\n",
    "data_path = r'C:\\Users\\saura\\OneDrive\\Documents\\IIT Hyderabad\\Assignments\\ML\\Assignment 2\\Dataset'\n",
    "os.chdir(data_path)\n",
    "os.listdir()"
   ]
  },
  {
   "cell_type": "markdown",
   "id": "657d1045",
   "metadata": {},
   "source": [
    "### Load test train data"
   ]
  },
  {
   "cell_type": "code",
   "execution_count": 17,
   "id": "c86ddaa8",
   "metadata": {},
   "outputs": [
    {
     "name": "stdout",
     "output_type": "stream",
     "text": [
      " 1    1005\n",
      "-1     556\n",
      "Name: class, dtype: int64\n"
     ]
    },
    {
     "data": {
      "text/html": [
       "<div>\n",
       "<style scoped>\n",
       "    .dataframe tbody tr th:only-of-type {\n",
       "        vertical-align: middle;\n",
       "    }\n",
       "\n",
       "    .dataframe tbody tr th {\n",
       "        vertical-align: top;\n",
       "    }\n",
       "\n",
       "    .dataframe thead th {\n",
       "        text-align: right;\n",
       "    }\n",
       "</style>\n",
       "<table border=\"1\" class=\"dataframe\">\n",
       "  <thead>\n",
       "    <tr style=\"text-align: right;\">\n",
       "      <th></th>\n",
       "      <th>label</th>\n",
       "      <th>feature1</th>\n",
       "      <th>feature2</th>\n",
       "      <th>class</th>\n",
       "    </tr>\n",
       "  </thead>\n",
       "  <tbody>\n",
       "    <tr>\n",
       "      <th>1</th>\n",
       "      <td>5</td>\n",
       "      <td>0.444131</td>\n",
       "      <td>-5.496812</td>\n",
       "      <td>-1</td>\n",
       "    </tr>\n",
       "    <tr>\n",
       "      <th>7</th>\n",
       "      <td>1</td>\n",
       "      <td>0.123043</td>\n",
       "      <td>-0.707875</td>\n",
       "      <td>1</td>\n",
       "    </tr>\n",
       "    <tr>\n",
       "      <th>9</th>\n",
       "      <td>1</td>\n",
       "      <td>0.113859</td>\n",
       "      <td>-0.931375</td>\n",
       "      <td>1</td>\n",
       "    </tr>\n",
       "    <tr>\n",
       "      <th>12</th>\n",
       "      <td>1</td>\n",
       "      <td>0.115371</td>\n",
       "      <td>-0.386000</td>\n",
       "      <td>1</td>\n",
       "    </tr>\n",
       "    <tr>\n",
       "      <th>13</th>\n",
       "      <td>1</td>\n",
       "      <td>0.102281</td>\n",
       "      <td>-0.378812</td>\n",
       "      <td>1</td>\n",
       "    </tr>\n",
       "  </tbody>\n",
       "</table>\n",
       "</div>"
      ],
      "text/plain": [
       "    label  feature1  feature2  class\n",
       "1       5  0.444131 -5.496812     -1\n",
       "7       1  0.123043 -0.707875      1\n",
       "9       1  0.113859 -0.931375      1\n",
       "12      1  0.115371 -0.386000      1\n",
       "13      1  0.102281 -0.378812      1"
      ]
     },
     "execution_count": 17,
     "metadata": {},
     "output_type": "execute_result"
    }
   ],
   "source": [
    "#load train data\n",
    "svm_train = pd.read_csv('features.train.txt', delimiter = \" \", header=None)\n",
    "# there wore some null columns loaded. dropping them in place\n",
    "svm_train.dropna(axis = 1, inplace = True) \n",
    "svm_train.columns = ['label', 'feature1' , 'feature2']# assign column names\n",
    "svm_train['label']= svm_train['label'].astype(int)\n",
    "# only keep the records with label 1,5\n",
    "svm_train = svm_train[svm_train['label'].isin([1,5])] \n",
    "# if the original label is 1, class is 1, if  5--> class -1\n",
    "svm_train['class'] = np.where(svm_train['label'] ==1, 1, -1) \n",
    "print(svm_train['class'].value_counts()) # get class wise count\n",
    "svm_train.head()"
   ]
  },
  {
   "cell_type": "code",
   "execution_count": 18,
   "id": "c3939782",
   "metadata": {},
   "outputs": [],
   "source": [
    "# Train data class distribution ->  1 : 1005, -1 : 556"
   ]
  },
  {
   "cell_type": "code",
   "execution_count": 19,
   "id": "828540fc",
   "metadata": {},
   "outputs": [
    {
     "name": "stdout",
     "output_type": "stream",
     "text": [
      " 1    264\n",
      "-1    160\n",
      "Name: class, dtype: int64\n"
     ]
    },
    {
     "data": {
      "text/html": [
       "<div>\n",
       "<style scoped>\n",
       "    .dataframe tbody tr th:only-of-type {\n",
       "        vertical-align: middle;\n",
       "    }\n",
       "\n",
       "    .dataframe tbody tr th {\n",
       "        vertical-align: top;\n",
       "    }\n",
       "\n",
       "    .dataframe thead th {\n",
       "        text-align: right;\n",
       "    }\n",
       "</style>\n",
       "<table border=\"1\" class=\"dataframe\">\n",
       "  <thead>\n",
       "    <tr style=\"text-align: right;\">\n",
       "      <th></th>\n",
       "      <th>label</th>\n",
       "      <th>feature1</th>\n",
       "      <th>feature2</th>\n",
       "      <th>class</th>\n",
       "    </tr>\n",
       "  </thead>\n",
       "  <tbody>\n",
       "    <tr>\n",
       "      <th>16</th>\n",
       "      <td>1</td>\n",
       "      <td>0.159934</td>\n",
       "      <td>-1.742000</td>\n",
       "      <td>1</td>\n",
       "    </tr>\n",
       "    <tr>\n",
       "      <th>32</th>\n",
       "      <td>5</td>\n",
       "      <td>0.324840</td>\n",
       "      <td>-6.360563</td>\n",
       "      <td>-1</td>\n",
       "    </tr>\n",
       "    <tr>\n",
       "      <th>36</th>\n",
       "      <td>5</td>\n",
       "      <td>0.251180</td>\n",
       "      <td>-4.389375</td>\n",
       "      <td>-1</td>\n",
       "    </tr>\n",
       "    <tr>\n",
       "      <th>42</th>\n",
       "      <td>1</td>\n",
       "      <td>0.124609</td>\n",
       "      <td>-0.474438</td>\n",
       "      <td>1</td>\n",
       "    </tr>\n",
       "    <tr>\n",
       "      <th>45</th>\n",
       "      <td>1</td>\n",
       "      <td>0.219117</td>\n",
       "      <td>-0.904500</td>\n",
       "      <td>1</td>\n",
       "    </tr>\n",
       "  </tbody>\n",
       "</table>\n",
       "</div>"
      ],
      "text/plain": [
       "    label  feature1  feature2  class\n",
       "16      1  0.159934 -1.742000      1\n",
       "32      5  0.324840 -6.360563     -1\n",
       "36      5  0.251180 -4.389375     -1\n",
       "42      1  0.124609 -0.474438      1\n",
       "45      1  0.219117 -0.904500      1"
      ]
     },
     "execution_count": 19,
     "metadata": {},
     "output_type": "execute_result"
    }
   ],
   "source": [
    "#Load test data\n",
    "svm_test = pd.read_csv('features.test.txt', delimiter = \" \", header=None)\n",
    "# there wore some null columns loaded. dropping them in place\n",
    "svm_test.dropna(axis = 1, inplace = True)\n",
    "svm_test.columns = ['label', 'feature1' , 'feature2']# assign column names\n",
    "svm_test['label']= svm_test['label'].astype(int)\n",
    "# only keep the records with label 1,5\n",
    "svm_test = svm_test[svm_test['label'].isin([1,5])]\n",
    " # if the original label is 1, class is 1, if  5--> class -1\n",
    "svm_test['class'] = np.where(svm_test['label'] ==1, 1, -1)\n",
    "print(svm_test['class'].value_counts())# get class wise count\n",
    "svm_test.head()"
   ]
  },
  {
   "cell_type": "code",
   "execution_count": 20,
   "id": "7341944a",
   "metadata": {},
   "outputs": [],
   "source": [
    "# Test data class distribution ->  1 : 264, -1 : 160"
   ]
  },
  {
   "cell_type": "code",
   "execution_count": 21,
   "id": "b51baa3e",
   "metadata": {},
   "outputs": [
    {
     "data": {
      "text/html": [
       "<div>\n",
       "<style scoped>\n",
       "    .dataframe tbody tr th:only-of-type {\n",
       "        vertical-align: middle;\n",
       "    }\n",
       "\n",
       "    .dataframe tbody tr th {\n",
       "        vertical-align: top;\n",
       "    }\n",
       "\n",
       "    .dataframe thead th {\n",
       "        text-align: right;\n",
       "    }\n",
       "</style>\n",
       "<table border=\"1\" class=\"dataframe\">\n",
       "  <thead>\n",
       "    <tr style=\"text-align: right;\">\n",
       "      <th></th>\n",
       "      <th>feature1</th>\n",
       "      <th>feature2</th>\n",
       "      <th>class</th>\n",
       "    </tr>\n",
       "  </thead>\n",
       "  <tbody>\n",
       "    <tr>\n",
       "      <th>1</th>\n",
       "      <td>0.444131</td>\n",
       "      <td>-5.496812</td>\n",
       "      <td>-1</td>\n",
       "    </tr>\n",
       "    <tr>\n",
       "      <th>7</th>\n",
       "      <td>0.123043</td>\n",
       "      <td>-0.707875</td>\n",
       "      <td>1</td>\n",
       "    </tr>\n",
       "    <tr>\n",
       "      <th>9</th>\n",
       "      <td>0.113859</td>\n",
       "      <td>-0.931375</td>\n",
       "      <td>1</td>\n",
       "    </tr>\n",
       "    <tr>\n",
       "      <th>12</th>\n",
       "      <td>0.115371</td>\n",
       "      <td>-0.386000</td>\n",
       "      <td>1</td>\n",
       "    </tr>\n",
       "    <tr>\n",
       "      <th>13</th>\n",
       "      <td>0.102281</td>\n",
       "      <td>-0.378812</td>\n",
       "      <td>1</td>\n",
       "    </tr>\n",
       "  </tbody>\n",
       "</table>\n",
       "</div>"
      ],
      "text/plain": [
       "    feature1  feature2  class\n",
       "1   0.444131 -5.496812     -1\n",
       "7   0.123043 -0.707875      1\n",
       "9   0.113859 -0.931375      1\n",
       "12  0.115371 -0.386000      1\n",
       "13  0.102281 -0.378812      1"
      ]
     },
     "execution_count": 21,
     "metadata": {},
     "output_type": "execute_result"
    }
   ],
   "source": [
    "# drop the original labels , keep only +1, -1 derived classes\n",
    "svm_test.drop(['label'], axis =1,  inplace = True)\n",
    "svm_train.drop(['label'], axis =1, inplace = True)\n",
    "svm_train.head()"
   ]
  },
  {
   "cell_type": "code",
   "execution_count": 22,
   "id": "bb3bd4a6",
   "metadata": {},
   "outputs": [
    {
     "data": {
      "text/plain": [
       "array([-1,  1,  1, ...,  1,  1,  1])"
      ]
     },
     "execution_count": 22,
     "metadata": {},
     "output_type": "execute_result"
    }
   ],
   "source": [
    "svm_train['class'].values"
   ]
  },
  {
   "cell_type": "code",
   "execution_count": 23,
   "id": "afdf1915",
   "metadata": {},
   "outputs": [
    {
     "data": {
      "text/plain": [
       "(1561, 3)"
      ]
     },
     "execution_count": 23,
     "metadata": {},
     "output_type": "execute_result"
    }
   ],
   "source": [
    "svm_train.shape#[:-1].shape"
   ]
  },
  {
   "cell_type": "markdown",
   "id": "9af455ce",
   "metadata": {},
   "source": [
    "# Modelling "
   ]
  },
  {
   "cell_type": "markdown",
   "id": "48e3ba95",
   "metadata": {},
   "source": [
    "### Linear SVM"
   ]
  },
  {
   "cell_type": "markdown",
   "id": "7b6e00cf",
   "metadata": {},
   "source": [
    "### Without Scaling"
   ]
  },
  {
   "cell_type": "code",
   "execution_count": 41,
   "id": "42651579",
   "metadata": {},
   "outputs": [
    {
     "name": "stdout",
     "output_type": "stream",
     "text": [
      "the number of support vectors : [14 14]\n",
      "test accuracy : 0.9787735849056604\n"
     ]
    }
   ],
   "source": [
    "classifier = svm.SVC(kernel='linear')# create SVM classifier object with linear kernel\n",
    "classifier.fit(svm_train[['feature1','feature2']].values, svm_train['class'].values)\n",
    "print('the number of support vectors : '+str(classifier.n_support_))# printing the number of support vectors\n",
    "# predicting for test set\n",
    "predicted_class = classifier.predict(svm_test[['feature1','feature2']].values) \n",
    "# get the accuracy on the test data\n",
    "print('test accuracy : '+str(accuracy_score(svm_test['class'].values, predicted_class)))\n",
    "myname = \"Q4_Linear_whole_dataset\"\n",
    "f = open(myname+\"result.txt\", \"a\")\n",
    "f.write('Without Scaling the number of support vectors : '+str(classifier.n_support_))\n",
    "f.write('\\n')\n",
    "f.write('test accuracy : '+str(accuracy_score(svm_test['class'].values, predicted_class)))\n",
    "f.write('\\n')\n",
    "f.close()"
   ]
  },
  {
   "cell_type": "markdown",
   "id": "9a29ddb5",
   "metadata": {},
   "source": [
    "### With Min Max Scaling"
   ]
  },
  {
   "cell_type": "code",
   "execution_count": 25,
   "id": "32486503",
   "metadata": {},
   "outputs": [],
   "source": [
    "scaler = MinMaxScaler()\n",
    "train = scaler.fit_transform(svm_train[['feature1','feature2']].values)\n",
    "test = scaler.transform(svm_test[['feature1','feature2']].values)\n",
    "#NOTE - only need transform the test data, not fit transform - https://stackoverflow.com/questions/43675665/when-scale-the-data-why-the-train-dataset-use-fit-and-transform-but-the-te"
   ]
  },
  {
   "cell_type": "code",
   "execution_count": 26,
   "id": "9728cd05",
   "metadata": {},
   "outputs": [
    {
     "name": "stdout",
     "output_type": "stream",
     "text": [
      "the number of support vectors : [44 45]\n",
      "0.9787735849056604\n"
     ]
    }
   ],
   "source": [
    "classifier = svm.SVC(kernel='linear')# create SVM classifier object with linear kernel\n",
    "#classifier = make_pipeline(StandardScaler(), svm.SVC(kernel='linear'))\n",
    "classifier.fit(train, svm_train['class'].values)\n",
    "print('the number of support vectors : '+str(classifier.n_support_))# printing the number of support vectors\n",
    "# predicting for test set\n",
    "predicted_class = classifier.predict(test) \n",
    "# get the accuracy on the test data\n",
    "print(accuracy_score(svm_test['class'].values, predicted_class))\n",
    "myname = \"Linear_all_data\"\n",
    "f = open(myname+\"result.txt\", \"a\")\n",
    "f.write('With MinMax Scaling the number of support vectors : '+str(classifier.n_support_))\n",
    "f.write('\\n')\n",
    "f.write('With MinMax test accuracy : '+str(accuracy_score(svm_test['class'].values, predicted_class)))\n",
    "f.write('\\n')\n",
    "f.close()"
   ]
  },
  {
   "cell_type": "code",
   "execution_count": 27,
   "id": "e689388a",
   "metadata": {},
   "outputs": [],
   "source": [
    "scaler = StandardScaler()\n",
    "train_std = scaler.fit_transform(svm_train[['feature1','feature2']].values)\n",
    "test_std = scaler.transform(svm_test[['feature1','feature2']].values)"
   ]
  },
  {
   "cell_type": "code",
   "execution_count": 28,
   "id": "09d59d7f",
   "metadata": {},
   "outputs": [
    {
     "name": "stdout",
     "output_type": "stream",
     "text": [
      "the number of support vectors : [18 18]\n",
      "0.9811320754716981\n"
     ]
    }
   ],
   "source": [
    "classifier = svm.SVC(kernel='linear')# create SVM classifier object with linear kernel\n",
    "#classifier = make_pipeline(StandardScaler(), svm.SVC(kernel='linear'))\n",
    "classifier.fit(train_std, svm_train['class'].values)\n",
    "print('the number of support vectors : '+str(classifier.n_support_))# printing the number of support vectors\n",
    "# predicting for test set\n",
    "predicted_class = classifier.predict(test_std) \n",
    "# get the accuracy on the test data\n",
    "print(accuracy_score(svm_test['class'].values, predicted_class))\n",
    "myname = \"Linear_all_data\"\n",
    "f = open(myname+\"result.txt\", \"a\")\n",
    "f.write('With Std Scaling the number of support vectors : '+str(classifier.n_support_))\n",
    "f.write('\\n')\n",
    "f.write('With Std test accuracy : '+str(accuracy_score(svm_test['class'].values, predicted_class)))\n",
    "f.write('\\n')\n",
    "f.close()"
   ]
  },
  {
   "cell_type": "code",
   "execution_count": 29,
   "id": "a00f3120",
   "metadata": {},
   "outputs": [
    {
     "data": {
      "text/plain": [
       "(1561, 3)"
      ]
     },
     "execution_count": 29,
     "metadata": {},
     "output_type": "execute_result"
    }
   ],
   "source": [
    "svm_train.shape"
   ]
  },
  {
   "cell_type": "code",
   "execution_count": 30,
   "id": "55a58507",
   "metadata": {},
   "outputs": [
    {
     "data": {
      "text/plain": [
       "(50, 2)"
      ]
     },
     "execution_count": 30,
     "metadata": {},
     "output_type": "execute_result"
    }
   ],
   "source": [
    "svm_train[['feature1','feature2']].head(50).shape"
   ]
  },
  {
   "cell_type": "code",
   "execution_count": 31,
   "id": "7835f8fd",
   "metadata": {},
   "outputs": [
    {
     "data": {
      "text/plain": [
       "(1561, 3)"
      ]
     },
     "execution_count": 31,
     "metadata": {},
     "output_type": "execute_result"
    }
   ],
   "source": [
    "svm_train.shape"
   ]
  },
  {
   "cell_type": "markdown",
   "id": "041b09a4",
   "metadata": {},
   "source": [
    "### Linear SVM different train data size"
   ]
  },
  {
   "cell_type": "markdown",
   "id": "964878bd",
   "metadata": {},
   "source": [
    "### Linear SVM with Scaling "
   ]
  },
  {
   "cell_type": "code",
   "execution_count": 32,
   "id": "55fbdf0a",
   "metadata": {},
   "outputs": [
    {
     "name": "stdout",
     "output_type": "stream",
     "text": [
      "for train data set size : (50,)\n",
      "Total no of support vectors : 2 i.e. for each class [1 1]\n",
      "accuracy for training data size 50 is :0.9811320754716981\n",
      "for train data set size : (100,)\n",
      "Total no of support vectors : 4 i.e. for each class [2 2]\n",
      "accuracy for training data size 100 is :0.9811320754716981\n",
      "for train data set size : (200,)\n",
      "Total no of support vectors : 8 i.e. for each class [4 4]\n",
      "accuracy for training data size 200 is :0.9811320754716981\n",
      "for train data set size : (800,)\n",
      "Total no of support vectors : 14 i.e. for each class [7 7]\n",
      "accuracy for training data size 800 is :0.9811320754716981\n"
     ]
    }
   ],
   "source": [
    "#accuracy_list =[]\n",
    "def check_accuracy_for_given_traindata(train_size, scaling =None):\n",
    "    \"\"\"\n",
    "    Checks for the accuracy given a train data size\n",
    "    ---\n",
    "    Input Parameters :\n",
    "    ---\n",
    "    train_size : int\n",
    "        the no of rows of train data to consider (from the start i.e. first n rows)\n",
    "    Returns :\n",
    "    ------\n",
    "    accuracy : float\n",
    "        accuracy of the classifier on the test data\n",
    "    \"\"\"\n",
    "    # create SVM classifier object with linear kernel\n",
    "    classifier = svm.SVC(kernel='linear')\n",
    "    #next line -- only take the first \"train_size\" count of rows from the train data for training the SVM\n",
    "    train_Feature_curr = svm_train[['feature1','feature2']].head(train_size).values\n",
    "    train_label_curr = svm_train['class'].head(train_size).values\n",
    "    test_features_curr = svm_test[['feature1','feature2']].values\n",
    "    #print('scaling' + str(scaling) )\n",
    "    if scaling =='standard': # 'minmax', 'standard'\n",
    "        print('using standard scaling')\n",
    "        scaler = StandardScaler()\n",
    "        train_Feature_curr = scaler.fit_transform(train_Feature_curr)\n",
    "        test_features_curr = scaler.transform(test_features_curr)\n",
    "        \n",
    "    elif scaling == 'minmax':\n",
    "        scaler = MinMaxScaler()\n",
    "        print('using minmax scaling')\n",
    "        train_Feature_curr = scaler.fit_transform(train_Feature_curr)\n",
    "        test_features_curr = scaler.transform(test_features_curr)\n",
    "    classifier.fit(train_Feature_curr, train_label_curr)\n",
    "    print (\"for train data set size : \"+ str(train_label_curr.shape))\n",
    "    print('Total no of support vectors : '+str(len(classifier.support_vectors_)) +' i.e. for each class '+str(classifier.n_support_))\n",
    "    #predict on the test set\n",
    "    predicted_class = classifier.predict(test_features_curr)\n",
    "    accuracy = accuracy_score(svm_test['class'].values, predicted_class)\n",
    "    print('accuracy for training data size '+str(train_size)+\" is :\"+str(accuracy))\n",
    "    #write to text file\n",
    "    myname = \"Q4__Linear_\"\n",
    "    f = open(myname+\"result.txt\", \"a\")\n",
    "    f.write(\"Linear_Scaling_is : \"+str(scaling)+ '_Size_ is : '+str(train_size))\n",
    "    f.write('\\n')\n",
    "    f.write('the number of support vectors : '+str(classifier.n_support_))\n",
    "    f.write('\\n')\n",
    "    f.write('test accuracy : '+str(accuracy_score(svm_test['class'].values, predicted_class)))\n",
    "    f.write ('----------------------------------------------------------------------------')\n",
    "    f.write('\\n')\n",
    "    f.write('\\n')\n",
    "    \n",
    "    f.close()\n",
    "    return accuracy\n",
    "\n",
    "train_size_list =[50,100,200,800]\n",
    "\n",
    "accuracy_list = list(map(functools.partial(check_accuracy_for_given_traindata),train_size_list))"
   ]
  },
  {
   "cell_type": "code",
   "execution_count": 33,
   "id": "490265d6",
   "metadata": {},
   "outputs": [
    {
     "name": "stdout",
     "output_type": "stream",
     "text": [
      "using minmax scaling\n",
      "for train data set size : (50,)\n",
      "Total no of support vectors : 12 i.e. for each class [6 6]\n",
      "accuracy for training data size 50 is :0.9764150943396226\n",
      "using minmax scaling\n",
      "for train data set size : (100,)\n",
      "Total no of support vectors : 20 i.e. for each class [10 10]\n",
      "accuracy for training data size 100 is :0.9811320754716981\n",
      "using minmax scaling\n",
      "for train data set size : (200,)\n",
      "Total no of support vectors : 33 i.e. for each class [16 17]\n",
      "accuracy for training data size 200 is :0.9811320754716981\n",
      "using minmax scaling\n",
      "for train data set size : (800,)\n",
      "Total no of support vectors : 61 i.e. for each class [30 31]\n",
      "accuracy for training data size 800 is :0.9811320754716981\n"
     ]
    }
   ],
   "source": [
    "#scaling : # 'minmax', 'standard'\n",
    "scaling = 'minmax'\n",
    "accuracy_list = list(map(functools.partial(check_accuracy_for_given_traindata, scaling = scaling),train_size_list))"
   ]
  },
  {
   "cell_type": "code",
   "execution_count": 34,
   "id": "d426b775",
   "metadata": {},
   "outputs": [
    {
     "name": "stdout",
     "output_type": "stream",
     "text": [
      "using standard scaling\n",
      "for train data set size : (50,)\n",
      "Total no of support vectors : 4 i.e. for each class [2 2]\n",
      "accuracy for training data size 50 is :0.9716981132075472\n",
      "using standard scaling\n",
      "for train data set size : (100,)\n",
      "Total no of support vectors : 6 i.e. for each class [3 3]\n",
      "accuracy for training data size 100 is :0.9811320754716981\n",
      "using standard scaling\n",
      "for train data set size : (200,)\n",
      "Total no of support vectors : 11 i.e. for each class [5 6]\n",
      "accuracy for training data size 200 is :0.9811320754716981\n",
      "using standard scaling\n",
      "for train data set size : (800,)\n",
      "Total no of support vectors : 20 i.e. for each class [10 10]\n",
      "accuracy for training data size 800 is :0.9811320754716981\n"
     ]
    }
   ],
   "source": [
    "scaling = 'standard'\n",
    "accuracy_list = list(map(functools.partial(check_accuracy_for_given_traindata,  scaling = scaling),train_size_list))"
   ]
  },
  {
   "cell_type": "markdown",
   "id": "d98155b7",
   "metadata": {},
   "source": [
    "### polynomial kernel"
   ]
  },
  {
   "cell_type": "code",
   "execution_count": 51,
   "id": "bd5f0b6b",
   "metadata": {},
   "outputs": [
    {
     "name": "stdout",
     "output_type": "stream",
     "text": [
      "Total no of support vectors : 24 i.e. for each class [12 12]\n",
      "Train accuracy for C =1 and degree =2 is :0.9967969250480462\n",
      "Test accuracy for C =1 and degree =2 is :0.9811320754716981\n",
      "Training error for C =1 and degree =2 is :0.0032030749519538215\n",
      "Test error for C =1 and degree =2 is :0.018867924528301883\n",
      "Total no of support vectors : 21 i.e. for each class [11 10]\n",
      "Train accuracy for C =1 and degree =5 is :0.9967969250480462\n",
      "Test accuracy for C =1 and degree =5 is :0.9787735849056604\n",
      "Training error for C =1 and degree =5 is :0.0032030749519538215\n",
      "Test error for C =1 and degree =5 is :0.021226415094339646\n",
      "Total no of support vectors : 34 i.e. for each class [17 17]\n",
      "Train accuracy for C =0.01 and degree =2 is :0.9955156950672646\n",
      "Test accuracy for C =0.01 and degree =2 is :0.9811320754716981\n",
      "Training error for C =0.01 and degree =2 is :0.004484304932735439\n",
      "Test error for C =0.01 and degree =2 is :0.018867924528301883\n",
      "Total no of support vectors : 23 i.e. for each class [12 11]\n",
      "Train accuracy for C =0.01 and degree =5 is :0.9961563100576554\n",
      "Test accuracy for C =0.01 and degree =5 is :0.9787735849056604\n",
      "Training error for C =0.01 and degree =5 is :0.0038436899423446302\n",
      "Test error for C =0.01 and degree =5 is :0.021226415094339646\n",
      "Total no of support vectors : 76 i.e. for each class [38 38]\n",
      "Train accuracy for C =0.001 and degree =2 is :0.9955156950672646\n",
      "Test accuracy for C =0.001 and degree =2 is :0.9834905660377359\n",
      "Training error for C =0.001 and degree =2 is :0.004484304932735439\n",
      "Test error for C =0.001 and degree =2 is :0.01650943396226412\n",
      "Total no of support vectors : 25 i.e. for each class [13 12]\n",
      "Train accuracy for C =0.001 and degree =5 is :0.9955156950672646\n",
      "Test accuracy for C =0.001 and degree =5 is :0.9787735849056604\n",
      "Training error for C =0.001 and degree =5 is :0.004484304932735439\n",
      "Test error for C =0.001 and degree =5 is :0.021226415094339646\n",
      "Total no of support vectors : 236 i.e. for each class [118 118]\n",
      "Train accuracy for C =0.0001 and degree =2 is :0.9910313901345291\n",
      "Test accuracy for C =0.0001 and degree =2 is :0.9834905660377359\n",
      "Training error for C =0.0001 and degree =2 is :0.008968609865470878\n",
      "Test error for C =0.0001 and degree =2 is :0.01650943396226412\n",
      "Total no of support vectors : 26 i.e. for each class [13 13]\n",
      "Train accuracy for C =0.0001 and degree =5 is :0.9955156950672646\n",
      "Test accuracy for C =0.0001 and degree =5 is :0.9811320754716981\n",
      "Training error for C =0.0001 and degree =5 is :0.004484304932735439\n",
      "Test error for C =0.0001 and degree =5 is :0.018867924528301883\n"
     ]
    }
   ],
   "source": [
    "def check_accuracy_for_poly(params, scaling = None):\n",
    "    \"\"\"\n",
    "    Checks for the accuracy from an SVM with Polynomial kernel\n",
    "    ---\n",
    "    Input Parameters :\n",
    "    ---\n",
    "    params : list\n",
    "        a list containing the regulaization parameter & the degree of the polynomial i.e. [C, degree]\n",
    "    Returns :\n",
    "    ----\n",
    "    accuracy : float\n",
    "        accuracy of the classifier on the test data\n",
    "    \"\"\"\n",
    "    C, degree = params\n",
    "    # create SVM classifier object with polynomial kernel with degree = 'degree' parameter & regularization param C\n",
    "    classifier = svm.SVC(kernel='poly', gamma =1, C =C, coef0 = 1, degree = degree)\n",
    "    #fit the classifier on train data\n",
    "    train_Feature_curr = svm_train[['feature1','feature2']].values\n",
    "    test_features_curr = svm_test[['feature1','feature2']].values\n",
    "    if scaling =='standard': # 'minmax', 'standard'\n",
    "        print('using standard scaling')\n",
    "        scaler = StandardScaler()\n",
    "        train_Feature_curr = scaler.fit_transform(train_Feature_curr)\n",
    "        test_features_curr = scaler.transform(test_features_curr)\n",
    "        \n",
    "    elif scaling == 'minmax':\n",
    "        scaler = MinMaxScaler()\n",
    "        print('using minmax scaling')\n",
    "        train_Feature_curr = scaler.fit_transform(train_Feature_curr)\n",
    "        test_features_curr = scaler.transform(test_features_curr)\n",
    "    classifier.fit(train_Feature_curr, svm_train['class'].values)\n",
    "    print('Total no of support vectors : '+str(len(classifier.support_vectors_)) +' i.e. for each class '+str(classifier.n_support_))\n",
    "    #predict on the test data\n",
    "    predicted_class = classifier.predict(test_features_curr)\n",
    "    train_predicted_class = classifier.predict(train_Feature_curr)\n",
    "    # get the accuracy on the test data\n",
    "    train_accuracy = accuracy_score(svm_train['class'].values, train_predicted_class) \n",
    "    print('Train accuracy for C ='+str(C)+\" and degree =\"+str(degree)+\" is :\"+str(train_accuracy))\n",
    "    accuracy = accuracy_score(svm_test['class'].values, predicted_class) \n",
    "    print('Test accuracy for C ='+str(C)+\" and degree =\"+str(degree)+\" is :\"+str(accuracy))\n",
    "    print('Training error for C ='+str(C)+\" and degree =\"+str(degree)+\" is :\"+str(1-train_accuracy))\n",
    "    print('Test error for C ='+str(C)+\" and degree =\"+str(degree)+\" is :\"+str(1-accuracy))\n",
    "    #write to text file\n",
    "    myname = \"Q4__Polynomial\"\n",
    "    f = open(myname+\"result.txt\", \"a\")\n",
    "    f.write(\"Polynomial_Scaling_\"+str(scaling)+ '_C_'+str(C)+ '_degree_'+str(degree))\n",
    "    f.write('\\n')\n",
    "    f.write('the number of support vectors : '+str(classifier.n_support_))\n",
    "    f.write('\\n')\n",
    "    f.write('Training error for C ='+str(C)+\" and degree =\"+str(degree)+\" is :\"+str(1-train_accuracy))\n",
    "    f.write('\\n')\n",
    "    f.write('Test error for C ='+str(C)+\" and degree =\"+str(degree)+\" is :\"+str(1-accuracy))\n",
    "    f.write ('----------------------------------------------------------------------------')\n",
    "    f.write('\\n')\n",
    "    f.write('\\n')\n",
    "    \n",
    "    f.close()\n",
    "    return accuracy\n",
    "C_list = [1,.01,.001,.0001] # regularization parameter list \n",
    "degree_list = [2,5] # degree of the polynomial kernel\n",
    "# iterate through the C_list  & degree list in a vectorized way, iterating through each of the cartesian products of C & degree\n",
    "poly_accuracy_list = list(map(functools.partial(check_accuracy_for_poly),list(product(C_list, degree_list))))"
   ]
  },
  {
   "cell_type": "code",
   "execution_count": 52,
   "id": "9f2c8ecd",
   "metadata": {},
   "outputs": [
    {
     "name": "stdout",
     "output_type": "stream",
     "text": [
      "using standard scaling\n",
      "Total no of support vectors : 29 i.e. for each class [14 15]\n",
      "Train accuracy for C =1 and degree =2 is :0.9967969250480462\n",
      "Test accuracy for C =1 and degree =2 is :0.9787735849056604\n",
      "Training error for C =1 and degree =2 is :0.0032030749519538215\n",
      "Test error for C =1 and degree =2 is :0.021226415094339646\n",
      "using standard scaling\n",
      "Total no of support vectors : 22 i.e. for each class [11 11]\n",
      "Train accuracy for C =1 and degree =5 is :0.9974375400384369\n",
      "Test accuracy for C =1 and degree =5 is :0.9740566037735849\n",
      "Training error for C =1 and degree =5 is :0.002562459961563124\n",
      "Test error for C =1 and degree =5 is :0.02594339622641506\n",
      "using standard scaling\n",
      "Total no of support vectors : 166 i.e. for each class [83 83]\n",
      "Train accuracy for C =0.01 and degree =2 is :0.9935938500960922\n",
      "Test accuracy for C =0.01 and degree =2 is :0.9811320754716981\n",
      "Training error for C =0.01 and degree =2 is :0.006406149903907754\n",
      "Test error for C =0.01 and degree =2 is :0.018867924528301883\n",
      "using standard scaling\n",
      "Total no of support vectors : 92 i.e. for each class [45 47]\n",
      "Train accuracy for C =0.01 and degree =5 is :0.9948750800768738\n",
      "Test accuracy for C =0.01 and degree =5 is :0.9811320754716981\n",
      "Training error for C =0.01 and degree =5 is :0.005124919923126248\n",
      "Test error for C =0.01 and degree =5 is :0.018867924528301883\n",
      "using standard scaling\n",
      "Total no of support vectors : 494 i.e. for each class [247 247]\n",
      "Train accuracy for C =0.001 and degree =2 is :0.9679692504804612\n",
      "Test accuracy for C =0.001 and degree =2 is :0.9410377358490566\n",
      "Training error for C =0.001 and degree =2 is :0.03203074951953877\n",
      "Test error for C =0.001 and degree =2 is :0.05896226415094341\n",
      "using standard scaling\n",
      "Total no of support vectors : 221 i.e. for each class [109 112]\n",
      "Train accuracy for C =0.001 and degree =5 is :0.9756566303651505\n",
      "Test accuracy for C =0.001 and degree =5 is :0.9622641509433962\n",
      "Training error for C =0.001 and degree =5 is :0.02434336963484951\n",
      "Test error for C =0.001 and degree =5 is :0.037735849056603765\n",
      "using standard scaling\n",
      "Total no of support vectors : 1080 i.e. for each class [540 540]\n",
      "Train accuracy for C =0.0001 and degree =2 is :0.7994875080076874\n",
      "Test accuracy for C =0.0001 and degree =2 is :0.8018867924528302\n",
      "Training error for C =0.0001 and degree =2 is :0.20051249199231258\n",
      "Test error for C =0.0001 and degree =2 is :0.19811320754716977\n",
      "using standard scaling\n",
      "Total no of support vectors : 420 i.e. for each class [210 210]\n",
      "Train accuracy for C =0.0001 and degree =5 is :0.9192825112107623\n",
      "Test accuracy for C =0.0001 and degree =5 is :0.9009433962264151\n",
      "Training error for C =0.0001 and degree =5 is :0.08071748878923768\n",
      "Test error for C =0.0001 and degree =5 is :0.09905660377358494\n"
     ]
    }
   ],
   "source": [
    "scaling = 'standard'\n",
    "poly_accuracy_list = list(map(functools.partial(check_accuracy_for_poly, scaling = scaling),list(product(C_list, degree_list))))"
   ]
  },
  {
   "cell_type": "code",
   "execution_count": 53,
   "id": "359dc0f7",
   "metadata": {},
   "outputs": [
    {
     "name": "stdout",
     "output_type": "stream",
     "text": [
      "using minmax scaling\n",
      "Total no of support vectors : 50 i.e. for each class [25 25]\n",
      "Train accuracy for C =1 and degree =2 is :0.9961563100576554\n",
      "Test accuracy for C =1 and degree =2 is :0.9787735849056604\n",
      "Training error for C =1 and degree =2 is :0.0038436899423446302\n",
      "Test error for C =1 and degree =2 is :0.021226415094339646\n",
      "using minmax scaling\n",
      "Total no of support vectors : 26 i.e. for each class [13 13]\n",
      "Train accuracy for C =1 and degree =5 is :0.9967969250480462\n",
      "Test accuracy for C =1 and degree =5 is :0.9764150943396226\n",
      "Training error for C =1 and degree =5 is :0.0032030749519538215\n",
      "Test error for C =1 and degree =5 is :0.02358490566037741\n",
      "using minmax scaling\n",
      "Total no of support vectors : 498 i.e. for each class [249 249]\n",
      "Train accuracy for C =0.01 and degree =2 is :0.9929532351057014\n",
      "Test accuracy for C =0.01 and degree =2 is :0.9811320754716981\n",
      "Training error for C =0.01 and degree =2 is :0.007046764894298563\n",
      "Test error for C =0.01 and degree =2 is :0.018867924528301883\n",
      "using minmax scaling\n",
      "Total no of support vectors : 118 i.e. for each class [59 59]\n",
      "Train accuracy for C =0.01 and degree =5 is :0.9961563100576554\n",
      "Test accuracy for C =0.01 and degree =5 is :0.9764150943396226\n",
      "Training error for C =0.01 and degree =5 is :0.0038436899423446302\n",
      "Test error for C =0.01 and degree =5 is :0.02358490566037741\n",
      "using minmax scaling\n",
      "Total no of support vectors : 1112 i.e. for each class [556 556]\n",
      "Train accuracy for C =0.001 and degree =2 is :0.6483023702754644\n",
      "Test accuracy for C =0.001 and degree =2 is :0.6438679245283019\n",
      "Training error for C =0.001 and degree =2 is :0.35169762972453555\n",
      "Test error for C =0.001 and degree =2 is :0.3561320754716981\n",
      "using minmax scaling\n",
      "Total no of support vectors : 432 i.e. for each class [216 216]\n",
      "Train accuracy for C =0.001 and degree =5 is :0.994234465086483\n",
      "Test accuracy for C =0.001 and degree =5 is :0.9740566037735849\n",
      "Training error for C =0.001 and degree =5 is :0.005765534913516945\n",
      "Test error for C =0.001 and degree =5 is :0.02594339622641506\n",
      "using minmax scaling\n",
      "Total no of support vectors : 1112 i.e. for each class [556 556]\n",
      "Train accuracy for C =0.0001 and degree =2 is :0.643818065342729\n",
      "Test accuracy for C =0.0001 and degree =2 is :0.6226415094339622\n",
      "Training error for C =0.0001 and degree =2 is :0.356181934657271\n",
      "Test error for C =0.0001 and degree =2 is :0.37735849056603776\n",
      "using minmax scaling\n",
      "Total no of support vectors : 1112 i.e. for each class [556 556]\n",
      "Train accuracy for C =0.0001 and degree =5 is :0.6668802049967969\n",
      "Test accuracy for C =0.0001 and degree =5 is :0.6863207547169812\n",
      "Training error for C =0.0001 and degree =5 is :0.3331197950032031\n",
      "Test error for C =0.0001 and degree =5 is :0.3136792452830188\n"
     ]
    }
   ],
   "source": [
    "scaling = 'minmax'\n",
    "poly_accuracy_list = list(map(functools.partial(check_accuracy_for_poly, scaling = scaling),list(product(C_list, degree_list))))"
   ]
  },
  {
   "cell_type": "markdown",
   "id": "d73e4ecb",
   "metadata": {},
   "source": [
    "### rbf kernel"
   ]
  },
  {
   "cell_type": "code",
   "execution_count": 48,
   "id": "a2b838ca",
   "metadata": {},
   "outputs": [
    {
     "name": "stdout",
     "output_type": "stream",
     "text": [
      "Total no of support vectors : 1112 i.e. for each class [556 556]\n",
      "accuracy for C =0.001 is :0.643818065342729\n",
      "accuracy for C =0.001 is :0.6226415094339622\n",
      "Training error for C =0.001 is :0.356181934657271\n",
      "Test error for C =0.001 is :0.37735849056603776\n",
      "Total no of support vectors : 31 i.e. for each class [17 14]\n",
      "accuracy for C =1 is :0.9955156950672646\n",
      "accuracy for C =1 is :0.9787735849056604\n",
      "Training error for C =1 is :0.004484304932735439\n",
      "Test error for C =1 is :0.021226415094339646\n",
      "Total no of support vectors : 22 i.e. for each class [14  8]\n",
      "accuracy for C =100 is :0.9967969250480462\n",
      "accuracy for C =100 is :0.9811320754716981\n",
      "Training error for C =100 is :0.0032030749519538215\n",
      "Test error for C =100 is :0.018867924528301883\n",
      "Total no of support vectors : 19 i.e. for each class [12  7]\n",
      "accuracy for C =10000 is :0.9974375400384369\n",
      "accuracy for C =10000 is :0.9764150943396226\n",
      "Training error for C =10000 is :0.002562459961563124\n",
      "Test error for C =10000 is :0.02358490566037741\n",
      "Total no of support vectors : 17 i.e. for each class [9 8]\n",
      "accuracy for C =1000000 is :0.9993593850096092\n",
      "accuracy for C =1000000 is :0.9764150943396226\n",
      "Training error for C =1000000 is :0.0006406149903908087\n",
      "Test error for C =1000000 is :0.02358490566037741\n"
     ]
    }
   ],
   "source": [
    "def check_accuracy_for_rbf(C, scaling =None):\n",
    "    \"\"\"\n",
    "    Checks for the accuracy from an SVM with RBF kernel\n",
    "    ---\n",
    "    Input Parameters :\n",
    "    ---\n",
    "    C : float\n",
    "        the regularization parameter\n",
    "    Returns :\n",
    "    ----\n",
    "    accuracy : float\n",
    "        accuracy of the classifier on the test data\n",
    "    \"\"\"\n",
    "    # create a SVM classifier object with RBF kernel & regularization param =C\n",
    "    classifier = svm.SVC(kernel='rbf', C =C, gamma = 1)# setting gamma = 1 as per the formula in the assignment \n",
    "    #fit the classifier on train data\n",
    "    train_Feature_curr = svm_train[['feature1','feature2']].values\n",
    "    test_features_curr = svm_test[['feature1','feature2']].values\n",
    "    if scaling =='standard': # 'minmax', 'standard'\n",
    "        print('using standard scaling')\n",
    "        scaler = StandardScaler()\n",
    "        train_Feature_curr = scaler.fit_transform(train_Feature_curr)\n",
    "        test_features_curr = scaler.transform(test_features_curr)\n",
    "        \n",
    "    elif scaling == 'minmax':\n",
    "        scaler = MinMaxScaler()\n",
    "        print('using minmax scaling')\n",
    "        train_Feature_curr = scaler.fit_transform(train_Feature_curr)\n",
    "        test_features_curr = scaler.transform(test_features_curr)\n",
    "    classifier.fit(svm_train[['feature1','feature2']].values, svm_train['class'].values)\n",
    "    print('Total no of support vectors : '+str(len(classifier.support_vectors_)) +' i.e. for each class '+str(classifier.n_support_))\n",
    "    #predict on the test data\n",
    "    predicted_class = classifier.predict(svm_test[['feature1','feature2']].values)\n",
    "    train_predicted_class = classifier.predict(svm_train[['feature1','feature2']].values)\n",
    "    # get the accuracy on the test data\n",
    "    train_accuracy = accuracy_score(svm_train['class'].values, train_predicted_class)\n",
    "    print('accuracy for C ='+str(C)+\" is :\"+str(train_accuracy))\n",
    "    accuracy = accuracy_score(svm_test['class'].values, predicted_class)\n",
    "    print('accuracy for C ='+str(C)+\" is :\"+str(accuracy))\n",
    "    print('Training error for C ='+str(C)+\" is :\"+str(1-train_accuracy))\n",
    "    print('Test error for C ='+str(C)+\" is :\"+str(1-accuracy))\n",
    "    #write to text file\n",
    "    myname = \"Q4__RBF__\"\n",
    "    f = open(myname+\"result.txt\", \"a\")\n",
    "    f.write(\"RBF_Scaling_is : \"+str(scaling)+ '_C_is : '+str(C))\n",
    "    f.write('\\n')\n",
    "\n",
    "    f.write('Training error for C ='+str(C)+\" is :\"+str(1-train_accuracy))\n",
    "    f.write('\\n')\n",
    "    f.write('Test error for C ='+str(C)+'is : '+str(1-accuracy))\n",
    "    f.write ('----------------------------------------------------------------------------')\n",
    "    f.write('\\n')\n",
    "    f.write('\\n')\n",
    "    return accuracy\n",
    "C_list = [.001,1, 100, 10**4, 10**6] # regularization parameter list \n",
    "# iterate through the C_list  & degree list in a vectorized way\n",
    "rbf_accuracy_list = list(map(functools.partial(check_accuracy_for_rbf),C_list))"
   ]
  },
  {
   "cell_type": "code",
   "execution_count": 49,
   "id": "8c2fc89e",
   "metadata": {},
   "outputs": [
    {
     "name": "stdout",
     "output_type": "stream",
     "text": [
      "using standard scaling\n",
      "Total no of support vectors : 1112 i.e. for each class [556 556]\n",
      "accuracy for C =0.001 is :0.643818065342729\n",
      "accuracy for C =0.001 is :0.6226415094339622\n",
      "Training error for C =0.001 is :0.356181934657271\n",
      "Test error for C =0.001 is :0.37735849056603776\n",
      "using standard scaling\n",
      "Total no of support vectors : 31 i.e. for each class [17 14]\n",
      "accuracy for C =1 is :0.9955156950672646\n",
      "accuracy for C =1 is :0.9787735849056604\n",
      "Training error for C =1 is :0.004484304932735439\n",
      "Test error for C =1 is :0.021226415094339646\n",
      "using standard scaling\n",
      "Total no of support vectors : 22 i.e. for each class [14  8]\n",
      "accuracy for C =100 is :0.9967969250480462\n",
      "accuracy for C =100 is :0.9811320754716981\n",
      "Training error for C =100 is :0.0032030749519538215\n",
      "Test error for C =100 is :0.018867924528301883\n",
      "using standard scaling\n",
      "Total no of support vectors : 19 i.e. for each class [12  7]\n",
      "accuracy for C =10000 is :0.9974375400384369\n",
      "accuracy for C =10000 is :0.9764150943396226\n",
      "Training error for C =10000 is :0.002562459961563124\n",
      "Test error for C =10000 is :0.02358490566037741\n",
      "using standard scaling\n",
      "Total no of support vectors : 17 i.e. for each class [9 8]\n",
      "accuracy for C =1000000 is :0.9993593850096092\n",
      "accuracy for C =1000000 is :0.9764150943396226\n",
      "Training error for C =1000000 is :0.0006406149903908087\n",
      "Test error for C =1000000 is :0.02358490566037741\n"
     ]
    }
   ],
   "source": [
    "scaling = 'standard'\n",
    "rbf_accuracy_list = list(map(functools.partial(check_accuracy_for_rbf, scaling = scaling),C_list))"
   ]
  },
  {
   "cell_type": "code",
   "execution_count": 50,
   "id": "72ff0ea0",
   "metadata": {},
   "outputs": [
    {
     "name": "stdout",
     "output_type": "stream",
     "text": [
      "using minmax scaling\n",
      "Total no of support vectors : 1112 i.e. for each class [556 556]\n",
      "accuracy for C =0.001 is :0.643818065342729\n",
      "accuracy for C =0.001 is :0.6226415094339622\n",
      "Training error for C =0.001 is :0.356181934657271\n",
      "Test error for C =0.001 is :0.37735849056603776\n",
      "using minmax scaling\n",
      "Total no of support vectors : 31 i.e. for each class [17 14]\n",
      "accuracy for C =1 is :0.9955156950672646\n",
      "accuracy for C =1 is :0.9787735849056604\n",
      "Training error for C =1 is :0.004484304932735439\n",
      "Test error for C =1 is :0.021226415094339646\n",
      "using minmax scaling\n",
      "Total no of support vectors : 22 i.e. for each class [14  8]\n",
      "accuracy for C =100 is :0.9967969250480462\n",
      "accuracy for C =100 is :0.9811320754716981\n",
      "Training error for C =100 is :0.0032030749519538215\n",
      "Test error for C =100 is :0.018867924528301883\n",
      "using minmax scaling\n",
      "Total no of support vectors : 19 i.e. for each class [12  7]\n",
      "accuracy for C =10000 is :0.9974375400384369\n",
      "accuracy for C =10000 is :0.9764150943396226\n",
      "Training error for C =10000 is :0.002562459961563124\n",
      "Test error for C =10000 is :0.02358490566037741\n",
      "using minmax scaling\n",
      "Total no of support vectors : 17 i.e. for each class [9 8]\n",
      "accuracy for C =1000000 is :0.9993593850096092\n",
      "accuracy for C =1000000 is :0.9764150943396226\n",
      "Training error for C =1000000 is :0.0006406149903908087\n",
      "Test error for C =1000000 is :0.02358490566037741\n"
     ]
    }
   ],
   "source": [
    "scaling = 'minmax'\n",
    "rbf_accuracy_list = list(map(functools.partial(check_accuracy_for_rbf, scaling= scaling),C_list))"
   ]
  },
  {
   "cell_type": "code",
   "execution_count": null,
   "id": "511dd517",
   "metadata": {},
   "outputs": [],
   "source": []
  }
 ],
 "metadata": {
  "kernelspec": {
   "display_name": "Python 3",
   "language": "python",
   "name": "python3"
  },
  "language_info": {
   "codemirror_mode": {
    "name": "ipython",
    "version": 3
   },
   "file_extension": ".py",
   "mimetype": "text/x-python",
   "name": "python",
   "nbconvert_exporter": "python",
   "pygments_lexer": "ipython3",
   "version": "3.8.8"
  }
 },
 "nbformat": 4,
 "nbformat_minor": 5
}
