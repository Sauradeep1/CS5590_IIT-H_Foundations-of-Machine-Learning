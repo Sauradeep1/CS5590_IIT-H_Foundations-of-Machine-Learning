{
 "cells": [
  {
   "cell_type": "markdown",
   "id": "79a99fd3",
   "metadata": {},
   "source": [
    "# Import Libraries"
   ]
  },
  {
   "cell_type": "code",
   "execution_count": 1,
   "id": "ef08c7da",
   "metadata": {},
   "outputs": [],
   "source": [
    "import numpy as np\n",
    "import pandas as pd\n",
    "import os\n",
    "from matplotlib import pyplot as plt\n",
    "import seaborn as sns\n",
    "sns.set()\n",
    "\n",
    "from sklearn.svm import SVC\n",
    "import cvxopt\n",
    "from cvxopt import matrix as cvxopt_matrix\n",
    "from cvxopt import solvers as cvxopt_solvers\n",
    "from sklearn.model_selection import train_test_split\n",
    "# new installations\n",
    "#pip install cvxopt"
   ]
  },
  {
   "cell_type": "markdown",
   "id": "08c7902e",
   "metadata": {},
   "source": [
    "# Load Datasets"
   ]
  },
  {
   "cell_type": "code",
   "execution_count": 2,
   "id": "e8d846e5",
   "metadata": {},
   "outputs": [
    {
     "data": {
      "text/plain": [
       "['Xsvm.csv', 'ysvm.csv']"
      ]
     },
     "execution_count": 2,
     "metadata": {},
     "output_type": "execute_result"
    }
   ],
   "source": [
    "dataset_path = r\"C:\\Users\\saura\\OneDrive\\Documents\\IIT Hyderabad\\Kernel Method_Sumohana\\HW\\HW1_dataset\"\n",
    "os.chdir(dataset_path)\n",
    "os.listdir(dataset_path)"
   ]
  },
  {
   "cell_type": "code",
   "execution_count": 3,
   "id": "8a4a104d",
   "metadata": {},
   "outputs": [
    {
     "name": "stdout",
     "output_type": "stream",
     "text": [
      "(500, 2)\n"
     ]
    },
    {
     "data": {
      "text/html": [
       "<div>\n",
       "<style scoped>\n",
       "    .dataframe tbody tr th:only-of-type {\n",
       "        vertical-align: middle;\n",
       "    }\n",
       "\n",
       "    .dataframe tbody tr th {\n",
       "        vertical-align: top;\n",
       "    }\n",
       "\n",
       "    .dataframe thead th {\n",
       "        text-align: right;\n",
       "    }\n",
       "</style>\n",
       "<table border=\"1\" class=\"dataframe\">\n",
       "  <thead>\n",
       "    <tr style=\"text-align: right;\">\n",
       "      <th></th>\n",
       "      <th>0</th>\n",
       "      <th>1</th>\n",
       "    </tr>\n",
       "  </thead>\n",
       "  <tbody>\n",
       "    <tr>\n",
       "      <th>0</th>\n",
       "      <td>-1.022273</td>\n",
       "      <td>0.184018</td>\n",
       "    </tr>\n",
       "    <tr>\n",
       "      <th>1</th>\n",
       "      <td>1.126942</td>\n",
       "      <td>1.825408</td>\n",
       "    </tr>\n",
       "    <tr>\n",
       "      <th>2</th>\n",
       "      <td>1.121785</td>\n",
       "      <td>1.820051</td>\n",
       "    </tr>\n",
       "    <tr>\n",
       "      <th>3</th>\n",
       "      <td>-0.150259</td>\n",
       "      <td>1.665270</td>\n",
       "    </tr>\n",
       "    <tr>\n",
       "      <th>4</th>\n",
       "      <td>-1.068222</td>\n",
       "      <td>0.238349</td>\n",
       "    </tr>\n",
       "  </tbody>\n",
       "</table>\n",
       "</div>"
      ],
      "text/plain": [
       "          0         1\n",
       "0 -1.022273  0.184018\n",
       "1  1.126942  1.825408\n",
       "2  1.121785  1.820051\n",
       "3 -0.150259  1.665270\n",
       "4 -1.068222  0.238349"
      ]
     },
     "execution_count": 3,
     "metadata": {},
     "output_type": "execute_result"
    }
   ],
   "source": [
    "df_x = pd.read_csv('Xsvm.csv', header = None)\n",
    "print(df_x.shape)\n",
    "df_x.head()"
   ]
  },
  {
   "cell_type": "code",
   "execution_count": 4,
   "id": "9a0d55c1",
   "metadata": {},
   "outputs": [
    {
     "name": "stdout",
     "output_type": "stream",
     "text": [
      "(500, 1)\n"
     ]
    },
    {
     "data": {
      "text/plain": [
       "array([[ 1.],\n",
       "       [ 1.],\n",
       "       [ 1.],\n",
       "       [ 1.],\n",
       "       [ 1.],\n",
       "       [ 1.],\n",
       "       [ 1.],\n",
       "       [-1.],\n",
       "       [-1.],\n",
       "       [-1.]])"
      ]
     },
     "execution_count": 4,
     "metadata": {},
     "output_type": "execute_result"
    }
   ],
   "source": [
    "df_y = pd.read_csv('ysvm.csv', header = None)\n",
    "print(df_y.shape)\n",
    "df_y.values[:10]"
   ]
  },
  {
   "cell_type": "code",
   "execution_count": 5,
   "id": "ea9d525a",
   "metadata": {},
   "outputs": [],
   "source": [
    "#Initializing values and computing H. Note the 1. to force to float type\n",
    "X = df_x.values\n",
    "y = np.squeeze(df_y.values)"
   ]
  },
  {
   "cell_type": "code",
   "execution_count": 6,
   "id": "aea83afe",
   "metadata": {},
   "outputs": [
    {
     "name": "stdout",
     "output_type": "stream",
     "text": [
      "<class 'numpy.ndarray'>\n",
      "<class 'numpy.ndarray'>\n",
      "(500, 2) (500,)\n"
     ]
    }
   ],
   "source": [
    "print(type(X))\n",
    "print(type(y))\n",
    "print(X.shape, y.shape)"
   ]
  },
  {
   "cell_type": "code",
   "execution_count": 7,
   "id": "62bc6af5",
   "metadata": {},
   "outputs": [],
   "source": [
    "# ONLY IF WE ARE GENERATING THE DATASET YOURSELF\n",
    "\n",
    "def plot_contour(X, y, svm):\n",
    "    # plot the resulting classifier\n",
    "    h = 0.01\n",
    "    x_min, x_max = X[:, 0].min() - 1, X[:, 0].max() + 1\n",
    "    y_min, y_max = X[:, 1].min() - 1, X[:, 1].max() + 1\n",
    "\n",
    "    xx, yy = np.meshgrid(np.arange(x_min, x_max, h), np.arange(y_min, y_max, h))\n",
    "\n",
    "    points = np.c_[xx.ravel(), yy.ravel()]\n",
    "\n",
    "    Z = svm.predict(points)\n",
    "    Z = Z.reshape(xx.shape)\n",
    "    plt.contourf(xx, yy, Z, cmap=plt.cm.Spectral, alpha=0.8)\n",
    "\n",
    "    # plt the points\n",
    "    plt.scatter(X[:, 0], X[:, 1], c=y, s=40, cmap=plt.cm.Spectral)\n",
    "    plt.show()"
   ]
  },
  {
   "cell_type": "markdown",
   "id": "5be4f4d1",
   "metadata": {},
   "source": [
    "# Q3 - SVM using Convex Optimization solvers"
   ]
  },
  {
   "cell_type": "code",
   "execution_count": 8,
   "id": "01ee7e0a",
   "metadata": {},
   "outputs": [],
   "source": [
    "# common kernel functions\n",
    "def linear(x, z):\n",
    "    return np.dot(x, z.T)\n",
    "\n",
    "\n",
    "def polynomial(x, z, p=5):\n",
    "    return (1 + np.dot(x, z.T)) ** p\n",
    "\n",
    "\n",
    "def gaussian(x, z, sigma=0.1):\n",
    "    return np.exp(-np.linalg.norm(x - z, axis=1) ** 2 / (2 * (sigma ** 2)))"
   ]
  },
  {
   "cell_type": "code",
   "execution_count": 9,
   "id": "69b5ca96",
   "metadata": {},
   "outputs": [],
   "source": [
    "class SVM:\n",
    "    def __init__(self, kernel=gaussian, C=1):\n",
    "        \"\"\"\"\"\"\n",
    "        self.kernel = kernel\n",
    "        self.C = C \n",
    "\n",
    "    def fit(self, X, y):\n",
    "        \"\"\"Fits the parameters via Convex Optimization - Quadratic Programming \"\"\"\n",
    "        self.y = y\n",
    "        self.X = X\n",
    "        m, n = X.shape\n",
    "\n",
    "        # Calculate Kernel\n",
    "        self.K = np.zeros((m, m))\n",
    "        for i in range(m):\n",
    "            self.K[i, :] = self.kernel(X[i, np.newaxis], self.X)\n",
    "\n",
    "        # Solve with cvxopt final QP needs to be reformulated\n",
    "        # to match the input form for cvxopt.solvers.qp\n",
    "        P = cvxopt.matrix(np.outer(y, y) * self.K)\n",
    "        q = cvxopt.matrix(-np.ones((m, 1)))\n",
    "        G = cvxopt.matrix(np.vstack((np.eye(m) * -1, np.eye(m))))\n",
    "        h = cvxopt.matrix(np.hstack((np.zeros(m), np.ones(m) * self.C)))\n",
    "        A = cvxopt.matrix(y, (1, m), \"d\")\n",
    "        b = cvxopt.matrix(np.zeros(1))\n",
    "        cvxopt.solvers.options[\"show_progress\"] = False\n",
    "        try : \n",
    "            sol = cvxopt.solvers.qp(P, q, G, h, A, b)\n",
    "        except : \n",
    "            sol = cvxopt.solvers.qp(P, q, G, h)\n",
    "        self.alphas = np.array(sol[\"x\"])\n",
    "\n",
    "    def predict(self, X):\n",
    "        \"\"\" Predicts the labels for the datapoints X \"\"\"\n",
    "        y_predict = np.zeros((X.shape[0]))\n",
    "        sv = self.get_parameters(self.alphas)\n",
    "\n",
    "        for i in range(X.shape[0]):\n",
    "            y_predict[i] = np.sum(\n",
    "                self.alphas[sv]\n",
    "                * self.y[sv, np.newaxis]\n",
    "                * self.kernel(X[i], self.X[sv])[:, np.newaxis]\n",
    "            )\n",
    "\n",
    "        return np.sign(y_predict + self.b)\n",
    "\n",
    "    def get_parameters(self, alphas):\n",
    "        threshold = 1e-5\n",
    "\n",
    "        sv = ((alphas > threshold) * (alphas < self.C)).flatten()\n",
    "        self.w = np.dot(X[sv].T, alphas[sv] * self.y[sv, np.newaxis])\n",
    "        self.b = np.mean(\n",
    "            self.y[sv, np.newaxis]\n",
    "            - self.alphas[sv] * self.y[sv, np.newaxis] * self.K[sv, sv][:, np.newaxis]\n",
    "        )\n",
    "        return sv"
   ]
  },
  {
   "cell_type": "code",
   "execution_count": 10,
   "id": "afb2daaa",
   "metadata": {},
   "outputs": [
    {
     "name": "stdout",
     "output_type": "stream",
     "text": [
      "<class 'numpy.ndarray'>\n",
      "(500, 2) (500,)\n"
     ]
    },
    {
     "data": {
      "image/png": "[encoded data removed]",
      "text/plain": [
       "<Figure size 432x288 with 1 Axes>"
      ]
     },
     "metadata": {},
     "output_type": "display_data"
    },
    {
     "name": "stdout",
     "output_type": "stream",
     "text": [
      "Accuracy: 1.0\n"
     ]
    }
   ],
   "source": [
    "if __name__ == \"__main__\":\n",
    "    np.random.seed(1)\n",
    "    #X, y = create_dataset(N=50)\n",
    "    print(type(X))#numpy.ndarray\n",
    "    print(X.shape, y.shape)\n",
    "    #print(y)\n",
    "    \n",
    "    svm = SVM(kernel=gaussian)\n",
    "    svm.fit(X, y)\n",
    "    y_pred = svm.predict(X)\n",
    "    plot_contour(X, y, svm)\n",
    "\n",
    "    print(f\"Accuracy: {sum(y==y_pred)/y.shape[0]}\")"
   ]
  },
  {
   "cell_type": "markdown",
   "id": "455cd470",
   "metadata": {},
   "source": [
    "# Q4 Predict on Test Points"
   ]
  },
  {
   "cell_type": "code",
   "execution_count": 11,
   "id": "478b7bcd",
   "metadata": {},
   "outputs": [
    {
     "data": {
      "text/plain": [
       "array([1., 1., 1., 1.])"
      ]
     },
     "execution_count": 11,
     "metadata": {},
     "output_type": "execute_result"
    }
   ],
   "source": [
    "X_test =np.array([(1.9, 0.4), (0.9, 0.9),(1.4, 1.5), (0.01, 0.005)])\n",
    "svm.predict(X_test)"
   ]
  },
  {
   "cell_type": "markdown",
   "id": "eb6ce137",
   "metadata": {},
   "source": [
    "# Q5 - XOR "
   ]
  },
  {
   "cell_type": "markdown",
   "id": "144e6169",
   "metadata": {},
   "source": [
    "### Generating XOR data  - Converting 0s to -1 s & Adding noise "
   ]
  },
  {
   "cell_type": "markdown",
   "id": "06adbe58",
   "metadata": {},
   "source": [
    "### NOTE - XOR function outputs either 1 or 0. Here , after generating the XOR truth table , we keeping the 1s in the Output y  as they were but the 0s are replaced by -1 "
   ]
  },
  {
   "cell_type": "code",
   "execution_count": 18,
   "id": "292d0318",
   "metadata": {},
   "outputs": [
    {
     "name": "stdout",
     "output_type": "stream",
     "text": [
      "(1000, 3)\n"
     ]
    },
    {
     "data": {
      "text/html": [
       "<div>\n",
       "<style scoped>\n",
       "    .dataframe tbody tr th:only-of-type {\n",
       "        vertical-align: middle;\n",
       "    }\n",
       "\n",
       "    .dataframe tbody tr th {\n",
       "        vertical-align: top;\n",
       "    }\n",
       "\n",
       "    .dataframe thead th {\n",
       "        text-align: right;\n",
       "    }\n",
       "</style>\n",
       "<table border=\"1\" class=\"dataframe\">\n",
       "  <thead>\n",
       "    <tr style=\"text-align: right;\">\n",
       "      <th></th>\n",
       "      <th>Input1</th>\n",
       "      <th>Input2</th>\n",
       "      <th>Output</th>\n",
       "    </tr>\n",
       "  </thead>\n",
       "  <tbody>\n",
       "    <tr>\n",
       "      <th>0</th>\n",
       "      <td>-0.013647</td>\n",
       "      <td>-0.070778</td>\n",
       "      <td>-1</td>\n",
       "    </tr>\n",
       "    <tr>\n",
       "      <th>1</th>\n",
       "      <td>0.053466</td>\n",
       "      <td>0.925561</td>\n",
       "      <td>1</td>\n",
       "    </tr>\n",
       "    <tr>\n",
       "      <th>2</th>\n",
       "      <td>1.010458</td>\n",
       "      <td>-0.047869</td>\n",
       "      <td>1</td>\n",
       "    </tr>\n",
       "    <tr>\n",
       "      <th>3</th>\n",
       "      <td>0.973930</td>\n",
       "      <td>1.026776</td>\n",
       "      <td>-1</td>\n",
       "    </tr>\n",
       "    <tr>\n",
       "      <th>4</th>\n",
       "      <td>-0.189543</td>\n",
       "      <td>0.063767</td>\n",
       "      <td>-1</td>\n",
       "    </tr>\n",
       "  </tbody>\n",
       "</table>\n",
       "</div>"
      ],
      "text/plain": [
       "     Input1    Input2  Output\n",
       "0 -0.013647 -0.070778      -1\n",
       "1  0.053466  0.925561       1\n",
       "2  1.010458 -0.047869       1\n",
       "3  0.973930  1.026776      -1\n",
       "4 -0.189543  0.063767      -1"
      ]
     },
     "execution_count": 18,
     "metadata": {},
     "output_type": "execute_result"
    }
   ],
   "source": [
    "dict1 = {\"Input1\":[0,0,1,1], \"Input2\" :[0,1,0,1]}\n",
    "df = pd.DataFrame(dict1)\n",
    "df[\"Output\"] = np.where(df[\"Input1\"] == df[\"Input2\"],-1,1) # XOR - 0 if both equal-- We denote it as -1 \n",
    "df = pd.concat([df]*250, ignore_index=True)\n",
    "noise1 = np.random.normal(0, .1, df.shape[0])\n",
    "noise2 = np.random.normal(0, .1, df.shape[0])\n",
    "df['Input1'] = df['Input1'] + noise1\n",
    "df['Input2'] = df['Input2'] + noise2\n",
    "print(df.shape)\n",
    "df.head()"
   ]
  },
  {
   "cell_type": "markdown",
   "id": "69ee9b7b",
   "metadata": {},
   "source": [
    "### Prediction & Check Accuracy"
   ]
  },
  {
   "cell_type": "code",
   "execution_count": 19,
   "id": "23cd0974",
   "metadata": {},
   "outputs": [
    {
     "name": "stdout",
     "output_type": "stream",
     "text": [
      "Train Accuracy: 1.0\n"
     ]
    }
   ],
   "source": [
    "X = df.iloc[:,:-1].values\n",
    "y = df.iloc[:,-1].values\n",
    "svm = SVM(kernel=gaussian)\n",
    "svm.fit(X, y)\n",
    "xor_ypred = svm.predict(X)\n",
    "\n",
    "print(f\"Train Accuracy: {sum(y == xor_ypred)/X.shape[0]}\")"
   ]
  },
  {
   "cell_type": "code",
   "execution_count": null,
   "id": "01e51548",
   "metadata": {},
   "outputs": [],
   "source": []
  }
 ],
 "metadata": {
  "kernelspec": {
   "display_name": "Python 3",
   "language": "python",
   "name": "python3"
  },
  "language_info": {
   "codemirror_mode": {
    "name": "ipython",
    "version": 3
   },
   "file_extension": ".py",
   "mimetype": "text/x-python",
   "name": "python",
   "nbconvert_exporter": "python",
   "pygments_lexer": "ipython3",
   "version": "3.8.8"
  }
 },
 "nbformat": 4,
 "nbformat_minor": 5
}
