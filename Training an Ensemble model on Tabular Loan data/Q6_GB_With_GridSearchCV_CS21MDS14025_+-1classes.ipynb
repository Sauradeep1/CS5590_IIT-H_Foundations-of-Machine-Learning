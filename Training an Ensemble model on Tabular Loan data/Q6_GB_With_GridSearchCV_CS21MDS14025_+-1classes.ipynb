{
 "cells": [
  {
   "cell_type": "code",
   "execution_count": 230,
   "id": "c8ad5a58",
   "metadata": {},
   "outputs": [],
   "source": [
    "import numpy as np\n",
    "import pandas as pd\n",
    "import os\n",
    "from sklearn.ensemble import GradientBoostingClassifier\n",
    "from sklearn.model_selection import GridSearchCV\n",
    "import matplotlib.pyplot as plt"
   ]
  },
  {
   "cell_type": "code",
   "execution_count": 231,
   "id": "d992e778",
   "metadata": {},
   "outputs": [],
   "source": [
    "from sklearn.tree import DecisionTreeClassifier\n",
    "from sklearn.metrics import accuracy_score, f1_score, precision_score, recall_score, classification_report, confusion_matrix\n",
    "from sklearn.metrics import precision_score, make_scorer\n",
    "import time"
   ]
  },
  {
   "cell_type": "code",
   "execution_count": 232,
   "id": "137baa56",
   "metadata": {},
   "outputs": [],
   "source": [
    "os.chdir(r'C:\\Users\\saura\\OneDrive\\Documents\\IIT Hyderabad\\Assignments\\ML\\Assignment_3')"
   ]
  },
  {
   "cell_type": "code",
   "execution_count": 233,
   "id": "ba4f0afc",
   "metadata": {},
   "outputs": [
    {
     "data": {
      "text/plain": [
       "['Answers', 'loan_test.csv', 'loan_train.csv', 'Self Study', 'spam.data.txt']"
      ]
     },
     "execution_count": 233,
     "metadata": {},
     "output_type": "execute_result"
    }
   ],
   "source": [
    "os.listdir()"
   ]
  },
  {
   "cell_type": "markdown",
   "id": "b0a31337",
   "metadata": {},
   "source": [
    "### Loading the data"
   ]
  },
  {
   "cell_type": "code",
   "execution_count": 234,
   "id": "0083f5f3",
   "metadata": {},
   "outputs": [],
   "source": [
    "\n",
    "loan_train = pd.read_csv('loan_train.csv')"
   ]
  },
  {
   "cell_type": "code",
   "execution_count": 235,
   "id": "8ca5ded5",
   "metadata": {},
   "outputs": [],
   "source": [
    "loan_test = pd.read_csv('loan_test.csv')"
   ]
  },
  {
   "cell_type": "code",
   "execution_count": 236,
   "id": "3827eaf7",
   "metadata": {},
   "outputs": [
    {
     "data": {
      "text/plain": [
       "(14718, 111)"
      ]
     },
     "execution_count": 236,
     "metadata": {},
     "output_type": "execute_result"
    }
   ],
   "source": [
    "loan_test.shape"
   ]
  },
  {
   "cell_type": "markdown",
   "id": "cd5111a5",
   "metadata": {},
   "source": [
    "# Pre processing starts"
   ]
  },
  {
   "cell_type": "markdown",
   "id": "4cd51b5c",
   "metadata": {},
   "source": [
    "### Setting the target class"
   ]
  },
  {
   "cell_type": "code",
   "execution_count": 237,
   "id": "dcb88422",
   "metadata": {},
   "outputs": [
    {
     "data": {
      "text/plain": [
       "Fully Paid     20827\n",
       "Charged Off     3474\n",
       "Current          698\n",
       "Name: loan_status, dtype: int64"
      ]
     },
     "execution_count": 237,
     "metadata": {},
     "output_type": "execute_result"
    }
   ],
   "source": [
    "loan_train.loan_status.value_counts()"
   ]
  },
  {
   "cell_type": "code",
   "execution_count": 238,
   "id": "14c27a3e",
   "metadata": {},
   "outputs": [
    {
     "data": {
      "text/plain": [
       "Fully Paid     12123\n",
       "Charged Off     2153\n",
       "Current          442\n",
       "Name: loan_status, dtype: int64"
      ]
     },
     "execution_count": 238,
     "metadata": {},
     "output_type": "execute_result"
    }
   ],
   "source": [
    "loan_test.loan_status.value_counts()"
   ]
  },
  {
   "cell_type": "code",
   "execution_count": 239,
   "id": "7be0bd96",
   "metadata": {},
   "outputs": [
    {
     "data": {
      "text/plain": [
       " 1    20827\n",
       "-1     3474\n",
       "Name: target, dtype: int64"
      ]
     },
     "execution_count": 239,
     "metadata": {},
     "output_type": "execute_result"
    }
   ],
   "source": [
    "loan_train = loan_train[loan_train.loan_status!= 'Current']\n",
    "loan_train['target'] = np.where(loan_train.loan_status == 'Fully Paid',1,-1)\n",
    "loan_train.drop(['loan_status'],axis =1,inplace = True)\n",
    "loan_train.target.value_counts()"
   ]
  },
  {
   "cell_type": "markdown",
   "id": "c0957426",
   "metadata": {},
   "source": [
    "## Dropping columns with High Missing Values"
   ]
  },
  {
   "cell_type": "code",
   "execution_count": 240,
   "id": "b9335d7e",
   "metadata": {},
   "outputs": [
    {
     "data": {
      "text/plain": [
       "{'emp_title': 6,\n",
       " 'emp_length': 40,\n",
       " 'desc': 7943,\n",
       " 'title': 8,\n",
       " 'mths_since_last_delinq': 15767,\n",
       " 'mths_since_last_record': 22646,\n",
       " 'revol_util': 29,\n",
       " 'last_pymnt_d': 45,\n",
       " 'next_pymnt_d': 24301,\n",
       " 'collections_12_mths_ex_med': 29,\n",
       " 'mths_since_last_major_derog': 24301,\n",
       " 'annual_inc_joint': 24301,\n",
       " 'dti_joint': 24301,\n",
       " 'verification_status_joint': 24301,\n",
       " 'tot_coll_amt': 24301,\n",
       " 'tot_cur_bal': 24301,\n",
       " 'open_acc_6m': 24301,\n",
       " 'open_il_6m': 24301,\n",
       " 'open_il_12m': 24301,\n",
       " 'open_il_24m': 24301,\n",
       " 'mths_since_rcnt_il': 24301,\n",
       " 'total_bal_il': 24301,\n",
       " 'il_util': 24301,\n",
       " 'open_rv_12m': 24301,\n",
       " 'open_rv_24m': 24301,\n",
       " 'max_bal_bc': 24301,\n",
       " 'all_util': 24301,\n",
       " 'total_rev_hi_lim': 24301,\n",
       " 'inq_fi': 24301,\n",
       " 'total_cu_tl': 24301,\n",
       " 'inq_last_12m': 24301,\n",
       " 'acc_open_past_24mths': 24301,\n",
       " 'avg_cur_bal': 24301,\n",
       " 'bc_open_to_buy': 24301,\n",
       " 'bc_util': 24301,\n",
       " 'chargeoff_within_12_mths': 29,\n",
       " 'mo_sin_old_il_acct': 24301,\n",
       " 'mo_sin_old_rev_tl_op': 24301,\n",
       " 'mo_sin_rcnt_rev_tl_op': 24301,\n",
       " 'mo_sin_rcnt_tl': 24301,\n",
       " 'mort_acc': 24301,\n",
       " 'mths_since_recent_bc': 24301,\n",
       " 'mths_since_recent_bc_dlq': 24301,\n",
       " 'mths_since_recent_inq': 24301,\n",
       " 'mths_since_recent_revol_delinq': 24301,\n",
       " 'num_accts_ever_120_pd': 24301,\n",
       " 'num_actv_bc_tl': 24301,\n",
       " 'num_actv_rev_tl': 24301,\n",
       " 'num_bc_sats': 24301,\n",
       " 'num_bc_tl': 24301,\n",
       " 'num_il_tl': 24301,\n",
       " 'num_op_rev_tl': 24301,\n",
       " 'num_rev_accts': 24301,\n",
       " 'num_rev_tl_bal_gt_0': 24301,\n",
       " 'num_sats': 24301,\n",
       " 'num_tl_120dpd_2m': 24301,\n",
       " 'num_tl_30dpd': 24301,\n",
       " 'num_tl_90g_dpd_24m': 24301,\n",
       " 'num_tl_op_past_12m': 24301,\n",
       " 'pct_tl_nvr_dlq': 24301,\n",
       " 'percent_bc_gt_75': 24301,\n",
       " 'pub_rec_bankruptcies': 417,\n",
       " 'tax_liens': 17,\n",
       " 'tot_hi_cred_lim': 24301,\n",
       " 'total_bal_ex_mort': 24301,\n",
       " 'total_bc_limit': 24301,\n",
       " 'total_il_high_credit_limit': 24301}"
      ]
     },
     "execution_count": 240,
     "metadata": {},
     "output_type": "execute_result"
    }
   ],
   "source": [
    "dict_loan = loan_train.isna().sum().to_dict()\n",
    "dict_loan = {key: value for (key, value) in dict_loan.items() if value!=0 }\n",
    "dict_loan"
   ]
  },
  {
   "cell_type": "markdown",
   "id": "67f27a8e",
   "metadata": {},
   "source": [
    "### remove any columns with more than 60% null values"
   ]
  },
  {
   "cell_type": "code",
   "execution_count": 241,
   "id": "f726e8ee",
   "metadata": {},
   "outputs": [
    {
     "name": "stdout",
     "output_type": "stream",
     "text": [
      "no of columns remaining after removing any columns with more than 60% null values :  54\n"
     ]
    },
    {
     "data": {
      "text/plain": [
       "id                               0\n",
       "member_id                        0\n",
       "loan_amnt                        0\n",
       "funded_amnt                      0\n",
       "funded_amnt_inv                  0\n",
       "term                             0\n",
       "int_rate                         0\n",
       "installment                      0\n",
       "grade                            0\n",
       "sub_grade                        0\n",
       "emp_title                        6\n",
       "emp_length                      40\n",
       "home_ownership                   0\n",
       "annual_inc                       0\n",
       "verification_status              0\n",
       "issue_d                          0\n",
       "pymnt_plan                       0\n",
       "url                              0\n",
       "desc                          7943\n",
       "purpose                          0\n",
       "title                            8\n",
       "zip_code                         0\n",
       "addr_state                       0\n",
       "dti                              0\n",
       "delinq_2yrs                      0\n",
       "earliest_cr_line                 0\n",
       "inq_last_6mths                   0\n",
       "open_acc                         0\n",
       "pub_rec                          0\n",
       "revol_bal                        0\n",
       "revol_util                      29\n",
       "total_acc                        0\n",
       "initial_list_status              0\n",
       "out_prncp                        0\n",
       "out_prncp_inv                    0\n",
       "total_pymnt                      0\n",
       "total_pymnt_inv                  0\n",
       "total_rec_prncp                  0\n",
       "total_rec_int                    0\n",
       "total_rec_late_fee               0\n",
       "recoveries                       0\n",
       "collection_recovery_fee          0\n",
       "last_pymnt_d                    45\n",
       "last_pymnt_amnt                  0\n",
       "last_credit_pull_d               0\n",
       "collections_12_mths_ex_med      29\n",
       "policy_code                      0\n",
       "application_type                 0\n",
       "acc_now_delinq                   0\n",
       "chargeoff_within_12_mths        29\n",
       "delinq_amnt                      0\n",
       "pub_rec_bankruptcies           417\n",
       "tax_liens                       17\n",
       "target                           0\n",
       "dtype: int64"
      ]
     },
     "execution_count": 241,
     "metadata": {},
     "output_type": "execute_result"
    }
   ],
   "source": [
    "not_null_cols = loan_train.columns[loan_train.isnull().mean() < 0.6]\n",
    "print('no of columns remaining after removing any columns with more than 60% null values : ',len(not_null_cols))# \n",
    "loan_train= loan_train.filter(not_null_cols,axis = 1)\n",
    "loan_train.isna().sum()"
   ]
  },
  {
   "cell_type": "markdown",
   "id": "cc39a59e",
   "metadata": {},
   "source": [
    "# Exploring the categorical columns"
   ]
  },
  {
   "cell_type": "markdown",
   "id": "28bac973",
   "metadata": {},
   "source": [
    "### Creating new features, transform data type, one hot encoding"
   ]
  },
  {
   "cell_type": "code",
   "execution_count": 242,
   "id": "dc778eca",
   "metadata": {},
   "outputs": [
    {
     "data": {
      "text/plain": [
       "['term',\n",
       " 'int_rate',\n",
       " 'grade',\n",
       " 'sub_grade',\n",
       " 'emp_title',\n",
       " 'emp_length',\n",
       " 'home_ownership',\n",
       " 'verification_status',\n",
       " 'issue_d',\n",
       " 'pymnt_plan',\n",
       " 'url',\n",
       " 'desc',\n",
       " 'purpose',\n",
       " 'title',\n",
       " 'zip_code',\n",
       " 'addr_state',\n",
       " 'earliest_cr_line',\n",
       " 'revol_util',\n",
       " 'initial_list_status',\n",
       " 'last_pymnt_d',\n",
       " 'last_credit_pull_d',\n",
       " 'application_type']"
      ]
     },
     "execution_count": 242,
     "metadata": {},
     "output_type": "execute_result"
    }
   ],
   "source": [
    "str_cols = [col for col in loan_train.columns.tolist() if loan_train[col].dtype in ['object']] \n",
    "str_cols"
   ]
  },
  {
   "cell_type": "code",
   "execution_count": 243,
   "id": "0cd5ca31",
   "metadata": {},
   "outputs": [
    {
     "data": {
      "text/plain": [
       "term                       2\n",
       "int_rate                 361\n",
       "grade                      7\n",
       "sub_grade                 35\n",
       "emp_title              19413\n",
       "emp_length                11\n",
       "home_ownership             4\n",
       "verification_status        3\n",
       "issue_d                   55\n",
       "pymnt_plan                 1\n",
       "url                    24301\n",
       "desc                   16213\n",
       "purpose                   14\n",
       "title                  12698\n",
       "zip_code                 783\n",
       "addr_state                50\n",
       "earliest_cr_line         495\n",
       "revol_util              1058\n",
       "initial_list_status        1\n",
       "last_pymnt_d             101\n",
       "last_credit_pull_d       102\n",
       "application_type           1\n",
       "dtype: int64"
      ]
     },
     "execution_count": 243,
     "metadata": {},
     "output_type": "execute_result"
    }
   ],
   "source": [
    "loan_train[str_cols].nunique()# checking the no of unique values for each object type column"
   ]
  },
  {
   "cell_type": "markdown",
   "id": "e6505f0a",
   "metadata": {},
   "source": [
    "### Drop Non Categorical Descriptive Text/ Text Features with High Cardinality"
   ]
  },
  {
   "cell_type": "code",
   "execution_count": 244,
   "id": "ccc140fe",
   "metadata": {},
   "outputs": [
    {
     "name": "stdout",
     "output_type": "stream",
     "text": [
      "['emp_title', 'url', 'desc', 'title', 'zip_code', 'addr_state']\n"
     ]
    }
   ],
   "source": [
    "remove_cols = ['emp_title','url','desc','title','zip_code','addr_state'] ### THE COLUMNS that are string but not to be Encoded\n",
    "remove_from_cat_features = remove_cols.copy()\n",
    "#loan_train.drop(remove_from_cat_features,axis =1, inplace = True)\n",
    "print(remove_from_cat_features)"
   ]
  },
  {
   "cell_type": "code",
   "execution_count": 245,
   "id": "45dfe5ff",
   "metadata": {},
   "outputs": [
    {
     "data": {
      "text/html": [
       "<div>\n",
       "<style scoped>\n",
       "    .dataframe tbody tr th:only-of-type {\n",
       "        vertical-align: middle;\n",
       "    }\n",
       "\n",
       "    .dataframe tbody tr th {\n",
       "        vertical-align: top;\n",
       "    }\n",
       "\n",
       "    .dataframe thead th {\n",
       "        text-align: right;\n",
       "    }\n",
       "</style>\n",
       "<table border=\"1\" class=\"dataframe\">\n",
       "  <thead>\n",
       "    <tr style=\"text-align: right;\">\n",
       "      <th></th>\n",
       "      <th>term</th>\n",
       "      <th>int_rate</th>\n",
       "      <th>grade</th>\n",
       "      <th>sub_grade</th>\n",
       "      <th>emp_length</th>\n",
       "      <th>home_ownership</th>\n",
       "      <th>verification_status</th>\n",
       "      <th>issue_d</th>\n",
       "      <th>pymnt_plan</th>\n",
       "      <th>purpose</th>\n",
       "      <th>earliest_cr_line</th>\n",
       "      <th>revol_util</th>\n",
       "      <th>initial_list_status</th>\n",
       "      <th>last_pymnt_d</th>\n",
       "      <th>last_credit_pull_d</th>\n",
       "      <th>application_type</th>\n",
       "    </tr>\n",
       "  </thead>\n",
       "  <tbody>\n",
       "    <tr>\n",
       "      <th>0</th>\n",
       "      <td>36 months</td>\n",
       "      <td>7.51%</td>\n",
       "      <td>A</td>\n",
       "      <td>A4</td>\n",
       "      <td>10+ years</td>\n",
       "      <td>RENT</td>\n",
       "      <td>Source Verified</td>\n",
       "      <td>10-Sep</td>\n",
       "      <td>n</td>\n",
       "      <td>home_improvement</td>\n",
       "      <td>1-Feb</td>\n",
       "      <td>1.20%</td>\n",
       "      <td>f</td>\n",
       "      <td>11-Mar</td>\n",
       "      <td>11-Jul</td>\n",
       "      <td>INDIVIDUAL</td>\n",
       "    </tr>\n",
       "    <tr>\n",
       "      <th>1</th>\n",
       "      <td>36 months</td>\n",
       "      <td>8.94%</td>\n",
       "      <td>A</td>\n",
       "      <td>A5</td>\n",
       "      <td>1 year</td>\n",
       "      <td>RENT</td>\n",
       "      <td>Not Verified</td>\n",
       "      <td>10-Jan</td>\n",
       "      <td>n</td>\n",
       "      <td>other</td>\n",
       "      <td>Feb-97</td>\n",
       "      <td>14%</td>\n",
       "      <td>f</td>\n",
       "      <td>10-Mar</td>\n",
       "      <td>10-Feb</td>\n",
       "      <td>INDIVIDUAL</td>\n",
       "    </tr>\n",
       "    <tr>\n",
       "      <th>2</th>\n",
       "      <td>36 months</td>\n",
       "      <td>13.57%</td>\n",
       "      <td>C</td>\n",
       "      <td>C3</td>\n",
       "      <td>4 years</td>\n",
       "      <td>OWN</td>\n",
       "      <td>Not Verified</td>\n",
       "      <td>9-Oct</td>\n",
       "      <td>n</td>\n",
       "      <td>major_purchase</td>\n",
       "      <td>Mar-00</td>\n",
       "      <td>34.40%</td>\n",
       "      <td>f</td>\n",
       "      <td>11-Dec</td>\n",
       "      <td>11-Dec</td>\n",
       "      <td>INDIVIDUAL</td>\n",
       "    </tr>\n",
       "    <tr>\n",
       "      <th>4</th>\n",
       "      <td>60 months</td>\n",
       "      <td>17.49%</td>\n",
       "      <td>D</td>\n",
       "      <td>D5</td>\n",
       "      <td>5 years</td>\n",
       "      <td>MORTGAGE</td>\n",
       "      <td>Not Verified</td>\n",
       "      <td>11-Jul</td>\n",
       "      <td>n</td>\n",
       "      <td>debt_consolidation</td>\n",
       "      <td>4-Jun</td>\n",
       "      <td>9.40%</td>\n",
       "      <td>f</td>\n",
       "      <td>15-Sep</td>\n",
       "      <td>16-May</td>\n",
       "      <td>INDIVIDUAL</td>\n",
       "    </tr>\n",
       "    <tr>\n",
       "      <th>5</th>\n",
       "      <td>36 months</td>\n",
       "      <td>8.94%</td>\n",
       "      <td>A</td>\n",
       "      <td>A5</td>\n",
       "      <td>7 years</td>\n",
       "      <td>MORTGAGE</td>\n",
       "      <td>Not Verified</td>\n",
       "      <td>9-Dec</td>\n",
       "      <td>n</td>\n",
       "      <td>other</td>\n",
       "      <td>Aug-93</td>\n",
       "      <td>2.80%</td>\n",
       "      <td>f</td>\n",
       "      <td>10-May</td>\n",
       "      <td>10-May</td>\n",
       "      <td>INDIVIDUAL</td>\n",
       "    </tr>\n",
       "  </tbody>\n",
       "</table>\n",
       "</div>"
      ],
      "text/plain": [
       "         term int_rate grade sub_grade emp_length home_ownership  \\\n",
       "0   36 months    7.51%     A        A4  10+ years           RENT   \n",
       "1   36 months    8.94%     A        A5     1 year           RENT   \n",
       "2   36 months   13.57%     C        C3    4 years            OWN   \n",
       "4   60 months   17.49%     D        D5    5 years       MORTGAGE   \n",
       "5   36 months    8.94%     A        A5    7 years       MORTGAGE   \n",
       "\n",
       "  verification_status issue_d pymnt_plan             purpose earliest_cr_line  \\\n",
       "0     Source Verified  10-Sep          n    home_improvement            1-Feb   \n",
       "1        Not Verified  10-Jan          n               other           Feb-97   \n",
       "2        Not Verified   9-Oct          n      major_purchase           Mar-00   \n",
       "4        Not Verified  11-Jul          n  debt_consolidation            4-Jun   \n",
       "5        Not Verified   9-Dec          n               other           Aug-93   \n",
       "\n",
       "  revol_util initial_list_status last_pymnt_d last_credit_pull_d  \\\n",
       "0      1.20%                   f       11-Mar             11-Jul   \n",
       "1        14%                   f       10-Mar             10-Feb   \n",
       "2     34.40%                   f       11-Dec             11-Dec   \n",
       "4      9.40%                   f       15-Sep             16-May   \n",
       "5      2.80%                   f       10-May             10-May   \n",
       "\n",
       "  application_type  \n",
       "0       INDIVIDUAL  \n",
       "1       INDIVIDUAL  \n",
       "2       INDIVIDUAL  \n",
       "4       INDIVIDUAL  \n",
       "5       INDIVIDUAL  "
      ]
     },
     "execution_count": 245,
     "metadata": {},
     "output_type": "execute_result"
    }
   ],
   "source": [
    "str_cols = [x for x in str_cols if x not in remove_from_cat_features]\n",
    "loan_train[str_cols].head()"
   ]
  },
  {
   "cell_type": "markdown",
   "id": "8d99485d",
   "metadata": {},
   "source": [
    "### Remove messy date format columns"
   ]
  },
  {
   "cell_type": "code",
   "execution_count": 246,
   "id": "01474a57",
   "metadata": {},
   "outputs": [],
   "source": [
    "remove_cols.append('issue_d')\n",
    "remove_cols.append('earliest_cr_line')\n",
    "remove_from_cat_features = remove_cols.copy()"
   ]
  },
  {
   "cell_type": "markdown",
   "id": "e5eb1bba",
   "metadata": {},
   "source": [
    "### Calculate new feature from last_pymnt_d & last_credit_pull_d"
   ]
  },
  {
   "cell_type": "code",
   "execution_count": 247,
   "id": "e9524a48",
   "metadata": {},
   "outputs": [],
   "source": [
    "loan_train['last_pymnt_d'] = pd.to_datetime(loan_train['last_pymnt_d'], format = '%d-%b') # 11- Jul format\n",
    "loan_train['last_credit_pull_d'] = pd.to_datetime(loan_train['last_credit_pull_d'], format = '%d-%b')\n",
    "loan_train['credit_pull_minus_pymnt'] = (loan_train['last_credit_pull_d'] - loan_train['last_pymnt_d']).dt.days\n",
    "remove_cols.append('last_pymnt_d')\n",
    "remove_cols.append('last_credit_pull_d')\n",
    "remove_from_cat_features = remove_cols.copy()"
   ]
  },
  {
   "cell_type": "markdown",
   "id": "7bcdc0d0",
   "metadata": {},
   "source": [
    "### Creating numerical features out of string by splitting the string"
   ]
  },
  {
   "cell_type": "code",
   "execution_count": 248,
   "id": "b3b6edb0",
   "metadata": {},
   "outputs": [
    {
     "data": {
      "text/plain": [
       "36    18203\n",
       "60     6098\n",
       "Name: term, dtype: int64"
      ]
     },
     "execution_count": 248,
     "metadata": {},
     "output_type": "execute_result"
    }
   ],
   "source": [
    "loan_train['term'] = [int(x.split()[0]) for x in loan_train['term'] ]\n",
    "remove_from_cat_features.append('term')\n",
    "loan_train['term'].value_counts()"
   ]
  },
  {
   "cell_type": "code",
   "execution_count": 249,
   "id": "ef6be5e8",
   "metadata": {},
   "outputs": [
    {
     "data": {
      "text/plain": [
       "10+ years    5315\n",
       "< 1 year     2816\n",
       "2 years      2806\n",
       "3 years      2675\n",
       "4 years      2223\n",
       "5 years      2087\n",
       "1 year       2081\n",
       "6 years      1385\n",
       "7 years      1108\n",
       "8 years       942\n",
       "9 years       823\n",
       "Name: emp_length, dtype: int64"
      ]
     },
     "execution_count": 249,
     "metadata": {},
     "output_type": "execute_result"
    }
   ],
   "source": [
    "loan_train['emp_length'].value_counts()# before pre processing"
   ]
  },
  {
   "cell_type": "code",
   "execution_count": 250,
   "id": "40e09f87",
   "metadata": {},
   "outputs": [
    {
     "data": {
      "text/plain": [
       "10     5315\n",
       "0      2816\n",
       "2      2806\n",
       "3      2675\n",
       "4      2223\n",
       "5      2087\n",
       "1      2081\n",
       "6      1385\n",
       "7      1108\n",
       "8       942\n",
       "9       823\n",
       "nan      40\n",
       "Name: emp_length, dtype: int64"
      ]
     },
     "execution_count": 250,
     "metadata": {},
     "output_type": "execute_result"
    }
   ],
   "source": [
    "#loan_train['emp_length'] = [pd.to_numeric(x.strip('<').lstrip().split('+')[0].split()[0], errors = 'ignore') for x in loan_train['emp_length'].astype(str) ]\n",
    "loan_train['emp_length'] = [pd.to_numeric(x.split('+')[0].split()[0], errors = 'ignore') for x in loan_train['emp_length'].astype(str) ]\n",
    "#loan_train['emp_length'].value_counts()\n",
    "loan_train['emp_length'].replace('<',0, inplace = True)\n",
    "remove_from_cat_features.append('emp_length')\n",
    "loan_train['emp_length'].value_counts()"
   ]
  },
  {
   "cell_type": "code",
   "execution_count": 251,
   "id": "ae5f9e9b",
   "metadata": {},
   "outputs": [],
   "source": [
    "loan_train['int_rate'] = [float(x.split('%')[0]) for x in loan_train['int_rate'].astype(str) ]#revol_util\n",
    "loan_train['revol_util'] = [float(x.split('%')[0]) for x in loan_train['revol_util'].astype(str) ]#revol_util emp_length\n",
    "remove_from_cat_features.append('int_rate')\n",
    "remove_from_cat_features.append('revol_util')"
   ]
  },
  {
   "cell_type": "markdown",
   "id": "f6317a82",
   "metadata": {},
   "source": [
    "## Drop all columns in the list remove_cols"
   ]
  },
  {
   "cell_type": "code",
   "execution_count": 252,
   "id": "c8035850",
   "metadata": {},
   "outputs": [
    {
     "name": "stdout",
     "output_type": "stream",
     "text": [
      "(24301, 55)\n",
      "(24301, 45)\n"
     ]
    }
   ],
   "source": [
    "print(loan_train.shape)\n",
    "loan_train.drop(remove_cols, axis =1, inplace =True)\n",
    "print(loan_train.shape)"
   ]
  },
  {
   "cell_type": "code",
   "execution_count": 253,
   "id": "ba5437d5",
   "metadata": {},
   "outputs": [
    {
     "data": {
      "text/html": [
       "<div>\n",
       "<style scoped>\n",
       "    .dataframe tbody tr th:only-of-type {\n",
       "        vertical-align: middle;\n",
       "    }\n",
       "\n",
       "    .dataframe tbody tr th {\n",
       "        vertical-align: top;\n",
       "    }\n",
       "\n",
       "    .dataframe thead th {\n",
       "        text-align: right;\n",
       "    }\n",
       "</style>\n",
       "<table border=\"1\" class=\"dataframe\">\n",
       "  <thead>\n",
       "    <tr style=\"text-align: right;\">\n",
       "      <th></th>\n",
       "      <th>id</th>\n",
       "      <th>member_id</th>\n",
       "      <th>loan_amnt</th>\n",
       "      <th>funded_amnt</th>\n",
       "      <th>funded_amnt_inv</th>\n",
       "      <th>term</th>\n",
       "      <th>int_rate</th>\n",
       "      <th>installment</th>\n",
       "      <th>grade</th>\n",
       "      <th>sub_grade</th>\n",
       "      <th>...</th>\n",
       "      <th>collections_12_mths_ex_med</th>\n",
       "      <th>policy_code</th>\n",
       "      <th>application_type</th>\n",
       "      <th>acc_now_delinq</th>\n",
       "      <th>chargeoff_within_12_mths</th>\n",
       "      <th>delinq_amnt</th>\n",
       "      <th>pub_rec_bankruptcies</th>\n",
       "      <th>tax_liens</th>\n",
       "      <th>target</th>\n",
       "      <th>credit_pull_minus_pymnt</th>\n",
       "    </tr>\n",
       "  </thead>\n",
       "  <tbody>\n",
       "    <tr>\n",
       "      <th>0</th>\n",
       "      <td>573354</td>\n",
       "      <td>737474</td>\n",
       "      <td>10000</td>\n",
       "      <td>10000</td>\n",
       "      <td>9950.0</td>\n",
       "      <td>36</td>\n",
       "      <td>7.51</td>\n",
       "      <td>311.11</td>\n",
       "      <td>A</td>\n",
       "      <td>A4</td>\n",
       "      <td>...</td>\n",
       "      <td>0.0</td>\n",
       "      <td>1</td>\n",
       "      <td>INDIVIDUAL</td>\n",
       "      <td>0</td>\n",
       "      <td>0.0</td>\n",
       "      <td>0</td>\n",
       "      <td>0.0</td>\n",
       "      <td>0.0</td>\n",
       "      <td>-1</td>\n",
       "      <td>122.0</td>\n",
       "    </tr>\n",
       "    <tr>\n",
       "      <th>1</th>\n",
       "      <td>476321</td>\n",
       "      <td>603324</td>\n",
       "      <td>15000</td>\n",
       "      <td>15000</td>\n",
       "      <td>14800.0</td>\n",
       "      <td>36</td>\n",
       "      <td>8.94</td>\n",
       "      <td>476.58</td>\n",
       "      <td>A</td>\n",
       "      <td>A5</td>\n",
       "      <td>...</td>\n",
       "      <td>0.0</td>\n",
       "      <td>1</td>\n",
       "      <td>INDIVIDUAL</td>\n",
       "      <td>0</td>\n",
       "      <td>0.0</td>\n",
       "      <td>0</td>\n",
       "      <td>0.0</td>\n",
       "      <td>0.0</td>\n",
       "      <td>1</td>\n",
       "      <td>-28.0</td>\n",
       "    </tr>\n",
       "    <tr>\n",
       "      <th>2</th>\n",
       "      <td>451484</td>\n",
       "      <td>556265</td>\n",
       "      <td>2000</td>\n",
       "      <td>2000</td>\n",
       "      <td>2000.0</td>\n",
       "      <td>36</td>\n",
       "      <td>13.57</td>\n",
       "      <td>67.94</td>\n",
       "      <td>C</td>\n",
       "      <td>C3</td>\n",
       "      <td>...</td>\n",
       "      <td>0.0</td>\n",
       "      <td>1</td>\n",
       "      <td>INDIVIDUAL</td>\n",
       "      <td>0</td>\n",
       "      <td>0.0</td>\n",
       "      <td>0</td>\n",
       "      <td>0.0</td>\n",
       "      <td>0.0</td>\n",
       "      <td>1</td>\n",
       "      <td>0.0</td>\n",
       "    </tr>\n",
       "    <tr>\n",
       "      <th>4</th>\n",
       "      <td>800018</td>\n",
       "      <td>1005270</td>\n",
       "      <td>14000</td>\n",
       "      <td>14000</td>\n",
       "      <td>14000.0</td>\n",
       "      <td>60</td>\n",
       "      <td>17.49</td>\n",
       "      <td>351.64</td>\n",
       "      <td>D</td>\n",
       "      <td>D5</td>\n",
       "      <td>...</td>\n",
       "      <td>0.0</td>\n",
       "      <td>1</td>\n",
       "      <td>INDIVIDUAL</td>\n",
       "      <td>0</td>\n",
       "      <td>0.0</td>\n",
       "      <td>0</td>\n",
       "      <td>0.0</td>\n",
       "      <td>0.0</td>\n",
       "      <td>1</td>\n",
       "      <td>-122.0</td>\n",
       "    </tr>\n",
       "    <tr>\n",
       "      <th>5</th>\n",
       "      <td>471391</td>\n",
       "      <td>595223</td>\n",
       "      <td>12000</td>\n",
       "      <td>12000</td>\n",
       "      <td>11900.0</td>\n",
       "      <td>36</td>\n",
       "      <td>8.94</td>\n",
       "      <td>381.26</td>\n",
       "      <td>A</td>\n",
       "      <td>A5</td>\n",
       "      <td>...</td>\n",
       "      <td>0.0</td>\n",
       "      <td>1</td>\n",
       "      <td>INDIVIDUAL</td>\n",
       "      <td>0</td>\n",
       "      <td>0.0</td>\n",
       "      <td>0</td>\n",
       "      <td>0.0</td>\n",
       "      <td>0.0</td>\n",
       "      <td>1</td>\n",
       "      <td>0.0</td>\n",
       "    </tr>\n",
       "  </tbody>\n",
       "</table>\n",
       "<p>5 rows × 45 columns</p>\n",
       "</div>"
      ],
      "text/plain": [
       "       id  member_id  loan_amnt  funded_amnt  funded_amnt_inv  term  int_rate  \\\n",
       "0  573354     737474      10000        10000           9950.0    36      7.51   \n",
       "1  476321     603324      15000        15000          14800.0    36      8.94   \n",
       "2  451484     556265       2000         2000           2000.0    36     13.57   \n",
       "4  800018    1005270      14000        14000          14000.0    60     17.49   \n",
       "5  471391     595223      12000        12000          11900.0    36      8.94   \n",
       "\n",
       "   installment grade sub_grade  ... collections_12_mths_ex_med policy_code  \\\n",
       "0       311.11     A        A4  ...                        0.0           1   \n",
       "1       476.58     A        A5  ...                        0.0           1   \n",
       "2        67.94     C        C3  ...                        0.0           1   \n",
       "4       351.64     D        D5  ...                        0.0           1   \n",
       "5       381.26     A        A5  ...                        0.0           1   \n",
       "\n",
       "   application_type acc_now_delinq chargeoff_within_12_mths delinq_amnt  \\\n",
       "0        INDIVIDUAL              0                      0.0           0   \n",
       "1        INDIVIDUAL              0                      0.0           0   \n",
       "2        INDIVIDUAL              0                      0.0           0   \n",
       "4        INDIVIDUAL              0                      0.0           0   \n",
       "5        INDIVIDUAL              0                      0.0           0   \n",
       "\n",
       "   pub_rec_bankruptcies  tax_liens  target  credit_pull_minus_pymnt  \n",
       "0                   0.0        0.0      -1                    122.0  \n",
       "1                   0.0        0.0       1                    -28.0  \n",
       "2                   0.0        0.0       1                      0.0  \n",
       "4                   0.0        0.0       1                   -122.0  \n",
       "5                   0.0        0.0       1                      0.0  \n",
       "\n",
       "[5 rows x 45 columns]"
      ]
     },
     "execution_count": 253,
     "metadata": {},
     "output_type": "execute_result"
    }
   ],
   "source": [
    "loan_train.head()"
   ]
  },
  {
   "cell_type": "code",
   "execution_count": 254,
   "id": "ba8e358e",
   "metadata": {},
   "outputs": [
    {
     "data": {
      "text/plain": [
       "chargeoff_within_12_mths      1\n",
       "purpose                       1\n",
       "member_id                     1\n",
       "collection_recovery_fee       1\n",
       "term                          1\n",
       "tax_liens                     1\n",
       "inq_last_6mths                1\n",
       "id                            1\n",
       "credit_pull_minus_pymnt       1\n",
       "total_rec_int                 1\n",
       "out_prncp_inv                 1\n",
       "funded_amnt_inv               1\n",
       "verification_status           1\n",
       "home_ownership                1\n",
       "dti                           1\n",
       "initial_list_status           1\n",
       "last_pymnt_amnt               1\n",
       "total_acc                     1\n",
       "total_pymnt                   1\n",
       "policy_code                   1\n",
       "collections_12_mths_ex_med    1\n",
       "int_rate                      1\n",
       "total_rec_prncp               1\n",
       "delinq_amnt                   1\n",
       "total_rec_late_fee            1\n",
       "annual_inc                    1\n",
       "grade                         1\n",
       "application_type              1\n",
       "target                        1\n",
       "sub_grade                     1\n",
       "emp_length                    1\n",
       "installment                   1\n",
       "delinq_2yrs                   1\n",
       "funded_amnt                   1\n",
       "revol_util                    1\n",
       "recoveries                    1\n",
       "acc_now_delinq                1\n",
       "total_pymnt_inv               1\n",
       "open_acc                      1\n",
       "pub_rec                       1\n",
       "loan_amnt                     1\n",
       "out_prncp                     1\n",
       "pub_rec_bankruptcies          1\n",
       "pymnt_plan                    1\n",
       "revol_bal                     1\n",
       "dtype: int64"
      ]
     },
     "execution_count": 254,
     "metadata": {},
     "output_type": "execute_result"
    }
   ],
   "source": [
    "pd.Series(loan_train.columns.tolist()).value_counts()"
   ]
  },
  {
   "cell_type": "markdown",
   "id": "7d1f582a",
   "metadata": {},
   "source": [
    "# One Hot Encoding of Categorical Features"
   ]
  },
  {
   "cell_type": "code",
   "execution_count": 255,
   "id": "95dfa45b",
   "metadata": {},
   "outputs": [
    {
     "name": "stdout",
     "output_type": "stream",
     "text": [
      "['grade', 'sub_grade', 'home_ownership', 'verification_status', 'pymnt_plan', 'purpose', 'initial_list_status', 'application_type']\n"
     ]
    }
   ],
   "source": [
    "str_cols = [x for x in str_cols if x not in remove_from_cat_features]\n",
    "print(str_cols)"
   ]
  },
  {
   "cell_type": "code",
   "execution_count": 256,
   "id": "c81794ab",
   "metadata": {},
   "outputs": [],
   "source": [
    "final_cols_b4_enc = loan_train.columns"
   ]
  },
  {
   "cell_type": "code",
   "execution_count": 257,
   "id": "0f195bb4",
   "metadata": {},
   "outputs": [
    {
     "name": "stdout",
     "output_type": "stream",
     "text": [
      "(24301, 45)\n",
      "(24301, 103)\n"
     ]
    }
   ],
   "source": [
    "print(loan_train.shape)\n",
    "dummy_cols = pd.get_dummies(loan_train, prefix=None, prefix_sep='_', dummy_na=False, columns= str_cols)\n",
    "loan_train = pd.concat([loan_train.drop(str_cols,axis=1, inplace = True), dummy_cols],axis=1)\n",
    "print(loan_train.shape)"
   ]
  },
  {
   "cell_type": "code",
   "execution_count": 258,
   "id": "9fb145bb",
   "metadata": {},
   "outputs": [
    {
     "data": {
      "text/plain": [
       "funded_amnt_inv                 1\n",
       "grade_F                         1\n",
       "collection_recovery_fee         1\n",
       "verification_status_Verified    1\n",
       "id                              1\n",
       "                               ..\n",
       "acc_now_delinq                  1\n",
       "home_ownership_MORTGAGE         1\n",
       "initial_list_status_f           1\n",
       "installment                     1\n",
       "open_acc                        1\n",
       "Length: 93, dtype: int64"
      ]
     },
     "execution_count": 258,
     "metadata": {},
     "output_type": "execute_result"
    }
   ],
   "source": [
    "pd.Series(loan_train.columns.tolist()).value_counts()[10:]"
   ]
  },
  {
   "cell_type": "code",
   "execution_count": 259,
   "id": "4f32ee45",
   "metadata": {},
   "outputs": [],
   "source": [
    "final_cols_aftr_enc = loan_train.columns"
   ]
  },
  {
   "cell_type": "code",
   "execution_count": 260,
   "id": "c6c130ec",
   "metadata": {},
   "outputs": [
    {
     "data": {
      "text/plain": [
       "array([10, 1, 4, 5, 7, 2, 8, 0, 3, 9, 6, 'nan'], dtype=object)"
      ]
     },
     "execution_count": 260,
     "metadata": {},
     "output_type": "execute_result"
    }
   ],
   "source": [
    "loan_train.emp_length.unique()"
   ]
  },
  {
   "cell_type": "markdown",
   "id": "3c157853",
   "metadata": {},
   "source": [
    "# APPLYING THE SAME SETS OF PRE PROCESSING TO TEST DATA"
   ]
  },
  {
   "cell_type": "code",
   "execution_count": 261,
   "id": "0f94f0c5",
   "metadata": {},
   "outputs": [
    {
     "data": {
      "text/plain": [
       " 1    12123\n",
       "-1     2153\n",
       "Name: target, dtype: int64"
      ]
     },
     "execution_count": 261,
     "metadata": {},
     "output_type": "execute_result"
    }
   ],
   "source": [
    "loan_test = loan_test[loan_test.loan_status!= 'Current']\n",
    "loan_test['target'] = np.where(loan_test.loan_status == 'Fully Paid',1,-1)\n",
    "loan_test.drop(['loan_status'],axis =1,inplace = True)\n",
    "loan_test.target.value_counts()"
   ]
  },
  {
   "cell_type": "code",
   "execution_count": 262,
   "id": "8feeff04",
   "metadata": {},
   "outputs": [
    {
     "name": "stdout",
     "output_type": "stream",
     "text": [
      "54\n"
     ]
    },
    {
     "data": {
      "text/plain": [
       "id                               0\n",
       "member_id                        0\n",
       "loan_amnt                        0\n",
       "funded_amnt                      0\n",
       "funded_amnt_inv                  0\n",
       "term                             0\n",
       "int_rate                         0\n",
       "installment                      0\n",
       "grade                            0\n",
       "sub_grade                        0\n",
       "emp_title                     2380\n",
       "emp_length                     993\n",
       "home_ownership                   0\n",
       "annual_inc                       0\n",
       "verification_status              0\n",
       "issue_d                          0\n",
       "pymnt_plan                       0\n",
       "url                              0\n",
       "desc                          4584\n",
       "purpose                          0\n",
       "title                            3\n",
       "zip_code                         0\n",
       "addr_state                       0\n",
       "dti                              0\n",
       "delinq_2yrs                      0\n",
       "earliest_cr_line                 0\n",
       "inq_last_6mths                   0\n",
       "open_acc                         0\n",
       "pub_rec                          0\n",
       "revol_bal                        0\n",
       "revol_util                      21\n",
       "total_acc                        0\n",
       "initial_list_status              0\n",
       "out_prncp                        0\n",
       "out_prncp_inv                    0\n",
       "total_pymnt                      0\n",
       "total_pymnt_inv                  0\n",
       "total_rec_prncp                  0\n",
       "total_rec_int                    0\n",
       "total_rec_late_fee               0\n",
       "recoveries                       0\n",
       "collection_recovery_fee          0\n",
       "last_pymnt_d                    26\n",
       "last_pymnt_amnt                  0\n",
       "last_credit_pull_d               2\n",
       "collections_12_mths_ex_med      27\n",
       "policy_code                      0\n",
       "application_type                 0\n",
       "acc_now_delinq                   0\n",
       "chargeoff_within_12_mths        27\n",
       "delinq_amnt                      0\n",
       "pub_rec_bankruptcies           280\n",
       "tax_liens                       22\n",
       "target                           0\n",
       "dtype: int64"
      ]
     },
     "execution_count": 262,
     "metadata": {},
     "output_type": "execute_result"
    }
   ],
   "source": [
    "print(len(not_null_cols))\n",
    "loan_test= loan_test.filter(not_null_cols,axis = 1)\n",
    "loan_test.isna().sum()"
   ]
  },
  {
   "cell_type": "markdown",
   "id": "2a0d6c3e",
   "metadata": {},
   "source": [
    "### feature engineering"
   ]
  },
  {
   "cell_type": "code",
   "execution_count": 263,
   "id": "791d37f1",
   "metadata": {},
   "outputs": [],
   "source": [
    "loan_test['last_pymnt_d'] = pd.to_datetime(loan_test['last_pymnt_d'], format = '%d-%b') # 11- Jul format\n",
    "loan_test['last_credit_pull_d'] = pd.to_datetime(loan_test['last_credit_pull_d'], format = '%d-%b')\n",
    "loan_test['credit_pull_minus_pymnt'] = (loan_test['last_credit_pull_d'] - loan_test['last_pymnt_d']).dt.days"
   ]
  },
  {
   "cell_type": "code",
   "execution_count": 264,
   "id": "48097d06",
   "metadata": {},
   "outputs": [],
   "source": [
    "loan_test['term'] = [int(x.split()[0]) for x in loan_test['term'] ]\n",
    "loan_test['emp_length'] = [pd.to_numeric(x.split('+')[0].split()[0], errors = 'ignore') for x in loan_test['emp_length'].astype(str) ]\n",
    "\n",
    "loan_test['emp_length'].replace('<',0, inplace = True)\n",
    "loan_test['int_rate'] = [float(x.split('%')[0]) for x in loan_test['int_rate'].astype(str) ]#revol_util\n",
    "loan_test['revol_util'] = [float(x.split('%')[0]) for x in loan_test['revol_util'].astype(str) ]#revol_util emp_length"
   ]
  },
  {
   "cell_type": "markdown",
   "id": "ffa38e2f",
   "metadata": {},
   "source": [
    "### drop all columns in the list remove_cols"
   ]
  },
  {
   "cell_type": "code",
   "execution_count": 265,
   "id": "a7a4fbe7",
   "metadata": {},
   "outputs": [
    {
     "name": "stdout",
     "output_type": "stream",
     "text": [
      "(14276, 55)\n",
      "(14276, 45)\n"
     ]
    }
   ],
   "source": [
    "print(loan_test.shape)\n",
    "loan_test.drop(remove_cols, axis =1, inplace =True)\n",
    "print(loan_test.shape)"
   ]
  },
  {
   "cell_type": "markdown",
   "id": "a243dd52",
   "metadata": {},
   "source": [
    "### categorical encoding"
   ]
  },
  {
   "cell_type": "code",
   "execution_count": 266,
   "id": "69d90afe",
   "metadata": {},
   "outputs": [
    {
     "name": "stdout",
     "output_type": "stream",
     "text": [
      "45\n"
     ]
    }
   ],
   "source": [
    "print(len(set(loan_test.columns.tolist()).intersection(set(final_cols_b4_enc))))"
   ]
  },
  {
   "cell_type": "code",
   "execution_count": 267,
   "id": "633b6b17",
   "metadata": {},
   "outputs": [
    {
     "name": "stdout",
     "output_type": "stream",
     "text": [
      "(14276, 45)\n",
      "(14276, 104)\n"
     ]
    }
   ],
   "source": [
    "print(loan_test.shape)\n",
    "dummy_cols = pd.get_dummies(loan_test, prefix=None, prefix_sep='_', dummy_na=False, columns= str_cols)\n",
    "loan_test = pd.concat([loan_test.drop(str_cols,axis=1, inplace =True), dummy_cols],axis=1)\n",
    "print(loan_test.shape)"
   ]
  },
  {
   "cell_type": "code",
   "execution_count": 268,
   "id": "f6ee71b8",
   "metadata": {},
   "outputs": [
    {
     "name": "stdout",
     "output_type": "stream",
     "text": [
      "103\n"
     ]
    },
    {
     "data": {
      "text/plain": [
       "{'home_ownership_NONE'}"
      ]
     },
     "execution_count": 268,
     "metadata": {},
     "output_type": "execute_result"
    }
   ],
   "source": [
    "print(len(set(loan_test.columns.tolist()).intersection(set(final_cols_aftr_enc))))\n",
    "set(loan_test.columns.tolist()).difference(set(final_cols_aftr_enc))"
   ]
  },
  {
   "cell_type": "code",
   "execution_count": 269,
   "id": "b802ed74",
   "metadata": {},
   "outputs": [
    {
     "name": "stdout",
     "output_type": "stream",
     "text": [
      "104\n"
     ]
    }
   ],
   "source": [
    "print(len(set(loan_test.columns.tolist()).union(set(final_cols_aftr_enc))))"
   ]
  },
  {
   "cell_type": "code",
   "execution_count": 270,
   "id": "c9137e2f",
   "metadata": {},
   "outputs": [],
   "source": [
    "loan_test.drop(['home_ownership_NONE'], axis = 1, inplace = True)"
   ]
  },
  {
   "cell_type": "markdown",
   "id": "76e1e7b1",
   "metadata": {},
   "source": [
    "# Missing Value Imputation "
   ]
  },
  {
   "cell_type": "code",
   "execution_count": 271,
   "id": "ea734f1b",
   "metadata": {},
   "outputs": [
    {
     "data": {
      "text/plain": [
       "revol_util                     29\n",
       "collections_12_mths_ex_med     29\n",
       "chargeoff_within_12_mths       29\n",
       "pub_rec_bankruptcies          417\n",
       "tax_liens                      17\n",
       "credit_pull_minus_pymnt        45\n",
       "dtype: int64"
      ]
     },
     "execution_count": 271,
     "metadata": {},
     "output_type": "execute_result"
    }
   ],
   "source": [
    "loan_train.isna().sum()[loan_train.isna().sum()>0]"
   ]
  },
  {
   "cell_type": "code",
   "execution_count": 272,
   "id": "cd774406",
   "metadata": {},
   "outputs": [
    {
     "data": {
      "text/plain": [
       "0.0    22886\n",
       "1.0      994\n",
       "NaN      417\n",
       "2.0        4\n",
       "Name: pub_rec_bankruptcies, dtype: int64"
      ]
     },
     "execution_count": 272,
     "metadata": {},
     "output_type": "execute_result"
    }
   ],
   "source": [
    "loan_train.pub_rec_bankruptcies.value_counts(dropna = False)"
   ]
  },
  {
   "cell_type": "code",
   "execution_count": 273,
   "id": "63234424",
   "metadata": {},
   "outputs": [
    {
     "data": {
      "text/plain": [
       "0.0    23303\n",
       "1.0      994\n",
       "2.0        4\n",
       "Name: pub_rec_bankruptcies, dtype: int64"
      ]
     },
     "execution_count": 273,
     "metadata": {},
     "output_type": "execute_result"
    }
   ],
   "source": [
    "loan_train.pub_rec_bankruptcies = loan_train.pub_rec_bankruptcies.fillna(0)\n",
    "loan_train.pub_rec_bankruptcies.value_counts(dropna = False)"
   ]
  },
  {
   "cell_type": "code",
   "execution_count": 274,
   "id": "b6f01324",
   "metadata": {},
   "outputs": [
    {
     "data": {
      "text/plain": [
       "revol_util                     21\n",
       "collections_12_mths_ex_med     27\n",
       "chargeoff_within_12_mths       27\n",
       "pub_rec_bankruptcies          280\n",
       "tax_liens                      22\n",
       "credit_pull_minus_pymnt        28\n",
       "dtype: int64"
      ]
     },
     "execution_count": 274,
     "metadata": {},
     "output_type": "execute_result"
    }
   ],
   "source": [
    "loan_test.isna().sum()[loan_test.isna().sum()>0]"
   ]
  },
  {
   "cell_type": "code",
   "execution_count": 275,
   "id": "577f1f50",
   "metadata": {},
   "outputs": [
    {
     "data": {
      "text/plain": [
       "0.0    13632\n",
       "1.0      643\n",
       "2.0        1\n",
       "Name: pub_rec_bankruptcies, dtype: int64"
      ]
     },
     "execution_count": 275,
     "metadata": {},
     "output_type": "execute_result"
    }
   ],
   "source": [
    "loan_test.pub_rec_bankruptcies = loan_test.pub_rec_bankruptcies.fillna(0)\n",
    "loan_test.pub_rec_bankruptcies.value_counts(dropna = False)"
   ]
  },
  {
   "cell_type": "code",
   "execution_count": 276,
   "id": "df486b30",
   "metadata": {},
   "outputs": [],
   "source": [
    "loan_train = loan_train.fillna(loan_train.median())\n",
    "loan_test = loan_test.fillna(loan_test.median())"
   ]
  },
  {
   "cell_type": "code",
   "execution_count": 277,
   "id": "dc1fbd86",
   "metadata": {},
   "outputs": [
    {
     "data": {
      "text/plain": [
       "Series([], dtype: int64)"
      ]
     },
     "execution_count": 277,
     "metadata": {},
     "output_type": "execute_result"
    }
   ],
   "source": [
    "loan_test.isna().sum()[loan_test.isna().sum()>0]"
   ]
  },
  {
   "cell_type": "code",
   "execution_count": null,
   "id": "6318e8b9",
   "metadata": {},
   "outputs": [],
   "source": []
  },
  {
   "cell_type": "code",
   "execution_count": 278,
   "id": "cb65c4f0",
   "metadata": {},
   "outputs": [
    {
     "data": {
      "text/plain": [
       "revol_util                    float64\n",
       "collections_12_mths_ex_med    float64\n",
       "chargeoff_within_12_mths      float64\n",
       "tax_liens                     float64\n",
       "credit_pull_minus_pymnt       float64\n",
       "dtype: object"
      ]
     },
     "execution_count": 278,
     "metadata": {},
     "output_type": "execute_result"
    }
   ],
   "source": [
    "loan_train[['revol_util','collections_12_mths_ex_med','chargeoff_within_12_mths','tax_liens','credit_pull_minus_pymnt']].dtypes"
   ]
  },
  {
   "cell_type": "markdown",
   "id": "c7e4cc75",
   "metadata": {},
   "source": [
    "# Modeling Starts "
   ]
  },
  {
   "cell_type": "code",
   "execution_count": 279,
   "id": "9372c623",
   "metadata": {},
   "outputs": [],
   "source": [
    "X_train =  loan_train.loc[ : , loan_train.columns != 'target']\n",
    "y = loan_train['target']"
   ]
  },
  {
   "cell_type": "code",
   "execution_count": 280,
   "id": "10419c4a",
   "metadata": {},
   "outputs": [
    {
     "data": {
      "text/plain": [
       "Index([], dtype='object')"
      ]
     },
     "execution_count": 280,
     "metadata": {},
     "output_type": "execute_result"
    }
   ],
   "source": [
    "X_train.columns[pd.isnull(X_train).any()]"
   ]
  },
  {
   "cell_type": "code",
   "execution_count": 281,
   "id": "3776dfaf",
   "metadata": {},
   "outputs": [
    {
     "name": "stderr",
     "output_type": "stream",
     "text": [
      "C:\\Users\\saura\\Anaconda3\\lib\\site-packages\\pandas\\core\\generic.py:5494: SettingWithCopyWarning: \n",
      "A value is trying to be set on a copy of a slice from a DataFrame.\n",
      "Try using .loc[row_indexer,col_indexer] = value instead\n",
      "\n",
      "See the caveats in the documentation: https://pandas.pydata.org/pandas-docs/stable/user_guide/indexing.html#returning-a-view-versus-a-copy\n",
      "  self[name] = value\n"
     ]
    }
   ],
   "source": [
    "X_train.emp_length = X_train.emp_length.replace('nan',0)\n",
    "# to handle the null values that got converted into 'nan' string\n",
    "# was throwing an error - ValueError: Input contains NaN, infinity or a value too large for dtype('float64')"
   ]
  },
  {
   "cell_type": "code",
   "execution_count": 282,
   "id": "003dd57b",
   "metadata": {},
   "outputs": [],
   "source": [
    "X_test =  loan_test.loc[ : , loan_test.columns != 'target']\n",
    "X_test.emp_length = X_test.emp_length.replace('nan',0)"
   ]
  },
  {
   "cell_type": "code",
   "execution_count": 283,
   "id": "4305fad8",
   "metadata": {},
   "outputs": [
    {
     "data": {
      "text/plain": [
       "array([10,  1,  4,  5,  7,  2,  8,  0,  3,  9,  6], dtype=int64)"
      ]
     },
     "execution_count": 283,
     "metadata": {},
     "output_type": "execute_result"
    }
   ],
   "source": [
    "X_train.emp_length.unique()"
   ]
  },
  {
   "cell_type": "code",
   "execution_count": 284,
   "id": "0428358e",
   "metadata": {},
   "outputs": [
    {
     "data": {
      "text/plain": [
       "array([dtype('int64'), dtype('float64'), dtype('uint8')], dtype=object)"
      ]
     },
     "execution_count": 284,
     "metadata": {},
     "output_type": "execute_result"
    }
   ],
   "source": [
    "X_train.dtypes.unique()"
   ]
  },
  {
   "cell_type": "raw",
   "id": "8c3ad7f5",
   "metadata": {},
   "source": [
    "for col in X_train.columns :\n",
    "    X_train[col]= pd.to_numeric(X_train[col], errors='coerce')\n"
   ]
  },
  {
   "cell_type": "code",
   "execution_count": 285,
   "id": "8549edac",
   "metadata": {},
   "outputs": [],
   "source": [
    "model= GradientBoostingClassifier()\n",
    "#model.fit(X_train, y)"
   ]
  },
  {
   "cell_type": "code",
   "execution_count": 286,
   "id": "59168f50",
   "metadata": {},
   "outputs": [],
   "source": [
    "#loan_train.isna().sum().sum()\n",
    "#loan_train.isnull().any().values"
   ]
  },
  {
   "cell_type": "raw",
   "id": "bccc8fa4",
   "metadata": {},
   "source": [
    "for col in loan_train.columns.tolist() :\n",
    "    print(col)\n",
    "    np.any(np.isinf(loan_train[col].values))"
   ]
  },
  {
   "cell_type": "raw",
   "id": "1ee61668",
   "metadata": {},
   "source": [
    "inf = loan_train.isin([np.inf, -np.inf])\n",
    "print(inf.sum().sum())"
   ]
  },
  {
   "cell_type": "code",
   "execution_count": 287,
   "id": "4693b1bc",
   "metadata": {},
   "outputs": [
    {
     "data": {
      "text/plain": [
       "3217"
      ]
     },
     "execution_count": 287,
     "metadata": {},
     "output_type": "execute_result"
    }
   ],
   "source": [
    "import gc\n",
    "gc.collect()"
   ]
  },
  {
   "cell_type": "markdown",
   "id": "cfe91146",
   "metadata": {},
   "source": [
    "# Hyperparameter Selection via Grid Search CV"
   ]
  },
  {
   "cell_type": "code",
   "execution_count": 288,
   "id": "6149453e",
   "metadata": {},
   "outputs": [
    {
     "name": "stdout",
     "output_type": "stream",
     "text": [
      "time in minutes 5.829510529836019\n"
     ]
    }
   ],
   "source": [
    "\n",
    "start = time.time()\n",
    "precision_scorer = make_scorer(precision_score, zero_division=0)\n",
    "\n",
    "custom_scoring = {\"accuracy\": \"accuracy\", \"precision\": precision_scorer, \"recall\": \"recall\", \"f1\": \"f1\"}\n",
    "\n",
    "\n",
    "parameter_list = {'n_estimators':[50,100,150,200], 'max_depth':[3,4,5], 'max_features':['sqrt','log2'],\n",
    "                  'learning_rate':[0.4, 0.5,0.6, 0.7, 0.8,1,1.2]} # the set of hyper parameters checked\n",
    "models = GridSearchCV(GradientBoostingClassifier(), parameter_list,scoring=custom_scoring , refit=\"accuracy\", n_jobs =-1)\n",
    "# n_jobs =-1 uses all the hardware processors. Depending on your machine, might take more time\n",
    "models.fit(X_train, loan_train['target'])\n",
    "end = time.time()\n",
    "print('time in minutes', (end - start)/60)"
   ]
  },
  {
   "cell_type": "code",
   "execution_count": 289,
   "id": "bd194047",
   "metadata": {},
   "outputs": [
    {
     "data": {
      "text/plain": [
       "GradientBoostingClassifier(learning_rate=0.5, max_depth=4, max_features='sqrt',\n",
       "                           n_estimators=200)"
      ]
     },
     "execution_count": 289,
     "metadata": {},
     "output_type": "execute_result"
    }
   ],
   "source": [
    "models.best_estimator_"
   ]
  },
  {
   "cell_type": "raw",
   "id": "d0bca9a5",
   "metadata": {},
   "source": [
    "X_train.isna().sum().sum()"
   ]
  },
  {
   "cell_type": "code",
   "execution_count": 290,
   "id": "b4b141fe",
   "metadata": {},
   "outputs": [
    {
     "data": {
      "text/plain": [
       "0.9961318650246398"
      ]
     },
     "execution_count": 290,
     "metadata": {},
     "output_type": "execute_result"
    }
   ],
   "source": [
    "models.best_score_ #0.9923459753154147"
   ]
  },
  {
   "cell_type": "code",
   "execution_count": 291,
   "id": "506fe16f",
   "metadata": {},
   "outputs": [
    {
     "data": {
      "text/plain": [
       "{'learning_rate': 0.5,\n",
       " 'max_depth': 4,\n",
       " 'max_features': 'sqrt',\n",
       " 'n_estimators': 200}"
      ]
     },
     "execution_count": 291,
     "metadata": {},
     "output_type": "execute_result"
    }
   ],
   "source": [
    "models.best_params_# {'learning_rate': 0.8,'max_depth': 3, 'max_features': 'sqrt','n_estimators': 50}"
   ]
  },
  {
   "cell_type": "code",
   "execution_count": 292,
   "id": "681c4b50",
   "metadata": {},
   "outputs": [
    {
     "data": {
      "text/plain": [
       "array([0.99232587, 0.9943646 , 0.99503206, 0.99569824, 0.98851365,\n",
       "       0.99242584, 0.99398663, 0.99369389, 0.99379436, 0.99479367,\n",
       "       0.9951241 , 0.99546056, 0.99100668, 0.99412963, 0.99408181,\n",
       "       0.99446169, 0.99412735, 0.99450871, 0.99555711, 0.99541401,\n",
       "       0.99194582, 0.99336975, 0.99365561, 0.9946065 , 0.9933718 ,\n",
       "       0.99483778, 0.9952226 , 0.9941851 , 0.99048155, 0.99351157,\n",
       "       0.99436639, 0.99474654, 0.9936997 , 0.99289151, 0.99024851,\n",
       "       0.99574753, 0.99265456, 0.99207401, 0.99097327, 0.99474828,\n",
       "       0.99403119, 0.99310958, 0.99536537, 0.99536536, 0.99279541,\n",
       "       0.99393461, 0.99436537, 0.99441648, 0.99331842, 0.99364766,\n",
       "       0.99329064, 0.99583986, 0.9917628 , 0.99350528, 0.99484081,\n",
       "       0.97139782, 0.99278803, 0.99398921, 0.99569755, 0.99522146,\n",
       "       0.99298378, 0.99321754, 0.98555791, 0.98418804, 0.99384085,\n",
       "       0.99388751, 0.99531813, 0.99531807, 0.99207772, 0.99014629,\n",
       "       0.99450736, 0.99119083, 0.99407904, 0.98955638, 0.98923841,\n",
       "       0.97410693, 0.99199736, 0.99407647, 0.99234525, 0.99469729,\n",
       "       0.99336374, 0.99256219, 0.97691448, 0.97812503, 0.9921143 ,\n",
       "       0.99007322, 0.9873478 , 0.99474663, 0.99412269, 0.98193786,\n",
       "       0.9899723 , 0.99088278, 0.99040998, 0.98419371, 0.9666386 ,\n",
       "       0.9817939 , 0.99221949, 0.99225432, 0.9782742 , 0.97691919,\n",
       "       0.99298578, 0.98889914, 0.99445922, 0.98452539, 0.99245481,\n",
       "       0.99263516, 0.97536224, 0.9724606 , 0.99297748, 0.98661734,\n",
       "       0.97572259, 0.95094639, 0.99007209, 0.98240073, 0.98306316,\n",
       "       0.96421135, 0.988571  , 0.97750507, 0.95628644, 0.97122733,\n",
       "       0.9936862 , 0.98480153, 0.95431215, 0.9544165 , 0.99259001,\n",
       "       0.98728026, 0.97198851, 0.96646266, 0.98609299, 0.96896074,\n",
       "       0.92958263, 0.93771683, 0.98966463, 0.97410806, 0.94227975,\n",
       "       0.95819054, 0.98750807, 0.97216596, 0.95193946, 0.95335992,\n",
       "       0.983039  , 0.96556355, 0.95420161, 0.95156686, 0.98896256,\n",
       "       0.96968456, 0.96457083, 0.94311873, 0.98977546, 0.97433783,\n",
       "       0.92778388, 0.92847297, 0.98876815, 0.94574165, 0.97225971,\n",
       "       0.95383768, 0.98302013, 0.93879626, 0.94132524, 0.92130815,\n",
       "       0.97158913, 0.95160586, 0.95194949, 0.97310929, 0.97742608,\n",
       "       0.95111962, 0.96931866, 0.93807341])"
      ]
     },
     "execution_count": 292,
     "metadata": {},
     "output_type": "execute_result"
    }
   ],
   "source": [
    "models.cv_results_['mean_test_precision']"
   ]
  },
  {
   "cell_type": "code",
   "execution_count": 293,
   "id": "d26b2ac7",
   "metadata": {},
   "outputs": [
    {
     "data": {
      "text/plain": [
       "array([0.99923176, 0.99932779, 0.99961588, 0.99971193, 0.99961587,\n",
       "       0.99942383, 0.99971191, 0.99841568, 0.99923177, 0.99951983,\n",
       "       0.99927971, 0.99980795, 0.99923175, 0.99966391, 0.99961589,\n",
       "       0.99966388, 0.99942379, 0.99932777, 0.99990396, 0.99990397,\n",
       "       0.99923178, 0.9994238 , 0.99966389, 0.99975994, 0.99961586,\n",
       "       0.99908774, 0.99951985, 0.9951992 , 0.99899165, 0.99961588,\n",
       "       0.99951987, 0.99971192, 0.99899171, 0.99822362, 0.99135661,\n",
       "       0.99975992, 0.99884764, 0.99750319, 0.99380557, 0.99975995,\n",
       "       0.99884768, 0.98857145, 0.99975992, 0.99980795, 0.99865562,\n",
       "       0.99870355, 0.99932783, 0.99985597, 0.9987516 , 0.99827164,\n",
       "       0.99620652, 0.99956787, 0.99903964, 0.99841557, 0.99947185,\n",
       "       0.93110806, 0.99769517, 0.99164478, 0.99947183, 0.99947185,\n",
       "       0.99870361, 0.99822335, 0.94141724, 0.86612389, 0.99884757,\n",
       "       0.99500603, 0.99980796, 0.9995679 , 0.99769538, 0.99423828,\n",
       "       0.99937585, 0.97080438, 0.99894368, 0.99183758, 0.98607625,\n",
       "       0.93216425, 0.99908769, 0.99879961, 0.99615851, 0.99932778,\n",
       "       0.99836747, 0.99419059, 0.89048419, 0.95102691, 0.99673518,\n",
       "       0.99164525, 0.98756359, 0.99956791, 0.99846358, 0.92576957,\n",
       "       0.88002875, 0.97714823, 0.99596678, 0.97445982, 0.98977199,\n",
       "       0.9653863 , 0.99745526, 0.98982038, 0.961057  , 0.98146664,\n",
       "       0.99865557, 0.98429796, 0.99923173, 0.93018141, 0.99639874,\n",
       "       0.99625458, 0.91218528, 0.86785989, 0.99769535, 0.98137182,\n",
       "       0.96014808, 0.91688159, 0.99558279, 0.96456783, 0.97032988,\n",
       "       0.73945551, 0.9926058 , 0.86205724, 0.76858974, 0.89522549,\n",
       "       0.99673497, 0.98511531, 0.62306198, 0.83464193, 0.99687899,\n",
       "       0.98113196, 0.95102942, 0.71602657, 0.9423778 , 0.86628138,\n",
       "       0.86628383, 0.6387967 , 0.99289357, 0.9236547 , 0.67044425,\n",
       "       0.73581787, 0.97695249, 0.8461076 , 0.56071991, 0.84423273,\n",
       "       0.976666  , 0.86791556, 0.83671015, 0.81734114, 0.96303252,\n",
       "       0.95740927, 0.7848128 , 0.96336522, 0.99385408, 0.96955774,\n",
       "       0.59563287, 0.70162055, 0.98554782, 0.60656601, 0.80534811,\n",
       "       0.86430902, 0.97570415, 0.76942764, 0.81538271, 0.70239117,\n",
       "       0.92394481, 0.77183524, 0.72119269, 0.81681728, 0.9300392 ,\n",
       "       0.82954774, 0.82253522, 0.87093372])"
      ]
     },
     "execution_count": 293,
     "metadata": {},
     "output_type": "execute_result"
    }
   ],
   "source": [
    "models.cv_results_['mean_test_recall']  "
   ]
  },
  {
   "cell_type": "code",
   "execution_count": 294,
   "id": "a78c8780",
   "metadata": {},
   "outputs": [
    {
     "data": {
      "text/plain": [
       "array([0.99576613, 0.99683959, 0.99731801, 0.99770053, 0.9940328 ,\n",
       "       0.995911  , 0.99684061, 0.99604784, 0.996505  , 0.99715064,\n",
       "       0.99719739, 0.99762904, 0.9951005 , 0.99688847, 0.99684055,\n",
       "       0.9970555 , 0.99676807, 0.99691156, 0.99772505, 0.99765324,\n",
       "       0.99557523, 0.99638671, 0.99665003, 0.99717541, 0.9964829 ,\n",
       "       0.99695797, 0.99736581, 0.99467813, 0.99471757, 0.99655402,\n",
       "       0.99693566, 0.99722262, 0.99633764, 0.99554894, 0.99079288,\n",
       "       0.99774872, 0.99574067, 0.9947807 , 0.99238058, 0.99724694,\n",
       "       0.99643237, 0.99076756, 0.99755721, 0.99758118, 0.99571589,\n",
       "       0.99631247, 0.99683952, 0.99712784, 0.99602653, 0.99595327,\n",
       "       0.99474572, 0.9976999 , 0.99538595, 0.99595351, 0.99715035,\n",
       "       0.94833625, 0.99523518, 0.99278493, 0.99758046, 0.99734154,\n",
       "       0.99583517, 0.99571373, 0.96015428, 0.89838168, 0.99633681,\n",
       "       0.9944373 , 0.99755739, 0.99743754, 0.99487726, 0.99218733,\n",
       "       0.99693502, 0.98020642, 0.99650441, 0.99069518, 0.98761849,\n",
       "       0.95102207, 0.9955283 , 0.99643177, 0.99424808, 0.99700671,\n",
       "       0.99585859, 0.99337209, 0.92776094, 0.96385886, 0.99441772,\n",
       "       0.99085625, 0.98744965, 0.99715065, 0.9962876 , 0.95168406,\n",
       "       0.91154031, 0.98363169, 0.99317934, 0.97916097, 0.97791364,\n",
       "       0.97300773, 0.99482959, 0.99101373, 0.96950613, 0.9789304 ,\n",
       "       0.99581161, 0.98651322, 0.99683907, 0.95253844, 0.9944206 ,\n",
       "       0.99444138, 0.94253334, 0.91053937, 0.9953302 , 0.98394558,\n",
       "       0.96778898, 0.93271627, 0.99281844, 0.97325426, 0.97635945,\n",
       "       0.78855338, 0.99058405, 0.91061527, 0.82618824, 0.92662954,\n",
       "       0.99520657, 0.98494781, 0.68452764, 0.88889709, 0.99472986,\n",
       "       0.98412833, 0.96115782, 0.78401996, 0.96186119, 0.91079097,\n",
       "       0.8949267 , 0.73848435, 0.99127547, 0.94763951, 0.76845412,\n",
       "       0.81584091, 0.98216804, 0.89933079, 0.65308738, 0.87834353,\n",
       "       0.97982773, 0.91116437, 0.88943606, 0.86015748, 0.97501213,\n",
       "       0.96301416, 0.84620426, 0.95263645, 0.99180811, 0.97185285,\n",
       "       0.67518819, 0.77335276, 0.98715189, 0.67090942, 0.87109105,\n",
       "       0.90566922, 0.97933476, 0.84277298, 0.87197517, 0.75136869,\n",
       "       0.9467248 , 0.84760081, 0.81363006, 0.88219448, 0.95167345,\n",
       "       0.88217783, 0.88957844, 0.90231943])"
      ]
     },
     "execution_count": 294,
     "metadata": {},
     "output_type": "execute_result"
    }
   ],
   "source": [
    "models.cv_results_['mean_test_f1']  "
   ]
  },
  {
   "cell_type": "code",
   "execution_count": 295,
   "id": "b29f3410",
   "metadata": {},
   "outputs": [
    {
     "data": {
      "text/plain": [
       "array([0.9927163 , 0.99456814, 0.99539114, 0.99604956, 0.98971223,\n",
       "       0.99296319, 0.9945681 , 0.99321038, 0.99399202, 0.99510308,\n",
       "       0.99518536, 0.9959261 , 0.99156415, 0.99465048, 0.99456812,\n",
       "       0.99493845, 0.99444465, 0.99469156, 0.9960907 , 0.99596726,\n",
       "       0.99238714, 0.99378623, 0.99423893, 0.99514421, 0.99395081,\n",
       "       0.99477391, 0.99547345, 0.99090553, 0.9909057 , 0.99407425,\n",
       "       0.99473271, 0.99522653, 0.993704  , 0.99234622, 0.98428001,\n",
       "       0.99613187, 0.99267513, 0.99102917, 0.98695493, 0.99526766,\n",
       "       0.99386853, 0.98440347, 0.99580266, 0.9958438 , 0.99263404,\n",
       "       0.99366279, 0.9945681 , 0.99506192, 0.99316895, 0.99304588,\n",
       "       0.99098782, 0.99604955, 0.99205783, 0.99304562, 0.99510305,\n",
       "       0.92104327, 0.99181095, 0.98773685, 0.99584381, 0.99543231,\n",
       "       0.99283981, 0.99263398, 0.93909485, 0.8764611 , 0.99370397,\n",
       "       0.99049401, 0.99580265, 0.99559696, 0.99119375, 0.98658457,\n",
       "       0.99473274, 0.96790141, 0.99399202, 0.98403355, 0.97888904,\n",
       "       0.92198582, 0.9923048 , 0.99386858, 0.99012366, 0.99485615,\n",
       "       0.99288086, 0.98864299, 0.88938291, 0.93996431, 0.99041216,\n",
       "       0.98432119, 0.97851936, 0.9951031 , 0.99362163, 0.92255169,\n",
       "       0.89156401, 0.97296767, 0.98827212, 0.96494036, 0.96115249,\n",
       "       0.95596729, 0.99111133, 0.9846504 , 0.94847815, 0.9635422 ,\n",
       "       0.99279862, 0.97720192, 0.99456811, 0.92884894, 0.9904118 ,\n",
       "       0.9904529 , 0.90519044, 0.86843639, 0.99197563, 0.97267744,\n",
       "       0.94559693, 0.88753109, 0.9876549 , 0.95494052, 0.96061744,\n",
       "       0.75309003, 0.98382799, 0.86585493, 0.77704356, 0.88893416,\n",
       "       0.99176993, 0.97424065, 0.65840625, 0.8238369 , 0.99094683,\n",
       "       0.97308711, 0.93510992, 0.73519489, 0.93983587, 0.86123591,\n",
       "       0.82700536, 0.65726506, 0.98502112, 0.91370536, 0.68525113,\n",
       "       0.74548412, 0.96967108, 0.84810846, 0.60510655, 0.8286903 ,\n",
       "       0.96559797, 0.86070336, 0.82610321, 0.80843908, 0.95913624,\n",
       "       0.93728454, 0.79140427, 0.91732855, 0.98592643, 0.9521004 ,\n",
       "       0.61064732, 0.708544  , 0.97802528, 0.6429422 , 0.81367546,\n",
       "       0.84716905, 0.96477516, 0.75959889, 0.79865207, 0.700296  ,\n",
       "       0.91172911, 0.77041538, 0.73104863, 0.82354422, 0.92205873,\n",
       "       0.8179514 , 0.82552046, 0.83914126])"
      ]
     },
     "execution_count": 295,
     "metadata": {},
     "output_type": "execute_result"
    }
   ],
   "source": [
    "models.cv_results_['mean_test_accuracy']"
   ]
  },
  {
   "cell_type": "code",
   "execution_count": 296,
   "id": "197394c6",
   "metadata": {},
   "outputs": [
    {
     "data": {
      "text/plain": [
       "[{'learning_rate': 0.4,\n",
       "  'max_depth': 3,\n",
       "  'max_features': 'sqrt',\n",
       "  'n_estimators': 50},\n",
       " {'learning_rate': 0.4,\n",
       "  'max_depth': 3,\n",
       "  'max_features': 'sqrt',\n",
       "  'n_estimators': 100},\n",
       " {'learning_rate': 0.4,\n",
       "  'max_depth': 3,\n",
       "  'max_features': 'sqrt',\n",
       "  'n_estimators': 150},\n",
       " {'learning_rate': 0.4,\n",
       "  'max_depth': 3,\n",
       "  'max_features': 'sqrt',\n",
       "  'n_estimators': 200},\n",
       " {'learning_rate': 0.4,\n",
       "  'max_depth': 3,\n",
       "  'max_features': 'log2',\n",
       "  'n_estimators': 50},\n",
       " {'learning_rate': 0.4,\n",
       "  'max_depth': 3,\n",
       "  'max_features': 'log2',\n",
       "  'n_estimators': 100},\n",
       " {'learning_rate': 0.4,\n",
       "  'max_depth': 3,\n",
       "  'max_features': 'log2',\n",
       "  'n_estimators': 150},\n",
       " {'learning_rate': 0.4,\n",
       "  'max_depth': 3,\n",
       "  'max_features': 'log2',\n",
       "  'n_estimators': 200},\n",
       " {'learning_rate': 0.4,\n",
       "  'max_depth': 4,\n",
       "  'max_features': 'sqrt',\n",
       "  'n_estimators': 50},\n",
       " {'learning_rate': 0.4,\n",
       "  'max_depth': 4,\n",
       "  'max_features': 'sqrt',\n",
       "  'n_estimators': 100},\n",
       " {'learning_rate': 0.4,\n",
       "  'max_depth': 4,\n",
       "  'max_features': 'sqrt',\n",
       "  'n_estimators': 150},\n",
       " {'learning_rate': 0.4,\n",
       "  'max_depth': 4,\n",
       "  'max_features': 'sqrt',\n",
       "  'n_estimators': 200},\n",
       " {'learning_rate': 0.4,\n",
       "  'max_depth': 4,\n",
       "  'max_features': 'log2',\n",
       "  'n_estimators': 50},\n",
       " {'learning_rate': 0.4,\n",
       "  'max_depth': 4,\n",
       "  'max_features': 'log2',\n",
       "  'n_estimators': 100},\n",
       " {'learning_rate': 0.4,\n",
       "  'max_depth': 4,\n",
       "  'max_features': 'log2',\n",
       "  'n_estimators': 150},\n",
       " {'learning_rate': 0.4,\n",
       "  'max_depth': 4,\n",
       "  'max_features': 'log2',\n",
       "  'n_estimators': 200},\n",
       " {'learning_rate': 0.4,\n",
       "  'max_depth': 5,\n",
       "  'max_features': 'sqrt',\n",
       "  'n_estimators': 50},\n",
       " {'learning_rate': 0.4,\n",
       "  'max_depth': 5,\n",
       "  'max_features': 'sqrt',\n",
       "  'n_estimators': 100},\n",
       " {'learning_rate': 0.4,\n",
       "  'max_depth': 5,\n",
       "  'max_features': 'sqrt',\n",
       "  'n_estimators': 150},\n",
       " {'learning_rate': 0.4,\n",
       "  'max_depth': 5,\n",
       "  'max_features': 'sqrt',\n",
       "  'n_estimators': 200},\n",
       " {'learning_rate': 0.4,\n",
       "  'max_depth': 5,\n",
       "  'max_features': 'log2',\n",
       "  'n_estimators': 50},\n",
       " {'learning_rate': 0.4,\n",
       "  'max_depth': 5,\n",
       "  'max_features': 'log2',\n",
       "  'n_estimators': 100},\n",
       " {'learning_rate': 0.4,\n",
       "  'max_depth': 5,\n",
       "  'max_features': 'log2',\n",
       "  'n_estimators': 150},\n",
       " {'learning_rate': 0.4,\n",
       "  'max_depth': 5,\n",
       "  'max_features': 'log2',\n",
       "  'n_estimators': 200},\n",
       " {'learning_rate': 0.5,\n",
       "  'max_depth': 3,\n",
       "  'max_features': 'sqrt',\n",
       "  'n_estimators': 50},\n",
       " {'learning_rate': 0.5,\n",
       "  'max_depth': 3,\n",
       "  'max_features': 'sqrt',\n",
       "  'n_estimators': 100},\n",
       " {'learning_rate': 0.5,\n",
       "  'max_depth': 3,\n",
       "  'max_features': 'sqrt',\n",
       "  'n_estimators': 150},\n",
       " {'learning_rate': 0.5,\n",
       "  'max_depth': 3,\n",
       "  'max_features': 'sqrt',\n",
       "  'n_estimators': 200},\n",
       " {'learning_rate': 0.5,\n",
       "  'max_depth': 3,\n",
       "  'max_features': 'log2',\n",
       "  'n_estimators': 50},\n",
       " {'learning_rate': 0.5,\n",
       "  'max_depth': 3,\n",
       "  'max_features': 'log2',\n",
       "  'n_estimators': 100},\n",
       " {'learning_rate': 0.5,\n",
       "  'max_depth': 3,\n",
       "  'max_features': 'log2',\n",
       "  'n_estimators': 150},\n",
       " {'learning_rate': 0.5,\n",
       "  'max_depth': 3,\n",
       "  'max_features': 'log2',\n",
       "  'n_estimators': 200},\n",
       " {'learning_rate': 0.5,\n",
       "  'max_depth': 4,\n",
       "  'max_features': 'sqrt',\n",
       "  'n_estimators': 50},\n",
       " {'learning_rate': 0.5,\n",
       "  'max_depth': 4,\n",
       "  'max_features': 'sqrt',\n",
       "  'n_estimators': 100},\n",
       " {'learning_rate': 0.5,\n",
       "  'max_depth': 4,\n",
       "  'max_features': 'sqrt',\n",
       "  'n_estimators': 150},\n",
       " {'learning_rate': 0.5,\n",
       "  'max_depth': 4,\n",
       "  'max_features': 'sqrt',\n",
       "  'n_estimators': 200},\n",
       " {'learning_rate': 0.5,\n",
       "  'max_depth': 4,\n",
       "  'max_features': 'log2',\n",
       "  'n_estimators': 50},\n",
       " {'learning_rate': 0.5,\n",
       "  'max_depth': 4,\n",
       "  'max_features': 'log2',\n",
       "  'n_estimators': 100},\n",
       " {'learning_rate': 0.5,\n",
       "  'max_depth': 4,\n",
       "  'max_features': 'log2',\n",
       "  'n_estimators': 150},\n",
       " {'learning_rate': 0.5,\n",
       "  'max_depth': 4,\n",
       "  'max_features': 'log2',\n",
       "  'n_estimators': 200},\n",
       " {'learning_rate': 0.5,\n",
       "  'max_depth': 5,\n",
       "  'max_features': 'sqrt',\n",
       "  'n_estimators': 50},\n",
       " {'learning_rate': 0.5,\n",
       "  'max_depth': 5,\n",
       "  'max_features': 'sqrt',\n",
       "  'n_estimators': 100},\n",
       " {'learning_rate': 0.5,\n",
       "  'max_depth': 5,\n",
       "  'max_features': 'sqrt',\n",
       "  'n_estimators': 150},\n",
       " {'learning_rate': 0.5,\n",
       "  'max_depth': 5,\n",
       "  'max_features': 'sqrt',\n",
       "  'n_estimators': 200},\n",
       " {'learning_rate': 0.5,\n",
       "  'max_depth': 5,\n",
       "  'max_features': 'log2',\n",
       "  'n_estimators': 50},\n",
       " {'learning_rate': 0.5,\n",
       "  'max_depth': 5,\n",
       "  'max_features': 'log2',\n",
       "  'n_estimators': 100},\n",
       " {'learning_rate': 0.5,\n",
       "  'max_depth': 5,\n",
       "  'max_features': 'log2',\n",
       "  'n_estimators': 150},\n",
       " {'learning_rate': 0.5,\n",
       "  'max_depth': 5,\n",
       "  'max_features': 'log2',\n",
       "  'n_estimators': 200},\n",
       " {'learning_rate': 0.6,\n",
       "  'max_depth': 3,\n",
       "  'max_features': 'sqrt',\n",
       "  'n_estimators': 50},\n",
       " {'learning_rate': 0.6,\n",
       "  'max_depth': 3,\n",
       "  'max_features': 'sqrt',\n",
       "  'n_estimators': 100},\n",
       " {'learning_rate': 0.6,\n",
       "  'max_depth': 3,\n",
       "  'max_features': 'sqrt',\n",
       "  'n_estimators': 150},\n",
       " {'learning_rate': 0.6,\n",
       "  'max_depth': 3,\n",
       "  'max_features': 'sqrt',\n",
       "  'n_estimators': 200},\n",
       " {'learning_rate': 0.6,\n",
       "  'max_depth': 3,\n",
       "  'max_features': 'log2',\n",
       "  'n_estimators': 50},\n",
       " {'learning_rate': 0.6,\n",
       "  'max_depth': 3,\n",
       "  'max_features': 'log2',\n",
       "  'n_estimators': 100},\n",
       " {'learning_rate': 0.6,\n",
       "  'max_depth': 3,\n",
       "  'max_features': 'log2',\n",
       "  'n_estimators': 150},\n",
       " {'learning_rate': 0.6,\n",
       "  'max_depth': 3,\n",
       "  'max_features': 'log2',\n",
       "  'n_estimators': 200},\n",
       " {'learning_rate': 0.6,\n",
       "  'max_depth': 4,\n",
       "  'max_features': 'sqrt',\n",
       "  'n_estimators': 50},\n",
       " {'learning_rate': 0.6,\n",
       "  'max_depth': 4,\n",
       "  'max_features': 'sqrt',\n",
       "  'n_estimators': 100},\n",
       " {'learning_rate': 0.6,\n",
       "  'max_depth': 4,\n",
       "  'max_features': 'sqrt',\n",
       "  'n_estimators': 150},\n",
       " {'learning_rate': 0.6,\n",
       "  'max_depth': 4,\n",
       "  'max_features': 'sqrt',\n",
       "  'n_estimators': 200},\n",
       " {'learning_rate': 0.6,\n",
       "  'max_depth': 4,\n",
       "  'max_features': 'log2',\n",
       "  'n_estimators': 50},\n",
       " {'learning_rate': 0.6,\n",
       "  'max_depth': 4,\n",
       "  'max_features': 'log2',\n",
       "  'n_estimators': 100},\n",
       " {'learning_rate': 0.6,\n",
       "  'max_depth': 4,\n",
       "  'max_features': 'log2',\n",
       "  'n_estimators': 150},\n",
       " {'learning_rate': 0.6,\n",
       "  'max_depth': 4,\n",
       "  'max_features': 'log2',\n",
       "  'n_estimators': 200},\n",
       " {'learning_rate': 0.6,\n",
       "  'max_depth': 5,\n",
       "  'max_features': 'sqrt',\n",
       "  'n_estimators': 50},\n",
       " {'learning_rate': 0.6,\n",
       "  'max_depth': 5,\n",
       "  'max_features': 'sqrt',\n",
       "  'n_estimators': 100},\n",
       " {'learning_rate': 0.6,\n",
       "  'max_depth': 5,\n",
       "  'max_features': 'sqrt',\n",
       "  'n_estimators': 150},\n",
       " {'learning_rate': 0.6,\n",
       "  'max_depth': 5,\n",
       "  'max_features': 'sqrt',\n",
       "  'n_estimators': 200},\n",
       " {'learning_rate': 0.6,\n",
       "  'max_depth': 5,\n",
       "  'max_features': 'log2',\n",
       "  'n_estimators': 50},\n",
       " {'learning_rate': 0.6,\n",
       "  'max_depth': 5,\n",
       "  'max_features': 'log2',\n",
       "  'n_estimators': 100},\n",
       " {'learning_rate': 0.6,\n",
       "  'max_depth': 5,\n",
       "  'max_features': 'log2',\n",
       "  'n_estimators': 150},\n",
       " {'learning_rate': 0.6,\n",
       "  'max_depth': 5,\n",
       "  'max_features': 'log2',\n",
       "  'n_estimators': 200},\n",
       " {'learning_rate': 0.7,\n",
       "  'max_depth': 3,\n",
       "  'max_features': 'sqrt',\n",
       "  'n_estimators': 50},\n",
       " {'learning_rate': 0.7,\n",
       "  'max_depth': 3,\n",
       "  'max_features': 'sqrt',\n",
       "  'n_estimators': 100},\n",
       " {'learning_rate': 0.7,\n",
       "  'max_depth': 3,\n",
       "  'max_features': 'sqrt',\n",
       "  'n_estimators': 150},\n",
       " {'learning_rate': 0.7,\n",
       "  'max_depth': 3,\n",
       "  'max_features': 'sqrt',\n",
       "  'n_estimators': 200},\n",
       " {'learning_rate': 0.7,\n",
       "  'max_depth': 3,\n",
       "  'max_features': 'log2',\n",
       "  'n_estimators': 50},\n",
       " {'learning_rate': 0.7,\n",
       "  'max_depth': 3,\n",
       "  'max_features': 'log2',\n",
       "  'n_estimators': 100},\n",
       " {'learning_rate': 0.7,\n",
       "  'max_depth': 3,\n",
       "  'max_features': 'log2',\n",
       "  'n_estimators': 150},\n",
       " {'learning_rate': 0.7,\n",
       "  'max_depth': 3,\n",
       "  'max_features': 'log2',\n",
       "  'n_estimators': 200},\n",
       " {'learning_rate': 0.7,\n",
       "  'max_depth': 4,\n",
       "  'max_features': 'sqrt',\n",
       "  'n_estimators': 50},\n",
       " {'learning_rate': 0.7,\n",
       "  'max_depth': 4,\n",
       "  'max_features': 'sqrt',\n",
       "  'n_estimators': 100},\n",
       " {'learning_rate': 0.7,\n",
       "  'max_depth': 4,\n",
       "  'max_features': 'sqrt',\n",
       "  'n_estimators': 150},\n",
       " {'learning_rate': 0.7,\n",
       "  'max_depth': 4,\n",
       "  'max_features': 'sqrt',\n",
       "  'n_estimators': 200},\n",
       " {'learning_rate': 0.7,\n",
       "  'max_depth': 4,\n",
       "  'max_features': 'log2',\n",
       "  'n_estimators': 50},\n",
       " {'learning_rate': 0.7,\n",
       "  'max_depth': 4,\n",
       "  'max_features': 'log2',\n",
       "  'n_estimators': 100},\n",
       " {'learning_rate': 0.7,\n",
       "  'max_depth': 4,\n",
       "  'max_features': 'log2',\n",
       "  'n_estimators': 150},\n",
       " {'learning_rate': 0.7,\n",
       "  'max_depth': 4,\n",
       "  'max_features': 'log2',\n",
       "  'n_estimators': 200},\n",
       " {'learning_rate': 0.7,\n",
       "  'max_depth': 5,\n",
       "  'max_features': 'sqrt',\n",
       "  'n_estimators': 50},\n",
       " {'learning_rate': 0.7,\n",
       "  'max_depth': 5,\n",
       "  'max_features': 'sqrt',\n",
       "  'n_estimators': 100},\n",
       " {'learning_rate': 0.7,\n",
       "  'max_depth': 5,\n",
       "  'max_features': 'sqrt',\n",
       "  'n_estimators': 150},\n",
       " {'learning_rate': 0.7,\n",
       "  'max_depth': 5,\n",
       "  'max_features': 'sqrt',\n",
       "  'n_estimators': 200},\n",
       " {'learning_rate': 0.7,\n",
       "  'max_depth': 5,\n",
       "  'max_features': 'log2',\n",
       "  'n_estimators': 50},\n",
       " {'learning_rate': 0.7,\n",
       "  'max_depth': 5,\n",
       "  'max_features': 'log2',\n",
       "  'n_estimators': 100},\n",
       " {'learning_rate': 0.7,\n",
       "  'max_depth': 5,\n",
       "  'max_features': 'log2',\n",
       "  'n_estimators': 150},\n",
       " {'learning_rate': 0.7,\n",
       "  'max_depth': 5,\n",
       "  'max_features': 'log2',\n",
       "  'n_estimators': 200},\n",
       " {'learning_rate': 0.8,\n",
       "  'max_depth': 3,\n",
       "  'max_features': 'sqrt',\n",
       "  'n_estimators': 50},\n",
       " {'learning_rate': 0.8,\n",
       "  'max_depth': 3,\n",
       "  'max_features': 'sqrt',\n",
       "  'n_estimators': 100},\n",
       " {'learning_rate': 0.8,\n",
       "  'max_depth': 3,\n",
       "  'max_features': 'sqrt',\n",
       "  'n_estimators': 150},\n",
       " {'learning_rate': 0.8,\n",
       "  'max_depth': 3,\n",
       "  'max_features': 'sqrt',\n",
       "  'n_estimators': 200},\n",
       " {'learning_rate': 0.8,\n",
       "  'max_depth': 3,\n",
       "  'max_features': 'log2',\n",
       "  'n_estimators': 50},\n",
       " {'learning_rate': 0.8,\n",
       "  'max_depth': 3,\n",
       "  'max_features': 'log2',\n",
       "  'n_estimators': 100},\n",
       " {'learning_rate': 0.8,\n",
       "  'max_depth': 3,\n",
       "  'max_features': 'log2',\n",
       "  'n_estimators': 150},\n",
       " {'learning_rate': 0.8,\n",
       "  'max_depth': 3,\n",
       "  'max_features': 'log2',\n",
       "  'n_estimators': 200},\n",
       " {'learning_rate': 0.8,\n",
       "  'max_depth': 4,\n",
       "  'max_features': 'sqrt',\n",
       "  'n_estimators': 50},\n",
       " {'learning_rate': 0.8,\n",
       "  'max_depth': 4,\n",
       "  'max_features': 'sqrt',\n",
       "  'n_estimators': 100},\n",
       " {'learning_rate': 0.8,\n",
       "  'max_depth': 4,\n",
       "  'max_features': 'sqrt',\n",
       "  'n_estimators': 150},\n",
       " {'learning_rate': 0.8,\n",
       "  'max_depth': 4,\n",
       "  'max_features': 'sqrt',\n",
       "  'n_estimators': 200},\n",
       " {'learning_rate': 0.8,\n",
       "  'max_depth': 4,\n",
       "  'max_features': 'log2',\n",
       "  'n_estimators': 50},\n",
       " {'learning_rate': 0.8,\n",
       "  'max_depth': 4,\n",
       "  'max_features': 'log2',\n",
       "  'n_estimators': 100},\n",
       " {'learning_rate': 0.8,\n",
       "  'max_depth': 4,\n",
       "  'max_features': 'log2',\n",
       "  'n_estimators': 150},\n",
       " {'learning_rate': 0.8,\n",
       "  'max_depth': 4,\n",
       "  'max_features': 'log2',\n",
       "  'n_estimators': 200},\n",
       " {'learning_rate': 0.8,\n",
       "  'max_depth': 5,\n",
       "  'max_features': 'sqrt',\n",
       "  'n_estimators': 50},\n",
       " {'learning_rate': 0.8,\n",
       "  'max_depth': 5,\n",
       "  'max_features': 'sqrt',\n",
       "  'n_estimators': 100},\n",
       " {'learning_rate': 0.8,\n",
       "  'max_depth': 5,\n",
       "  'max_features': 'sqrt',\n",
       "  'n_estimators': 150},\n",
       " {'learning_rate': 0.8,\n",
       "  'max_depth': 5,\n",
       "  'max_features': 'sqrt',\n",
       "  'n_estimators': 200},\n",
       " {'learning_rate': 0.8,\n",
       "  'max_depth': 5,\n",
       "  'max_features': 'log2',\n",
       "  'n_estimators': 50},\n",
       " {'learning_rate': 0.8,\n",
       "  'max_depth': 5,\n",
       "  'max_features': 'log2',\n",
       "  'n_estimators': 100},\n",
       " {'learning_rate': 0.8,\n",
       "  'max_depth': 5,\n",
       "  'max_features': 'log2',\n",
       "  'n_estimators': 150},\n",
       " {'learning_rate': 0.8,\n",
       "  'max_depth': 5,\n",
       "  'max_features': 'log2',\n",
       "  'n_estimators': 200},\n",
       " {'learning_rate': 1,\n",
       "  'max_depth': 3,\n",
       "  'max_features': 'sqrt',\n",
       "  'n_estimators': 50},\n",
       " {'learning_rate': 1,\n",
       "  'max_depth': 3,\n",
       "  'max_features': 'sqrt',\n",
       "  'n_estimators': 100},\n",
       " {'learning_rate': 1,\n",
       "  'max_depth': 3,\n",
       "  'max_features': 'sqrt',\n",
       "  'n_estimators': 150},\n",
       " {'learning_rate': 1,\n",
       "  'max_depth': 3,\n",
       "  'max_features': 'sqrt',\n",
       "  'n_estimators': 200},\n",
       " {'learning_rate': 1,\n",
       "  'max_depth': 3,\n",
       "  'max_features': 'log2',\n",
       "  'n_estimators': 50},\n",
       " {'learning_rate': 1,\n",
       "  'max_depth': 3,\n",
       "  'max_features': 'log2',\n",
       "  'n_estimators': 100},\n",
       " {'learning_rate': 1,\n",
       "  'max_depth': 3,\n",
       "  'max_features': 'log2',\n",
       "  'n_estimators': 150},\n",
       " {'learning_rate': 1,\n",
       "  'max_depth': 3,\n",
       "  'max_features': 'log2',\n",
       "  'n_estimators': 200},\n",
       " {'learning_rate': 1,\n",
       "  'max_depth': 4,\n",
       "  'max_features': 'sqrt',\n",
       "  'n_estimators': 50},\n",
       " {'learning_rate': 1,\n",
       "  'max_depth': 4,\n",
       "  'max_features': 'sqrt',\n",
       "  'n_estimators': 100},\n",
       " {'learning_rate': 1,\n",
       "  'max_depth': 4,\n",
       "  'max_features': 'sqrt',\n",
       "  'n_estimators': 150},\n",
       " {'learning_rate': 1,\n",
       "  'max_depth': 4,\n",
       "  'max_features': 'sqrt',\n",
       "  'n_estimators': 200},\n",
       " {'learning_rate': 1,\n",
       "  'max_depth': 4,\n",
       "  'max_features': 'log2',\n",
       "  'n_estimators': 50},\n",
       " {'learning_rate': 1,\n",
       "  'max_depth': 4,\n",
       "  'max_features': 'log2',\n",
       "  'n_estimators': 100},\n",
       " {'learning_rate': 1,\n",
       "  'max_depth': 4,\n",
       "  'max_features': 'log2',\n",
       "  'n_estimators': 150},\n",
       " {'learning_rate': 1,\n",
       "  'max_depth': 4,\n",
       "  'max_features': 'log2',\n",
       "  'n_estimators': 200},\n",
       " {'learning_rate': 1,\n",
       "  'max_depth': 5,\n",
       "  'max_features': 'sqrt',\n",
       "  'n_estimators': 50},\n",
       " {'learning_rate': 1,\n",
       "  'max_depth': 5,\n",
       "  'max_features': 'sqrt',\n",
       "  'n_estimators': 100},\n",
       " {'learning_rate': 1,\n",
       "  'max_depth': 5,\n",
       "  'max_features': 'sqrt',\n",
       "  'n_estimators': 150},\n",
       " {'learning_rate': 1,\n",
       "  'max_depth': 5,\n",
       "  'max_features': 'sqrt',\n",
       "  'n_estimators': 200},\n",
       " {'learning_rate': 1,\n",
       "  'max_depth': 5,\n",
       "  'max_features': 'log2',\n",
       "  'n_estimators': 50},\n",
       " {'learning_rate': 1,\n",
       "  'max_depth': 5,\n",
       "  'max_features': 'log2',\n",
       "  'n_estimators': 100},\n",
       " {'learning_rate': 1,\n",
       "  'max_depth': 5,\n",
       "  'max_features': 'log2',\n",
       "  'n_estimators': 150},\n",
       " {'learning_rate': 1,\n",
       "  'max_depth': 5,\n",
       "  'max_features': 'log2',\n",
       "  'n_estimators': 200},\n",
       " {'learning_rate': 1.2,\n",
       "  'max_depth': 3,\n",
       "  'max_features': 'sqrt',\n",
       "  'n_estimators': 50},\n",
       " {'learning_rate': 1.2,\n",
       "  'max_depth': 3,\n",
       "  'max_features': 'sqrt',\n",
       "  'n_estimators': 100},\n",
       " {'learning_rate': 1.2,\n",
       "  'max_depth': 3,\n",
       "  'max_features': 'sqrt',\n",
       "  'n_estimators': 150},\n",
       " {'learning_rate': 1.2,\n",
       "  'max_depth': 3,\n",
       "  'max_features': 'sqrt',\n",
       "  'n_estimators': 200},\n",
       " {'learning_rate': 1.2,\n",
       "  'max_depth': 3,\n",
       "  'max_features': 'log2',\n",
       "  'n_estimators': 50},\n",
       " {'learning_rate': 1.2,\n",
       "  'max_depth': 3,\n",
       "  'max_features': 'log2',\n",
       "  'n_estimators': 100},\n",
       " {'learning_rate': 1.2,\n",
       "  'max_depth': 3,\n",
       "  'max_features': 'log2',\n",
       "  'n_estimators': 150},\n",
       " {'learning_rate': 1.2,\n",
       "  'max_depth': 3,\n",
       "  'max_features': 'log2',\n",
       "  'n_estimators': 200},\n",
       " {'learning_rate': 1.2,\n",
       "  'max_depth': 4,\n",
       "  'max_features': 'sqrt',\n",
       "  'n_estimators': 50},\n",
       " {'learning_rate': 1.2,\n",
       "  'max_depth': 4,\n",
       "  'max_features': 'sqrt',\n",
       "  'n_estimators': 100},\n",
       " {'learning_rate': 1.2,\n",
       "  'max_depth': 4,\n",
       "  'max_features': 'sqrt',\n",
       "  'n_estimators': 150},\n",
       " {'learning_rate': 1.2,\n",
       "  'max_depth': 4,\n",
       "  'max_features': 'sqrt',\n",
       "  'n_estimators': 200},\n",
       " {'learning_rate': 1.2,\n",
       "  'max_depth': 4,\n",
       "  'max_features': 'log2',\n",
       "  'n_estimators': 50},\n",
       " {'learning_rate': 1.2,\n",
       "  'max_depth': 4,\n",
       "  'max_features': 'log2',\n",
       "  'n_estimators': 100},\n",
       " {'learning_rate': 1.2,\n",
       "  'max_depth': 4,\n",
       "  'max_features': 'log2',\n",
       "  'n_estimators': 150},\n",
       " {'learning_rate': 1.2,\n",
       "  'max_depth': 4,\n",
       "  'max_features': 'log2',\n",
       "  'n_estimators': 200},\n",
       " {'learning_rate': 1.2,\n",
       "  'max_depth': 5,\n",
       "  'max_features': 'sqrt',\n",
       "  'n_estimators': 50},\n",
       " {'learning_rate': 1.2,\n",
       "  'max_depth': 5,\n",
       "  'max_features': 'sqrt',\n",
       "  'n_estimators': 100},\n",
       " {'learning_rate': 1.2,\n",
       "  'max_depth': 5,\n",
       "  'max_features': 'sqrt',\n",
       "  'n_estimators': 150},\n",
       " {'learning_rate': 1.2,\n",
       "  'max_depth': 5,\n",
       "  'max_features': 'sqrt',\n",
       "  'n_estimators': 200},\n",
       " {'learning_rate': 1.2,\n",
       "  'max_depth': 5,\n",
       "  'max_features': 'log2',\n",
       "  'n_estimators': 50},\n",
       " {'learning_rate': 1.2,\n",
       "  'max_depth': 5,\n",
       "  'max_features': 'log2',\n",
       "  'n_estimators': 100},\n",
       " {'learning_rate': 1.2,\n",
       "  'max_depth': 5,\n",
       "  'max_features': 'log2',\n",
       "  'n_estimators': 150},\n",
       " {'learning_rate': 1.2,\n",
       "  'max_depth': 5,\n",
       "  'max_features': 'log2',\n",
       "  'n_estimators': 200}]"
      ]
     },
     "execution_count": 296,
     "metadata": {},
     "output_type": "execute_result"
    }
   ],
   "source": [
    "models.cv_results_['params']"
   ]
  },
  {
   "cell_type": "markdown",
   "id": "0f926552",
   "metadata": {},
   "source": [
    "### Printing the Precision , recall & accuracy for different tree numbers"
   ]
  },
  {
   "cell_type": "markdown",
   "id": "50c8a880",
   "metadata": {},
   "source": [
    "### Reported on the Validation Set( Not Test Set) - as Hyper param selection needs to be done"
   ]
  },
  {
   "cell_type": "code",
   "execution_count": 297,
   "id": "6c4c20c7",
   "metadata": {},
   "outputs": [
    {
     "data": {
      "text/plain": [
       "3816"
      ]
     },
     "execution_count": 297,
     "metadata": {},
     "output_type": "execute_result"
    }
   ],
   "source": [
    "import gc\n",
    "gc.collect()"
   ]
  },
  {
   "cell_type": "code",
   "execution_count": 298,
   "id": "544fd8d4",
   "metadata": {},
   "outputs": [
    {
     "name": "stdout",
     "output_type": "stream",
     "text": [
      "time in minutes 1.0235695083936056\n"
     ]
    }
   ],
   "source": [
    "# GradientBoostingClassifier(learning_rate=0.5, max_depth=4, max_features='sqrt', n_estimators=200)\n",
    "import time\n",
    "start = time.time()\n",
    "parameter_list = {'n_estimators':[7,10,20,30,40,50,70,100,150,200, 220, 250, 270,300,330, 360,400], 'max_depth':[4], 'max_features':['sqrt'],\n",
    "                  'learning_rate':[0.5]}\n",
    "model_tree = GridSearchCV(GradientBoostingClassifier(), parameter_list,scoring=custom_scoring , refit=\"accuracy\", n_jobs =-1)\n",
    "model_tree.fit(X_train, loan_train['target'])\n",
    "end = time.time()\n",
    "# n_jobs =-1 uses all the hardware processors. Depending on your machine, might take more time\n",
    "print('time in minutes', (end - start)/60)"
   ]
  },
  {
   "cell_type": "code",
   "execution_count": 299,
   "id": "447fff71",
   "metadata": {},
   "outputs": [
    {
     "name": "stdout",
     "output_type": "stream",
     "text": [
      "7\n",
      "10\n",
      "20\n",
      "30\n",
      "40\n",
      "50\n",
      "70\n",
      "100\n",
      "150\n",
      "200\n",
      "220\n",
      "250\n",
      "270\n",
      "300\n",
      "330\n",
      "360\n",
      "400\n"
     ]
    }
   ],
   "source": [
    "for item in model_tree.cv_results_['params']:\n",
    "    print(item['n_estimators'])"
   ]
  },
  {
   "cell_type": "code",
   "execution_count": 300,
   "id": "757f9395",
   "metadata": {},
   "outputs": [
    {
     "data": {
      "text/plain": [
       "array([0.9740947 , 0.9851105 , 0.99024753, 0.99251399, 0.99340746,\n",
       "       0.99422223, 0.99460298, 0.99507667, 0.99546093, 0.99326939,\n",
       "       0.99555501, 0.99574577, 0.99560231, 0.98427057, 0.99207772,\n",
       "       0.99264433, 0.98671639])"
      ]
     },
     "execution_count": 300,
     "metadata": {},
     "output_type": "execute_result"
    }
   ],
   "source": [
    "model_tree.cv_results_['mean_test_precision']"
   ]
  },
  {
   "cell_type": "code",
   "execution_count": 301,
   "id": "8efa6f1c",
   "metadata": {},
   "outputs": [
    {
     "data": {
      "text/plain": [
       "array([0.99913572, 0.99932781, 0.99918377, 0.99899168, 0.99803143,\n",
       "       0.99903966, 0.99932779, 0.9992798 , 0.99971191, 0.99490998,\n",
       "       0.99966392, 0.99975993, 0.99975992, 0.98256906, 0.8921747 ,\n",
       "       0.95241302, 0.99001203])"
      ]
     },
     "execution_count": 301,
     "metadata": {},
     "output_type": "execute_result"
    }
   ],
   "source": [
    "model_tree.cv_results_['mean_test_recall']  "
   ]
  },
  {
   "cell_type": "code",
   "execution_count": 302,
   "id": "0a8f30aa",
   "metadata": {},
   "outputs": [
    {
     "data": {
      "text/plain": [
       "array([0.98643788, 0.99216286, 0.99469501, 0.99574124, 0.99571295,\n",
       "       0.99662391, 0.99695902, 0.99717353, 0.99758119, 0.99407826,\n",
       "       0.99760466, 0.99774832, 0.99767649, 0.98337772, 0.92374708,\n",
       "       0.96991335, 0.98836008])"
      ]
     },
     "execution_count": 302,
     "metadata": {},
     "output_type": "execute_result"
    }
   ],
   "source": [
    "model_tree.cv_results_['mean_test_f1']  "
   ]
  },
  {
   "cell_type": "code",
   "execution_count": 303,
   "id": "61079131",
   "metadata": {},
   "outputs": [
    {
     "data": {
      "text/plain": [
       "array([0.97642054, 0.98646129, 0.99086458, 0.99267515, 0.99263396,\n",
       "       0.99419773, 0.9947739 , 0.9951442 , 0.99584379, 0.9898767 ,\n",
       "       0.99588496, 0.99613185, 0.99600839, 0.971852  , 0.90294118,\n",
       "       0.95374507, 0.98004132])"
      ]
     },
     "execution_count": 303,
     "metadata": {},
     "output_type": "execute_result"
    }
   ],
   "source": [
    "model_tree.cv_results_['mean_test_accuracy']"
   ]
  },
  {
   "cell_type": "code",
   "execution_count": 304,
   "id": "f5b643fb",
   "metadata": {},
   "outputs": [
    {
     "data": {
      "text/plain": [
       "GradientBoostingClassifier(learning_rate=0.5, max_depth=4, max_features='sqrt',\n",
       "                           n_estimators=250)"
      ]
     },
     "execution_count": 304,
     "metadata": {},
     "output_type": "execute_result"
    }
   ],
   "source": [
    "model_tree.best_estimator_"
   ]
  },
  {
   "cell_type": "code",
   "execution_count": 305,
   "id": "b02017a2",
   "metadata": {},
   "outputs": [
    {
     "data": {
      "image/png": "[encoded data removed]",
      "text/plain": [
       "<Figure size 432x288 with 1 Axes>"
      ]
     },
     "metadata": {
      "needs_background": "light"
     },
     "output_type": "display_data"
    }
   ],
   "source": [
    "x = [7,10,20,30,40,50,70,100,150,200, 220, 250, 270,300,330, 360,400]\n",
    "plt.plot(x, model_tree.cv_results_['mean_test_accuracy'],'b')\n",
    "plt.plot(x, model_tree.cv_results_['mean_test_f1'],'g')\n",
    "plt.plot(x, model_tree.cv_results_['mean_test_precision'],'y')\n",
    "plt.plot(x, model_tree.cv_results_['mean_test_recall'],'r')\n",
    "plt.show()"
   ]
  },
  {
   "cell_type": "code",
   "execution_count": 306,
   "id": "9ff31d5e",
   "metadata": {},
   "outputs": [
    {
     "name": "stdout",
     "output_type": "stream",
     "text": [
      "Test Accuracy 0.9960072849537686\n",
      "Test Precision 1.0\n",
      "Test Recall 0.9953201970443349\n"
     ]
    }
   ],
   "source": [
    "selected_model = GradientBoostingClassifier(learning_rate=0.5, max_depth=4, max_features='sqrt',n_estimators=360)\n",
    "selected_model.fit(X_train,loan_train['target'])\n",
    "y_predicted = selected_model.predict(X_test)\n",
    "print('Test Accuracy',accuracy_score(y_predicted, loan_test['target']))\n",
    "print('Test Precision',precision_score(y_predicted, loan_test['target']))\n",
    "print('Test Recall',recall_score(y_predicted, loan_test['target']))"
   ]
  },
  {
   "cell_type": "markdown",
   "id": "a12b9b36",
   "metadata": {},
   "source": [
    "# Comparison with Decision Tree"
   ]
  },
  {
   "cell_type": "code",
   "execution_count": 307,
   "id": "15f4d421",
   "metadata": {},
   "outputs": [
    {
     "name": "stdout",
     "output_type": "stream",
     "text": [
      "Test Accuracy 0.991874474642757\n",
      "Test Precision 0.9948032665181886\n",
      "Test Recall 0.9956245356228846\n"
     ]
    }
   ],
   "source": [
    "DT = DecisionTreeClassifier()\n",
    "DT = DT.fit(X_train,loan_train['target'])\n",
    "y_predicted = DT.predict(X_test)\n",
    "print('Test Accuracy',accuracy_score(y_predicted, loan_test['target']))\n",
    "print('Test Precision',precision_score(y_predicted, loan_test['target']))\n",
    "print('Test Recall',recall_score(y_predicted, loan_test['target']))"
   ]
  },
  {
   "cell_type": "code",
   "execution_count": null,
   "id": "d2f14b88",
   "metadata": {},
   "outputs": [],
   "source": []
  },
  {
   "cell_type": "code",
   "execution_count": null,
   "id": "08804e26",
   "metadata": {},
   "outputs": [],
   "source": []
  }
 ],
 "metadata": {
  "kernelspec": {
   "display_name": "Python 3",
   "language": "python",
   "name": "python3"
  },
  "language_info": {
   "codemirror_mode": {
    "name": "ipython",
    "version": 3
   },
   "file_extension": ".py",
   "mimetype": "text/x-python",
   "name": "python",
   "nbconvert_exporter": "python",
   "pygments_lexer": "ipython3",
   "version": "3.8.8"
  }
 },
 "nbformat": 4,
 "nbformat_minor": 5
}
