{
 "cells": [
  {
   "cell_type": "code",
   "execution_count": 152,
   "id": "c8ad5a58",
   "metadata": {},
   "outputs": [],
   "source": [
    "import numpy as np\n",
    "import pandas as pd\n",
    "import os\n",
    "from sklearn.ensemble import GradientBoostingClassifier\n",
    "from sklearn.model_selection import GridSearchCV\n",
    "import matplotlib.pyplot as plt"
   ]
  },
  {
   "cell_type": "code",
   "execution_count": 153,
   "id": "d992e778",
   "metadata": {},
   "outputs": [],
   "source": [
    "from sklearn.tree import DecisionTreeClassifier\n",
    "from sklearn.metrics import accuracy_score, f1_score, precision_score, recall_score, classification_report, confusion_matrix\n",
    "from sklearn.metrics import precision_score, make_scorer\n",
    "import time"
   ]
  },
  {
   "cell_type": "code",
   "execution_count": 154,
   "id": "137baa56",
   "metadata": {},
   "outputs": [],
   "source": [
    "os.chdir(r'C:\\Users\\saura\\OneDrive\\Documents\\IIT Hyderabad\\Assignments\\ML\\Assignment_3')"
   ]
  },
  {
   "cell_type": "code",
   "execution_count": 155,
   "id": "ba4f0afc",
   "metadata": {},
   "outputs": [
    {
     "data": {
      "text/plain": [
       "['Answers', 'loan_test.csv', 'loan_train.csv', 'Self Study', 'spam.data.txt']"
      ]
     },
     "execution_count": 155,
     "metadata": {},
     "output_type": "execute_result"
    }
   ],
   "source": [
    "os.listdir()"
   ]
  },
  {
   "cell_type": "markdown",
   "id": "b0a31337",
   "metadata": {},
   "source": [
    "### Loading the data"
   ]
  },
  {
   "cell_type": "code",
   "execution_count": 156,
   "id": "0083f5f3",
   "metadata": {},
   "outputs": [],
   "source": [
    "\n",
    "loan_train = pd.read_csv('loan_train.csv')"
   ]
  },
  {
   "cell_type": "code",
   "execution_count": 157,
   "id": "8ca5ded5",
   "metadata": {},
   "outputs": [],
   "source": [
    "loan_test = pd.read_csv('loan_test.csv')"
   ]
  },
  {
   "cell_type": "code",
   "execution_count": 158,
   "id": "3827eaf7",
   "metadata": {},
   "outputs": [
    {
     "data": {
      "text/plain": [
       "(14718, 111)"
      ]
     },
     "execution_count": 158,
     "metadata": {},
     "output_type": "execute_result"
    }
   ],
   "source": [
    "loan_test.shape"
   ]
  },
  {
   "cell_type": "markdown",
   "id": "cd5111a5",
   "metadata": {},
   "source": [
    "# Pre processing starts"
   ]
  },
  {
   "cell_type": "markdown",
   "id": "4cd51b5c",
   "metadata": {},
   "source": [
    "### Setting the target class"
   ]
  },
  {
   "cell_type": "code",
   "execution_count": 159,
   "id": "dcb88422",
   "metadata": {},
   "outputs": [
    {
     "data": {
      "text/plain": [
       "Fully Paid     20827\n",
       "Charged Off     3474\n",
       "Current          698\n",
       "Name: loan_status, dtype: int64"
      ]
     },
     "execution_count": 159,
     "metadata": {},
     "output_type": "execute_result"
    }
   ],
   "source": [
    "loan_train.loan_status.value_counts()"
   ]
  },
  {
   "cell_type": "code",
   "execution_count": 160,
   "id": "14c27a3e",
   "metadata": {},
   "outputs": [
    {
     "data": {
      "text/plain": [
       "Fully Paid     12123\n",
       "Charged Off     2153\n",
       "Current          442\n",
       "Name: loan_status, dtype: int64"
      ]
     },
     "execution_count": 160,
     "metadata": {},
     "output_type": "execute_result"
    }
   ],
   "source": [
    "loan_test.loan_status.value_counts()"
   ]
  },
  {
   "cell_type": "code",
   "execution_count": 161,
   "id": "7be0bd96",
   "metadata": {},
   "outputs": [
    {
     "data": {
      "text/plain": [
       "1    20827\n",
       "0     3474\n",
       "Name: target, dtype: int64"
      ]
     },
     "execution_count": 161,
     "metadata": {},
     "output_type": "execute_result"
    }
   ],
   "source": [
    "loan_train = loan_train[loan_train.loan_status!= 'Current']\n",
    "loan_train['target'] = np.where(loan_train.loan_status == 'Fully Paid',1,0)\n",
    "loan_train.drop(['loan_status'],axis =1,inplace = True)\n",
    "loan_train.target.value_counts()"
   ]
  },
  {
   "cell_type": "markdown",
   "id": "c0957426",
   "metadata": {},
   "source": [
    "## Dropping columns with High Missing Values"
   ]
  },
  {
   "cell_type": "code",
   "execution_count": 162,
   "id": "b9335d7e",
   "metadata": {},
   "outputs": [
    {
     "data": {
      "text/plain": [
       "{'emp_title': 6,\n",
       " 'emp_length': 40,\n",
       " 'desc': 7943,\n",
       " 'title': 8,\n",
       " 'mths_since_last_delinq': 15767,\n",
       " 'mths_since_last_record': 22646,\n",
       " 'revol_util': 29,\n",
       " 'last_pymnt_d': 45,\n",
       " 'next_pymnt_d': 24301,\n",
       " 'collections_12_mths_ex_med': 29,\n",
       " 'mths_since_last_major_derog': 24301,\n",
       " 'annual_inc_joint': 24301,\n",
       " 'dti_joint': 24301,\n",
       " 'verification_status_joint': 24301,\n",
       " 'tot_coll_amt': 24301,\n",
       " 'tot_cur_bal': 24301,\n",
       " 'open_acc_6m': 24301,\n",
       " 'open_il_6m': 24301,\n",
       " 'open_il_12m': 24301,\n",
       " 'open_il_24m': 24301,\n",
       " 'mths_since_rcnt_il': 24301,\n",
       " 'total_bal_il': 24301,\n",
       " 'il_util': 24301,\n",
       " 'open_rv_12m': 24301,\n",
       " 'open_rv_24m': 24301,\n",
       " 'max_bal_bc': 24301,\n",
       " 'all_util': 24301,\n",
       " 'total_rev_hi_lim': 24301,\n",
       " 'inq_fi': 24301,\n",
       " 'total_cu_tl': 24301,\n",
       " 'inq_last_12m': 24301,\n",
       " 'acc_open_past_24mths': 24301,\n",
       " 'avg_cur_bal': 24301,\n",
       " 'bc_open_to_buy': 24301,\n",
       " 'bc_util': 24301,\n",
       " 'chargeoff_within_12_mths': 29,\n",
       " 'mo_sin_old_il_acct': 24301,\n",
       " 'mo_sin_old_rev_tl_op': 24301,\n",
       " 'mo_sin_rcnt_rev_tl_op': 24301,\n",
       " 'mo_sin_rcnt_tl': 24301,\n",
       " 'mort_acc': 24301,\n",
       " 'mths_since_recent_bc': 24301,\n",
       " 'mths_since_recent_bc_dlq': 24301,\n",
       " 'mths_since_recent_inq': 24301,\n",
       " 'mths_since_recent_revol_delinq': 24301,\n",
       " 'num_accts_ever_120_pd': 24301,\n",
       " 'num_actv_bc_tl': 24301,\n",
       " 'num_actv_rev_tl': 24301,\n",
       " 'num_bc_sats': 24301,\n",
       " 'num_bc_tl': 24301,\n",
       " 'num_il_tl': 24301,\n",
       " 'num_op_rev_tl': 24301,\n",
       " 'num_rev_accts': 24301,\n",
       " 'num_rev_tl_bal_gt_0': 24301,\n",
       " 'num_sats': 24301,\n",
       " 'num_tl_120dpd_2m': 24301,\n",
       " 'num_tl_30dpd': 24301,\n",
       " 'num_tl_90g_dpd_24m': 24301,\n",
       " 'num_tl_op_past_12m': 24301,\n",
       " 'pct_tl_nvr_dlq': 24301,\n",
       " 'percent_bc_gt_75': 24301,\n",
       " 'pub_rec_bankruptcies': 417,\n",
       " 'tax_liens': 17,\n",
       " 'tot_hi_cred_lim': 24301,\n",
       " 'total_bal_ex_mort': 24301,\n",
       " 'total_bc_limit': 24301,\n",
       " 'total_il_high_credit_limit': 24301}"
      ]
     },
     "execution_count": 162,
     "metadata": {},
     "output_type": "execute_result"
    }
   ],
   "source": [
    "dict_loan = loan_train.isna().sum().to_dict()\n",
    "dict_loan = {key: value for (key, value) in dict_loan.items() if value!=0 }\n",
    "dict_loan"
   ]
  },
  {
   "cell_type": "markdown",
   "id": "67f27a8e",
   "metadata": {},
   "source": [
    "### remove any columns with more than 60% null values"
   ]
  },
  {
   "cell_type": "code",
   "execution_count": 163,
   "id": "f726e8ee",
   "metadata": {},
   "outputs": [
    {
     "name": "stdout",
     "output_type": "stream",
     "text": [
      "no of columns remaining after removing any columns with more than 60% null values :  54\n"
     ]
    },
    {
     "data": {
      "text/plain": [
       "id                               0\n",
       "member_id                        0\n",
       "loan_amnt                        0\n",
       "funded_amnt                      0\n",
       "funded_amnt_inv                  0\n",
       "term                             0\n",
       "int_rate                         0\n",
       "installment                      0\n",
       "grade                            0\n",
       "sub_grade                        0\n",
       "emp_title                        6\n",
       "emp_length                      40\n",
       "home_ownership                   0\n",
       "annual_inc                       0\n",
       "verification_status              0\n",
       "issue_d                          0\n",
       "pymnt_plan                       0\n",
       "url                              0\n",
       "desc                          7943\n",
       "purpose                          0\n",
       "title                            8\n",
       "zip_code                         0\n",
       "addr_state                       0\n",
       "dti                              0\n",
       "delinq_2yrs                      0\n",
       "earliest_cr_line                 0\n",
       "inq_last_6mths                   0\n",
       "open_acc                         0\n",
       "pub_rec                          0\n",
       "revol_bal                        0\n",
       "revol_util                      29\n",
       "total_acc                        0\n",
       "initial_list_status              0\n",
       "out_prncp                        0\n",
       "out_prncp_inv                    0\n",
       "total_pymnt                      0\n",
       "total_pymnt_inv                  0\n",
       "total_rec_prncp                  0\n",
       "total_rec_int                    0\n",
       "total_rec_late_fee               0\n",
       "recoveries                       0\n",
       "collection_recovery_fee          0\n",
       "last_pymnt_d                    45\n",
       "last_pymnt_amnt                  0\n",
       "last_credit_pull_d               0\n",
       "collections_12_mths_ex_med      29\n",
       "policy_code                      0\n",
       "application_type                 0\n",
       "acc_now_delinq                   0\n",
       "chargeoff_within_12_mths        29\n",
       "delinq_amnt                      0\n",
       "pub_rec_bankruptcies           417\n",
       "tax_liens                       17\n",
       "target                           0\n",
       "dtype: int64"
      ]
     },
     "execution_count": 163,
     "metadata": {},
     "output_type": "execute_result"
    }
   ],
   "source": [
    "not_null_cols = loan_train.columns[loan_train.isnull().mean() < 0.6]\n",
    "print('no of columns remaining after removing any columns with more than 60% null values : ',len(not_null_cols))# \n",
    "loan_train= loan_train.filter(not_null_cols,axis = 1)\n",
    "loan_train.isna().sum()"
   ]
  },
  {
   "cell_type": "markdown",
   "id": "cc39a59e",
   "metadata": {},
   "source": [
    "# Exploring the categorical columns"
   ]
  },
  {
   "cell_type": "markdown",
   "id": "28bac973",
   "metadata": {},
   "source": [
    "### Creating new features, transform data type, one hot encoding"
   ]
  },
  {
   "cell_type": "code",
   "execution_count": 164,
   "id": "dc778eca",
   "metadata": {},
   "outputs": [
    {
     "data": {
      "text/plain": [
       "['term',\n",
       " 'int_rate',\n",
       " 'grade',\n",
       " 'sub_grade',\n",
       " 'emp_title',\n",
       " 'emp_length',\n",
       " 'home_ownership',\n",
       " 'verification_status',\n",
       " 'issue_d',\n",
       " 'pymnt_plan',\n",
       " 'url',\n",
       " 'desc',\n",
       " 'purpose',\n",
       " 'title',\n",
       " 'zip_code',\n",
       " 'addr_state',\n",
       " 'earliest_cr_line',\n",
       " 'revol_util',\n",
       " 'initial_list_status',\n",
       " 'last_pymnt_d',\n",
       " 'last_credit_pull_d',\n",
       " 'application_type']"
      ]
     },
     "execution_count": 164,
     "metadata": {},
     "output_type": "execute_result"
    }
   ],
   "source": [
    "str_cols = [col for col in loan_train.columns.tolist() if loan_train[col].dtype in ['object']] \n",
    "str_cols"
   ]
  },
  {
   "cell_type": "code",
   "execution_count": 165,
   "id": "0cd5ca31",
   "metadata": {},
   "outputs": [
    {
     "data": {
      "text/plain": [
       "term                       2\n",
       "int_rate                 361\n",
       "grade                      7\n",
       "sub_grade                 35\n",
       "emp_title              19413\n",
       "emp_length                11\n",
       "home_ownership             4\n",
       "verification_status        3\n",
       "issue_d                   55\n",
       "pymnt_plan                 1\n",
       "url                    24301\n",
       "desc                   16213\n",
       "purpose                   14\n",
       "title                  12698\n",
       "zip_code                 783\n",
       "addr_state                50\n",
       "earliest_cr_line         495\n",
       "revol_util              1058\n",
       "initial_list_status        1\n",
       "last_pymnt_d             101\n",
       "last_credit_pull_d       102\n",
       "application_type           1\n",
       "dtype: int64"
      ]
     },
     "execution_count": 165,
     "metadata": {},
     "output_type": "execute_result"
    }
   ],
   "source": [
    "loan_train[str_cols].nunique()# checking the no of unique values for each object type column"
   ]
  },
  {
   "cell_type": "markdown",
   "id": "e6505f0a",
   "metadata": {},
   "source": [
    "### Drop Non Categorical Descriptive Text/ Text Features with High Cardinality"
   ]
  },
  {
   "cell_type": "code",
   "execution_count": 166,
   "id": "ccc140fe",
   "metadata": {},
   "outputs": [
    {
     "name": "stdout",
     "output_type": "stream",
     "text": [
      "['emp_title', 'url', 'desc', 'title', 'zip_code', 'addr_state']\n"
     ]
    }
   ],
   "source": [
    "remove_cols = ['emp_title','url','desc','title','zip_code','addr_state'] ### THE COLUMNS that are string but not to be Encoded\n",
    "remove_from_cat_features = remove_cols.copy()\n",
    "#loan_train.drop(remove_from_cat_features,axis =1, inplace = True)\n",
    "print(remove_from_cat_features)"
   ]
  },
  {
   "cell_type": "code",
   "execution_count": 167,
   "id": "45dfe5ff",
   "metadata": {},
   "outputs": [
    {
     "data": {
      "text/html": [
       "<div>\n",
       "<style scoped>\n",
       "    .dataframe tbody tr th:only-of-type {\n",
       "        vertical-align: middle;\n",
       "    }\n",
       "\n",
       "    .dataframe tbody tr th {\n",
       "        vertical-align: top;\n",
       "    }\n",
       "\n",
       "    .dataframe thead th {\n",
       "        text-align: right;\n",
       "    }\n",
       "</style>\n",
       "<table border=\"1\" class=\"dataframe\">\n",
       "  <thead>\n",
       "    <tr style=\"text-align: right;\">\n",
       "      <th></th>\n",
       "      <th>term</th>\n",
       "      <th>int_rate</th>\n",
       "      <th>grade</th>\n",
       "      <th>sub_grade</th>\n",
       "      <th>emp_length</th>\n",
       "      <th>home_ownership</th>\n",
       "      <th>verification_status</th>\n",
       "      <th>issue_d</th>\n",
       "      <th>pymnt_plan</th>\n",
       "      <th>purpose</th>\n",
       "      <th>earliest_cr_line</th>\n",
       "      <th>revol_util</th>\n",
       "      <th>initial_list_status</th>\n",
       "      <th>last_pymnt_d</th>\n",
       "      <th>last_credit_pull_d</th>\n",
       "      <th>application_type</th>\n",
       "    </tr>\n",
       "  </thead>\n",
       "  <tbody>\n",
       "    <tr>\n",
       "      <th>0</th>\n",
       "      <td>36 months</td>\n",
       "      <td>7.51%</td>\n",
       "      <td>A</td>\n",
       "      <td>A4</td>\n",
       "      <td>10+ years</td>\n",
       "      <td>RENT</td>\n",
       "      <td>Source Verified</td>\n",
       "      <td>10-Sep</td>\n",
       "      <td>n</td>\n",
       "      <td>home_improvement</td>\n",
       "      <td>1-Feb</td>\n",
       "      <td>1.20%</td>\n",
       "      <td>f</td>\n",
       "      <td>11-Mar</td>\n",
       "      <td>11-Jul</td>\n",
       "      <td>INDIVIDUAL</td>\n",
       "    </tr>\n",
       "    <tr>\n",
       "      <th>1</th>\n",
       "      <td>36 months</td>\n",
       "      <td>8.94%</td>\n",
       "      <td>A</td>\n",
       "      <td>A5</td>\n",
       "      <td>1 year</td>\n",
       "      <td>RENT</td>\n",
       "      <td>Not Verified</td>\n",
       "      <td>10-Jan</td>\n",
       "      <td>n</td>\n",
       "      <td>other</td>\n",
       "      <td>Feb-97</td>\n",
       "      <td>14%</td>\n",
       "      <td>f</td>\n",
       "      <td>10-Mar</td>\n",
       "      <td>10-Feb</td>\n",
       "      <td>INDIVIDUAL</td>\n",
       "    </tr>\n",
       "    <tr>\n",
       "      <th>2</th>\n",
       "      <td>36 months</td>\n",
       "      <td>13.57%</td>\n",
       "      <td>C</td>\n",
       "      <td>C3</td>\n",
       "      <td>4 years</td>\n",
       "      <td>OWN</td>\n",
       "      <td>Not Verified</td>\n",
       "      <td>9-Oct</td>\n",
       "      <td>n</td>\n",
       "      <td>major_purchase</td>\n",
       "      <td>Mar-00</td>\n",
       "      <td>34.40%</td>\n",
       "      <td>f</td>\n",
       "      <td>11-Dec</td>\n",
       "      <td>11-Dec</td>\n",
       "      <td>INDIVIDUAL</td>\n",
       "    </tr>\n",
       "    <tr>\n",
       "      <th>4</th>\n",
       "      <td>60 months</td>\n",
       "      <td>17.49%</td>\n",
       "      <td>D</td>\n",
       "      <td>D5</td>\n",
       "      <td>5 years</td>\n",
       "      <td>MORTGAGE</td>\n",
       "      <td>Not Verified</td>\n",
       "      <td>11-Jul</td>\n",
       "      <td>n</td>\n",
       "      <td>debt_consolidation</td>\n",
       "      <td>4-Jun</td>\n",
       "      <td>9.40%</td>\n",
       "      <td>f</td>\n",
       "      <td>15-Sep</td>\n",
       "      <td>16-May</td>\n",
       "      <td>INDIVIDUAL</td>\n",
       "    </tr>\n",
       "    <tr>\n",
       "      <th>5</th>\n",
       "      <td>36 months</td>\n",
       "      <td>8.94%</td>\n",
       "      <td>A</td>\n",
       "      <td>A5</td>\n",
       "      <td>7 years</td>\n",
       "      <td>MORTGAGE</td>\n",
       "      <td>Not Verified</td>\n",
       "      <td>9-Dec</td>\n",
       "      <td>n</td>\n",
       "      <td>other</td>\n",
       "      <td>Aug-93</td>\n",
       "      <td>2.80%</td>\n",
       "      <td>f</td>\n",
       "      <td>10-May</td>\n",
       "      <td>10-May</td>\n",
       "      <td>INDIVIDUAL</td>\n",
       "    </tr>\n",
       "  </tbody>\n",
       "</table>\n",
       "</div>"
      ],
      "text/plain": [
       "         term int_rate grade sub_grade emp_length home_ownership  \\\n",
       "0   36 months    7.51%     A        A4  10+ years           RENT   \n",
       "1   36 months    8.94%     A        A5     1 year           RENT   \n",
       "2   36 months   13.57%     C        C3    4 years            OWN   \n",
       "4   60 months   17.49%     D        D5    5 years       MORTGAGE   \n",
       "5   36 months    8.94%     A        A5    7 years       MORTGAGE   \n",
       "\n",
       "  verification_status issue_d pymnt_plan             purpose earliest_cr_line  \\\n",
       "0     Source Verified  10-Sep          n    home_improvement            1-Feb   \n",
       "1        Not Verified  10-Jan          n               other           Feb-97   \n",
       "2        Not Verified   9-Oct          n      major_purchase           Mar-00   \n",
       "4        Not Verified  11-Jul          n  debt_consolidation            4-Jun   \n",
       "5        Not Verified   9-Dec          n               other           Aug-93   \n",
       "\n",
       "  revol_util initial_list_status last_pymnt_d last_credit_pull_d  \\\n",
       "0      1.20%                   f       11-Mar             11-Jul   \n",
       "1        14%                   f       10-Mar             10-Feb   \n",
       "2     34.40%                   f       11-Dec             11-Dec   \n",
       "4      9.40%                   f       15-Sep             16-May   \n",
       "5      2.80%                   f       10-May             10-May   \n",
       "\n",
       "  application_type  \n",
       "0       INDIVIDUAL  \n",
       "1       INDIVIDUAL  \n",
       "2       INDIVIDUAL  \n",
       "4       INDIVIDUAL  \n",
       "5       INDIVIDUAL  "
      ]
     },
     "execution_count": 167,
     "metadata": {},
     "output_type": "execute_result"
    }
   ],
   "source": [
    "str_cols = [x for x in str_cols if x not in remove_from_cat_features]\n",
    "loan_train[str_cols].head()"
   ]
  },
  {
   "cell_type": "markdown",
   "id": "8d99485d",
   "metadata": {},
   "source": [
    "### Remove messy date format columns"
   ]
  },
  {
   "cell_type": "code",
   "execution_count": 168,
   "id": "01474a57",
   "metadata": {},
   "outputs": [],
   "source": [
    "remove_cols.append('issue_d')\n",
    "remove_cols.append('earliest_cr_line')\n",
    "remove_from_cat_features = remove_cols.copy()"
   ]
  },
  {
   "cell_type": "markdown",
   "id": "e5eb1bba",
   "metadata": {},
   "source": [
    "### Calculate new feature from last_pymnt_d & last_credit_pull_d"
   ]
  },
  {
   "cell_type": "code",
   "execution_count": 169,
   "id": "e9524a48",
   "metadata": {},
   "outputs": [],
   "source": [
    "loan_train['last_pymnt_d'] = pd.to_datetime(loan_train['last_pymnt_d'], format = '%d-%b') # 11- Jul format\n",
    "loan_train['last_credit_pull_d'] = pd.to_datetime(loan_train['last_credit_pull_d'], format = '%d-%b')\n",
    "loan_train['credit_pull_minus_pymnt'] = (loan_train['last_credit_pull_d'] - loan_train['last_pymnt_d']).dt.days\n",
    "remove_cols.append('last_pymnt_d')\n",
    "remove_cols.append('last_credit_pull_d')\n",
    "remove_from_cat_features = remove_cols.copy()"
   ]
  },
  {
   "cell_type": "markdown",
   "id": "7bcdc0d0",
   "metadata": {},
   "source": [
    "### Creating numerical features out of string by splitting the string"
   ]
  },
  {
   "cell_type": "code",
   "execution_count": 170,
   "id": "b3b6edb0",
   "metadata": {},
   "outputs": [
    {
     "data": {
      "text/plain": [
       "36    18203\n",
       "60     6098\n",
       "Name: term, dtype: int64"
      ]
     },
     "execution_count": 170,
     "metadata": {},
     "output_type": "execute_result"
    }
   ],
   "source": [
    "loan_train['term'] = [int(x.split()[0]) for x in loan_train['term'] ]\n",
    "remove_from_cat_features.append('term')\n",
    "loan_train['term'].value_counts()"
   ]
  },
  {
   "cell_type": "code",
   "execution_count": 171,
   "id": "ef6be5e8",
   "metadata": {},
   "outputs": [
    {
     "data": {
      "text/plain": [
       "10+ years    5315\n",
       "< 1 year     2816\n",
       "2 years      2806\n",
       "3 years      2675\n",
       "4 years      2223\n",
       "5 years      2087\n",
       "1 year       2081\n",
       "6 years      1385\n",
       "7 years      1108\n",
       "8 years       942\n",
       "9 years       823\n",
       "Name: emp_length, dtype: int64"
      ]
     },
     "execution_count": 171,
     "metadata": {},
     "output_type": "execute_result"
    }
   ],
   "source": [
    "loan_train['emp_length'].value_counts()# before pre processing"
   ]
  },
  {
   "cell_type": "code",
   "execution_count": 172,
   "id": "40e09f87",
   "metadata": {},
   "outputs": [
    {
     "data": {
      "text/plain": [
       "10     5315\n",
       "0      2816\n",
       "2      2806\n",
       "3      2675\n",
       "4      2223\n",
       "5      2087\n",
       "1      2081\n",
       "6      1385\n",
       "7      1108\n",
       "8       942\n",
       "9       823\n",
       "nan      40\n",
       "Name: emp_length, dtype: int64"
      ]
     },
     "execution_count": 172,
     "metadata": {},
     "output_type": "execute_result"
    }
   ],
   "source": [
    "#loan_train['emp_length'] = [pd.to_numeric(x.strip('<').lstrip().split('+')[0].split()[0], errors = 'ignore') for x in loan_train['emp_length'].astype(str) ]\n",
    "loan_train['emp_length'] = [pd.to_numeric(x.split('+')[0].split()[0], errors = 'ignore') for x in loan_train['emp_length'].astype(str) ]\n",
    "#loan_train['emp_length'].value_counts()\n",
    "loan_train['emp_length'].replace('<',0, inplace = True)\n",
    "remove_from_cat_features.append('emp_length')\n",
    "loan_train['emp_length'].value_counts()"
   ]
  },
  {
   "cell_type": "code",
   "execution_count": 173,
   "id": "ae5f9e9b",
   "metadata": {},
   "outputs": [],
   "source": [
    "loan_train['int_rate'] = [float(x.split('%')[0]) for x in loan_train['int_rate'].astype(str) ]#revol_util\n",
    "loan_train['revol_util'] = [float(x.split('%')[0]) for x in loan_train['revol_util'].astype(str) ]#revol_util emp_length\n",
    "remove_from_cat_features.append('int_rate')\n",
    "remove_from_cat_features.append('revol_util')"
   ]
  },
  {
   "cell_type": "markdown",
   "id": "f6317a82",
   "metadata": {},
   "source": [
    "## Drop all columns in the list remove_cols"
   ]
  },
  {
   "cell_type": "code",
   "execution_count": 174,
   "id": "c8035850",
   "metadata": {},
   "outputs": [
    {
     "name": "stdout",
     "output_type": "stream",
     "text": [
      "(24301, 55)\n",
      "(24301, 45)\n"
     ]
    }
   ],
   "source": [
    "print(loan_train.shape)\n",
    "loan_train.drop(remove_cols, axis =1, inplace =True)\n",
    "print(loan_train.shape)"
   ]
  },
  {
   "cell_type": "code",
   "execution_count": 175,
   "id": "ba5437d5",
   "metadata": {},
   "outputs": [
    {
     "data": {
      "text/html": [
       "<div>\n",
       "<style scoped>\n",
       "    .dataframe tbody tr th:only-of-type {\n",
       "        vertical-align: middle;\n",
       "    }\n",
       "\n",
       "    .dataframe tbody tr th {\n",
       "        vertical-align: top;\n",
       "    }\n",
       "\n",
       "    .dataframe thead th {\n",
       "        text-align: right;\n",
       "    }\n",
       "</style>\n",
       "<table border=\"1\" class=\"dataframe\">\n",
       "  <thead>\n",
       "    <tr style=\"text-align: right;\">\n",
       "      <th></th>\n",
       "      <th>id</th>\n",
       "      <th>member_id</th>\n",
       "      <th>loan_amnt</th>\n",
       "      <th>funded_amnt</th>\n",
       "      <th>funded_amnt_inv</th>\n",
       "      <th>term</th>\n",
       "      <th>int_rate</th>\n",
       "      <th>installment</th>\n",
       "      <th>grade</th>\n",
       "      <th>sub_grade</th>\n",
       "      <th>...</th>\n",
       "      <th>collections_12_mths_ex_med</th>\n",
       "      <th>policy_code</th>\n",
       "      <th>application_type</th>\n",
       "      <th>acc_now_delinq</th>\n",
       "      <th>chargeoff_within_12_mths</th>\n",
       "      <th>delinq_amnt</th>\n",
       "      <th>pub_rec_bankruptcies</th>\n",
       "      <th>tax_liens</th>\n",
       "      <th>target</th>\n",
       "      <th>credit_pull_minus_pymnt</th>\n",
       "    </tr>\n",
       "  </thead>\n",
       "  <tbody>\n",
       "    <tr>\n",
       "      <th>0</th>\n",
       "      <td>573354</td>\n",
       "      <td>737474</td>\n",
       "      <td>10000</td>\n",
       "      <td>10000</td>\n",
       "      <td>9950.0</td>\n",
       "      <td>36</td>\n",
       "      <td>7.51</td>\n",
       "      <td>311.11</td>\n",
       "      <td>A</td>\n",
       "      <td>A4</td>\n",
       "      <td>...</td>\n",
       "      <td>0.0</td>\n",
       "      <td>1</td>\n",
       "      <td>INDIVIDUAL</td>\n",
       "      <td>0</td>\n",
       "      <td>0.0</td>\n",
       "      <td>0</td>\n",
       "      <td>0.0</td>\n",
       "      <td>0.0</td>\n",
       "      <td>0</td>\n",
       "      <td>122.0</td>\n",
       "    </tr>\n",
       "    <tr>\n",
       "      <th>1</th>\n",
       "      <td>476321</td>\n",
       "      <td>603324</td>\n",
       "      <td>15000</td>\n",
       "      <td>15000</td>\n",
       "      <td>14800.0</td>\n",
       "      <td>36</td>\n",
       "      <td>8.94</td>\n",
       "      <td>476.58</td>\n",
       "      <td>A</td>\n",
       "      <td>A5</td>\n",
       "      <td>...</td>\n",
       "      <td>0.0</td>\n",
       "      <td>1</td>\n",
       "      <td>INDIVIDUAL</td>\n",
       "      <td>0</td>\n",
       "      <td>0.0</td>\n",
       "      <td>0</td>\n",
       "      <td>0.0</td>\n",
       "      <td>0.0</td>\n",
       "      <td>1</td>\n",
       "      <td>-28.0</td>\n",
       "    </tr>\n",
       "    <tr>\n",
       "      <th>2</th>\n",
       "      <td>451484</td>\n",
       "      <td>556265</td>\n",
       "      <td>2000</td>\n",
       "      <td>2000</td>\n",
       "      <td>2000.0</td>\n",
       "      <td>36</td>\n",
       "      <td>13.57</td>\n",
       "      <td>67.94</td>\n",
       "      <td>C</td>\n",
       "      <td>C3</td>\n",
       "      <td>...</td>\n",
       "      <td>0.0</td>\n",
       "      <td>1</td>\n",
       "      <td>INDIVIDUAL</td>\n",
       "      <td>0</td>\n",
       "      <td>0.0</td>\n",
       "      <td>0</td>\n",
       "      <td>0.0</td>\n",
       "      <td>0.0</td>\n",
       "      <td>1</td>\n",
       "      <td>0.0</td>\n",
       "    </tr>\n",
       "    <tr>\n",
       "      <th>4</th>\n",
       "      <td>800018</td>\n",
       "      <td>1005270</td>\n",
       "      <td>14000</td>\n",
       "      <td>14000</td>\n",
       "      <td>14000.0</td>\n",
       "      <td>60</td>\n",
       "      <td>17.49</td>\n",
       "      <td>351.64</td>\n",
       "      <td>D</td>\n",
       "      <td>D5</td>\n",
       "      <td>...</td>\n",
       "      <td>0.0</td>\n",
       "      <td>1</td>\n",
       "      <td>INDIVIDUAL</td>\n",
       "      <td>0</td>\n",
       "      <td>0.0</td>\n",
       "      <td>0</td>\n",
       "      <td>0.0</td>\n",
       "      <td>0.0</td>\n",
       "      <td>1</td>\n",
       "      <td>-122.0</td>\n",
       "    </tr>\n",
       "    <tr>\n",
       "      <th>5</th>\n",
       "      <td>471391</td>\n",
       "      <td>595223</td>\n",
       "      <td>12000</td>\n",
       "      <td>12000</td>\n",
       "      <td>11900.0</td>\n",
       "      <td>36</td>\n",
       "      <td>8.94</td>\n",
       "      <td>381.26</td>\n",
       "      <td>A</td>\n",
       "      <td>A5</td>\n",
       "      <td>...</td>\n",
       "      <td>0.0</td>\n",
       "      <td>1</td>\n",
       "      <td>INDIVIDUAL</td>\n",
       "      <td>0</td>\n",
       "      <td>0.0</td>\n",
       "      <td>0</td>\n",
       "      <td>0.0</td>\n",
       "      <td>0.0</td>\n",
       "      <td>1</td>\n",
       "      <td>0.0</td>\n",
       "    </tr>\n",
       "  </tbody>\n",
       "</table>\n",
       "<p>5 rows × 45 columns</p>\n",
       "</div>"
      ],
      "text/plain": [
       "       id  member_id  loan_amnt  funded_amnt  funded_amnt_inv  term  int_rate  \\\n",
       "0  573354     737474      10000        10000           9950.0    36      7.51   \n",
       "1  476321     603324      15000        15000          14800.0    36      8.94   \n",
       "2  451484     556265       2000         2000           2000.0    36     13.57   \n",
       "4  800018    1005270      14000        14000          14000.0    60     17.49   \n",
       "5  471391     595223      12000        12000          11900.0    36      8.94   \n",
       "\n",
       "   installment grade sub_grade  ... collections_12_mths_ex_med policy_code  \\\n",
       "0       311.11     A        A4  ...                        0.0           1   \n",
       "1       476.58     A        A5  ...                        0.0           1   \n",
       "2        67.94     C        C3  ...                        0.0           1   \n",
       "4       351.64     D        D5  ...                        0.0           1   \n",
       "5       381.26     A        A5  ...                        0.0           1   \n",
       "\n",
       "   application_type acc_now_delinq chargeoff_within_12_mths delinq_amnt  \\\n",
       "0        INDIVIDUAL              0                      0.0           0   \n",
       "1        INDIVIDUAL              0                      0.0           0   \n",
       "2        INDIVIDUAL              0                      0.0           0   \n",
       "4        INDIVIDUAL              0                      0.0           0   \n",
       "5        INDIVIDUAL              0                      0.0           0   \n",
       "\n",
       "   pub_rec_bankruptcies  tax_liens  target  credit_pull_minus_pymnt  \n",
       "0                   0.0        0.0       0                    122.0  \n",
       "1                   0.0        0.0       1                    -28.0  \n",
       "2                   0.0        0.0       1                      0.0  \n",
       "4                   0.0        0.0       1                   -122.0  \n",
       "5                   0.0        0.0       1                      0.0  \n",
       "\n",
       "[5 rows x 45 columns]"
      ]
     },
     "execution_count": 175,
     "metadata": {},
     "output_type": "execute_result"
    }
   ],
   "source": [
    "loan_train.head()"
   ]
  },
  {
   "cell_type": "code",
   "execution_count": 176,
   "id": "ba8e358e",
   "metadata": {},
   "outputs": [
    {
     "data": {
      "text/plain": [
       "chargeoff_within_12_mths      1\n",
       "purpose                       1\n",
       "member_id                     1\n",
       "collection_recovery_fee       1\n",
       "term                          1\n",
       "tax_liens                     1\n",
       "inq_last_6mths                1\n",
       "id                            1\n",
       "credit_pull_minus_pymnt       1\n",
       "total_rec_int                 1\n",
       "out_prncp_inv                 1\n",
       "funded_amnt_inv               1\n",
       "verification_status           1\n",
       "home_ownership                1\n",
       "dti                           1\n",
       "initial_list_status           1\n",
       "last_pymnt_amnt               1\n",
       "total_acc                     1\n",
       "total_pymnt                   1\n",
       "policy_code                   1\n",
       "collections_12_mths_ex_med    1\n",
       "int_rate                      1\n",
       "total_rec_prncp               1\n",
       "delinq_amnt                   1\n",
       "total_rec_late_fee            1\n",
       "annual_inc                    1\n",
       "grade                         1\n",
       "application_type              1\n",
       "target                        1\n",
       "sub_grade                     1\n",
       "emp_length                    1\n",
       "installment                   1\n",
       "delinq_2yrs                   1\n",
       "funded_amnt                   1\n",
       "revol_util                    1\n",
       "recoveries                    1\n",
       "acc_now_delinq                1\n",
       "total_pymnt_inv               1\n",
       "open_acc                      1\n",
       "pub_rec                       1\n",
       "loan_amnt                     1\n",
       "out_prncp                     1\n",
       "pub_rec_bankruptcies          1\n",
       "pymnt_plan                    1\n",
       "revol_bal                     1\n",
       "dtype: int64"
      ]
     },
     "execution_count": 176,
     "metadata": {},
     "output_type": "execute_result"
    }
   ],
   "source": [
    "pd.Series(loan_train.columns.tolist()).value_counts()"
   ]
  },
  {
   "cell_type": "markdown",
   "id": "7d1f582a",
   "metadata": {},
   "source": [
    "# One Hot Encoding of Categorical Features"
   ]
  },
  {
   "cell_type": "code",
   "execution_count": 177,
   "id": "95dfa45b",
   "metadata": {},
   "outputs": [
    {
     "name": "stdout",
     "output_type": "stream",
     "text": [
      "['grade', 'sub_grade', 'home_ownership', 'verification_status', 'pymnt_plan', 'purpose', 'initial_list_status', 'application_type']\n"
     ]
    }
   ],
   "source": [
    "str_cols = [x for x in str_cols if x not in remove_from_cat_features]\n",
    "print(str_cols)"
   ]
  },
  {
   "cell_type": "code",
   "execution_count": 178,
   "id": "c81794ab",
   "metadata": {},
   "outputs": [],
   "source": [
    "final_cols_b4_enc = loan_train.columns"
   ]
  },
  {
   "cell_type": "code",
   "execution_count": 179,
   "id": "0f195bb4",
   "metadata": {},
   "outputs": [
    {
     "name": "stdout",
     "output_type": "stream",
     "text": [
      "(24301, 45)\n",
      "(24301, 103)\n"
     ]
    }
   ],
   "source": [
    "print(loan_train.shape)\n",
    "dummy_cols = pd.get_dummies(loan_train, prefix=None, prefix_sep='_', dummy_na=False, columns= str_cols)\n",
    "loan_train = pd.concat([loan_train.drop(str_cols,axis=1, inplace = True), dummy_cols],axis=1)\n",
    "print(loan_train.shape)"
   ]
  },
  {
   "cell_type": "code",
   "execution_count": 180,
   "id": "9fb145bb",
   "metadata": {},
   "outputs": [
    {
     "data": {
      "text/plain": [
       "funded_amnt_inv                 1\n",
       "grade_F                         1\n",
       "collection_recovery_fee         1\n",
       "verification_status_Verified    1\n",
       "id                              1\n",
       "                               ..\n",
       "acc_now_delinq                  1\n",
       "home_ownership_MORTGAGE         1\n",
       "initial_list_status_f           1\n",
       "installment                     1\n",
       "open_acc                        1\n",
       "Length: 93, dtype: int64"
      ]
     },
     "execution_count": 180,
     "metadata": {},
     "output_type": "execute_result"
    }
   ],
   "source": [
    "pd.Series(loan_train.columns.tolist()).value_counts()[10:]"
   ]
  },
  {
   "cell_type": "code",
   "execution_count": 181,
   "id": "4f32ee45",
   "metadata": {},
   "outputs": [],
   "source": [
    "final_cols_aftr_enc = loan_train.columns"
   ]
  },
  {
   "cell_type": "code",
   "execution_count": 182,
   "id": "c6c130ec",
   "metadata": {},
   "outputs": [
    {
     "data": {
      "text/plain": [
       "array([10, 1, 4, 5, 7, 2, 8, 0, 3, 9, 6, 'nan'], dtype=object)"
      ]
     },
     "execution_count": 182,
     "metadata": {},
     "output_type": "execute_result"
    }
   ],
   "source": [
    "loan_train.emp_length.unique()"
   ]
  },
  {
   "cell_type": "markdown",
   "id": "3c157853",
   "metadata": {},
   "source": [
    "# APPLYING THE SAME SETS OF PRE PROCESSING TO TEST DATA"
   ]
  },
  {
   "cell_type": "code",
   "execution_count": 183,
   "id": "0f94f0c5",
   "metadata": {},
   "outputs": [
    {
     "data": {
      "text/plain": [
       "1    12123\n",
       "0     2153\n",
       "Name: target, dtype: int64"
      ]
     },
     "execution_count": 183,
     "metadata": {},
     "output_type": "execute_result"
    }
   ],
   "source": [
    "loan_test = loan_test[loan_test.loan_status!= 'Current']\n",
    "loan_test['target'] = np.where(loan_test.loan_status == 'Fully Paid',1,0)\n",
    "loan_test.drop(['loan_status'],axis =1,inplace = True)\n",
    "loan_test.target.value_counts()"
   ]
  },
  {
   "cell_type": "code",
   "execution_count": 184,
   "id": "8feeff04",
   "metadata": {},
   "outputs": [
    {
     "name": "stdout",
     "output_type": "stream",
     "text": [
      "54\n"
     ]
    },
    {
     "data": {
      "text/plain": [
       "id                               0\n",
       "member_id                        0\n",
       "loan_amnt                        0\n",
       "funded_amnt                      0\n",
       "funded_amnt_inv                  0\n",
       "term                             0\n",
       "int_rate                         0\n",
       "installment                      0\n",
       "grade                            0\n",
       "sub_grade                        0\n",
       "emp_title                     2380\n",
       "emp_length                     993\n",
       "home_ownership                   0\n",
       "annual_inc                       0\n",
       "verification_status              0\n",
       "issue_d                          0\n",
       "pymnt_plan                       0\n",
       "url                              0\n",
       "desc                          4584\n",
       "purpose                          0\n",
       "title                            3\n",
       "zip_code                         0\n",
       "addr_state                       0\n",
       "dti                              0\n",
       "delinq_2yrs                      0\n",
       "earliest_cr_line                 0\n",
       "inq_last_6mths                   0\n",
       "open_acc                         0\n",
       "pub_rec                          0\n",
       "revol_bal                        0\n",
       "revol_util                      21\n",
       "total_acc                        0\n",
       "initial_list_status              0\n",
       "out_prncp                        0\n",
       "out_prncp_inv                    0\n",
       "total_pymnt                      0\n",
       "total_pymnt_inv                  0\n",
       "total_rec_prncp                  0\n",
       "total_rec_int                    0\n",
       "total_rec_late_fee               0\n",
       "recoveries                       0\n",
       "collection_recovery_fee          0\n",
       "last_pymnt_d                    26\n",
       "last_pymnt_amnt                  0\n",
       "last_credit_pull_d               2\n",
       "collections_12_mths_ex_med      27\n",
       "policy_code                      0\n",
       "application_type                 0\n",
       "acc_now_delinq                   0\n",
       "chargeoff_within_12_mths        27\n",
       "delinq_amnt                      0\n",
       "pub_rec_bankruptcies           280\n",
       "tax_liens                       22\n",
       "target                           0\n",
       "dtype: int64"
      ]
     },
     "execution_count": 184,
     "metadata": {},
     "output_type": "execute_result"
    }
   ],
   "source": [
    "print(len(not_null_cols))\n",
    "loan_test= loan_test.filter(not_null_cols,axis = 1)\n",
    "loan_test.isna().sum()"
   ]
  },
  {
   "cell_type": "markdown",
   "id": "2a0d6c3e",
   "metadata": {},
   "source": [
    "### feature engineering"
   ]
  },
  {
   "cell_type": "code",
   "execution_count": 185,
   "id": "791d37f1",
   "metadata": {},
   "outputs": [],
   "source": [
    "loan_test['last_pymnt_d'] = pd.to_datetime(loan_test['last_pymnt_d'], format = '%d-%b') # 11- Jul format\n",
    "loan_test['last_credit_pull_d'] = pd.to_datetime(loan_test['last_credit_pull_d'], format = '%d-%b')\n",
    "loan_test['credit_pull_minus_pymnt'] = (loan_test['last_credit_pull_d'] - loan_test['last_pymnt_d']).dt.days"
   ]
  },
  {
   "cell_type": "code",
   "execution_count": 186,
   "id": "48097d06",
   "metadata": {},
   "outputs": [],
   "source": [
    "loan_test['term'] = [int(x.split()[0]) for x in loan_test['term'] ]\n",
    "loan_test['emp_length'] = [pd.to_numeric(x.split('+')[0].split()[0], errors = 'ignore') for x in loan_test['emp_length'].astype(str) ]\n",
    "\n",
    "loan_test['emp_length'].replace('<',0, inplace = True)\n",
    "loan_test['int_rate'] = [float(x.split('%')[0]) for x in loan_test['int_rate'].astype(str) ]#revol_util\n",
    "loan_test['revol_util'] = [float(x.split('%')[0]) for x in loan_test['revol_util'].astype(str) ]#revol_util emp_length"
   ]
  },
  {
   "cell_type": "markdown",
   "id": "ffa38e2f",
   "metadata": {},
   "source": [
    "### drop all columns in the list remove_cols"
   ]
  },
  {
   "cell_type": "code",
   "execution_count": 187,
   "id": "a7a4fbe7",
   "metadata": {},
   "outputs": [
    {
     "name": "stdout",
     "output_type": "stream",
     "text": [
      "(14276, 55)\n",
      "(14276, 45)\n"
     ]
    }
   ],
   "source": [
    "print(loan_test.shape)\n",
    "loan_test.drop(remove_cols, axis =1, inplace =True)\n",
    "print(loan_test.shape)"
   ]
  },
  {
   "cell_type": "markdown",
   "id": "a243dd52",
   "metadata": {},
   "source": [
    "### categorical encoding"
   ]
  },
  {
   "cell_type": "code",
   "execution_count": 188,
   "id": "69d90afe",
   "metadata": {},
   "outputs": [
    {
     "name": "stdout",
     "output_type": "stream",
     "text": [
      "45\n"
     ]
    }
   ],
   "source": [
    "print(len(set(loan_test.columns.tolist()).intersection(set(final_cols_b4_enc))))"
   ]
  },
  {
   "cell_type": "code",
   "execution_count": 189,
   "id": "633b6b17",
   "metadata": {},
   "outputs": [
    {
     "name": "stdout",
     "output_type": "stream",
     "text": [
      "(14276, 45)\n",
      "(14276, 104)\n"
     ]
    }
   ],
   "source": [
    "print(loan_test.shape)\n",
    "dummy_cols = pd.get_dummies(loan_test, prefix=None, prefix_sep='_', dummy_na=False, columns= str_cols)\n",
    "loan_test = pd.concat([loan_test.drop(str_cols,axis=1, inplace =True), dummy_cols],axis=1)\n",
    "print(loan_test.shape)"
   ]
  },
  {
   "cell_type": "code",
   "execution_count": 190,
   "id": "f6ee71b8",
   "metadata": {},
   "outputs": [
    {
     "name": "stdout",
     "output_type": "stream",
     "text": [
      "103\n"
     ]
    },
    {
     "data": {
      "text/plain": [
       "{'home_ownership_NONE'}"
      ]
     },
     "execution_count": 190,
     "metadata": {},
     "output_type": "execute_result"
    }
   ],
   "source": [
    "print(len(set(loan_test.columns.tolist()).intersection(set(final_cols_aftr_enc))))\n",
    "set(loan_test.columns.tolist()).difference(set(final_cols_aftr_enc))"
   ]
  },
  {
   "cell_type": "code",
   "execution_count": 191,
   "id": "b802ed74",
   "metadata": {},
   "outputs": [
    {
     "name": "stdout",
     "output_type": "stream",
     "text": [
      "104\n"
     ]
    }
   ],
   "source": [
    "print(len(set(loan_test.columns.tolist()).union(set(final_cols_aftr_enc))))"
   ]
  },
  {
   "cell_type": "code",
   "execution_count": 192,
   "id": "c9137e2f",
   "metadata": {},
   "outputs": [],
   "source": [
    "loan_test.drop(['home_ownership_NONE'], axis = 1, inplace = True)"
   ]
  },
  {
   "cell_type": "markdown",
   "id": "76e1e7b1",
   "metadata": {},
   "source": [
    "# Missing Value Imputation "
   ]
  },
  {
   "cell_type": "code",
   "execution_count": 193,
   "id": "ea734f1b",
   "metadata": {},
   "outputs": [
    {
     "data": {
      "text/plain": [
       "revol_util                     29\n",
       "collections_12_mths_ex_med     29\n",
       "chargeoff_within_12_mths       29\n",
       "pub_rec_bankruptcies          417\n",
       "tax_liens                      17\n",
       "credit_pull_minus_pymnt        45\n",
       "dtype: int64"
      ]
     },
     "execution_count": 193,
     "metadata": {},
     "output_type": "execute_result"
    }
   ],
   "source": [
    "loan_train.isna().sum()[loan_train.isna().sum()>0]"
   ]
  },
  {
   "cell_type": "code",
   "execution_count": 194,
   "id": "cd774406",
   "metadata": {},
   "outputs": [
    {
     "data": {
      "text/plain": [
       "0.0    22886\n",
       "1.0      994\n",
       "NaN      417\n",
       "2.0        4\n",
       "Name: pub_rec_bankruptcies, dtype: int64"
      ]
     },
     "execution_count": 194,
     "metadata": {},
     "output_type": "execute_result"
    }
   ],
   "source": [
    "loan_train.pub_rec_bankruptcies.value_counts(dropna = False)"
   ]
  },
  {
   "cell_type": "code",
   "execution_count": 195,
   "id": "63234424",
   "metadata": {},
   "outputs": [
    {
     "data": {
      "text/plain": [
       "0.0    23303\n",
       "1.0      994\n",
       "2.0        4\n",
       "Name: pub_rec_bankruptcies, dtype: int64"
      ]
     },
     "execution_count": 195,
     "metadata": {},
     "output_type": "execute_result"
    }
   ],
   "source": [
    "loan_train.pub_rec_bankruptcies = loan_train.pub_rec_bankruptcies.fillna(0)\n",
    "loan_train.pub_rec_bankruptcies.value_counts(dropna = False)"
   ]
  },
  {
   "cell_type": "code",
   "execution_count": 196,
   "id": "b6f01324",
   "metadata": {},
   "outputs": [
    {
     "data": {
      "text/plain": [
       "revol_util                     21\n",
       "collections_12_mths_ex_med     27\n",
       "chargeoff_within_12_mths       27\n",
       "pub_rec_bankruptcies          280\n",
       "tax_liens                      22\n",
       "credit_pull_minus_pymnt        28\n",
       "dtype: int64"
      ]
     },
     "execution_count": 196,
     "metadata": {},
     "output_type": "execute_result"
    }
   ],
   "source": [
    "loan_test.isna().sum()[loan_test.isna().sum()>0]"
   ]
  },
  {
   "cell_type": "code",
   "execution_count": 197,
   "id": "577f1f50",
   "metadata": {},
   "outputs": [
    {
     "data": {
      "text/plain": [
       "0.0    13632\n",
       "1.0      643\n",
       "2.0        1\n",
       "Name: pub_rec_bankruptcies, dtype: int64"
      ]
     },
     "execution_count": 197,
     "metadata": {},
     "output_type": "execute_result"
    }
   ],
   "source": [
    "loan_test.pub_rec_bankruptcies = loan_test.pub_rec_bankruptcies.fillna(0)\n",
    "loan_test.pub_rec_bankruptcies.value_counts(dropna = False)"
   ]
  },
  {
   "cell_type": "code",
   "execution_count": 198,
   "id": "df486b30",
   "metadata": {},
   "outputs": [],
   "source": [
    "loan_train = loan_train.fillna(loan_train.median())\n",
    "loan_test = loan_test.fillna(loan_test.median())"
   ]
  },
  {
   "cell_type": "code",
   "execution_count": 199,
   "id": "dc1fbd86",
   "metadata": {},
   "outputs": [
    {
     "data": {
      "text/plain": [
       "Series([], dtype: int64)"
      ]
     },
     "execution_count": 199,
     "metadata": {},
     "output_type": "execute_result"
    }
   ],
   "source": [
    "loan_test.isna().sum()[loan_test.isna().sum()>0]"
   ]
  },
  {
   "cell_type": "code",
   "execution_count": null,
   "id": "6318e8b9",
   "metadata": {},
   "outputs": [],
   "source": []
  },
  {
   "cell_type": "code",
   "execution_count": 200,
   "id": "cb65c4f0",
   "metadata": {},
   "outputs": [
    {
     "data": {
      "text/plain": [
       "revol_util                    float64\n",
       "collections_12_mths_ex_med    float64\n",
       "chargeoff_within_12_mths      float64\n",
       "tax_liens                     float64\n",
       "credit_pull_minus_pymnt       float64\n",
       "dtype: object"
      ]
     },
     "execution_count": 200,
     "metadata": {},
     "output_type": "execute_result"
    }
   ],
   "source": [
    "loan_train[['revol_util','collections_12_mths_ex_med','chargeoff_within_12_mths','tax_liens','credit_pull_minus_pymnt']].dtypes"
   ]
  },
  {
   "cell_type": "markdown",
   "id": "c7e4cc75",
   "metadata": {},
   "source": [
    "# Modeling Starts "
   ]
  },
  {
   "cell_type": "code",
   "execution_count": 201,
   "id": "9372c623",
   "metadata": {},
   "outputs": [],
   "source": [
    "X_train =  loan_train.loc[ : , loan_train.columns != 'target']\n",
    "y = loan_train['target']"
   ]
  },
  {
   "cell_type": "code",
   "execution_count": 202,
   "id": "10419c4a",
   "metadata": {},
   "outputs": [
    {
     "data": {
      "text/plain": [
       "Index([], dtype='object')"
      ]
     },
     "execution_count": 202,
     "metadata": {},
     "output_type": "execute_result"
    }
   ],
   "source": [
    "X_train.columns[pd.isnull(X_train).any()]"
   ]
  },
  {
   "cell_type": "code",
   "execution_count": 203,
   "id": "3776dfaf",
   "metadata": {},
   "outputs": [
    {
     "name": "stderr",
     "output_type": "stream",
     "text": [
      "C:\\Users\\saura\\Anaconda3\\lib\\site-packages\\pandas\\core\\generic.py:5494: SettingWithCopyWarning: \n",
      "A value is trying to be set on a copy of a slice from a DataFrame.\n",
      "Try using .loc[row_indexer,col_indexer] = value instead\n",
      "\n",
      "See the caveats in the documentation: https://pandas.pydata.org/pandas-docs/stable/user_guide/indexing.html#returning-a-view-versus-a-copy\n",
      "  self[name] = value\n"
     ]
    }
   ],
   "source": [
    "X_train.emp_length = X_train.emp_length.replace('nan',0)\n",
    "# to handle the null values that got converted into 'nan' string\n",
    "# was throwing an error - ValueError: Input contains NaN, infinity or a value too large for dtype('float64')"
   ]
  },
  {
   "cell_type": "code",
   "execution_count": 204,
   "id": "003dd57b",
   "metadata": {},
   "outputs": [],
   "source": [
    "X_test =  loan_test.loc[ : , loan_test.columns != 'target']\n",
    "X_test.emp_length = X_test.emp_length.replace('nan',0)"
   ]
  },
  {
   "cell_type": "code",
   "execution_count": 205,
   "id": "4305fad8",
   "metadata": {},
   "outputs": [
    {
     "data": {
      "text/plain": [
       "array([10,  1,  4,  5,  7,  2,  8,  0,  3,  9,  6], dtype=int64)"
      ]
     },
     "execution_count": 205,
     "metadata": {},
     "output_type": "execute_result"
    }
   ],
   "source": [
    "X_train.emp_length.unique()"
   ]
  },
  {
   "cell_type": "code",
   "execution_count": 206,
   "id": "0428358e",
   "metadata": {},
   "outputs": [
    {
     "data": {
      "text/plain": [
       "array([dtype('int64'), dtype('float64'), dtype('uint8')], dtype=object)"
      ]
     },
     "execution_count": 206,
     "metadata": {},
     "output_type": "execute_result"
    }
   ],
   "source": [
    "X_train.dtypes.unique()"
   ]
  },
  {
   "cell_type": "raw",
   "id": "8c3ad7f5",
   "metadata": {},
   "source": [
    "for col in X_train.columns :\n",
    "    X_train[col]= pd.to_numeric(X_train[col], errors='coerce')\n"
   ]
  },
  {
   "cell_type": "code",
   "execution_count": 207,
   "id": "870cfc9c",
   "metadata": {},
   "outputs": [],
   "source": [
    "model= GradientBoostingClassifier()\n",
    "#model.fit(X_train, y)"
   ]
  },
  {
   "cell_type": "code",
   "execution_count": 208,
   "id": "59168f50",
   "metadata": {},
   "outputs": [],
   "source": [
    "#loan_train.isna().sum().sum()\n",
    "#loan_train.isnull().any().values"
   ]
  },
  {
   "cell_type": "raw",
   "id": "bccc8fa4",
   "metadata": {},
   "source": [
    "for col in loan_train.columns.tolist() :\n",
    "    print(col)\n",
    "    np.any(np.isinf(loan_train[col].values))"
   ]
  },
  {
   "cell_type": "raw",
   "id": "1ee61668",
   "metadata": {},
   "source": [
    "inf = loan_train.isin([np.inf, -np.inf])\n",
    "print(inf.sum().sum())"
   ]
  },
  {
   "cell_type": "code",
   "execution_count": 209,
   "id": "a5f32971",
   "metadata": {},
   "outputs": [
    {
     "data": {
      "text/plain": [
       "6478"
      ]
     },
     "execution_count": 209,
     "metadata": {},
     "output_type": "execute_result"
    }
   ],
   "source": [
    "import gc\n",
    "gc.collect()"
   ]
  },
  {
   "cell_type": "markdown",
   "id": "cfe91146",
   "metadata": {},
   "source": [
    "# Hyperparameter Selection via Grid Search CV"
   ]
  },
  {
   "cell_type": "code",
   "execution_count": 210,
   "id": "6149453e",
   "metadata": {},
   "outputs": [
    {
     "name": "stdout",
     "output_type": "stream",
     "text": [
      "time in minutes 6.110923067728678\n"
     ]
    }
   ],
   "source": [
    "\n",
    "start = time.time()\n",
    "precision_scorer = make_scorer(precision_score, zero_division=0)\n",
    "\n",
    "custom_scoring = {\"accuracy\": \"accuracy\", \"precision\": precision_scorer, \"recall\": \"recall\", \"f1\": \"f1\"}\n",
    "\n",
    "\n",
    "parameter_list = {'n_estimators':[50,100,150,200], 'max_depth':[3,4,5], 'max_features':['sqrt','log2'],\n",
    "                  'learning_rate':[0.4, 0.5,0.6, 0.7, 0.8,1,1.2]} # the set of hyper parameters checked\n",
    "models = GridSearchCV(GradientBoostingClassifier(), parameter_list,scoring=custom_scoring , refit=\"accuracy\", n_jobs =-1)\n",
    "# n_jobs =-1 uses all the hardware processors. Depending on your machine, might take more time\n",
    "models.fit(X_train, loan_train['target'])\n",
    "end = time.time()\n",
    "print('time in minutes', (end - start)/60)"
   ]
  },
  {
   "cell_type": "code",
   "execution_count": 211,
   "id": "bd194047",
   "metadata": {},
   "outputs": [
    {
     "data": {
      "text/plain": [
       "GradientBoostingClassifier(learning_rate=0.4, max_depth=4, max_features='sqrt',\n",
       "                           n_estimators=200)"
      ]
     },
     "execution_count": 211,
     "metadata": {},
     "output_type": "execute_result"
    }
   ],
   "source": [
    "models.best_estimator_"
   ]
  },
  {
   "cell_type": "raw",
   "id": "d0bca9a5",
   "metadata": {},
   "source": [
    "X_train.isna().sum().sum()"
   ]
  },
  {
   "cell_type": "code",
   "execution_count": 212,
   "id": "b4b141fe",
   "metadata": {},
   "outputs": [
    {
     "data": {
      "text/plain": [
       "0.9959672644369437"
      ]
     },
     "execution_count": 212,
     "metadata": {},
     "output_type": "execute_result"
    }
   ],
   "source": [
    "models.best_score_ #0.9923459753154147"
   ]
  },
  {
   "cell_type": "code",
   "execution_count": 213,
   "id": "506fe16f",
   "metadata": {},
   "outputs": [
    {
     "data": {
      "text/plain": [
       "{'learning_rate': 0.4,\n",
       " 'max_depth': 4,\n",
       " 'max_features': 'sqrt',\n",
       " 'n_estimators': 200}"
      ]
     },
     "execution_count": 213,
     "metadata": {},
     "output_type": "execute_result"
    }
   ],
   "source": [
    "models.best_params_# {'learning_rate': 0.8,'max_depth': 3, 'max_features': 'sqrt','n_estimators': 50}"
   ]
  },
  {
   "cell_type": "code",
   "execution_count": 214,
   "id": "681c4b50",
   "metadata": {},
   "outputs": [
    {
     "data": {
      "text/plain": [
       "array([0.99237711, 0.99446609, 0.99526967, 0.99526959, 0.98926243,\n",
       "       0.99322801, 0.99370243, 0.99408444, 0.9941288 , 0.99469929,\n",
       "       0.99512688, 0.99555649, 0.99194809, 0.99417636, 0.99365727,\n",
       "       0.9943675 , 0.99370068, 0.99470166, 0.99522352, 0.99517521,\n",
       "       0.99255738, 0.99327548, 0.99436953, 0.99446397, 0.99374978,\n",
       "       0.99503187, 0.99464346, 0.98821688, 0.99011825, 0.99364884,\n",
       "       0.99403416, 0.9943196 , 0.99422312, 0.99493524, 0.99217587,\n",
       "       0.99565126, 0.99317612, 0.9932238 , 0.99132876, 0.99460385,\n",
       "       0.99393529, 0.99503227, 0.99503031, 0.99536632, 0.99275438,\n",
       "       0.99384328, 0.98990019, 0.99082112, 0.99365062, 0.99503139,\n",
       "       0.99503103, 0.9911433 , 0.9911886 , 0.99355487, 0.99427031,\n",
       "       0.99316758, 0.99403168, 0.98858045, 0.99512558, 0.98947582,\n",
       "       0.99284296, 0.99119027, 0.98973712, 0.98801166, 0.99345064,\n",
       "       0.99321401, 0.99207979, 0.99569782, 0.99236829, 0.99369917,\n",
       "       0.98513528, 0.98820854, 0.99344235, 0.9937315 , 0.99340667,\n",
       "       0.99378025, 0.99246631, 0.99340686, 0.99188157, 0.99110993,\n",
       "       0.99364253, 0.97873509, 0.98674582, 0.98431874, 0.99264828,\n",
       "       0.98993075, 0.97552333, 0.986633  , 0.99051191, 0.98891501,\n",
       "       0.98512582, 0.99531453, 0.99199033, 0.98593097, 0.94449681,\n",
       "       0.97262695, 0.99397501, 0.9868357 , 0.99488408, 0.97135478,\n",
       "       0.99236485, 0.9910942 , 0.98915154, 0.97222203, 0.99069777,\n",
       "       0.98494633, 0.97523697, 0.95851952, 0.99173125, 0.9762066 ,\n",
       "       0.97473918, 0.97077161, 0.99120092, 0.98716559, 0.96331968,\n",
       "       0.95930965, 0.9874533 , 0.98585733, 0.95505645, 0.96605979,\n",
       "       0.99240453, 0.9793279 , 0.9660754 , 0.95100732, 0.99106757,\n",
       "       0.98519314, 0.96754025, 0.96942794, 0.9867766 , 0.97579947,\n",
       "       0.96370706, 0.94647047, 0.98812997, 0.95952635, 0.93187538,\n",
       "       0.95772401, 0.97358835, 0.96793022, 0.9525013 , 0.96719728,\n",
       "       0.98348021, 0.95935906, 0.93164073, 0.94079756, 0.98660505,\n",
       "       0.98282404, 0.94193271, 0.95070428, 0.98743659, 0.93761185,\n",
       "       0.94594911, 0.9446076 , 0.98261712, 0.97234983, 0.9654632 ,\n",
       "       0.95210377, 0.98766172, 0.96555189, 0.95708171, 0.95207054,\n",
       "       0.97925652, 0.9724611 , 0.95993506, 0.95688094, 0.96367169,\n",
       "       0.94879813, 0.94211017, 0.93750551])"
      ]
     },
     "execution_count": 214,
     "metadata": {},
     "output_type": "execute_result"
    }
   ],
   "source": [
    "models.cv_results_['mean_test_precision']"
   ]
  },
  {
   "cell_type": "code",
   "execution_count": 215,
   "id": "d26b2ac7",
   "metadata": {},
   "outputs": [
    {
     "data": {
      "text/plain": [
       "array([0.99971192, 0.99990396, 0.99966389, 0.99961588, 0.99937582,\n",
       "       0.99956784, 0.99956787, 0.99980797, 0.9997119 , 0.9994238 ,\n",
       "       0.99971188, 0.99975994, 0.99942385, 0.99937582, 0.99990396,\n",
       "       0.99975994, 0.99937584, 0.99985594, 0.99975994, 0.99990396,\n",
       "       0.9984156 , 0.9995679 , 0.99985597, 0.99990396, 0.99913575,\n",
       "       0.99947181, 0.9983195 , 0.87709975, 0.99956788, 0.99899165,\n",
       "       0.9996639 , 0.9996159 , 0.99927978, 0.99937582, 0.9861225 ,\n",
       "       0.99956787, 0.99889566, 0.99913577, 0.99318218, 0.99942383,\n",
       "       0.99903973, 0.99956787, 0.99908769, 0.99971192, 0.99908769,\n",
       "       0.99932781, 0.98933982, 0.96950785, 0.99879961, 0.99966389,\n",
       "       0.99942384, 0.99433448, 0.99827138, 0.99899168, 0.9992318 ,\n",
       "       0.9979356 , 0.99889565, 0.98132054, 0.99923174, 0.98381919,\n",
       "       0.99855962, 0.99438295, 0.98972486, 0.99078034, 0.99759911,\n",
       "       0.99759911, 0.99049222, 0.99942384, 0.9985595 , 0.99908777,\n",
       "       0.98132497, 0.98449345, 0.9966393 , 0.99735902, 0.99831934,\n",
       "       0.99731096, 0.9990397 , 0.99803144, 0.99702309, 0.99438221,\n",
       "       0.99788727, 0.98214015, 0.93883612, 0.92888363, 0.99803141,\n",
       "       0.9938056 , 0.95117489, 0.95145271, 0.99327784, 0.98098777,\n",
       "       0.98569207, 0.99918378, 0.99865562, 0.97018487, 0.73332507,\n",
       "       0.78772514, 0.99750336, 0.98573993, 0.99884757, 0.85686233,\n",
       "       0.99793551, 0.99390222, 0.9899652 , 0.925249  , 0.99548633,\n",
       "       0.9654278 , 0.91478517, 0.81781713, 0.99601483, 0.94550692,\n",
       "       0.93681033, 0.96753961, 0.99476625, 0.88129766, 0.86478098,\n",
       "       0.82546724, 0.99039703, 0.92936516, 0.80884288, 0.87880434,\n",
       "       0.99644682, 0.95006068, 0.94550619, 0.83016311, 0.99591866,\n",
       "       0.98492269, 0.8445467 , 0.96686844, 0.98540315, 0.97157448,\n",
       "       0.78733864, 0.51850465, 0.98761205, 0.87971913, 0.68801148,\n",
       "       0.88280971, 0.8797817 , 0.81528576, 0.74400533, 0.83736712,\n",
       "       0.98401151, 0.83559321, 0.73329777, 0.7822979 , 0.97623182,\n",
       "       0.93110648, 0.47428977, 0.91098573, 0.97426691, 0.89210919,\n",
       "       0.56592644, 0.74199494, 0.9022546 , 0.82387886, 0.70043346,\n",
       "       0.84812002, 0.98780425, 0.89667066, 0.79771383, 0.87952944,\n",
       "       0.93945363, 0.76380169, 0.76471665, 0.72582195, 0.80344571,\n",
       "       0.84500511, 0.77347078, 0.6103555 ])"
      ]
     },
     "execution_count": 215,
     "metadata": {},
     "output_type": "execute_result"
    }
   ],
   "source": [
    "models.cv_results_['mean_test_recall']  "
   ]
  },
  {
   "cell_type": "code",
   "execution_count": 216,
   "id": "a78c8780",
   "metadata": {},
   "outputs": [
    {
     "data": {
      "text/plain": [
       "array([0.99603032, 0.99717626, 0.9974614 , 0.99743745, 0.99429249,\n",
       "       0.99638713, 0.99662568, 0.99693688, 0.99691221, 0.99705503,\n",
       "       0.99741373, 0.99765302, 0.9956714 , 0.99676834, 0.99677   ,\n",
       "       0.99705574, 0.99652945, 0.99727119, 0.99748583, 0.99753356,\n",
       "       0.99547695, 0.99641099, 0.9971042 , 0.99717571, 0.99643393,\n",
       "       0.99724596, 0.99647779, 0.9087048 , 0.9948179 , 0.99631294,\n",
       "       0.99684046, 0.99695988, 0.99674403, 0.99714994, 0.98907081,\n",
       "       0.99760474, 0.99602704, 0.99617057, 0.99224533, 0.99700709,\n",
       "       0.99648056, 0.99729422, 0.99705357, 0.99753355, 0.99590941,\n",
       "       0.99657719, 0.98959029, 0.97927025, 0.99621738, 0.99734188,\n",
       "       0.99722195, 0.9927348 , 0.99471483, 0.99626547, 0.99674395,\n",
       "       0.99554423, 0.9964569 , 0.98480483, 0.99717375, 0.98658131,\n",
       "       0.99569167, 0.99278052, 0.98971916, 0.98938676, 0.99551961,\n",
       "       0.99540048, 0.99125376, 0.99755657, 0.99545345, 0.99638517,\n",
       "       0.98313388, 0.98625855, 0.99503443, 0.99554021, 0.99585656,\n",
       "       0.99554103, 0.99574134, 0.99571317, 0.99444446, 0.9927415 ,\n",
       "       0.99576019, 0.98042086, 0.95954118, 0.95429969, 0.99533189,\n",
       "       0.99186016, 0.96283179, 0.96684192, 0.99188957, 0.98490378,\n",
       "       0.98538811, 0.99724501, 0.99531101, 0.97772015, 0.81353789,\n",
       "       0.86121984, 0.99573489, 0.98628343, 0.99686151, 0.89852537,\n",
       "       0.99514086, 0.99249573, 0.98955727, 0.94594575, 0.99308306,\n",
       "       0.97487078, 0.94085385, 0.87206505, 0.99386654, 0.95995586,\n",
       "       0.95395498, 0.9689651 , 0.99297953, 0.91486186, 0.9083917 ,\n",
       "       0.88523421, 0.98891982, 0.95298178, 0.8670433 , 0.9189864 ,\n",
       "       0.99441989, 0.9632804 , 0.95534435, 0.87233736, 0.9934866 ,\n",
       "       0.98504863, 0.87908053, 0.96796966, 0.98608902, 0.97362929,\n",
       "       0.8652998 , 0.65684921, 0.98786865, 0.91661369, 0.78170653,\n",
       "       0.90678504, 0.91910634, 0.88069473, 0.79473196, 0.89548133,\n",
       "       0.98373569, 0.89201137, 0.79873843, 0.84646373, 0.98124549,\n",
       "       0.95332187, 0.51838926, 0.92904829, 0.98047421, 0.91318514,\n",
       "       0.62550542, 0.79759083, 0.9317957 , 0.87921424, 0.80622896,\n",
       "       0.88548724, 0.98773183, 0.9289464 , 0.86582524, 0.91353414,\n",
       "       0.9586361 , 0.82992485, 0.8451397 , 0.78178311, 0.86850277,\n",
       "       0.88913306, 0.84394683, 0.72983222])"
      ]
     },
     "execution_count": 216,
     "metadata": {},
     "output_type": "execute_result"
    }
   ],
   "source": [
    "models.cv_results_['mean_test_f1']  "
   ]
  },
  {
   "cell_type": "code",
   "execution_count": 217,
   "id": "b29f3410",
   "metadata": {},
   "outputs": [
    {
     "data": {
      "text/plain": [
       "array([0.99316898, 0.9951442 , 0.99563804, 0.99559689, 0.99016502,\n",
       "       0.99378624, 0.99419773, 0.99473266, 0.99469157, 0.99493847,\n",
       "       0.99555572, 0.99596726, 0.9925517 , 0.99444468, 0.99444466,\n",
       "       0.99493847, 0.99403318, 0.99530882, 0.99567921, 0.99576149,\n",
       "       0.99222259, 0.99382743, 0.9950208 , 0.99514422, 0.99386854,\n",
       "       0.99526769, 0.99395081, 0.88736646, 0.9910703 , 0.99366275,\n",
       "       0.99456811, 0.99477386, 0.99440351, 0.99510308, 0.98148165,\n",
       "       0.99588497, 0.99316899, 0.993416  , 0.98670878, 0.99485619,\n",
       "       0.99395091, 0.99535003, 0.99493846, 0.99576149, 0.99296323,\n",
       "       0.99411545, 0.98230478, 0.96650223, 0.99349818, 0.99543229,\n",
       "       0.99522655, 0.98753104, 0.99090564, 0.99358046, 0.99440352,\n",
       "       0.99234587, 0.9939097 , 0.97456807, 0.9951442 , 0.97720184,\n",
       "       0.99259287, 0.98761419, 0.9824291 , 0.98185206, 0.99230475,\n",
       "       0.99209899, 0.98514421, 0.99580265, 0.99218135, 0.99378626,\n",
       "       0.97160512, 0.97683515, 0.99148169, 0.9923459 , 0.99288081,\n",
       "       0.99234587, 0.99267519, 0.99263409, 0.99045287, 0.98753147,\n",
       "       0.99271629, 0.96625531, 0.93728416, 0.9272842 , 0.99197564,\n",
       "       0.98604962, 0.93831989, 0.94851873, 0.98609092, 0.97432259,\n",
       "       0.97498137, 0.9952677 , 0.99193448, 0.96267511, 0.73675827,\n",
       "       0.80148171, 0.99267524, 0.97650311, 0.99460922, 0.8576144 ,\n",
       "       0.9916464 , 0.98711972, 0.98209966, 0.91563891, 0.98810732,\n",
       "       0.95790288, 0.90753629, 0.81617298, 0.98946526, 0.93399268,\n",
       "       0.92576486, 0.94740939, 0.9879428 , 0.88925949, 0.85707836,\n",
       "       0.82062863, 0.98098826, 0.92872594, 0.80341993, 0.87008744,\n",
       "       0.99041181, 0.94098789, 0.92564622, 0.8178625 , 0.98880707,\n",
       "       0.97444469, 0.84804917, 0.94526771, 0.97617349, 0.95481619,\n",
       "       0.79189936, 0.56351272, 0.97921875, 0.86535608, 0.68820125,\n",
       "       0.86915532, 0.87663931, 0.81847758, 0.75523046, 0.83662912,\n",
       "       0.9721005 , 0.82955583, 0.73005009, 0.77202608, 0.96835502,\n",
       "       0.92704697, 0.53266873, 0.8853106 , 0.96744901, 0.85860363,\n",
       "       0.60485618, 0.74082837, 0.9042963 , 0.83194106, 0.7210759 ,\n",
       "       0.83222646, 0.97897194, 0.88461281, 0.79494855, 0.85893596,\n",
       "       0.93119451, 0.77975541, 0.76983849, 0.74179904, 0.80618793,\n",
       "       0.82832046, 0.76770048, 0.63313251])"
      ]
     },
     "execution_count": 217,
     "metadata": {},
     "output_type": "execute_result"
    }
   ],
   "source": [
    "models.cv_results_['mean_test_accuracy']"
   ]
  },
  {
   "cell_type": "code",
   "execution_count": 218,
   "id": "197394c6",
   "metadata": {},
   "outputs": [
    {
     "data": {
      "text/plain": [
       "[{'learning_rate': 0.4,\n",
       "  'max_depth': 3,\n",
       "  'max_features': 'sqrt',\n",
       "  'n_estimators': 50},\n",
       " {'learning_rate': 0.4,\n",
       "  'max_depth': 3,\n",
       "  'max_features': 'sqrt',\n",
       "  'n_estimators': 100},\n",
       " {'learning_rate': 0.4,\n",
       "  'max_depth': 3,\n",
       "  'max_features': 'sqrt',\n",
       "  'n_estimators': 150},\n",
       " {'learning_rate': 0.4,\n",
       "  'max_depth': 3,\n",
       "  'max_features': 'sqrt',\n",
       "  'n_estimators': 200},\n",
       " {'learning_rate': 0.4,\n",
       "  'max_depth': 3,\n",
       "  'max_features': 'log2',\n",
       "  'n_estimators': 50},\n",
       " {'learning_rate': 0.4,\n",
       "  'max_depth': 3,\n",
       "  'max_features': 'log2',\n",
       "  'n_estimators': 100},\n",
       " {'learning_rate': 0.4,\n",
       "  'max_depth': 3,\n",
       "  'max_features': 'log2',\n",
       "  'n_estimators': 150},\n",
       " {'learning_rate': 0.4,\n",
       "  'max_depth': 3,\n",
       "  'max_features': 'log2',\n",
       "  'n_estimators': 200},\n",
       " {'learning_rate': 0.4,\n",
       "  'max_depth': 4,\n",
       "  'max_features': 'sqrt',\n",
       "  'n_estimators': 50},\n",
       " {'learning_rate': 0.4,\n",
       "  'max_depth': 4,\n",
       "  'max_features': 'sqrt',\n",
       "  'n_estimators': 100},\n",
       " {'learning_rate': 0.4,\n",
       "  'max_depth': 4,\n",
       "  'max_features': 'sqrt',\n",
       "  'n_estimators': 150},\n",
       " {'learning_rate': 0.4,\n",
       "  'max_depth': 4,\n",
       "  'max_features': 'sqrt',\n",
       "  'n_estimators': 200},\n",
       " {'learning_rate': 0.4,\n",
       "  'max_depth': 4,\n",
       "  'max_features': 'log2',\n",
       "  'n_estimators': 50},\n",
       " {'learning_rate': 0.4,\n",
       "  'max_depth': 4,\n",
       "  'max_features': 'log2',\n",
       "  'n_estimators': 100},\n",
       " {'learning_rate': 0.4,\n",
       "  'max_depth': 4,\n",
       "  'max_features': 'log2',\n",
       "  'n_estimators': 150},\n",
       " {'learning_rate': 0.4,\n",
       "  'max_depth': 4,\n",
       "  'max_features': 'log2',\n",
       "  'n_estimators': 200},\n",
       " {'learning_rate': 0.4,\n",
       "  'max_depth': 5,\n",
       "  'max_features': 'sqrt',\n",
       "  'n_estimators': 50},\n",
       " {'learning_rate': 0.4,\n",
       "  'max_depth': 5,\n",
       "  'max_features': 'sqrt',\n",
       "  'n_estimators': 100},\n",
       " {'learning_rate': 0.4,\n",
       "  'max_depth': 5,\n",
       "  'max_features': 'sqrt',\n",
       "  'n_estimators': 150},\n",
       " {'learning_rate': 0.4,\n",
       "  'max_depth': 5,\n",
       "  'max_features': 'sqrt',\n",
       "  'n_estimators': 200},\n",
       " {'learning_rate': 0.4,\n",
       "  'max_depth': 5,\n",
       "  'max_features': 'log2',\n",
       "  'n_estimators': 50},\n",
       " {'learning_rate': 0.4,\n",
       "  'max_depth': 5,\n",
       "  'max_features': 'log2',\n",
       "  'n_estimators': 100},\n",
       " {'learning_rate': 0.4,\n",
       "  'max_depth': 5,\n",
       "  'max_features': 'log2',\n",
       "  'n_estimators': 150},\n",
       " {'learning_rate': 0.4,\n",
       "  'max_depth': 5,\n",
       "  'max_features': 'log2',\n",
       "  'n_estimators': 200},\n",
       " {'learning_rate': 0.5,\n",
       "  'max_depth': 3,\n",
       "  'max_features': 'sqrt',\n",
       "  'n_estimators': 50},\n",
       " {'learning_rate': 0.5,\n",
       "  'max_depth': 3,\n",
       "  'max_features': 'sqrt',\n",
       "  'n_estimators': 100},\n",
       " {'learning_rate': 0.5,\n",
       "  'max_depth': 3,\n",
       "  'max_features': 'sqrt',\n",
       "  'n_estimators': 150},\n",
       " {'learning_rate': 0.5,\n",
       "  'max_depth': 3,\n",
       "  'max_features': 'sqrt',\n",
       "  'n_estimators': 200},\n",
       " {'learning_rate': 0.5,\n",
       "  'max_depth': 3,\n",
       "  'max_features': 'log2',\n",
       "  'n_estimators': 50},\n",
       " {'learning_rate': 0.5,\n",
       "  'max_depth': 3,\n",
       "  'max_features': 'log2',\n",
       "  'n_estimators': 100},\n",
       " {'learning_rate': 0.5,\n",
       "  'max_depth': 3,\n",
       "  'max_features': 'log2',\n",
       "  'n_estimators': 150},\n",
       " {'learning_rate': 0.5,\n",
       "  'max_depth': 3,\n",
       "  'max_features': 'log2',\n",
       "  'n_estimators': 200},\n",
       " {'learning_rate': 0.5,\n",
       "  'max_depth': 4,\n",
       "  'max_features': 'sqrt',\n",
       "  'n_estimators': 50},\n",
       " {'learning_rate': 0.5,\n",
       "  'max_depth': 4,\n",
       "  'max_features': 'sqrt',\n",
       "  'n_estimators': 100},\n",
       " {'learning_rate': 0.5,\n",
       "  'max_depth': 4,\n",
       "  'max_features': 'sqrt',\n",
       "  'n_estimators': 150},\n",
       " {'learning_rate': 0.5,\n",
       "  'max_depth': 4,\n",
       "  'max_features': 'sqrt',\n",
       "  'n_estimators': 200},\n",
       " {'learning_rate': 0.5,\n",
       "  'max_depth': 4,\n",
       "  'max_features': 'log2',\n",
       "  'n_estimators': 50},\n",
       " {'learning_rate': 0.5,\n",
       "  'max_depth': 4,\n",
       "  'max_features': 'log2',\n",
       "  'n_estimators': 100},\n",
       " {'learning_rate': 0.5,\n",
       "  'max_depth': 4,\n",
       "  'max_features': 'log2',\n",
       "  'n_estimators': 150},\n",
       " {'learning_rate': 0.5,\n",
       "  'max_depth': 4,\n",
       "  'max_features': 'log2',\n",
       "  'n_estimators': 200},\n",
       " {'learning_rate': 0.5,\n",
       "  'max_depth': 5,\n",
       "  'max_features': 'sqrt',\n",
       "  'n_estimators': 50},\n",
       " {'learning_rate': 0.5,\n",
       "  'max_depth': 5,\n",
       "  'max_features': 'sqrt',\n",
       "  'n_estimators': 100},\n",
       " {'learning_rate': 0.5,\n",
       "  'max_depth': 5,\n",
       "  'max_features': 'sqrt',\n",
       "  'n_estimators': 150},\n",
       " {'learning_rate': 0.5,\n",
       "  'max_depth': 5,\n",
       "  'max_features': 'sqrt',\n",
       "  'n_estimators': 200},\n",
       " {'learning_rate': 0.5,\n",
       "  'max_depth': 5,\n",
       "  'max_features': 'log2',\n",
       "  'n_estimators': 50},\n",
       " {'learning_rate': 0.5,\n",
       "  'max_depth': 5,\n",
       "  'max_features': 'log2',\n",
       "  'n_estimators': 100},\n",
       " {'learning_rate': 0.5,\n",
       "  'max_depth': 5,\n",
       "  'max_features': 'log2',\n",
       "  'n_estimators': 150},\n",
       " {'learning_rate': 0.5,\n",
       "  'max_depth': 5,\n",
       "  'max_features': 'log2',\n",
       "  'n_estimators': 200},\n",
       " {'learning_rate': 0.6,\n",
       "  'max_depth': 3,\n",
       "  'max_features': 'sqrt',\n",
       "  'n_estimators': 50},\n",
       " {'learning_rate': 0.6,\n",
       "  'max_depth': 3,\n",
       "  'max_features': 'sqrt',\n",
       "  'n_estimators': 100},\n",
       " {'learning_rate': 0.6,\n",
       "  'max_depth': 3,\n",
       "  'max_features': 'sqrt',\n",
       "  'n_estimators': 150},\n",
       " {'learning_rate': 0.6,\n",
       "  'max_depth': 3,\n",
       "  'max_features': 'sqrt',\n",
       "  'n_estimators': 200},\n",
       " {'learning_rate': 0.6,\n",
       "  'max_depth': 3,\n",
       "  'max_features': 'log2',\n",
       "  'n_estimators': 50},\n",
       " {'learning_rate': 0.6,\n",
       "  'max_depth': 3,\n",
       "  'max_features': 'log2',\n",
       "  'n_estimators': 100},\n",
       " {'learning_rate': 0.6,\n",
       "  'max_depth': 3,\n",
       "  'max_features': 'log2',\n",
       "  'n_estimators': 150},\n",
       " {'learning_rate': 0.6,\n",
       "  'max_depth': 3,\n",
       "  'max_features': 'log2',\n",
       "  'n_estimators': 200},\n",
       " {'learning_rate': 0.6,\n",
       "  'max_depth': 4,\n",
       "  'max_features': 'sqrt',\n",
       "  'n_estimators': 50},\n",
       " {'learning_rate': 0.6,\n",
       "  'max_depth': 4,\n",
       "  'max_features': 'sqrt',\n",
       "  'n_estimators': 100},\n",
       " {'learning_rate': 0.6,\n",
       "  'max_depth': 4,\n",
       "  'max_features': 'sqrt',\n",
       "  'n_estimators': 150},\n",
       " {'learning_rate': 0.6,\n",
       "  'max_depth': 4,\n",
       "  'max_features': 'sqrt',\n",
       "  'n_estimators': 200},\n",
       " {'learning_rate': 0.6,\n",
       "  'max_depth': 4,\n",
       "  'max_features': 'log2',\n",
       "  'n_estimators': 50},\n",
       " {'learning_rate': 0.6,\n",
       "  'max_depth': 4,\n",
       "  'max_features': 'log2',\n",
       "  'n_estimators': 100},\n",
       " {'learning_rate': 0.6,\n",
       "  'max_depth': 4,\n",
       "  'max_features': 'log2',\n",
       "  'n_estimators': 150},\n",
       " {'learning_rate': 0.6,\n",
       "  'max_depth': 4,\n",
       "  'max_features': 'log2',\n",
       "  'n_estimators': 200},\n",
       " {'learning_rate': 0.6,\n",
       "  'max_depth': 5,\n",
       "  'max_features': 'sqrt',\n",
       "  'n_estimators': 50},\n",
       " {'learning_rate': 0.6,\n",
       "  'max_depth': 5,\n",
       "  'max_features': 'sqrt',\n",
       "  'n_estimators': 100},\n",
       " {'learning_rate': 0.6,\n",
       "  'max_depth': 5,\n",
       "  'max_features': 'sqrt',\n",
       "  'n_estimators': 150},\n",
       " {'learning_rate': 0.6,\n",
       "  'max_depth': 5,\n",
       "  'max_features': 'sqrt',\n",
       "  'n_estimators': 200},\n",
       " {'learning_rate': 0.6,\n",
       "  'max_depth': 5,\n",
       "  'max_features': 'log2',\n",
       "  'n_estimators': 50},\n",
       " {'learning_rate': 0.6,\n",
       "  'max_depth': 5,\n",
       "  'max_features': 'log2',\n",
       "  'n_estimators': 100},\n",
       " {'learning_rate': 0.6,\n",
       "  'max_depth': 5,\n",
       "  'max_features': 'log2',\n",
       "  'n_estimators': 150},\n",
       " {'learning_rate': 0.6,\n",
       "  'max_depth': 5,\n",
       "  'max_features': 'log2',\n",
       "  'n_estimators': 200},\n",
       " {'learning_rate': 0.7,\n",
       "  'max_depth': 3,\n",
       "  'max_features': 'sqrt',\n",
       "  'n_estimators': 50},\n",
       " {'learning_rate': 0.7,\n",
       "  'max_depth': 3,\n",
       "  'max_features': 'sqrt',\n",
       "  'n_estimators': 100},\n",
       " {'learning_rate': 0.7,\n",
       "  'max_depth': 3,\n",
       "  'max_features': 'sqrt',\n",
       "  'n_estimators': 150},\n",
       " {'learning_rate': 0.7,\n",
       "  'max_depth': 3,\n",
       "  'max_features': 'sqrt',\n",
       "  'n_estimators': 200},\n",
       " {'learning_rate': 0.7,\n",
       "  'max_depth': 3,\n",
       "  'max_features': 'log2',\n",
       "  'n_estimators': 50},\n",
       " {'learning_rate': 0.7,\n",
       "  'max_depth': 3,\n",
       "  'max_features': 'log2',\n",
       "  'n_estimators': 100},\n",
       " {'learning_rate': 0.7,\n",
       "  'max_depth': 3,\n",
       "  'max_features': 'log2',\n",
       "  'n_estimators': 150},\n",
       " {'learning_rate': 0.7,\n",
       "  'max_depth': 3,\n",
       "  'max_features': 'log2',\n",
       "  'n_estimators': 200},\n",
       " {'learning_rate': 0.7,\n",
       "  'max_depth': 4,\n",
       "  'max_features': 'sqrt',\n",
       "  'n_estimators': 50},\n",
       " {'learning_rate': 0.7,\n",
       "  'max_depth': 4,\n",
       "  'max_features': 'sqrt',\n",
       "  'n_estimators': 100},\n",
       " {'learning_rate': 0.7,\n",
       "  'max_depth': 4,\n",
       "  'max_features': 'sqrt',\n",
       "  'n_estimators': 150},\n",
       " {'learning_rate': 0.7,\n",
       "  'max_depth': 4,\n",
       "  'max_features': 'sqrt',\n",
       "  'n_estimators': 200},\n",
       " {'learning_rate': 0.7,\n",
       "  'max_depth': 4,\n",
       "  'max_features': 'log2',\n",
       "  'n_estimators': 50},\n",
       " {'learning_rate': 0.7,\n",
       "  'max_depth': 4,\n",
       "  'max_features': 'log2',\n",
       "  'n_estimators': 100},\n",
       " {'learning_rate': 0.7,\n",
       "  'max_depth': 4,\n",
       "  'max_features': 'log2',\n",
       "  'n_estimators': 150},\n",
       " {'learning_rate': 0.7,\n",
       "  'max_depth': 4,\n",
       "  'max_features': 'log2',\n",
       "  'n_estimators': 200},\n",
       " {'learning_rate': 0.7,\n",
       "  'max_depth': 5,\n",
       "  'max_features': 'sqrt',\n",
       "  'n_estimators': 50},\n",
       " {'learning_rate': 0.7,\n",
       "  'max_depth': 5,\n",
       "  'max_features': 'sqrt',\n",
       "  'n_estimators': 100},\n",
       " {'learning_rate': 0.7,\n",
       "  'max_depth': 5,\n",
       "  'max_features': 'sqrt',\n",
       "  'n_estimators': 150},\n",
       " {'learning_rate': 0.7,\n",
       "  'max_depth': 5,\n",
       "  'max_features': 'sqrt',\n",
       "  'n_estimators': 200},\n",
       " {'learning_rate': 0.7,\n",
       "  'max_depth': 5,\n",
       "  'max_features': 'log2',\n",
       "  'n_estimators': 50},\n",
       " {'learning_rate': 0.7,\n",
       "  'max_depth': 5,\n",
       "  'max_features': 'log2',\n",
       "  'n_estimators': 100},\n",
       " {'learning_rate': 0.7,\n",
       "  'max_depth': 5,\n",
       "  'max_features': 'log2',\n",
       "  'n_estimators': 150},\n",
       " {'learning_rate': 0.7,\n",
       "  'max_depth': 5,\n",
       "  'max_features': 'log2',\n",
       "  'n_estimators': 200},\n",
       " {'learning_rate': 0.8,\n",
       "  'max_depth': 3,\n",
       "  'max_features': 'sqrt',\n",
       "  'n_estimators': 50},\n",
       " {'learning_rate': 0.8,\n",
       "  'max_depth': 3,\n",
       "  'max_features': 'sqrt',\n",
       "  'n_estimators': 100},\n",
       " {'learning_rate': 0.8,\n",
       "  'max_depth': 3,\n",
       "  'max_features': 'sqrt',\n",
       "  'n_estimators': 150},\n",
       " {'learning_rate': 0.8,\n",
       "  'max_depth': 3,\n",
       "  'max_features': 'sqrt',\n",
       "  'n_estimators': 200},\n",
       " {'learning_rate': 0.8,\n",
       "  'max_depth': 3,\n",
       "  'max_features': 'log2',\n",
       "  'n_estimators': 50},\n",
       " {'learning_rate': 0.8,\n",
       "  'max_depth': 3,\n",
       "  'max_features': 'log2',\n",
       "  'n_estimators': 100},\n",
       " {'learning_rate': 0.8,\n",
       "  'max_depth': 3,\n",
       "  'max_features': 'log2',\n",
       "  'n_estimators': 150},\n",
       " {'learning_rate': 0.8,\n",
       "  'max_depth': 3,\n",
       "  'max_features': 'log2',\n",
       "  'n_estimators': 200},\n",
       " {'learning_rate': 0.8,\n",
       "  'max_depth': 4,\n",
       "  'max_features': 'sqrt',\n",
       "  'n_estimators': 50},\n",
       " {'learning_rate': 0.8,\n",
       "  'max_depth': 4,\n",
       "  'max_features': 'sqrt',\n",
       "  'n_estimators': 100},\n",
       " {'learning_rate': 0.8,\n",
       "  'max_depth': 4,\n",
       "  'max_features': 'sqrt',\n",
       "  'n_estimators': 150},\n",
       " {'learning_rate': 0.8,\n",
       "  'max_depth': 4,\n",
       "  'max_features': 'sqrt',\n",
       "  'n_estimators': 200},\n",
       " {'learning_rate': 0.8,\n",
       "  'max_depth': 4,\n",
       "  'max_features': 'log2',\n",
       "  'n_estimators': 50},\n",
       " {'learning_rate': 0.8,\n",
       "  'max_depth': 4,\n",
       "  'max_features': 'log2',\n",
       "  'n_estimators': 100},\n",
       " {'learning_rate': 0.8,\n",
       "  'max_depth': 4,\n",
       "  'max_features': 'log2',\n",
       "  'n_estimators': 150},\n",
       " {'learning_rate': 0.8,\n",
       "  'max_depth': 4,\n",
       "  'max_features': 'log2',\n",
       "  'n_estimators': 200},\n",
       " {'learning_rate': 0.8,\n",
       "  'max_depth': 5,\n",
       "  'max_features': 'sqrt',\n",
       "  'n_estimators': 50},\n",
       " {'learning_rate': 0.8,\n",
       "  'max_depth': 5,\n",
       "  'max_features': 'sqrt',\n",
       "  'n_estimators': 100},\n",
       " {'learning_rate': 0.8,\n",
       "  'max_depth': 5,\n",
       "  'max_features': 'sqrt',\n",
       "  'n_estimators': 150},\n",
       " {'learning_rate': 0.8,\n",
       "  'max_depth': 5,\n",
       "  'max_features': 'sqrt',\n",
       "  'n_estimators': 200},\n",
       " {'learning_rate': 0.8,\n",
       "  'max_depth': 5,\n",
       "  'max_features': 'log2',\n",
       "  'n_estimators': 50},\n",
       " {'learning_rate': 0.8,\n",
       "  'max_depth': 5,\n",
       "  'max_features': 'log2',\n",
       "  'n_estimators': 100},\n",
       " {'learning_rate': 0.8,\n",
       "  'max_depth': 5,\n",
       "  'max_features': 'log2',\n",
       "  'n_estimators': 150},\n",
       " {'learning_rate': 0.8,\n",
       "  'max_depth': 5,\n",
       "  'max_features': 'log2',\n",
       "  'n_estimators': 200},\n",
       " {'learning_rate': 1,\n",
       "  'max_depth': 3,\n",
       "  'max_features': 'sqrt',\n",
       "  'n_estimators': 50},\n",
       " {'learning_rate': 1,\n",
       "  'max_depth': 3,\n",
       "  'max_features': 'sqrt',\n",
       "  'n_estimators': 100},\n",
       " {'learning_rate': 1,\n",
       "  'max_depth': 3,\n",
       "  'max_features': 'sqrt',\n",
       "  'n_estimators': 150},\n",
       " {'learning_rate': 1,\n",
       "  'max_depth': 3,\n",
       "  'max_features': 'sqrt',\n",
       "  'n_estimators': 200},\n",
       " {'learning_rate': 1,\n",
       "  'max_depth': 3,\n",
       "  'max_features': 'log2',\n",
       "  'n_estimators': 50},\n",
       " {'learning_rate': 1,\n",
       "  'max_depth': 3,\n",
       "  'max_features': 'log2',\n",
       "  'n_estimators': 100},\n",
       " {'learning_rate': 1,\n",
       "  'max_depth': 3,\n",
       "  'max_features': 'log2',\n",
       "  'n_estimators': 150},\n",
       " {'learning_rate': 1,\n",
       "  'max_depth': 3,\n",
       "  'max_features': 'log2',\n",
       "  'n_estimators': 200},\n",
       " {'learning_rate': 1,\n",
       "  'max_depth': 4,\n",
       "  'max_features': 'sqrt',\n",
       "  'n_estimators': 50},\n",
       " {'learning_rate': 1,\n",
       "  'max_depth': 4,\n",
       "  'max_features': 'sqrt',\n",
       "  'n_estimators': 100},\n",
       " {'learning_rate': 1,\n",
       "  'max_depth': 4,\n",
       "  'max_features': 'sqrt',\n",
       "  'n_estimators': 150},\n",
       " {'learning_rate': 1,\n",
       "  'max_depth': 4,\n",
       "  'max_features': 'sqrt',\n",
       "  'n_estimators': 200},\n",
       " {'learning_rate': 1,\n",
       "  'max_depth': 4,\n",
       "  'max_features': 'log2',\n",
       "  'n_estimators': 50},\n",
       " {'learning_rate': 1,\n",
       "  'max_depth': 4,\n",
       "  'max_features': 'log2',\n",
       "  'n_estimators': 100},\n",
       " {'learning_rate': 1,\n",
       "  'max_depth': 4,\n",
       "  'max_features': 'log2',\n",
       "  'n_estimators': 150},\n",
       " {'learning_rate': 1,\n",
       "  'max_depth': 4,\n",
       "  'max_features': 'log2',\n",
       "  'n_estimators': 200},\n",
       " {'learning_rate': 1,\n",
       "  'max_depth': 5,\n",
       "  'max_features': 'sqrt',\n",
       "  'n_estimators': 50},\n",
       " {'learning_rate': 1,\n",
       "  'max_depth': 5,\n",
       "  'max_features': 'sqrt',\n",
       "  'n_estimators': 100},\n",
       " {'learning_rate': 1,\n",
       "  'max_depth': 5,\n",
       "  'max_features': 'sqrt',\n",
       "  'n_estimators': 150},\n",
       " {'learning_rate': 1,\n",
       "  'max_depth': 5,\n",
       "  'max_features': 'sqrt',\n",
       "  'n_estimators': 200},\n",
       " {'learning_rate': 1,\n",
       "  'max_depth': 5,\n",
       "  'max_features': 'log2',\n",
       "  'n_estimators': 50},\n",
       " {'learning_rate': 1,\n",
       "  'max_depth': 5,\n",
       "  'max_features': 'log2',\n",
       "  'n_estimators': 100},\n",
       " {'learning_rate': 1,\n",
       "  'max_depth': 5,\n",
       "  'max_features': 'log2',\n",
       "  'n_estimators': 150},\n",
       " {'learning_rate': 1,\n",
       "  'max_depth': 5,\n",
       "  'max_features': 'log2',\n",
       "  'n_estimators': 200},\n",
       " {'learning_rate': 1.2,\n",
       "  'max_depth': 3,\n",
       "  'max_features': 'sqrt',\n",
       "  'n_estimators': 50},\n",
       " {'learning_rate': 1.2,\n",
       "  'max_depth': 3,\n",
       "  'max_features': 'sqrt',\n",
       "  'n_estimators': 100},\n",
       " {'learning_rate': 1.2,\n",
       "  'max_depth': 3,\n",
       "  'max_features': 'sqrt',\n",
       "  'n_estimators': 150},\n",
       " {'learning_rate': 1.2,\n",
       "  'max_depth': 3,\n",
       "  'max_features': 'sqrt',\n",
       "  'n_estimators': 200},\n",
       " {'learning_rate': 1.2,\n",
       "  'max_depth': 3,\n",
       "  'max_features': 'log2',\n",
       "  'n_estimators': 50},\n",
       " {'learning_rate': 1.2,\n",
       "  'max_depth': 3,\n",
       "  'max_features': 'log2',\n",
       "  'n_estimators': 100},\n",
       " {'learning_rate': 1.2,\n",
       "  'max_depth': 3,\n",
       "  'max_features': 'log2',\n",
       "  'n_estimators': 150},\n",
       " {'learning_rate': 1.2,\n",
       "  'max_depth': 3,\n",
       "  'max_features': 'log2',\n",
       "  'n_estimators': 200},\n",
       " {'learning_rate': 1.2,\n",
       "  'max_depth': 4,\n",
       "  'max_features': 'sqrt',\n",
       "  'n_estimators': 50},\n",
       " {'learning_rate': 1.2,\n",
       "  'max_depth': 4,\n",
       "  'max_features': 'sqrt',\n",
       "  'n_estimators': 100},\n",
       " {'learning_rate': 1.2,\n",
       "  'max_depth': 4,\n",
       "  'max_features': 'sqrt',\n",
       "  'n_estimators': 150},\n",
       " {'learning_rate': 1.2,\n",
       "  'max_depth': 4,\n",
       "  'max_features': 'sqrt',\n",
       "  'n_estimators': 200},\n",
       " {'learning_rate': 1.2,\n",
       "  'max_depth': 4,\n",
       "  'max_features': 'log2',\n",
       "  'n_estimators': 50},\n",
       " {'learning_rate': 1.2,\n",
       "  'max_depth': 4,\n",
       "  'max_features': 'log2',\n",
       "  'n_estimators': 100},\n",
       " {'learning_rate': 1.2,\n",
       "  'max_depth': 4,\n",
       "  'max_features': 'log2',\n",
       "  'n_estimators': 150},\n",
       " {'learning_rate': 1.2,\n",
       "  'max_depth': 4,\n",
       "  'max_features': 'log2',\n",
       "  'n_estimators': 200},\n",
       " {'learning_rate': 1.2,\n",
       "  'max_depth': 5,\n",
       "  'max_features': 'sqrt',\n",
       "  'n_estimators': 50},\n",
       " {'learning_rate': 1.2,\n",
       "  'max_depth': 5,\n",
       "  'max_features': 'sqrt',\n",
       "  'n_estimators': 100},\n",
       " {'learning_rate': 1.2,\n",
       "  'max_depth': 5,\n",
       "  'max_features': 'sqrt',\n",
       "  'n_estimators': 150},\n",
       " {'learning_rate': 1.2,\n",
       "  'max_depth': 5,\n",
       "  'max_features': 'sqrt',\n",
       "  'n_estimators': 200},\n",
       " {'learning_rate': 1.2,\n",
       "  'max_depth': 5,\n",
       "  'max_features': 'log2',\n",
       "  'n_estimators': 50},\n",
       " {'learning_rate': 1.2,\n",
       "  'max_depth': 5,\n",
       "  'max_features': 'log2',\n",
       "  'n_estimators': 100},\n",
       " {'learning_rate': 1.2,\n",
       "  'max_depth': 5,\n",
       "  'max_features': 'log2',\n",
       "  'n_estimators': 150},\n",
       " {'learning_rate': 1.2,\n",
       "  'max_depth': 5,\n",
       "  'max_features': 'log2',\n",
       "  'n_estimators': 200}]"
      ]
     },
     "execution_count": 218,
     "metadata": {},
     "output_type": "execute_result"
    }
   ],
   "source": [
    "models.cv_results_['params']"
   ]
  },
  {
   "cell_type": "markdown",
   "id": "0f926552",
   "metadata": {},
   "source": [
    "### Printing the Precision , recall & accuracy for different tree numbers"
   ]
  },
  {
   "cell_type": "markdown",
   "id": "50c8a880",
   "metadata": {},
   "source": [
    "### Reported on the Validation Set( Not Test Set) - as Hyper param selection needs to be done"
   ]
  },
  {
   "cell_type": "code",
   "execution_count": 219,
   "id": "ceedcfaa",
   "metadata": {},
   "outputs": [
    {
     "data": {
      "text/plain": [
       "3513"
      ]
     },
     "execution_count": 219,
     "metadata": {},
     "output_type": "execute_result"
    }
   ],
   "source": [
    "import gc\n",
    "gc.collect()"
   ]
  },
  {
   "cell_type": "code",
   "execution_count": 220,
   "id": "544fd8d4",
   "metadata": {},
   "outputs": [
    {
     "name": "stdout",
     "output_type": "stream",
     "text": [
      "time in minutes 1.078266171614329\n"
     ]
    }
   ],
   "source": [
    "# GradientBoostingClassifier(learning_rate=0.5, max_depth=4, max_features='sqrt', n_estimators=200)\n",
    "import time\n",
    "start = time.time()\n",
    "parameter_list = {'n_estimators':[7,10,20,30,40,50,70,100,150,200, 220, 250, 270,300,330, 360,400], 'max_depth':[4], 'max_features':['sqrt'],\n",
    "                  'learning_rate':[0.5]}\n",
    "model_tree = GridSearchCV(GradientBoostingClassifier(), parameter_list,scoring=custom_scoring , refit=\"accuracy\", n_jobs =-1)\n",
    "model_tree.fit(X_train, loan_train['target'])\n",
    "end = time.time()\n",
    "# n_jobs =-1 uses all the hardware processors. Depending on your machine, might take more time\n",
    "print('time in minutes', (end - start)/60)"
   ]
  },
  {
   "cell_type": "code",
   "execution_count": 221,
   "id": "447fff71",
   "metadata": {},
   "outputs": [
    {
     "name": "stdout",
     "output_type": "stream",
     "text": [
      "7\n",
      "10\n",
      "20\n",
      "30\n",
      "40\n",
      "50\n",
      "70\n",
      "100\n",
      "150\n",
      "200\n",
      "220\n",
      "250\n",
      "270\n",
      "300\n",
      "330\n",
      "360\n",
      "400\n"
     ]
    }
   ],
   "source": [
    "for item in model_tree.cv_results_['params']:\n",
    "    print(item['n_estimators'])"
   ]
  },
  {
   "cell_type": "code",
   "execution_count": 222,
   "id": "757f9395",
   "metadata": {},
   "outputs": [
    {
     "data": {
      "text/plain": [
       "array([0.97406228, 0.98315234, 0.99034231, 0.99303669, 0.99346018,\n",
       "       0.99331753, 0.99460238, 0.99498397, 0.99507884, 0.99536595,\n",
       "       0.99541305, 0.98996713, 0.99148337, 0.99385264, 0.98728211,\n",
       "       0.99579384, 0.9938734 ])"
      ]
     },
     "execution_count": 222,
     "metadata": {},
     "output_type": "execute_result"
    }
   ],
   "source": [
    "model_tree.cv_results_['mean_test_precision']"
   ]
  },
  {
   "cell_type": "code",
   "execution_count": 223,
   "id": "8efa6f1c",
   "metadata": {},
   "outputs": [
    {
     "data": {
      "text/plain": [
       "array([0.9991837 , 0.99927978, 0.99908773, 0.99932778, 0.99903975,\n",
       "       0.99879955, 0.99927979, 0.99961588, 0.99961587, 0.9997599 ,\n",
       "       0.99956786, 0.98713391, 0.98189676, 0.96278513, 0.8961825 ,\n",
       "       0.99975994, 0.99395101])"
      ]
     },
     "execution_count": 223,
     "metadata": {},
     "output_type": "execute_result"
    }
   ],
   "source": [
    "model_tree.cv_results_['mean_test_recall']  "
   ]
  },
  {
   "cell_type": "code",
   "execution_count": 224,
   "id": "0a8f30aa",
   "metadata": {},
   "outputs": [
    {
     "data": {
      "text/plain": [
       "array([0.98645404, 0.99114614, 0.99469478, 0.99617178, 0.99624177,\n",
       "       0.99605063, 0.99693505, 0.99729406, 0.99734184, 0.99755733,\n",
       "       0.99748522, 0.98849729, 0.98645403, 0.97671085, 0.92615976,\n",
       "       0.99777231, 0.9938959 ])"
      ]
     },
     "execution_count": 224,
     "metadata": {},
     "output_type": "execute_result"
    }
   ],
   "source": [
    "model_tree.cv_results_['mean_test_f1']  "
   ]
  },
  {
   "cell_type": "code",
   "execution_count": 225,
   "id": "61079131",
   "metadata": {},
   "outputs": [
    {
     "data": {
      "text/plain": [
       "array([0.9764619 , 0.98469185, 0.99086449, 0.99341585, 0.99353935,\n",
       "       0.99321011, 0.99473274, 0.99535   , 0.99543229, 0.99580264,\n",
       "       0.9956792 , 0.98053833, 0.97744872, 0.96329235, 0.90395078,\n",
       "       0.99617301, 0.98959002])"
      ]
     },
     "execution_count": 225,
     "metadata": {},
     "output_type": "execute_result"
    }
   ],
   "source": [
    "model_tree.cv_results_['mean_test_accuracy']"
   ]
  },
  {
   "cell_type": "code",
   "execution_count": 226,
   "id": "f5b643fb",
   "metadata": {},
   "outputs": [
    {
     "data": {
      "text/plain": [
       "GradientBoostingClassifier(learning_rate=0.5, max_depth=4, max_features='sqrt',\n",
       "                           n_estimators=360)"
      ]
     },
     "execution_count": 226,
     "metadata": {},
     "output_type": "execute_result"
    }
   ],
   "source": [
    "model_tree.best_estimator_"
   ]
  },
  {
   "cell_type": "code",
   "execution_count": 227,
   "id": "b02017a2",
   "metadata": {},
   "outputs": [
    {
     "data": {
      "image/png": "[encoded data removed]",
      "text/plain": [
       "<Figure size 432x288 with 1 Axes>"
      ]
     },
     "metadata": {
      "needs_background": "light"
     },
     "output_type": "display_data"
    }
   ],
   "source": [
    "x = [7,10,20,30,40,50,70,100,150,200, 220, 250, 270,300,330, 360,400]\n",
    "plt.plot(x, model_tree.cv_results_['mean_test_accuracy'],'b')\n",
    "plt.plot(x, model_tree.cv_results_['mean_test_f1'],'g')\n",
    "plt.plot(x, model_tree.cv_results_['mean_test_precision'],'y')\n",
    "plt.plot(x, model_tree.cv_results_['mean_test_recall'],'r')\n",
    "plt.show()"
   ]
  },
  {
   "cell_type": "code",
   "execution_count": 228,
   "id": "ad7a39c1",
   "metadata": {},
   "outputs": [
    {
     "name": "stdout",
     "output_type": "stream",
     "text": [
      "Test Accuracy 0.9956570467918184\n",
      "Test Precision 0.9995050730017322\n",
      "Test Recall 0.9953996549741231\n"
     ]
    }
   ],
   "source": [
    "selected_model = GradientBoostingClassifier(learning_rate=0.5, max_depth=4, max_features='sqrt',n_estimators=360)\n",
    "selected_model.fit(X_train,loan_train['target'])\n",
    "y_predicted = selected_model.predict(X_test)\n",
    "print('Test Accuracy',accuracy_score(y_predicted, loan_test['target']))\n",
    "print('Test Precision',precision_score(y_predicted, loan_test['target']))\n",
    "print('Test Recall',recall_score(y_predicted, loan_test['target']))"
   ]
  },
  {
   "cell_type": "markdown",
   "id": "a12b9b36",
   "metadata": {},
   "source": [
    "# Comparison with Decision Tree"
   ]
  },
  {
   "cell_type": "code",
   "execution_count": 229,
   "id": "15f4d421",
   "metadata": {},
   "outputs": [
    {
     "name": "stdout",
     "output_type": "stream",
     "text": [
      "Test Accuracy 0.9913841412160269\n",
      "Test Precision 0.9942258516868762\n",
      "Test Recall 0.9956220056170494\n"
     ]
    }
   ],
   "source": [
    "DT = DecisionTreeClassifier()\n",
    "DT = DT.fit(X_train,loan_train['target'])\n",
    "y_predicted = DT.predict(X_test)\n",
    "print('Test Accuracy',accuracy_score(y_predicted, loan_test['target']))\n",
    "print('Test Precision',precision_score(y_predicted, loan_test['target']))\n",
    "print('Test Recall',recall_score(y_predicted, loan_test['target']))"
   ]
  },
  {
   "cell_type": "code",
   "execution_count": null,
   "id": "d2f14b88",
   "metadata": {},
   "outputs": [],
   "source": []
  },
  {
   "cell_type": "code",
   "execution_count": null,
   "id": "08804e26",
   "metadata": {},
   "outputs": [],
   "source": []
  }
 ],
 "metadata": {
  "kernelspec": {
   "display_name": "Python 3",
   "language": "python",
   "name": "python3"
  },
  "language_info": {
   "codemirror_mode": {
    "name": "ipython",
    "version": 3
   },
   "file_extension": ".py",
   "mimetype": "text/x-python",
   "name": "python",
   "nbconvert_exporter": "python",
   "pygments_lexer": "ipython3",
   "version": "3.8.8"
  }
 },
 "nbformat": 4,
 "nbformat_minor": 5
}
