{
 "cells": [
  {
   "cell_type": "code",
   "execution_count": 1,
   "id": "be3f0685",
   "metadata": {},
   "outputs": [],
   "source": [
    "import numpy as np\n",
    "import pandas as pd\n",
    "import os\n",
    "import gc"
   ]
  },
  {
   "cell_type": "code",
   "execution_count": 2,
   "id": "00e2eaf6",
   "metadata": {},
   "outputs": [],
   "source": [
    "import csv\n",
    "from operator import le, eq\n",
    "from more_itertools import numeric_range"
   ]
  },
  {
   "cell_type": "code",
   "execution_count": 3,
   "id": "8baa3564",
   "metadata": {},
   "outputs": [],
   "source": [
    "from sklearn.model_selection import train_test_split\n",
    "from sklearn.metrics import accuracy_score\n",
    "import functools\n",
    "import time\n",
    "import sklearn"
   ]
  },
  {
   "cell_type": "markdown",
   "id": "f9488369",
   "metadata": {},
   "source": [
    "### version of python & libraries"
   ]
  },
  {
   "cell_type": "code",
   "execution_count": 4,
   "id": "8c1e0dde",
   "metadata": {},
   "outputs": [
    {
     "name": "stdout",
     "output_type": "stream",
     "text": [
      "3.8.8 (default, Apr 13 2021, 15:08:03) [MSC v.1916 64 bit (AMD64)]\n",
      "numpy version 1.20.1\n",
      "pandas version 1.2.4\n",
      "sklearn version 0.24.1\n"
     ]
    }
   ],
   "source": [
    "import sys\n",
    "print(sys.version)\n",
    "print('numpy version',np.__version__)\n",
    "print('pandas version',pd.__version__)\n",
    "print('sklearn version',sklearn.__version__)"
   ]
  },
  {
   "cell_type": "code",
   "execution_count": 5,
   "id": "a59cf373",
   "metadata": {},
   "outputs": [
    {
     "data": {
      "text/plain": [
       "['Answers', 'loan_test.csv', 'loan_train.csv', 'Self Study', 'spam.data.txt']"
      ]
     },
     "execution_count": 5,
     "metadata": {},
     "output_type": "execute_result"
    }
   ],
   "source": [
    "os.chdir(r'C:\\Users\\saura\\OneDrive\\Documents\\IIT Hyderabad\\Assignments\\ML\\Assignment_3')\n",
    "os.listdir()"
   ]
  },
  {
   "cell_type": "code",
   "execution_count": 6,
   "id": "e2e5c122",
   "metadata": {},
   "outputs": [],
   "source": [
    "myname = 'Sauradeep-Debnath-'"
   ]
  },
  {
   "cell_type": "markdown",
   "id": "d9a84068",
   "metadata": {},
   "source": [
    "# LOAD datasets"
   ]
  },
  {
   "cell_type": "code",
   "execution_count": 7,
   "id": "05bbdf97",
   "metadata": {},
   "outputs": [
    {
     "name": "stdout",
     "output_type": "stream",
     "text": [
      "{dtype('float64'), dtype('int64')}\n"
     ]
    },
    {
     "data": {
      "text/html": [
       "<div>\n",
       "<style scoped>\n",
       "    .dataframe tbody tr th:only-of-type {\n",
       "        vertical-align: middle;\n",
       "    }\n",
       "\n",
       "    .dataframe tbody tr th {\n",
       "        vertical-align: top;\n",
       "    }\n",
       "\n",
       "    .dataframe thead th {\n",
       "        text-align: right;\n",
       "    }\n",
       "</style>\n",
       "<table border=\"1\" class=\"dataframe\">\n",
       "  <thead>\n",
       "    <tr style=\"text-align: right;\">\n",
       "      <th></th>\n",
       "      <th>0</th>\n",
       "      <th>1</th>\n",
       "      <th>2</th>\n",
       "      <th>3</th>\n",
       "      <th>4</th>\n",
       "      <th>5</th>\n",
       "      <th>6</th>\n",
       "      <th>7</th>\n",
       "      <th>8</th>\n",
       "      <th>9</th>\n",
       "      <th>...</th>\n",
       "      <th>48</th>\n",
       "      <th>49</th>\n",
       "      <th>50</th>\n",
       "      <th>51</th>\n",
       "      <th>52</th>\n",
       "      <th>53</th>\n",
       "      <th>54</th>\n",
       "      <th>55</th>\n",
       "      <th>56</th>\n",
       "      <th>57</th>\n",
       "    </tr>\n",
       "  </thead>\n",
       "  <tbody>\n",
       "    <tr>\n",
       "      <th>0</th>\n",
       "      <td>0.00</td>\n",
       "      <td>0.64</td>\n",
       "      <td>0.64</td>\n",
       "      <td>0.0</td>\n",
       "      <td>0.32</td>\n",
       "      <td>0.00</td>\n",
       "      <td>0.00</td>\n",
       "      <td>0.00</td>\n",
       "      <td>0.00</td>\n",
       "      <td>0.00</td>\n",
       "      <td>...</td>\n",
       "      <td>0.00</td>\n",
       "      <td>0.000</td>\n",
       "      <td>0.0</td>\n",
       "      <td>0.778</td>\n",
       "      <td>0.000</td>\n",
       "      <td>0.000</td>\n",
       "      <td>3.756</td>\n",
       "      <td>61</td>\n",
       "      <td>278</td>\n",
       "      <td>1</td>\n",
       "    </tr>\n",
       "    <tr>\n",
       "      <th>1</th>\n",
       "      <td>0.21</td>\n",
       "      <td>0.28</td>\n",
       "      <td>0.50</td>\n",
       "      <td>0.0</td>\n",
       "      <td>0.14</td>\n",
       "      <td>0.28</td>\n",
       "      <td>0.21</td>\n",
       "      <td>0.07</td>\n",
       "      <td>0.00</td>\n",
       "      <td>0.94</td>\n",
       "      <td>...</td>\n",
       "      <td>0.00</td>\n",
       "      <td>0.132</td>\n",
       "      <td>0.0</td>\n",
       "      <td>0.372</td>\n",
       "      <td>0.180</td>\n",
       "      <td>0.048</td>\n",
       "      <td>5.114</td>\n",
       "      <td>101</td>\n",
       "      <td>1028</td>\n",
       "      <td>1</td>\n",
       "    </tr>\n",
       "    <tr>\n",
       "      <th>2</th>\n",
       "      <td>0.06</td>\n",
       "      <td>0.00</td>\n",
       "      <td>0.71</td>\n",
       "      <td>0.0</td>\n",
       "      <td>1.23</td>\n",
       "      <td>0.19</td>\n",
       "      <td>0.19</td>\n",
       "      <td>0.12</td>\n",
       "      <td>0.64</td>\n",
       "      <td>0.25</td>\n",
       "      <td>...</td>\n",
       "      <td>0.01</td>\n",
       "      <td>0.143</td>\n",
       "      <td>0.0</td>\n",
       "      <td>0.276</td>\n",
       "      <td>0.184</td>\n",
       "      <td>0.010</td>\n",
       "      <td>9.821</td>\n",
       "      <td>485</td>\n",
       "      <td>2259</td>\n",
       "      <td>1</td>\n",
       "    </tr>\n",
       "    <tr>\n",
       "      <th>3</th>\n",
       "      <td>0.00</td>\n",
       "      <td>0.00</td>\n",
       "      <td>0.00</td>\n",
       "      <td>0.0</td>\n",
       "      <td>0.63</td>\n",
       "      <td>0.00</td>\n",
       "      <td>0.31</td>\n",
       "      <td>0.63</td>\n",
       "      <td>0.31</td>\n",
       "      <td>0.63</td>\n",
       "      <td>...</td>\n",
       "      <td>0.00</td>\n",
       "      <td>0.137</td>\n",
       "      <td>0.0</td>\n",
       "      <td>0.137</td>\n",
       "      <td>0.000</td>\n",
       "      <td>0.000</td>\n",
       "      <td>3.537</td>\n",
       "      <td>40</td>\n",
       "      <td>191</td>\n",
       "      <td>1</td>\n",
       "    </tr>\n",
       "    <tr>\n",
       "      <th>4</th>\n",
       "      <td>0.00</td>\n",
       "      <td>0.00</td>\n",
       "      <td>0.00</td>\n",
       "      <td>0.0</td>\n",
       "      <td>0.63</td>\n",
       "      <td>0.00</td>\n",
       "      <td>0.31</td>\n",
       "      <td>0.63</td>\n",
       "      <td>0.31</td>\n",
       "      <td>0.63</td>\n",
       "      <td>...</td>\n",
       "      <td>0.00</td>\n",
       "      <td>0.135</td>\n",
       "      <td>0.0</td>\n",
       "      <td>0.135</td>\n",
       "      <td>0.000</td>\n",
       "      <td>0.000</td>\n",
       "      <td>3.537</td>\n",
       "      <td>40</td>\n",
       "      <td>191</td>\n",
       "      <td>1</td>\n",
       "    </tr>\n",
       "  </tbody>\n",
       "</table>\n",
       "<p>5 rows × 58 columns</p>\n",
       "</div>"
      ],
      "text/plain": [
       "     0     1     2    3     4     5     6     7     8     9   ...    48  \\\n",
       "0  0.00  0.64  0.64  0.0  0.32  0.00  0.00  0.00  0.00  0.00  ...  0.00   \n",
       "1  0.21  0.28  0.50  0.0  0.14  0.28  0.21  0.07  0.00  0.94  ...  0.00   \n",
       "2  0.06  0.00  0.71  0.0  1.23  0.19  0.19  0.12  0.64  0.25  ...  0.01   \n",
       "3  0.00  0.00  0.00  0.0  0.63  0.00  0.31  0.63  0.31  0.63  ...  0.00   \n",
       "4  0.00  0.00  0.00  0.0  0.63  0.00  0.31  0.63  0.31  0.63  ...  0.00   \n",
       "\n",
       "      49   50     51     52     53     54   55    56  57  \n",
       "0  0.000  0.0  0.778  0.000  0.000  3.756   61   278   1  \n",
       "1  0.132  0.0  0.372  0.180  0.048  5.114  101  1028   1  \n",
       "2  0.143  0.0  0.276  0.184  0.010  9.821  485  2259   1  \n",
       "3  0.137  0.0  0.137  0.000  0.000  3.537   40   191   1  \n",
       "4  0.135  0.0  0.135  0.000  0.000  3.537   40   191   1  \n",
       "\n",
       "[5 rows x 58 columns]"
      ]
     },
     "execution_count": 7,
     "metadata": {},
     "output_type": "execute_result"
    }
   ],
   "source": [
    "spam_df = pd.read_csv('spam.data.txt', delimiter = \" \", header=None)\n",
    "print(set(spam_df.dtypes.tolist()))\n",
    "spam_df.head()"
   ]
  },
  {
   "cell_type": "markdown",
   "id": "e0a8499d",
   "metadata": {},
   "source": [
    "### checking the distribution of positive & negative classes "
   ]
  },
  {
   "cell_type": "code",
   "execution_count": 8,
   "id": "22a17e7c",
   "metadata": {},
   "outputs": [
    {
     "data": {
      "text/plain": [
       "0    2788\n",
       "1    1813\n",
       "Name: 57, dtype: int64"
      ]
     },
     "execution_count": 8,
     "metadata": {},
     "output_type": "execute_result"
    }
   ],
   "source": [
    "spam_df[57].value_counts()"
   ]
  },
  {
   "cell_type": "markdown",
   "id": "afcf7cac",
   "metadata": {},
   "source": [
    "### separating the x /features from the dataset"
   ]
  },
  {
   "cell_type": "code",
   "execution_count": 9,
   "id": "d6470355",
   "metadata": {},
   "outputs": [
    {
     "data": {
      "text/html": [
       "<div>\n",
       "<style scoped>\n",
       "    .dataframe tbody tr th:only-of-type {\n",
       "        vertical-align: middle;\n",
       "    }\n",
       "\n",
       "    .dataframe tbody tr th {\n",
       "        vertical-align: top;\n",
       "    }\n",
       "\n",
       "    .dataframe thead th {\n",
       "        text-align: right;\n",
       "    }\n",
       "</style>\n",
       "<table border=\"1\" class=\"dataframe\">\n",
       "  <thead>\n",
       "    <tr style=\"text-align: right;\">\n",
       "      <th></th>\n",
       "      <th>0</th>\n",
       "      <th>1</th>\n",
       "      <th>2</th>\n",
       "      <th>3</th>\n",
       "      <th>4</th>\n",
       "      <th>5</th>\n",
       "      <th>6</th>\n",
       "      <th>7</th>\n",
       "      <th>8</th>\n",
       "      <th>9</th>\n",
       "      <th>...</th>\n",
       "      <th>47</th>\n",
       "      <th>48</th>\n",
       "      <th>49</th>\n",
       "      <th>50</th>\n",
       "      <th>51</th>\n",
       "      <th>52</th>\n",
       "      <th>53</th>\n",
       "      <th>54</th>\n",
       "      <th>55</th>\n",
       "      <th>56</th>\n",
       "    </tr>\n",
       "  </thead>\n",
       "  <tbody>\n",
       "    <tr>\n",
       "      <th>0</th>\n",
       "      <td>0.00</td>\n",
       "      <td>0.64</td>\n",
       "      <td>0.64</td>\n",
       "      <td>0.0</td>\n",
       "      <td>0.32</td>\n",
       "      <td>0.00</td>\n",
       "      <td>0.00</td>\n",
       "      <td>0.00</td>\n",
       "      <td>0.00</td>\n",
       "      <td>0.00</td>\n",
       "      <td>...</td>\n",
       "      <td>0.0</td>\n",
       "      <td>0.00</td>\n",
       "      <td>0.000</td>\n",
       "      <td>0.0</td>\n",
       "      <td>0.778</td>\n",
       "      <td>0.000</td>\n",
       "      <td>0.000</td>\n",
       "      <td>3.756</td>\n",
       "      <td>61.0</td>\n",
       "      <td>278.0</td>\n",
       "    </tr>\n",
       "    <tr>\n",
       "      <th>1</th>\n",
       "      <td>0.21</td>\n",
       "      <td>0.28</td>\n",
       "      <td>0.50</td>\n",
       "      <td>0.0</td>\n",
       "      <td>0.14</td>\n",
       "      <td>0.28</td>\n",
       "      <td>0.21</td>\n",
       "      <td>0.07</td>\n",
       "      <td>0.00</td>\n",
       "      <td>0.94</td>\n",
       "      <td>...</td>\n",
       "      <td>0.0</td>\n",
       "      <td>0.00</td>\n",
       "      <td>0.132</td>\n",
       "      <td>0.0</td>\n",
       "      <td>0.372</td>\n",
       "      <td>0.180</td>\n",
       "      <td>0.048</td>\n",
       "      <td>5.114</td>\n",
       "      <td>101.0</td>\n",
       "      <td>1028.0</td>\n",
       "    </tr>\n",
       "    <tr>\n",
       "      <th>2</th>\n",
       "      <td>0.06</td>\n",
       "      <td>0.00</td>\n",
       "      <td>0.71</td>\n",
       "      <td>0.0</td>\n",
       "      <td>1.23</td>\n",
       "      <td>0.19</td>\n",
       "      <td>0.19</td>\n",
       "      <td>0.12</td>\n",
       "      <td>0.64</td>\n",
       "      <td>0.25</td>\n",
       "      <td>...</td>\n",
       "      <td>0.0</td>\n",
       "      <td>0.01</td>\n",
       "      <td>0.143</td>\n",
       "      <td>0.0</td>\n",
       "      <td>0.276</td>\n",
       "      <td>0.184</td>\n",
       "      <td>0.010</td>\n",
       "      <td>9.821</td>\n",
       "      <td>485.0</td>\n",
       "      <td>2259.0</td>\n",
       "    </tr>\n",
       "    <tr>\n",
       "      <th>3</th>\n",
       "      <td>0.00</td>\n",
       "      <td>0.00</td>\n",
       "      <td>0.00</td>\n",
       "      <td>0.0</td>\n",
       "      <td>0.63</td>\n",
       "      <td>0.00</td>\n",
       "      <td>0.31</td>\n",
       "      <td>0.63</td>\n",
       "      <td>0.31</td>\n",
       "      <td>0.63</td>\n",
       "      <td>...</td>\n",
       "      <td>0.0</td>\n",
       "      <td>0.00</td>\n",
       "      <td>0.137</td>\n",
       "      <td>0.0</td>\n",
       "      <td>0.137</td>\n",
       "      <td>0.000</td>\n",
       "      <td>0.000</td>\n",
       "      <td>3.537</td>\n",
       "      <td>40.0</td>\n",
       "      <td>191.0</td>\n",
       "    </tr>\n",
       "    <tr>\n",
       "      <th>4</th>\n",
       "      <td>0.00</td>\n",
       "      <td>0.00</td>\n",
       "      <td>0.00</td>\n",
       "      <td>0.0</td>\n",
       "      <td>0.63</td>\n",
       "      <td>0.00</td>\n",
       "      <td>0.31</td>\n",
       "      <td>0.63</td>\n",
       "      <td>0.31</td>\n",
       "      <td>0.63</td>\n",
       "      <td>...</td>\n",
       "      <td>0.0</td>\n",
       "      <td>0.00</td>\n",
       "      <td>0.135</td>\n",
       "      <td>0.0</td>\n",
       "      <td>0.135</td>\n",
       "      <td>0.000</td>\n",
       "      <td>0.000</td>\n",
       "      <td>3.537</td>\n",
       "      <td>40.0</td>\n",
       "      <td>191.0</td>\n",
       "    </tr>\n",
       "  </tbody>\n",
       "</table>\n",
       "<p>5 rows × 57 columns</p>\n",
       "</div>"
      ],
      "text/plain": [
       "     0     1     2    3     4     5     6     7     8     9   ...   47    48  \\\n",
       "0  0.00  0.64  0.64  0.0  0.32  0.00  0.00  0.00  0.00  0.00  ...  0.0  0.00   \n",
       "1  0.21  0.28  0.50  0.0  0.14  0.28  0.21  0.07  0.00  0.94  ...  0.0  0.00   \n",
       "2  0.06  0.00  0.71  0.0  1.23  0.19  0.19  0.12  0.64  0.25  ...  0.0  0.01   \n",
       "3  0.00  0.00  0.00  0.0  0.63  0.00  0.31  0.63  0.31  0.63  ...  0.0  0.00   \n",
       "4  0.00  0.00  0.00  0.0  0.63  0.00  0.31  0.63  0.31  0.63  ...  0.0  0.00   \n",
       "\n",
       "      49   50     51     52     53     54     55      56  \n",
       "0  0.000  0.0  0.778  0.000  0.000  3.756   61.0   278.0  \n",
       "1  0.132  0.0  0.372  0.180  0.048  5.114  101.0  1028.0  \n",
       "2  0.143  0.0  0.276  0.184  0.010  9.821  485.0  2259.0  \n",
       "3  0.137  0.0  0.137  0.000  0.000  3.537   40.0   191.0  \n",
       "4  0.135  0.0  0.135  0.000  0.000  3.537   40.0   191.0  \n",
       "\n",
       "[5 rows x 57 columns]"
      ]
     },
     "execution_count": 9,
     "metadata": {},
     "output_type": "execute_result"
    }
   ],
   "source": [
    "spam_df_X = spam_df.iloc[:,:-1].astype(np.float32)\n",
    "spam_target_Y = spam_df.iloc[:,-1].astype(np.int16)\n",
    "spam_df_X.head()"
   ]
  },
  {
   "cell_type": "code",
   "execution_count": 10,
   "id": "c2a9fb8e",
   "metadata": {},
   "outputs": [
    {
     "data": {
      "text/plain": [
       "dtype('int16')"
      ]
     },
     "execution_count": 10,
     "metadata": {},
     "output_type": "execute_result"
    }
   ],
   "source": [
    "spam_target_Y.dtypes"
   ]
  },
  {
   "cell_type": "markdown",
   "id": "46fbab03",
   "metadata": {},
   "source": [
    "### Test Train Split "
   ]
  },
  {
   "cell_type": "code",
   "execution_count": 11,
   "id": "b39e22af",
   "metadata": {},
   "outputs": [],
   "source": [
    "X_train, X_test, y_train, y_test = train_test_split(spam_df_X, spam_target_Y, test_size=0.3, random_state=11)"
   ]
  },
  {
   "cell_type": "code",
   "execution_count": 12,
   "id": "f33e2726",
   "metadata": {},
   "outputs": [
    {
     "data": {
      "text/html": [
       "<div>\n",
       "<style scoped>\n",
       "    .dataframe tbody tr th:only-of-type {\n",
       "        vertical-align: middle;\n",
       "    }\n",
       "\n",
       "    .dataframe tbody tr th {\n",
       "        vertical-align: top;\n",
       "    }\n",
       "\n",
       "    .dataframe thead th {\n",
       "        text-align: right;\n",
       "    }\n",
       "</style>\n",
       "<table border=\"1\" class=\"dataframe\">\n",
       "  <thead>\n",
       "    <tr style=\"text-align: right;\">\n",
       "      <th></th>\n",
       "      <th>0</th>\n",
       "      <th>1</th>\n",
       "      <th>2</th>\n",
       "      <th>3</th>\n",
       "      <th>4</th>\n",
       "      <th>5</th>\n",
       "      <th>6</th>\n",
       "      <th>7</th>\n",
       "      <th>8</th>\n",
       "      <th>9</th>\n",
       "      <th>...</th>\n",
       "      <th>47</th>\n",
       "      <th>48</th>\n",
       "      <th>49</th>\n",
       "      <th>50</th>\n",
       "      <th>51</th>\n",
       "      <th>52</th>\n",
       "      <th>53</th>\n",
       "      <th>54</th>\n",
       "      <th>55</th>\n",
       "      <th>56</th>\n",
       "    </tr>\n",
       "  </thead>\n",
       "  <tbody>\n",
       "    <tr>\n",
       "      <th>3049</th>\n",
       "      <td>0.00</td>\n",
       "      <td>0.00</td>\n",
       "      <td>0.00</td>\n",
       "      <td>0.0</td>\n",
       "      <td>0.00</td>\n",
       "      <td>0.00</td>\n",
       "      <td>0.0</td>\n",
       "      <td>0.00</td>\n",
       "      <td>0.00</td>\n",
       "      <td>0.00</td>\n",
       "      <td>...</td>\n",
       "      <td>0.0</td>\n",
       "      <td>0.0</td>\n",
       "      <td>0.000</td>\n",
       "      <td>0.0</td>\n",
       "      <td>0.000</td>\n",
       "      <td>0.000</td>\n",
       "      <td>0.0</td>\n",
       "      <td>1.000</td>\n",
       "      <td>1.0</td>\n",
       "      <td>6.0</td>\n",
       "    </tr>\n",
       "    <tr>\n",
       "      <th>872</th>\n",
       "      <td>0.45</td>\n",
       "      <td>0.00</td>\n",
       "      <td>0.67</td>\n",
       "      <td>0.0</td>\n",
       "      <td>0.22</td>\n",
       "      <td>0.67</td>\n",
       "      <td>0.0</td>\n",
       "      <td>0.67</td>\n",
       "      <td>0.22</td>\n",
       "      <td>0.22</td>\n",
       "      <td>...</td>\n",
       "      <td>0.0</td>\n",
       "      <td>0.0</td>\n",
       "      <td>0.111</td>\n",
       "      <td>0.0</td>\n",
       "      <td>1.599</td>\n",
       "      <td>0.148</td>\n",
       "      <td>0.0</td>\n",
       "      <td>4.947</td>\n",
       "      <td>102.0</td>\n",
       "      <td>564.0</td>\n",
       "    </tr>\n",
       "    <tr>\n",
       "      <th>3225</th>\n",
       "      <td>2.00</td>\n",
       "      <td>0.00</td>\n",
       "      <td>0.00</td>\n",
       "      <td>0.0</td>\n",
       "      <td>0.00</td>\n",
       "      <td>0.00</td>\n",
       "      <td>0.0</td>\n",
       "      <td>0.00</td>\n",
       "      <td>0.00</td>\n",
       "      <td>0.00</td>\n",
       "      <td>...</td>\n",
       "      <td>0.0</td>\n",
       "      <td>0.0</td>\n",
       "      <td>0.000</td>\n",
       "      <td>0.0</td>\n",
       "      <td>0.000</td>\n",
       "      <td>0.000</td>\n",
       "      <td>0.0</td>\n",
       "      <td>5.888</td>\n",
       "      <td>29.0</td>\n",
       "      <td>53.0</td>\n",
       "    </tr>\n",
       "    <tr>\n",
       "      <th>3135</th>\n",
       "      <td>0.00</td>\n",
       "      <td>14.28</td>\n",
       "      <td>0.00</td>\n",
       "      <td>0.0</td>\n",
       "      <td>0.00</td>\n",
       "      <td>0.00</td>\n",
       "      <td>0.0</td>\n",
       "      <td>0.00</td>\n",
       "      <td>0.00</td>\n",
       "      <td>0.00</td>\n",
       "      <td>...</td>\n",
       "      <td>0.0</td>\n",
       "      <td>0.0</td>\n",
       "      <td>0.000</td>\n",
       "      <td>0.0</td>\n",
       "      <td>0.000</td>\n",
       "      <td>0.000</td>\n",
       "      <td>0.0</td>\n",
       "      <td>1.800</td>\n",
       "      <td>5.0</td>\n",
       "      <td>9.0</td>\n",
       "    </tr>\n",
       "    <tr>\n",
       "      <th>4124</th>\n",
       "      <td>0.00</td>\n",
       "      <td>0.00</td>\n",
       "      <td>0.00</td>\n",
       "      <td>0.0</td>\n",
       "      <td>0.00</td>\n",
       "      <td>0.00</td>\n",
       "      <td>0.0</td>\n",
       "      <td>0.00</td>\n",
       "      <td>0.00</td>\n",
       "      <td>0.00</td>\n",
       "      <td>...</td>\n",
       "      <td>0.0</td>\n",
       "      <td>0.0</td>\n",
       "      <td>0.219</td>\n",
       "      <td>0.0</td>\n",
       "      <td>0.000</td>\n",
       "      <td>0.000</td>\n",
       "      <td>0.0</td>\n",
       "      <td>1.225</td>\n",
       "      <td>5.0</td>\n",
       "      <td>49.0</td>\n",
       "    </tr>\n",
       "  </tbody>\n",
       "</table>\n",
       "<p>5 rows × 57 columns</p>\n",
       "</div>"
      ],
      "text/plain": [
       "        0      1     2    3     4     5    6     7     8     9   ...   47  \\\n",
       "3049  0.00   0.00  0.00  0.0  0.00  0.00  0.0  0.00  0.00  0.00  ...  0.0   \n",
       "872   0.45   0.00  0.67  0.0  0.22  0.67  0.0  0.67  0.22  0.22  ...  0.0   \n",
       "3225  2.00   0.00  0.00  0.0  0.00  0.00  0.0  0.00  0.00  0.00  ...  0.0   \n",
       "3135  0.00  14.28  0.00  0.0  0.00  0.00  0.0  0.00  0.00  0.00  ...  0.0   \n",
       "4124  0.00   0.00  0.00  0.0  0.00  0.00  0.0  0.00  0.00  0.00  ...  0.0   \n",
       "\n",
       "       48     49   50     51     52   53     54     55     56  \n",
       "3049  0.0  0.000  0.0  0.000  0.000  0.0  1.000    1.0    6.0  \n",
       "872   0.0  0.111  0.0  1.599  0.148  0.0  4.947  102.0  564.0  \n",
       "3225  0.0  0.000  0.0  0.000  0.000  0.0  5.888   29.0   53.0  \n",
       "3135  0.0  0.000  0.0  0.000  0.000  0.0  1.800    5.0    9.0  \n",
       "4124  0.0  0.219  0.0  0.000  0.000  0.0  1.225    5.0   49.0  \n",
       "\n",
       "[5 rows x 57 columns]"
      ]
     },
     "execution_count": 12,
     "metadata": {},
     "output_type": "execute_result"
    }
   ],
   "source": [
    "X_train.head()"
   ]
  },
  {
   "cell_type": "markdown",
   "id": "e336dbdc",
   "metadata": {},
   "source": [
    "# Decision Tree Helper functions "
   ]
  },
  {
   "cell_type": "code",
   "execution_count": 13,
   "id": "f4515a90",
   "metadata": {},
   "outputs": [],
   "source": [
    "def get_impurity(labels, criteria = 'entropy'):\n",
    "    '''\n",
    "        Gets the impurity of a given node\n",
    "        Input Parameters\n",
    "        ----------\n",
    "        labels : list\n",
    "            holds the list of class labels\n",
    "        criteria : string\n",
    "            possible values : 'entropy', 'gini'\n",
    "            default value : 'entropy'\n",
    "        Returns\n",
    "        --------------\n",
    "        impurity : float\n",
    "            impurity of a given node either as per entropy or gini impurity criteria\n",
    "        '''\n",
    "    _,count_labels = np.unique(labels, return_counts=True) # get the counts of elements belonging to each class\n",
    "    prob_i = count_labels / len(labels) # probability of i-th class \n",
    "    if criteria == 'entropy':\n",
    "        return -np.sum(prob_i*np.log2(prob_i)) # Entropy\n",
    "    elif criteria == 'gini':\n",
    "        return 1-np.sum(prob_i*prob_i) # Gini impurity\n",
    "#counts = get_impurity([2,2,4,4,4]) # testing on sample values\n",
    "#print(counts)"
   ]
  },
  {
   "cell_type": "code",
   "execution_count": 14,
   "id": "f3ccba5e",
   "metadata": {},
   "outputs": [],
   "source": [
    "def information_gain(child_nodes, parent_node, criteria = 'entropy'):\n",
    "        '''\n",
    "        Gets the impurity reduction when a parent node is divided into child nodes\n",
    "        Input Parameters\n",
    "        ----------\n",
    "        child_nodes : list\n",
    "            holds child node element as lists inside another list\n",
    "        parent_node : list\n",
    "            holds the parent elements as a list\n",
    "        criteria : string\n",
    "            possible values : 'entropy', 'gini'\n",
    "            default value : 'entropy'\n",
    "        Returns\n",
    "        --------------\n",
    "        info_gain : float\n",
    "            information gain ( reduction in impurity) resulting from the split \n",
    "        '''\n",
    "        parent_impurity = get_impurity(parent_node, criteria)# get entropy/gini impurity , based on parameter \"criteria\"\n",
    "        child_impurity_list = [get_impurity(child,criteria) for child in child_nodes]\n",
    "        child_counts = [len(child) for child in child_nodes] # get the number of elments in each child node\n",
    "        # get a weighted average of child impurities, weighted by child node sizes\n",
    "        weighted_avg_child_impurity = np.sum([child_impurity_list[i]*child_counts[i] for i in range(len(child_nodes))])/len(parent_node)\n",
    "        # get the difference with parent node impurity\n",
    "        info_gain = parent_impurity - weighted_avg_child_impurity ## get the impurity difference\n",
    "        return info_gain\n",
    "#testing on sample values    \n",
    "#information_gain([[1,1,1],[2,1,2,2]],[1,1,1,2,1,2,2],'gini')#example of values    "
   ]
  },
  {
   "cell_type": "markdown",
   "id": "cf53b6a5",
   "metadata": {},
   "source": [
    "#testing the function -- information_gain\n",
    "information_gain([np.array([1,1,1]),np.array([2,1,2,2])],np.array([1,1,1,2,1,2,2]))"
   ]
  },
  {
   "cell_type": "code",
   "execution_count": 15,
   "id": "19907fcf",
   "metadata": {},
   "outputs": [],
   "source": [
    "def split_tree(dataset, feature, threshold):\n",
    "    '''\n",
    "    Splits the 'dataset' dataframe into two parts based on the chosen threshold & returns them\n",
    "    \n",
    "    '''\n",
    "    condition_check_success_records = dataset[dataset[feature].astype(float)>=threshold]## satisfies the condition\n",
    "    condition_check_failure_records = dataset[dataset[feature].astype(float)<threshold]## fails the condition\n",
    "    return condition_check_success_records, condition_check_failure_records"
   ]
  },
  {
   "cell_type": "code",
   "execution_count": 33,
   "id": "366fbf12",
   "metadata": {},
   "outputs": [],
   "source": [
    "\n",
    "def get_best_threshold(dataset, feature,criteria ,threshold):\n",
    "    '''for a given feature , find the  best threshold in a Node\n",
    "    Parameters\n",
    "    -------------\n",
    "    dataset - dataframe\n",
    "        The set of records at a given node we need to split further\n",
    "    feature - str\n",
    "        the feature / column/attribute we are checking currently\n",
    "    threshold -\n",
    "        the current threshold. We iterate through all the values in of a feature in the function check_all_features() and\n",
    "        pass them one by one to this function\n",
    "    Returns \n",
    "    -------------\n",
    "    info_gain : float\n",
    "        the info gain resulting from the current splitting condition ( threshold, feature)\n",
    "    threshold : threshold \n",
    "        corresponding [info_gain, threshold] are passed a list to check_all_features()\n",
    "    \n",
    "    '''\n",
    "    \n",
    "    left_tree, right_tree = split_tree(dataset, feature, float(threshold))# success , failure branches\n",
    "    if left_tree.shape[1] == 0 or right_tree.shape[1] == 0:# If Row number of any branch=0, skip\n",
    "                return 0, none\n",
    "    info_gain = information_gain([left_tree.iloc[ :, -1].values, right_tree.iloc[ :, -1].values], dataset.iloc[ :, -1].values, criteria)\n",
    "    return [info_gain, threshold]\n",
    "    \n",
    "                \n",
    "def check_all_features(dataset,criteria, feature):\n",
    "    '''for a given node, check all features to find best splitting condition\n",
    "    Returns\n",
    "    ------------\n",
    "    returns [highest_info_gain, feature, best_threshold] where best_threshold is the best threshold to split a given node\n",
    "    for a given features\n",
    "    '''\n",
    "    all_values = list( set(dataset[feature].astype(float)))\n",
    "    highest_info_gain, optimal_feature, best_threshold =0 ,None, None\n",
    "    info_gain_list = list(map(functools.partial(get_best_threshold, dataset, feature, criteria),all_values))\n",
    "    highest_info_gain, best_threshold = max(info_gain_list, key=lambda element: element[0])\n",
    "    return [highest_info_gain, feature, best_threshold]\n",
    "                \n",
    "def best_split_conditions(dataset, criteria):\n",
    "    '''for a given node , find the best splitting condition ( i.e. which feature to split, at what threshold & \n",
    "    what is the resulting information gain)'''\n",
    "    highest_info_gain = 0  \n",
    "    num_features = dataset.shape[1] # number of attributes\n",
    "    optimal_feature, best_threshold =None, None\n",
    "    col_list  = dataset.columns[:len(dataset.columns)-1].tolist()# get all the input feature list.\n",
    "    info_gain_list = list(map(functools.partial(check_all_features, dataset, criteria), col_list))\n",
    "    highest_info_gain, optimal_feature, best_threshold =  max(info_gain_list, key=lambda element: element[0])\n",
    "    #print(highest_info_gain, optimal_feature, best_threshold)\n",
    "    return highest_info_gain, optimal_feature, best_threshold"
   ]
  },
  {
   "cell_type": "markdown",
   "id": "1283ab7a",
   "metadata": {},
   "source": [
    "## Tree Node Classes "
   ]
  },
  {
   "cell_type": "code",
   "execution_count": 17,
   "id": "55f645e3",
   "metadata": {},
   "outputs": [],
   "source": [
    "class Non_Terminal_DT_Node:\n",
    "    \"\"\"\n",
    "    A class that represents a Non Terminal Node (Decision Node) in a Decision Tree i.e. a node that is subsequently split into other nodes\n",
    "    ...\n",
    "    Attributes\n",
    "    ----------\n",
    "    true_child_tree : object of the class DecisionTree\n",
    "        holds the the sub tree / child tree / branch which has elements that satisfy the splitting condition\n",
    "    false_child_tree : object of the class DecisionTree\n",
    "        holds the sub tree / child tree / branch which has elements that fails the splitting condition\n",
    "    optimal_feature : str, best_threshold: float\n",
    "        together these two attributes give us the best splitting condition at any node\n",
    "    \"\"\"\n",
    "\n",
    "    def __init__(self, true_child_tree, false_child_tree, optimal_feature, best_threshold):\n",
    "       \n",
    "        self.true_child_tree = true_child_tree\n",
    "        self.false_child_tree = false_child_tree\n",
    "        self.optimal_feature = optimal_feature\n",
    "        self.best_threshold = best_threshold"
   ]
  },
  {
   "cell_type": "code",
   "execution_count": 18,
   "id": "5b6e83af",
   "metadata": {},
   "outputs": [],
   "source": [
    "class Terminal_Node:\n",
    "    \"\"\"\n",
    "    A class that represents a Terminal Node (Leaf Node) in a Decision Tree i.e. a node that is NOT subsequently split into other nodes\n",
    "    ...\n",
    "    Attributes\n",
    "    ----------\n",
    "    predicted_classlabel : str\n",
    "    The Majority class label in a given Leaf Node\n",
    "    \"\"\"\n",
    "    def __init__(self, dataset):\n",
    "        self.predicted_classlabel = dataset.iloc[:,-1].value_counts().idxmax()#to_dict()"
   ]
  },
  {
   "cell_type": "markdown",
   "id": "d9dd3b66",
   "metadata": {},
   "source": [
    "# FUNCTIONS used for  BUILDING the TREE "
   ]
  },
  {
   "cell_type": "code",
   "execution_count": 19,
   "id": "ae6447db",
   "metadata": {},
   "outputs": [],
   "source": [
    " def build_decision_tree(training_set, ig_threshold, criteria, minimum_leaf =5):#\n",
    "        '''\n",
    "        builds the decision tree by learning the optimum splitting condition\n",
    "        Input Parameters\n",
    "        ----------\n",
    "        training_set : dataframe\n",
    "            Holds the records in the current node.\n",
    "        ig_threshold : float\n",
    "            If info gain is less than this threshold, stop splitting & ignore the current split\n",
    "        criteria : string\n",
    "            possible values : 'entropy', 'gini'\n",
    "            default value : 'entropy'\n",
    "        Returns\n",
    "        --------------\n",
    "        Non_Terminal_DT_Node : object of class Non_Terminal_DT_Node\n",
    "            holds the Decision Nodes i.e. the nodes that are split further\n",
    "        Terminal_Node : object of class Terminal_Node\n",
    "            holds the terminal /Leaf nodes\n",
    "        \n",
    "        '''\n",
    "        #minimum_leaf = 5 #\n",
    "        if len(training_set.iloc[:,-1].unique().tolist()) ==1: # IF a node has just one class, declare it as Terminal /Leaf\n",
    "            return Terminal_Node(training_set)\n",
    "        elif len(training_set.iloc[:,-1].unique().tolist()) > 1:\n",
    "            if training_set.shape[0]<=minimum_leaf:  # minimum leaf count based pre pruning\n",
    "                return Terminal_Node(training_set)\n",
    "            info_gain, optimal_feature, best_threshold = best_split_conditions(training_set, criteria)\n",
    "            if info_gain <= ig_threshold :      #impuriity based pruning\n",
    "                return Terminal_Node(training_set)\n",
    "            true_child_set, false_child_set = split_tree(training_set, optimal_feature, best_threshold)\n",
    "            true_child_tree = build_decision_tree(true_child_set, ig_threshold, criteria) # recursively build the true child tree\n",
    "            false_child_tree = build_decision_tree(false_child_set, ig_threshold, criteria)\n",
    "            #print(' optimal_feature : '+str(optimal_feature)+' best_threshold : '+str(best_threshold))\n",
    "            return Non_Terminal_DT_Node(true_child_tree, false_child_tree, optimal_feature, best_threshold)"
   ]
  },
  {
   "cell_type": "code",
   "execution_count": 20,
   "id": "e300d498",
   "metadata": {},
   "outputs": [],
   "source": [
    "def classify_test_instance(test_instance, tree_node):\n",
    "        '''\n",
    "        classifies a new test instance based on a previously learnt/built decision tree\n",
    "        Input Parameters\n",
    "        ----------\n",
    "        test_instance : nd-array\n",
    "            Holds the current test instance\n",
    "        tree_node : object of class DecisionTree\n",
    "        Returns\n",
    "        --------------\n",
    "        predicted_classlabel : str\n",
    "            the predicted label for the test instance\n",
    "            '''\n",
    "        \n",
    "        result = 0 #\n",
    "        \n",
    "        if isinstance(tree_node, Terminal_Node):\n",
    "            #print('node.label_prediction_dict :'+str(node.label_prediction_dict))\n",
    "            return tree_node.predicted_classlabel # if it is leaf node, return the class label\n",
    "        \n",
    "        test_instance = pd.Series(test_instance)\n",
    "        if float(test_instance[tree_node.optimal_feature])>=tree_node.best_threshold:\n",
    "            return classify_test_instance(test_instance, tree_node.true_child_tree )\n",
    "        else:\n",
    "            return classify_test_instance(test_instance, tree_node.false_child_tree)"
   ]
  },
  {
   "cell_type": "markdown",
   "id": "873402c4",
   "metadata": {},
   "source": [
    "# DECISION TREE CLASS IMPLEMENTATION"
   ]
  },
  {
   "cell_type": "code",
   "execution_count": 21,
   "id": "7ad36d22",
   "metadata": {},
   "outputs": [],
   "source": [
    "class DecisionTree():\n",
    "    \"\"\"\n",
    "    A class that represents a Decision Tree\n",
    "    ...\n",
    "    Attributes\n",
    "    ----------\n",
    "    ig_threshold : float\n",
    "        a information gain threshold that tells when to stop splitting the nodes\n",
    "    criteria : str\n",
    "        the criteria to measure impurity. Two options entropy(default) and gini impurity\n",
    "\n",
    "    Methods\n",
    "    -------\n",
    "    learn (training_set)\n",
    "        Learns / builds the decision tree as per the criteria & information gain minimum threshold\n",
    "    classify (training_set)\n",
    "        Given a test data, predicts the label based on the existing tree\n",
    "    \"\"\"\n",
    "    def __init__(self,ig_threshold, criteria, minimum_leaf =5):\n",
    "        self.ig_threshold = ig_threshold\n",
    "        self.criteria = criteria\n",
    "        self.minimum_leaf =minimum_leaf \n",
    "        tree = {}\n",
    "    \n",
    "    def learn(self, training_set):\n",
    "        # implement this function\n",
    "        self.tree = build_decision_tree(training_set,self.ig_threshold ,self.criteria, self.minimum_leaf)\n",
    "        \n",
    "    # implement this function\n",
    "\n",
    "    def classify(self, test_instance):\n",
    "        return classify_test_instance(test_instance, self.tree)"
   ]
  },
  {
   "cell_type": "code",
   "execution_count": 40,
   "id": "3d2559ad",
   "metadata": {},
   "outputs": [
    {
     "name": "stdout",
     "output_type": "stream",
     "text": [
      "Help on function sample in module pandas.core.generic:\n",
      "\n",
      "sample(self: 'FrameOrSeries', n=None, frac=None, replace=False, weights=None, random_state=None, axis=None) -> 'FrameOrSeries'\n",
      "    Return a random sample of items from an axis of object.\n",
      "    \n",
      "    You can use `random_state` for reproducibility.\n",
      "    \n",
      "    Parameters\n",
      "    ----------\n",
      "    n : int, optional\n",
      "        Number of items from axis to return. Cannot be used with `frac`.\n",
      "        Default = 1 if `frac` = None.\n",
      "    frac : float, optional\n",
      "        Fraction of axis items to return. Cannot be used with `n`.\n",
      "    replace : bool, default False\n",
      "        Allow or disallow sampling of the same row more than once.\n",
      "    weights : str or ndarray-like, optional\n",
      "        Default 'None' results in equal probability weighting.\n",
      "        If passed a Series, will align with target object on index. Index\n",
      "        values in weights not found in sampled object will be ignored and\n",
      "        index values in sampled object not in weights will be assigned\n",
      "        weights of zero.\n",
      "        If called on a DataFrame, will accept the name of a column\n",
      "        when axis = 0.\n",
      "        Unless weights are a Series, weights must be same length as axis\n",
      "        being sampled.\n",
      "        If weights do not sum to 1, they will be normalized to sum to 1.\n",
      "        Missing values in the weights column will be treated as zero.\n",
      "        Infinite values not allowed.\n",
      "    random_state : int, array-like, BitGenerator, np.random.RandomState, optional\n",
      "        If int, array-like, or BitGenerator (NumPy>=1.17), seed for\n",
      "        random number generator\n",
      "        If np.random.RandomState, use as numpy RandomState object.\n",
      "    \n",
      "        .. versionchanged:: 1.1.0\n",
      "    \n",
      "            array-like and BitGenerator (for NumPy>=1.17) object now passed to\n",
      "            np.random.RandomState() as seed\n",
      "    \n",
      "    axis : {0 or ‘index’, 1 or ‘columns’, None}, default None\n",
      "        Axis to sample. Accepts axis number or name. Default is stat axis\n",
      "        for given data type (0 for Series and DataFrames).\n",
      "    \n",
      "    Returns\n",
      "    -------\n",
      "    Series or DataFrame\n",
      "        A new object of same type as caller containing `n` items randomly\n",
      "        sampled from the caller object.\n",
      "    \n",
      "    See Also\n",
      "    --------\n",
      "    DataFrameGroupBy.sample: Generates random samples from each group of a\n",
      "        DataFrame object.\n",
      "    SeriesGroupBy.sample: Generates random samples from each group of a\n",
      "        Series object.\n",
      "    numpy.random.choice: Generates a random sample from a given 1-D numpy\n",
      "        array.\n",
      "    \n",
      "    Notes\n",
      "    -----\n",
      "    If `frac` > 1, `replacement` should be set to `True`.\n",
      "    \n",
      "    Examples\n",
      "    --------\n",
      "    >>> df = pd.DataFrame({'num_legs': [2, 4, 8, 0],\n",
      "    ...                    'num_wings': [2, 0, 0, 0],\n",
      "    ...                    'num_specimen_seen': [10, 2, 1, 8]},\n",
      "    ...                   index=['falcon', 'dog', 'spider', 'fish'])\n",
      "    >>> df\n",
      "            num_legs  num_wings  num_specimen_seen\n",
      "    falcon         2          2                 10\n",
      "    dog            4          0                  2\n",
      "    spider         8          0                  1\n",
      "    fish           0          0                  8\n",
      "    \n",
      "    Extract 3 random elements from the ``Series`` ``df['num_legs']``:\n",
      "    Note that we use `random_state` to ensure the reproducibility of\n",
      "    the examples.\n",
      "    \n",
      "    >>> df['num_legs'].sample(n=3, random_state=1)\n",
      "    fish      0\n",
      "    spider    8\n",
      "    falcon    2\n",
      "    Name: num_legs, dtype: int64\n",
      "    \n",
      "    A random 50% sample of the ``DataFrame`` with replacement:\n",
      "    \n",
      "    >>> df.sample(frac=0.5, replace=True, random_state=1)\n",
      "          num_legs  num_wings  num_specimen_seen\n",
      "    dog          4          0                  2\n",
      "    fish         0          0                  8\n",
      "    \n",
      "    An upsample sample of the ``DataFrame`` with replacement:\n",
      "    Note that `replace` parameter has to be `True` for `frac` parameter > 1.\n",
      "    \n",
      "    >>> df.sample(frac=2, replace=True, random_state=1)\n",
      "            num_legs  num_wings  num_specimen_seen\n",
      "    dog            4          0                  2\n",
      "    fish           0          0                  8\n",
      "    falcon         2          2                 10\n",
      "    falcon         2          2                 10\n",
      "    fish           0          0                  8\n",
      "    dog            4          0                  2\n",
      "    fish           0          0                  8\n",
      "    dog            4          0                  2\n",
      "    \n",
      "    Using a DataFrame column as weights. Rows with larger value in the\n",
      "    `num_specimen_seen` column are more likely to be sampled.\n",
      "    \n",
      "    >>> df.sample(n=2, weights='num_specimen_seen', random_state=1)\n",
      "            num_legs  num_wings  num_specimen_seen\n",
      "    falcon         2          2                 10\n",
      "    fish           0          0                  8\n",
      "\n"
     ]
    }
   ],
   "source": [
    "help(pd.DataFrame.sample)"
   ]
  },
  {
   "cell_type": "markdown",
   "id": "dc027402",
   "metadata": {},
   "source": [
    "# RANDOM FOREST CLASS IMPLEMENTATION "
   ]
  },
  {
   "cell_type": "code",
   "execution_count": 68,
   "id": "2aca9380",
   "metadata": {},
   "outputs": [],
   "source": [
    "class Random_Forest_Custom:\n",
    "    '''\n",
    "    A Class that represents a Random Forest.\n",
    "    Attributes :\n",
    "    --------------------------------------------------------------------\n",
    "    total_DT_to_build - how many total trees to build\n",
    "    list_of_trees - list of trained Decision Trees\n",
    "    --------------------------------------------\n",
    "    Methods:\n",
    "    ---------------------------------------------\n",
    "    fit_rf_custom - \n",
    "    Fits total_DT_to_build number of DTs\n",
    "    Randomly selects m features/columns without replacement.\n",
    "    Then randomly selects frac fraction of rows/records with Replacement\n",
    "    \n",
    "    rf_predict_custom_v2 - \n",
    "    Predicts on the Test data using all the Decision Tree- majority votes\n",
    "    \n",
    "    '''\n",
    "    \n",
    "    def __init__(self, total_DT_to_build=5):\n",
    "        self.total_DT_to_build = total_DT_to_build\n",
    "        # To enlist each decision tree in a list after fitting it on train data\n",
    "        self.list_of_trees = []\n",
    "    def fit_rf_custom(self, X,y,m,frac =0.8,seed=0):\n",
    "        '''\n",
    "        fits total_DT_to_build Number of Decision Trees to the various Bootstrapped Samples. This method does not return\n",
    "        OOB accuracy . For OOB, please Random_Forest_Custom_OOB() Class implemented at the bottom portion of the Notebook\n",
    "        Input Parameters\n",
    "        -----\n",
    "        X- Features/ Indepedent Variables\n",
    "        y - Target / Dependent Variables\n",
    "        m - how many features to select for fitting each Decision Tree\n",
    "        frac - how many fraction of records to select from the Train dataset with replacement\n",
    "        seed - random state\n",
    "        \n",
    "        '''\n",
    "\n",
    "        self.list_of_trees = []\n",
    "        count_of_DTree_built_so_far = 0\n",
    "        \n",
    "        while count_of_DTree_built_so_far < self.total_DT_to_build:\n",
    "                #print(count_of_DTree_built_so_far,self.total_DT_to_build )\n",
    "                tree = DecisionTree(0.005,'gini')\n",
    "                X2 = X.sample(n=m,axis='columns',random_state=seed)# selecting m features randomly\n",
    "                training_set = X2.copy()\n",
    "                \n",
    "                training_set[57] = y\n",
    "                training_set = training_set.sample(frac = frac,axis='rows',random_state=seed,replace=True)\n",
    "                # selecting frac fraction of rows , with replacement \n",
    "                tree.learn( training_set )\n",
    "                self.list_of_trees.append(tree)\n",
    "                count_of_DTree_built_so_far += 1\n",
    "                print('{} Decision Tree built'.format(count_of_DTree_built_so_far))\n",
    "\n",
    "    def rf_predict_custom_v2(self, X_test):\n",
    "        prediction_list,results = [],[]\n",
    "        prediction_list = np.array([X_test.apply(lambda x: tree.classify(x), axis=1) for tree in self.list_of_trees]).mean(axis =0)\n",
    "        return prediction_list.astype(np.int16)\n"
   ]
  },
  {
   "cell_type": "code",
   "execution_count": 23,
   "id": "b8ac6ec6",
   "metadata": {},
   "outputs": [
    {
     "data": {
      "text/plain": [
       "15"
      ]
     },
     "execution_count": 23,
     "metadata": {},
     "output_type": "execute_result"
    }
   ],
   "source": [
    "gc.collect()"
   ]
  },
  {
   "cell_type": "markdown",
   "id": "8e3ecd85",
   "metadata": {},
   "source": [
    "# CHECK HOW THE RF PERFORMANCE VARIES WRT. M parameter"
   ]
  },
  {
   "cell_type": "code",
   "execution_count": 53,
   "id": "2ec4ce7d",
   "metadata": {},
   "outputs": [
    {
     "name": "stdout",
     "output_type": "stream",
     "text": [
      "1 Decision Tree built\n",
      "2 Decision Tree built\n",
      "3 Decision Tree built\n",
      "4 Decision Tree built\n",
      "5 Decision Tree built\n",
      "6 Decision Tree built\n",
      "7 Decision Tree built\n",
      "8 Decision Tree built\n",
      "9 Decision Tree built\n",
      "10 Decision Tree built\n",
      "11 Decision Tree built\n",
      "12 Decision Tree built\n",
      "0.7501810282404056\n",
      "time taken in minutes :  3.7702964425086973\n"
     ]
    }
   ],
   "source": [
    "start = time.time()\n",
    "model = Random_Forest_Custom(total_DT_to_build =12)\n",
    "\n",
    "model.fit_rf_custom(X_train,y_train, m = 8 ,frac=1, seed =10)\n",
    "spam_predicted = model.rf_predict_custom_v2(X_test)\n",
    "print(accuracy_score(y_test, spam_predicted))\n",
    "end = time.time()\n",
    "print('time taken in minutes : ', str((end - start)/60))\n",
    "# time taken in minutes :   0.6357081850369771 for 2 DT"
   ]
  },
  {
   "cell_type": "code",
   "execution_count": 54,
   "id": "bc12b15f",
   "metadata": {},
   "outputs": [
    {
     "name": "stdout",
     "output_type": "stream",
     "text": [
      "1 Decision Tree built\n",
      "2 Decision Tree built\n",
      "3 Decision Tree built\n",
      "4 Decision Tree built\n",
      "5 Decision Tree built\n",
      "6 Decision Tree built\n",
      "7 Decision Tree built\n",
      "8 Decision Tree built\n",
      "9 Decision Tree built\n",
      "10 Decision Tree built\n",
      "11 Decision Tree built\n",
      "12 Decision Tree built\n",
      "0.7914554670528603\n",
      "time taken in minutes :  3.506287181377411\n"
     ]
    }
   ],
   "source": [
    "start = time.time()\n",
    "model = Random_Forest_Custom(total_DT_to_build =12)\n",
    "\n",
    "model.fit_rf_custom(X_train,y_train, m = 10 ,frac=1, seed =10)\n",
    "spam_predicted = model.rf_predict_custom_v2(X_test)\n",
    "print(accuracy_score(y_test, spam_predicted))\n",
    "end = time.time()\n",
    "print('time taken in minutes : ', str((end - start)/60))\n",
    "# time taken in minutes :   0.6357081850369771 for 2 DT"
   ]
  },
  {
   "cell_type": "code",
   "execution_count": 55,
   "id": "f4c7b77f",
   "metadata": {},
   "outputs": [
    {
     "name": "stdout",
     "output_type": "stream",
     "text": [
      "1 Decision Tree built\n",
      "2 Decision Tree built\n",
      "3 Decision Tree built\n",
      "4 Decision Tree built\n",
      "5 Decision Tree built\n",
      "6 Decision Tree built\n",
      "7 Decision Tree built\n",
      "8 Decision Tree built\n",
      "9 Decision Tree built\n",
      "10 Decision Tree built\n",
      "11 Decision Tree built\n",
      "12 Decision Tree built\n",
      "0.7929036929761043\n",
      "time taken in minutes :  3.8539374152819317\n"
     ]
    }
   ],
   "source": [
    "start = time.time()\n",
    "model = Random_Forest_Custom(total_DT_to_build =12)\n",
    "\n",
    "model.fit_rf_custom(X_train,y_train, m = 12 ,frac=1, seed =10)\n",
    "spam_predicted = model.rf_predict_custom_v2(X_test)\n",
    "print(accuracy_score(y_test, spam_predicted))\n",
    "end = time.time()\n",
    "print('time taken in minutes : ', str((end - start)/60))\n",
    "# time taken in minutes :   0.6357081850369771 for 2 DT"
   ]
  },
  {
   "cell_type": "code",
   "execution_count": 56,
   "id": "cc54f0cd",
   "metadata": {},
   "outputs": [
    {
     "name": "stdout",
     "output_type": "stream",
     "text": [
      "1 Decision Tree built\n",
      "2 Decision Tree built\n",
      "3 Decision Tree built\n",
      "4 Decision Tree built\n",
      "5 Decision Tree built\n",
      "6 Decision Tree built\n",
      "7 Decision Tree built\n",
      "8 Decision Tree built\n",
      "9 Decision Tree built\n",
      "10 Decision Tree built\n",
      "11 Decision Tree built\n",
      "12 Decision Tree built\n",
      "0.8117306299782766\n",
      "time taken in minutes :  6.475084785620371\n"
     ]
    }
   ],
   "source": [
    "start = time.time()\n",
    "model = Random_Forest_Custom(total_DT_to_build =12)\n",
    "\n",
    "model.fit_rf_custom(X_train,y_train, m = 14 ,frac=1, seed =10)\n",
    "spam_predicted = model.rf_predict_custom_v2(X_test)\n",
    "print(accuracy_score(y_test, spam_predicted))\n",
    "end = time.time()\n",
    "print('time taken in minutes : ', str((end - start)/60))\n",
    "# time taken in minutes :   0.6357081850369771 for 2 DT"
   ]
  },
  {
   "cell_type": "code",
   "execution_count": 57,
   "id": "ee550dc3",
   "metadata": {},
   "outputs": [
    {
     "name": "stdout",
     "output_type": "stream",
     "text": [
      "1 Decision Tree built\n",
      "2 Decision Tree built\n",
      "3 Decision Tree built\n",
      "4 Decision Tree built\n",
      "5 Decision Tree built\n",
      "6 Decision Tree built\n",
      "7 Decision Tree built\n",
      "8 Decision Tree built\n",
      "9 Decision Tree built\n",
      "10 Decision Tree built\n",
      "11 Decision Tree built\n",
      "12 Decision Tree built\n",
      "0.717595944967415\n",
      "time taken in minutes :  1.8034258405367534\n"
     ]
    }
   ],
   "source": [
    "start = time.time()\n",
    "model = Random_Forest_Custom(total_DT_to_build =12)\n",
    "\n",
    "model.fit_rf_custom(X_train,y_train, m = 7 ,frac=1, seed =10)\n",
    "spam_predicted = model.rf_predict_custom_v2(X_test)\n",
    "print(accuracy_score(y_test, spam_predicted))\n",
    "end = time.time()\n",
    "print('time taken in minutes : ', str((end - start)/60))\n",
    "# time taken in minutes :   0.6357081850369771 for 2 DT"
   ]
  },
  {
   "cell_type": "code",
   "execution_count": 58,
   "id": "5f8f5b57",
   "metadata": {},
   "outputs": [
    {
     "name": "stdout",
     "output_type": "stream",
     "text": [
      "1 Decision Tree built\n",
      "2 Decision Tree built\n",
      "3 Decision Tree built\n",
      "4 Decision Tree built\n",
      "5 Decision Tree built\n",
      "6 Decision Tree built\n",
      "7 Decision Tree built\n",
      "8 Decision Tree built\n",
      "9 Decision Tree built\n",
      "10 Decision Tree built\n",
      "11 Decision Tree built\n",
      "12 Decision Tree built\n",
      "0.7146994931209268\n",
      "time taken in minutes :  1.1652718305587768\n"
     ]
    }
   ],
   "source": [
    "start = time.time()\n",
    "model = Random_Forest_Custom(total_DT_to_build =12)\n",
    "\n",
    "model.fit_rf_custom(X_train,y_train, m = 6 ,frac=1, seed =10)\n",
    "spam_predicted = model.rf_predict_custom_v2(X_test)\n",
    "print(accuracy_score(y_test, spam_predicted))\n",
    "end = time.time()\n",
    "print('time taken in minutes : ', str((end - start)/60))\n",
    "# time taken in minutes :   0.6357081850369771 for 2 DT"
   ]
  },
  {
   "cell_type": "code",
   "execution_count": 49,
   "id": "5a446ea9",
   "metadata": {},
   "outputs": [
    {
     "name": "stdout",
     "output_type": "stream",
     "text": [
      "1 Decision Tree built\n",
      "2 Decision Tree built\n",
      "3 Decision Tree built\n",
      "4 Decision Tree built\n",
      "5 Decision Tree built\n",
      "6 Decision Tree built\n",
      "7 Decision Tree built\n",
      "8 Decision Tree built\n",
      "9 Decision Tree built\n",
      "10 Decision Tree built\n",
      "11 Decision Tree built\n",
      "12 Decision Tree built\n",
      "0.8117306299782766\n",
      "time taken in minutes :  6.196848181883494\n"
     ]
    }
   ],
   "source": [
    "start = time.time()\n",
    "model = Random_Forest_Custom(total_DT_to_build =12)\n",
    "\n",
    "model.fit_rf_custom(X_train,y_train, m = 15 ,frac=1, seed =10)\n",
    "spam_predicted = model.rf_predict_custom_v2(X_test)\n",
    "print(accuracy_score(y_test, spam_predicted))\n",
    "end = time.time()\n",
    "print('time taken in minutes : ', str((end - start)/60))\n",
    "# time taken in minutes :   0.6357081850369771 for 2 DT"
   ]
  },
  {
   "cell_type": "code",
   "execution_count": 50,
   "id": "b8e9395a",
   "metadata": {},
   "outputs": [
    {
     "name": "stdout",
     "output_type": "stream",
     "text": [
      "1 Decision Tree built\n",
      "2 Decision Tree built\n",
      "3 Decision Tree built\n",
      "4 Decision Tree built\n",
      "5 Decision Tree built\n",
      "6 Decision Tree built\n",
      "7 Decision Tree built\n",
      "8 Decision Tree built\n",
      "9 Decision Tree built\n",
      "10 Decision Tree built\n",
      "11 Decision Tree built\n",
      "12 Decision Tree built\n",
      "0.8457639391745112\n",
      "time taken in minutes :  6.525159891446432\n"
     ]
    }
   ],
   "source": [
    "start = time.time()\n",
    "model = Random_Forest_Custom(total_DT_to_build =12)\n",
    "\n",
    "model.fit_rf_custom(X_train,y_train, m = 16 ,frac=1, seed =10)\n",
    "spam_predicted = model.rf_predict_custom_v2(X_test)\n",
    "print(accuracy_score(y_test, spam_predicted))\n",
    "end = time.time()\n",
    "print('time taken in minutes : ', str((end - start)/60))\n",
    "# time taken in minutes :   0.6357081850369771 for 2 DT"
   ]
  },
  {
   "cell_type": "code",
   "execution_count": 59,
   "id": "9f3cdcd0",
   "metadata": {},
   "outputs": [
    {
     "name": "stdout",
     "output_type": "stream",
     "text": [
      "1 Decision Tree built\n",
      "2 Decision Tree built\n",
      "3 Decision Tree built\n",
      "4 Decision Tree built\n",
      "5 Decision Tree built\n",
      "6 Decision Tree built\n",
      "7 Decision Tree built\n",
      "8 Decision Tree built\n",
      "9 Decision Tree built\n",
      "10 Decision Tree built\n",
      "11 Decision Tree built\n",
      "12 Decision Tree built\n",
      "0.8443157132512672\n",
      "time taken in minutes :  7.503776486714681\n"
     ]
    }
   ],
   "source": [
    "start = time.time()\n",
    "model = Random_Forest_Custom(total_DT_to_build =12)\n",
    "\n",
    "model.fit_rf_custom(X_train,y_train, m = 17 ,frac=1, seed =10)\n",
    "spam_predicted = model.rf_predict_custom_v2(X_test)\n",
    "print(accuracy_score(y_test, spam_predicted))\n",
    "end = time.time()\n",
    "print('time taken in minutes : ', str((end - start)/60))\n",
    "# time taken in minutes :   0.6357081850369771 for 2 DT"
   ]
  },
  {
   "cell_type": "code",
   "execution_count": 60,
   "id": "5dbc3ada",
   "metadata": {},
   "outputs": [
    {
     "name": "stdout",
     "output_type": "stream",
     "text": [
      "1 Decision Tree built\n",
      "2 Decision Tree built\n",
      "3 Decision Tree built\n",
      "4 Decision Tree built\n",
      "5 Decision Tree built\n",
      "6 Decision Tree built\n",
      "7 Decision Tree built\n",
      "8 Decision Tree built\n",
      "9 Decision Tree built\n",
      "10 Decision Tree built\n",
      "11 Decision Tree built\n",
      "12 Decision Tree built\n",
      "0.8522809558291093\n",
      "time taken in minutes :  11.861595102151234\n"
     ]
    }
   ],
   "source": [
    "start = time.time()\n",
    "model = Random_Forest_Custom(total_DT_to_build =12)\n",
    "\n",
    "model.fit_rf_custom(X_train,y_train, m = 18 ,frac=1, seed =10)\n",
    "spam_predicted = model.rf_predict_custom_v2(X_test)\n",
    "print(accuracy_score(y_test, spam_predicted))\n",
    "end = time.time()\n",
    "print('time taken in minutes : ', str((end - start)/60))\n",
    "# time taken in minutes :   0.6357081850369771 for 2 DT"
   ]
  },
  {
   "cell_type": "code",
   "execution_count": 61,
   "id": "f3297a96",
   "metadata": {},
   "outputs": [
    {
     "name": "stdout",
     "output_type": "stream",
     "text": [
      "1 Decision Tree built\n",
      "2 Decision Tree built\n",
      "3 Decision Tree built\n",
      "4 Decision Tree built\n",
      "5 Decision Tree built\n",
      "6 Decision Tree built\n",
      "7 Decision Tree built\n",
      "8 Decision Tree built\n",
      "9 Decision Tree built\n",
      "10 Decision Tree built\n",
      "11 Decision Tree built\n",
      "12 Decision Tree built\n",
      "0.8580738595220855\n",
      "time taken in minutes :  12.308479158083598\n"
     ]
    }
   ],
   "source": [
    "start = time.time()\n",
    "model = Random_Forest_Custom(total_DT_to_build =12)\n",
    "\n",
    "model.fit_rf_custom(X_train,y_train, m = 19 ,frac=1, seed =10)\n",
    "spam_predicted = model.rf_predict_custom_v2(X_test)\n",
    "print(accuracy_score(y_test, spam_predicted))\n",
    "end = time.time()\n",
    "print('time taken in minutes : ', str((end - start)/60))\n",
    "# time taken in minutes :   0.6357081850369771 for 2 DT"
   ]
  },
  {
   "cell_type": "code",
   "execution_count": 62,
   "id": "6c214c3f",
   "metadata": {},
   "outputs": [
    {
     "name": "stdout",
     "output_type": "stream",
     "text": [
      "1 Decision Tree built\n",
      "2 Decision Tree built\n",
      "3 Decision Tree built\n",
      "4 Decision Tree built\n",
      "5 Decision Tree built\n",
      "6 Decision Tree built\n",
      "7 Decision Tree built\n",
      "8 Decision Tree built\n",
      "9 Decision Tree built\n",
      "10 Decision Tree built\n",
      "11 Decision Tree built\n",
      "12 Decision Tree built\n",
      "0.8522809558291093\n",
      "time taken in minutes :  12.322805933157603\n"
     ]
    }
   ],
   "source": [
    "start = time.time()\n",
    "model = Random_Forest_Custom(total_DT_to_build =12)\n",
    "\n",
    "model.fit_rf_custom(X_train,y_train, m = 19 ,frac=0.8, seed =10)\n",
    "spam_predicted = model.rf_predict_custom_v2(X_test)\n",
    "print(accuracy_score(y_test, spam_predicted))\n",
    "end = time.time()\n",
    "print('time taken in minutes : ', str((end - start)/60))\n",
    "# time taken in minutes :   0.6357081850369771 for 2 DT"
   ]
  },
  {
   "cell_type": "code",
   "execution_count": 63,
   "id": "1c19305a",
   "metadata": {},
   "outputs": [
    {
     "name": "stdout",
     "output_type": "stream",
     "text": [
      "1 Decision Tree built\n",
      "2 Decision Tree built\n",
      "3 Decision Tree built\n",
      "4 Decision Tree built\n",
      "5 Decision Tree built\n",
      "6 Decision Tree built\n",
      "7 Decision Tree built\n",
      "8 Decision Tree built\n",
      "9 Decision Tree built\n",
      "10 Decision Tree built\n",
      "11 Decision Tree built\n",
      "12 Decision Tree built\n",
      "0.8580738595220855\n",
      "time taken in minutes :  10.815707047780355\n"
     ]
    }
   ],
   "source": [
    "start = time.time()\n",
    "model = Random_Forest_Custom(total_DT_to_build =12)\n",
    "\n",
    "model.fit_rf_custom(X_train,y_train, m = 19 ,frac=0.9, seed =10)\n",
    "spam_predicted = model.rf_predict_custom_v2(X_test)\n",
    "print(accuracy_score(y_test, spam_predicted))\n",
    "end = time.time()\n",
    "print('time taken in minutes : ', str((end - start)/60))\n",
    "# time taken in minutes :   0.6357081850369771 for 2 DT"
   ]
  },
  {
   "cell_type": "code",
   "execution_count": 64,
   "id": "afb1f8da",
   "metadata": {},
   "outputs": [
    {
     "name": "stdout",
     "output_type": "stream",
     "text": [
      "1 Decision Tree built\n",
      "2 Decision Tree built\n",
      "3 Decision Tree built\n",
      "4 Decision Tree built\n",
      "5 Decision Tree built\n",
      "6 Decision Tree built\n",
      "7 Decision Tree built\n",
      "8 Decision Tree built\n",
      "9 Decision Tree built\n",
      "10 Decision Tree built\n",
      "11 Decision Tree built\n",
      "12 Decision Tree built\n",
      "0.8921071687183201\n",
      "time taken in minutes :  15.15291941165924\n"
     ]
    }
   ],
   "source": [
    "start = time.time()\n",
    "model = Random_Forest_Custom(total_DT_to_build =12)\n",
    "\n",
    "model.fit_rf_custom(X_train,y_train, m = 25 ,frac=1, seed =10)\n",
    "spam_predicted = model.rf_predict_custom_v2(X_test)\n",
    "print(accuracy_score(y_test, spam_predicted))\n",
    "end = time.time()\n",
    "print('time taken in minutes : ', str((end - start)/60))\n",
    "# time taken in minutes :   0.6357081850369771 for 2 DT"
   ]
  },
  {
   "cell_type": "code",
   "execution_count": 65,
   "id": "c5e94c75",
   "metadata": {},
   "outputs": [
    {
     "name": "stdout",
     "output_type": "stream",
     "text": [
      "1 Decision Tree built\n",
      "2 Decision Tree built\n",
      "3 Decision Tree built\n",
      "4 Decision Tree built\n",
      "5 Decision Tree built\n",
      "6 Decision Tree built\n",
      "7 Decision Tree built\n",
      "8 Decision Tree built\n",
      "9 Decision Tree built\n",
      "10 Decision Tree built\n",
      "11 Decision Tree built\n",
      "12 Decision Tree built\n",
      "0.9015206372194062\n",
      "time taken in minutes :  17.903166182835896\n"
     ]
    }
   ],
   "source": [
    "start = time.time()\n",
    "model = Random_Forest_Custom(total_DT_to_build =12)\n",
    "\n",
    "model.fit_rf_custom(X_train,y_train, m = 30 ,frac=1, seed =10)\n",
    "spam_predicted = model.rf_predict_custom_v2(X_test)\n",
    "print(accuracy_score(y_test, spam_predicted))\n",
    "end = time.time()\n",
    "print('time taken in minutes : ', str((end - start)/60))\n",
    "# time taken in minutes :   0.6357081850369771 for 2 DT"
   ]
  },
  {
   "cell_type": "code",
   "execution_count": 66,
   "id": "a8a40d1f",
   "metadata": {},
   "outputs": [
    {
     "name": "stdout",
     "output_type": "stream",
     "text": [
      "1 Decision Tree built\n",
      "2 Decision Tree built\n",
      "3 Decision Tree built\n",
      "4 Decision Tree built\n",
      "5 Decision Tree built\n",
      "6 Decision Tree built\n",
      "7 Decision Tree built\n",
      "8 Decision Tree built\n",
      "9 Decision Tree built\n",
      "10 Decision Tree built\n",
      "11 Decision Tree built\n",
      "12 Decision Tree built\n",
      "0.9000724112961622\n",
      "time taken in minutes :  19.889410495758057\n"
     ]
    }
   ],
   "source": [
    "start = time.time()\n",
    "model = Random_Forest_Custom(total_DT_to_build =12)\n",
    "\n",
    "model.fit_rf_custom(X_train,y_train, m = 35 ,frac=1, seed =10)\n",
    "spam_predicted = model.rf_predict_custom_v2(X_test)\n",
    "print(accuracy_score(y_test, spam_predicted))\n",
    "end = time.time()\n",
    "print('time taken in minutes : ', str((end - start)/60))\n",
    "# time taken in minutes :   0.6357081850369771 for 2 DT"
   ]
  },
  {
   "cell_type": "code",
   "execution_count": 67,
   "id": "f3bb4de8",
   "metadata": {},
   "outputs": [
    {
     "name": "stdout",
     "output_type": "stream",
     "text": [
      "1 Decision Tree built\n",
      "2 Decision Tree built\n",
      "3 Decision Tree built\n",
      "4 Decision Tree built\n",
      "5 Decision Tree built\n",
      "6 Decision Tree built\n",
      "7 Decision Tree built\n",
      "8 Decision Tree built\n",
      "9 Decision Tree built\n",
      "10 Decision Tree built\n",
      "11 Decision Tree built\n",
      "12 Decision Tree built\n",
      "0.8950036205648081\n",
      "time taken in minutes :  26.104773795604707\n"
     ]
    }
   ],
   "source": [
    "start = time.time()\n",
    "model = Random_Forest_Custom(total_DT_to_build =12)\n",
    "\n",
    "model.fit_rf_custom(X_train,y_train, m = 40 ,frac=1, seed =10)\n",
    "spam_predicted = model.rf_predict_custom_v2(X_test)\n",
    "print(accuracy_score(y_test, spam_predicted))\n",
    "end = time.time()\n",
    "print('time taken in minutes : ', str((end - start)/60))"
   ]
  },
  {
   "cell_type": "raw",
   "id": "90ab1543",
   "metadata": {},
   "source": [
    "for m in range(7, 17):\n",
    "    start = time.time()\n",
    "    gc.collect()\n",
    "    model = Random_Forest_Custom()\n",
    "    model.fit_rf_custom(X_train,y_train, m = 14 ,frac=1, seed =10)\n",
    "\n",
    "    spam_predicted = model.rf_predict_custom_v2(X_test)\n",
    "    print('no of features :',m, ' and accuracy obtained is : ',accuracy_score(y_test, spam_predicted))\n",
    "    end = time.time()\n",
    "    print('time taken in minutes : ', str((end - start)/60))"
   ]
  },
  {
   "cell_type": "markdown",
   "id": "351b582f",
   "metadata": {},
   "source": [
    "s = np.array(spam_predicted)\n",
    "print(X_test.shape)\n",
    "accuracy_score(y_test, s)\n"
   ]
  },
  {
   "cell_type": "code",
   "execution_count": 202,
   "id": "1d1f0dfd",
   "metadata": {},
   "outputs": [
    {
     "data": {
      "text/plain": [
       "dtype('float64')"
      ]
     },
     "execution_count": 202,
     "metadata": {},
     "output_type": "execute_result"
    }
   ],
   "source": [
    "s.dtype"
   ]
  },
  {
   "cell_type": "raw",
   "id": "f7d6b0a9",
   "metadata": {},
   "source": [
    "start = time.time()\n",
    "spam_predicted = model.rf_predict_custom(X_test)\n",
    "end = time.time()\n",
    "print('time taken in minutes : ', str(end - start))\n",
    "start = time.time()\n",
    "spam_predicted = model.rf_predict_custom_v2(X_test)\n",
    "end = time.time()\n",
    "print('time taken in minutes : ', str(end - start))\n",
    "# time taken in minutes :   0.6357081850369771 for 2 DT"
   ]
  },
  {
   "cell_type": "markdown",
   "id": "ad7ef20b",
   "metadata": {},
   "source": [
    "# Comparison with sklearn algo "
   ]
  },
  {
   "cell_type": "code",
   "execution_count": 73,
   "id": "699b8122",
   "metadata": {},
   "outputs": [
    {
     "name": "stdout",
     "output_type": "stream",
     "text": [
      "ACCURACY OF THE MODEL:  0.9478638667632151\n",
      "time taken in minutes :  0.08675789833068848\n"
     ]
    }
   ],
   "source": [
    "from sklearn.ensemble import RandomForestClassifier\n",
    "start = time.time()\n",
    "rf = RandomForestClassifier(n_estimators = 10) \n",
    "rf.fit(X_train, y_train)\n",
    "y_pred_sklearn = rf.predict(X_test)\n",
    "print(\"ACCURACY OF THE MODEL: \", accuracy_score(y_test, y_pred_sklearn))\n",
    "end = time.time()\n",
    "print('time taken in minutes : ', str(end - start))"
   ]
  },
  {
   "cell_type": "code",
   "execution_count": 75,
   "id": "0dc7d190",
   "metadata": {},
   "outputs": [
    {
     "name": "stdout",
     "output_type": "stream",
     "text": [
      "ACCURACY OF THE MODEL:  0.9543808834178131\n",
      "time taken in minutes :  0.19860100746154785\n"
     ]
    }
   ],
   "source": [
    "start = time.time()\n",
    "rf = RandomForestClassifier(n_estimators = 30) \n",
    "rf.fit(X_train, y_train)\n",
    "y_pred_sklearn = rf.predict(X_test)\n",
    "print(\"ACCURACY OF THE MODEL: \", accuracy_score(y_test, y_pred_sklearn))\n",
    "end = time.time()\n",
    "print('time taken in minutes : ', str(end - start))"
   ]
  },
  {
   "cell_type": "code",
   "execution_count": 76,
   "id": "dffed64e",
   "metadata": {},
   "outputs": [
    {
     "name": "stdout",
     "output_type": "stream",
     "text": [
      "ACCURACY OF THE MODEL:  0.9608979000724113\n",
      "time taken in minutes :  0.2685105800628662\n"
     ]
    }
   ],
   "source": [
    "start = time.time()\n",
    "rf = RandomForestClassifier(n_estimators = 35) \n",
    "rf.fit(X_train, y_train)\n",
    "y_pred_sklearn = rf.predict(X_test)\n",
    "print(\"ACCURACY OF THE MODEL: \", accuracy_score(y_test, y_pred_sklearn))\n",
    "end = time.time()\n",
    "print('time taken in minutes : ', str(end - start))"
   ]
  },
  {
   "cell_type": "code",
   "execution_count": 78,
   "id": "fea964ee",
   "metadata": {},
   "outputs": [
    {
     "name": "stdout",
     "output_type": "stream",
     "text": [
      "ACCURACY OF THE MODEL:  0.9471397538015931\n",
      "time taken in minutes :  0.7573456764221191\n"
     ]
    }
   ],
   "source": [
    "start = time.time()\n",
    "rf = RandomForestClassifier(n_estimators = 30,max_features = 30) # SINCE max_features 30 is giving my custom algo best results\n",
    "rf.fit(X_train, y_train)\n",
    "y_pred_sklearn = rf.predict(X_test)\n",
    "print(\"ACCURACY OF THE MODEL: \", accuracy_score(y_test, y_pred_sklearn))\n",
    "end = time.time()\n",
    "print('time taken in minutes : ', str(end - start))"
   ]
  },
  {
   "cell_type": "markdown",
   "id": "22e7c47e",
   "metadata": {},
   "source": [
    "# Out of Bag Error"
   ]
  },
  {
   "cell_type": "code",
   "execution_count": 70,
   "id": "58c77573",
   "metadata": {},
   "outputs": [],
   "source": [
    "class Random_Forest_Custom_OOB:\n",
    "    '''\n",
    "    A Class that represents a Random Forest that also calculates Out of Bag Error .\n",
    "    Attributes :\n",
    "    --------------------------------------------------------------------\n",
    "    total_DT_to_build - how many total trees to build\n",
    "    list_of_trees - list of trained Decision Trees\n",
    "    --------------------------------------------\n",
    "    Methods:\n",
    "    ---------------------------------------------\n",
    "    fit_rf_custom - \n",
    "    Fits total_DT_to_build number of DTs\n",
    "    Randomly selects m features/columns without replacement.\n",
    "    Then randomly selects frac fraction of rows/records with Replacement.\n",
    "    the Rows NOT selected are considered Out of Bag Samples for each DT.\n",
    "    \n",
    "    For each Decision Tree, we check the accuracy for the Out of Bag (OOB) Samples & also print their average Accuracy\n",
    "    \n",
    "\n",
    "    \n",
    "    rf_predict_custom_v2 - \n",
    "    Predicts on the Test data using all the Decision Tree- majority votes\n",
    "    \n",
    "    '''\n",
    "    \n",
    "    def __init__(self, total_DT_to_build=5):\n",
    "        self.total_DT_to_build = total_DT_to_build\n",
    "        # To enlist each decision tree in a list after fitting it on train data\n",
    "        self.list_of_trees = []\n",
    "    def fit_rf_custom(self, X,y,m,frac =0.8,seed=0):\n",
    "        '''\n",
    "        fits total_DT_to_build Number of Decision Trees to the various Bootstrapped Samples. \n",
    "        Also returns Out of Bag Accuracy .\n",
    "        Input Parameters\n",
    "        -----\n",
    "        X- Features/ Indepedent Variables\n",
    "        y - Target / Dependent Variables\n",
    "        m - how many features to select for fitting each Decision Tree\n",
    "        frac - how many fraction of records to select from the Train dataset with replacement\n",
    "        seed - random state\n",
    "        \n",
    "        '''\n",
    "\n",
    "        self.list_of_trees = []\n",
    "        count_of_DTree_built_so_far = 0\n",
    "        OOB_accuracy_scores = []\n",
    "        while count_of_DTree_built_so_far < self.total_DT_to_build:\n",
    "                #print(count_of_DTree_built_so_far,self.total_DT_to_build )\n",
    "                tree = DecisionTree(0.005,'gini')\n",
    "                X2 = X.sample(n=m,axis='columns',random_state=seed)\n",
    "                training_set = X2.copy()\n",
    "                \n",
    "                training_set[57] = y\n",
    "                X2[57] = y\n",
    "                #select frac fraction of rows/records with Replacement i.e. some rows might be repeated\n",
    "                training_set = training_set.sample(frac = frac,axis='rows',random_state=seed,replace=True)\n",
    "                training_index = training_set.index\n",
    "                tree.learn( training_set )# fit the decision tree on the bootstrap sample\n",
    "                \n",
    "                remaining_indices = np.setdiff1d(X2.index.values, training_set.index.values)\n",
    "                ## Create a OOB sample set with the records that were NOT part of bootstrap training sample\n",
    "                OOB_samples = X2.loc[remaining_indices,:] \n",
    "                # predict & check the accuracy on the OOB samples for each Decision Tree\n",
    "                \n",
    "                OOB_pred = OOB_samples.apply(lambda x: tree.classify(x), axis=1)\n",
    "                OOB_accuracy = accuracy_score(OOB_pred,OOB_samples.iloc[:,-1] )\n",
    "                OOB_accuracy_scores.append(OOB_accuracy)\n",
    "                self.list_of_trees.append(tree)\n",
    "                count_of_DTree_built_so_far += 1\n",
    "                print('{} Decision Tree built'.format(count_of_DTree_built_so_far))\n",
    "        print('Bootstrap sample size',training_set.shape,'OOB sample size ',OOB_samples.shape)\n",
    "        print('the OOB accuracy scores are ', OOB_accuracy_scores, ' the AVG being : ', np.array(OOB_accuracy_scores).mean())\n",
    "\n",
    "    def rf_predict_custom_v2(self, X_test):\n",
    "        prediction_list,results = [],[]\n",
    "        prediction_list = np.array([X_test.apply(lambda x: tree.classify(x), axis=1) for tree in self.list_of_trees]).mean(axis =0)\n",
    "        return prediction_list.astype(np.int16)\n"
   ]
  },
  {
   "cell_type": "code",
   "execution_count": 77,
   "id": "4e6eae26",
   "metadata": {},
   "outputs": [
    {
     "name": "stdout",
     "output_type": "stream",
     "text": [
      "1 Decision Tree built\n",
      "2 Decision Tree built\n",
      "3 Decision Tree built\n",
      "4 Decision Tree built\n",
      "5 Decision Tree built\n",
      "6 Decision Tree built\n",
      "7 Decision Tree built\n",
      "8 Decision Tree built\n",
      "9 Decision Tree built\n",
      "10 Decision Tree built\n",
      "11 Decision Tree built\n",
      "12 Decision Tree built\n",
      "Bootstrap sample size (2898, 20) OOB sample size  (1316, 20)\n",
      "the OOB accuracy scores are  [0.8814589665653495, 0.8814589665653495, 0.8814589665653495, 0.8814589665653495, 0.8814589665653495, 0.8814589665653495, 0.8814589665653495, 0.8814589665653495, 0.8814589665653495, 0.8814589665653495, 0.8814589665653495, 0.8814589665653495]  the AVG being :  0.8814589665653494\n",
      "test set accuracy 0.8580738595220855\n",
      "time taken in minutes :  10.637855660915374\n"
     ]
    }
   ],
   "source": [
    "start = time.time()\n",
    "model = Random_Forest_Custom_OOB(total_DT_to_build =12)\n",
    "\n",
    "model.fit_rf_custom(X_train,y_train, m = 19 ,frac=.9, seed =10)#19\n",
    "spam_predicted = model.rf_predict_custom_v2(X_test)\n",
    "print('test set accuracy',accuracy_score(y_test, spam_predicted))\n",
    "end = time.time()\n",
    "print('time taken in minutes : ', str((end - start)/60))"
   ]
  },
  {
   "cell_type": "code",
   "execution_count": null,
   "id": "b13e5ed7",
   "metadata": {},
   "outputs": [],
   "source": []
  },
  {
   "cell_type": "code",
   "execution_count": null,
   "id": "c2ff1f57",
   "metadata": {},
   "outputs": [],
   "source": []
  }
 ],
 "metadata": {
  "kernelspec": {
   "display_name": "Python 3",
   "language": "python",
   "name": "python3"
  },
  "language_info": {
   "codemirror_mode": {
    "name": "ipython",
    "version": 3
   },
   "file_extension": ".py",
   "mimetype": "text/x-python",
   "name": "python",
   "nbconvert_exporter": "python",
   "pygments_lexer": "ipython3",
   "version": "3.8.8"
  }
 },
 "nbformat": 4,
 "nbformat_minor": 5
}
