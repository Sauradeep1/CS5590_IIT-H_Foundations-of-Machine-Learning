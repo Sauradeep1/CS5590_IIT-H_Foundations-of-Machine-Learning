{
 "cells": [
  {
   "cell_type": "code",
   "execution_count": 1,
   "id": "be3f0685",
   "metadata": {},
   "outputs": [],
   "source": [
    "import numpy as np\n",
    "import pandas as pd\n",
    "import os"
   ]
  },
  {
   "cell_type": "code",
   "execution_count": 2,
   "id": "00e2eaf6",
   "metadata": {},
   "outputs": [],
   "source": [
    "import csv\n",
    "from operator import le, eq\n",
    "from more_itertools import numeric_range"
   ]
  },
  {
   "cell_type": "code",
   "execution_count": 3,
   "id": "8baa3564",
   "metadata": {},
   "outputs": [],
   "source": [
    "from sklearn.model_selection import train_test_split\n",
    "import functools\n",
    "import time"
   ]
  },
  {
   "cell_type": "code",
   "execution_count": 4,
   "id": "a59cf373",
   "metadata": {},
   "outputs": [
    {
     "data": {
      "text/plain": [
       "['Assignment 1 Answer.docx',\n",
       " 'assignment_1.pdf',\n",
       " 'Decision Tree results.xlsx',\n",
       " 'KNN.pdf',\n",
       " 'links.txt',\n",
       " 'Sauradeep-Debnath-CV_result.txt',\n",
       " 'Sauradeep-Debnath-result.txt',\n",
       " 'skeleton DT.pdf',\n",
       " 'wine-dataset.csv',\n",
       " '~$Decision Tree results.xlsx',\n",
       " '~$signment 1 Answer.docx',\n",
       " '~WRL2643.tmp',\n",
       " '~WRL2709.tmp']"
      ]
     },
     "execution_count": 4,
     "metadata": {},
     "output_type": "execute_result"
    }
   ],
   "source": [
    "os.chdir(r'C:\\Users\\saura\\OneDrive\\Documents\\IIT Hyderabad\\Assignments\\ML\\Assignment 1')\n",
    "os.listdir()"
   ]
  },
  {
   "cell_type": "code",
   "execution_count": 5,
   "id": "e2e5c122",
   "metadata": {},
   "outputs": [],
   "source": [
    "myname = 'Sauradeep-Debnath-'"
   ]
  },
  {
   "cell_type": "markdown",
   "id": "d9a84068",
   "metadata": {},
   "source": [
    "# LOAD datasets"
   ]
  },
  {
   "cell_type": "code",
   "execution_count": 6,
   "id": "05bbdf97",
   "metadata": {},
   "outputs": [
    {
     "data": {
      "text/html": [
       "<div>\n",
       "<style scoped>\n",
       "    .dataframe tbody tr th:only-of-type {\n",
       "        vertical-align: middle;\n",
       "    }\n",
       "\n",
       "    .dataframe tbody tr th {\n",
       "        vertical-align: top;\n",
       "    }\n",
       "\n",
       "    .dataframe thead th {\n",
       "        text-align: right;\n",
       "    }\n",
       "</style>\n",
       "<table border=\"1\" class=\"dataframe\">\n",
       "  <thead>\n",
       "    <tr style=\"text-align: right;\">\n",
       "      <th></th>\n",
       "      <th>fixed acidity</th>\n",
       "      <th>volatile acidity</th>\n",
       "      <th>citric acid</th>\n",
       "      <th>residual sugar</th>\n",
       "      <th>chlorides</th>\n",
       "      <th>free sulfur dioxide</th>\n",
       "      <th>total sulfur dioxide</th>\n",
       "      <th>density</th>\n",
       "      <th>pH</th>\n",
       "      <th>sulphates</th>\n",
       "      <th>alcohol</th>\n",
       "      <th>quality</th>\n",
       "    </tr>\n",
       "  </thead>\n",
       "  <tbody>\n",
       "    <tr>\n",
       "      <th>0</th>\n",
       "      <td>7.0</td>\n",
       "      <td>0.27</td>\n",
       "      <td>0.36</td>\n",
       "      <td>20.7</td>\n",
       "      <td>0.045</td>\n",
       "      <td>45.0</td>\n",
       "      <td>170.0</td>\n",
       "      <td>1.0010</td>\n",
       "      <td>3.00</td>\n",
       "      <td>0.45</td>\n",
       "      <td>8.8</td>\n",
       "      <td>0</td>\n",
       "    </tr>\n",
       "    <tr>\n",
       "      <th>1</th>\n",
       "      <td>6.3</td>\n",
       "      <td>0.30</td>\n",
       "      <td>0.34</td>\n",
       "      <td>1.6</td>\n",
       "      <td>0.049</td>\n",
       "      <td>14.0</td>\n",
       "      <td>132.0</td>\n",
       "      <td>0.9940</td>\n",
       "      <td>3.30</td>\n",
       "      <td>0.49</td>\n",
       "      <td>9.5</td>\n",
       "      <td>0</td>\n",
       "    </tr>\n",
       "    <tr>\n",
       "      <th>2</th>\n",
       "      <td>8.1</td>\n",
       "      <td>0.28</td>\n",
       "      <td>0.40</td>\n",
       "      <td>6.9</td>\n",
       "      <td>0.050</td>\n",
       "      <td>30.0</td>\n",
       "      <td>97.0</td>\n",
       "      <td>0.9951</td>\n",
       "      <td>3.26</td>\n",
       "      <td>0.44</td>\n",
       "      <td>10.1</td>\n",
       "      <td>0</td>\n",
       "    </tr>\n",
       "    <tr>\n",
       "      <th>3</th>\n",
       "      <td>7.2</td>\n",
       "      <td>0.23</td>\n",
       "      <td>0.32</td>\n",
       "      <td>8.5</td>\n",
       "      <td>0.058</td>\n",
       "      <td>47.0</td>\n",
       "      <td>186.0</td>\n",
       "      <td>0.9956</td>\n",
       "      <td>3.19</td>\n",
       "      <td>0.40</td>\n",
       "      <td>9.9</td>\n",
       "      <td>0</td>\n",
       "    </tr>\n",
       "    <tr>\n",
       "      <th>4</th>\n",
       "      <td>7.2</td>\n",
       "      <td>0.23</td>\n",
       "      <td>0.32</td>\n",
       "      <td>8.5</td>\n",
       "      <td>0.058</td>\n",
       "      <td>47.0</td>\n",
       "      <td>186.0</td>\n",
       "      <td>0.9956</td>\n",
       "      <td>3.19</td>\n",
       "      <td>0.40</td>\n",
       "      <td>9.9</td>\n",
       "      <td>0</td>\n",
       "    </tr>\n",
       "  </tbody>\n",
       "</table>\n",
       "</div>"
      ],
      "text/plain": [
       "   fixed acidity  volatile acidity  citric acid  residual sugar  chlorides  \\\n",
       "0            7.0              0.27         0.36            20.7      0.045   \n",
       "1            6.3              0.30         0.34             1.6      0.049   \n",
       "2            8.1              0.28         0.40             6.9      0.050   \n",
       "3            7.2              0.23         0.32             8.5      0.058   \n",
       "4            7.2              0.23         0.32             8.5      0.058   \n",
       "\n",
       "   free sulfur dioxide  total sulfur dioxide  density    pH  sulphates  \\\n",
       "0                 45.0                 170.0   1.0010  3.00       0.45   \n",
       "1                 14.0                 132.0   0.9940  3.30       0.49   \n",
       "2                 30.0                  97.0   0.9951  3.26       0.44   \n",
       "3                 47.0                 186.0   0.9956  3.19       0.40   \n",
       "4                 47.0                 186.0   0.9956  3.19       0.40   \n",
       "\n",
       "   alcohol  quality  \n",
       "0      8.8        0  \n",
       "1      9.5        0  \n",
       "2     10.1        0  \n",
       "3      9.9        0  \n",
       "4      9.9        0  "
      ]
     },
     "execution_count": 6,
     "metadata": {},
     "output_type": "execute_result"
    }
   ],
   "source": [
    "wine_df = pd.read_csv('wine-dataset.csv')\n",
    "wine_df.head()"
   ]
  },
  {
   "cell_type": "code",
   "execution_count": 7,
   "id": "22a17e7c",
   "metadata": {},
   "outputs": [
    {
     "data": {
      "text/plain": [
       "0    3838\n",
       "1    1060\n",
       "Name: quality, dtype: int64"
      ]
     },
     "execution_count": 7,
     "metadata": {},
     "output_type": "execute_result"
    }
   ],
   "source": [
    "wine_df.quality.value_counts()"
   ]
  },
  {
   "cell_type": "code",
   "execution_count": 8,
   "id": "d6470355",
   "metadata": {},
   "outputs": [
    {
     "data": {
      "text/html": [
       "<div>\n",
       "<style scoped>\n",
       "    .dataframe tbody tr th:only-of-type {\n",
       "        vertical-align: middle;\n",
       "    }\n",
       "\n",
       "    .dataframe tbody tr th {\n",
       "        vertical-align: top;\n",
       "    }\n",
       "\n",
       "    .dataframe thead th {\n",
       "        text-align: right;\n",
       "    }\n",
       "</style>\n",
       "<table border=\"1\" class=\"dataframe\">\n",
       "  <thead>\n",
       "    <tr style=\"text-align: right;\">\n",
       "      <th></th>\n",
       "      <th>fixed acidity</th>\n",
       "      <th>volatile acidity</th>\n",
       "      <th>citric acid</th>\n",
       "      <th>residual sugar</th>\n",
       "      <th>chlorides</th>\n",
       "      <th>free sulfur dioxide</th>\n",
       "      <th>total sulfur dioxide</th>\n",
       "      <th>density</th>\n",
       "      <th>pH</th>\n",
       "      <th>sulphates</th>\n",
       "      <th>alcohol</th>\n",
       "    </tr>\n",
       "  </thead>\n",
       "  <tbody>\n",
       "    <tr>\n",
       "      <th>0</th>\n",
       "      <td>7.0</td>\n",
       "      <td>0.27</td>\n",
       "      <td>0.36</td>\n",
       "      <td>20.7</td>\n",
       "      <td>0.045</td>\n",
       "      <td>45.0</td>\n",
       "      <td>170.0</td>\n",
       "      <td>1.0010</td>\n",
       "      <td>3.00</td>\n",
       "      <td>0.45</td>\n",
       "      <td>8.8</td>\n",
       "    </tr>\n",
       "    <tr>\n",
       "      <th>1</th>\n",
       "      <td>6.3</td>\n",
       "      <td>0.30</td>\n",
       "      <td>0.34</td>\n",
       "      <td>1.6</td>\n",
       "      <td>0.049</td>\n",
       "      <td>14.0</td>\n",
       "      <td>132.0</td>\n",
       "      <td>0.9940</td>\n",
       "      <td>3.30</td>\n",
       "      <td>0.49</td>\n",
       "      <td>9.5</td>\n",
       "    </tr>\n",
       "    <tr>\n",
       "      <th>2</th>\n",
       "      <td>8.1</td>\n",
       "      <td>0.28</td>\n",
       "      <td>0.40</td>\n",
       "      <td>6.9</td>\n",
       "      <td>0.050</td>\n",
       "      <td>30.0</td>\n",
       "      <td>97.0</td>\n",
       "      <td>0.9951</td>\n",
       "      <td>3.26</td>\n",
       "      <td>0.44</td>\n",
       "      <td>10.1</td>\n",
       "    </tr>\n",
       "    <tr>\n",
       "      <th>3</th>\n",
       "      <td>7.2</td>\n",
       "      <td>0.23</td>\n",
       "      <td>0.32</td>\n",
       "      <td>8.5</td>\n",
       "      <td>0.058</td>\n",
       "      <td>47.0</td>\n",
       "      <td>186.0</td>\n",
       "      <td>0.9956</td>\n",
       "      <td>3.19</td>\n",
       "      <td>0.40</td>\n",
       "      <td>9.9</td>\n",
       "    </tr>\n",
       "    <tr>\n",
       "      <th>4</th>\n",
       "      <td>7.2</td>\n",
       "      <td>0.23</td>\n",
       "      <td>0.32</td>\n",
       "      <td>8.5</td>\n",
       "      <td>0.058</td>\n",
       "      <td>47.0</td>\n",
       "      <td>186.0</td>\n",
       "      <td>0.9956</td>\n",
       "      <td>3.19</td>\n",
       "      <td>0.40</td>\n",
       "      <td>9.9</td>\n",
       "    </tr>\n",
       "  </tbody>\n",
       "</table>\n",
       "</div>"
      ],
      "text/plain": [
       "   fixed acidity  volatile acidity  citric acid  residual sugar  chlorides  \\\n",
       "0            7.0              0.27         0.36            20.7      0.045   \n",
       "1            6.3              0.30         0.34             1.6      0.049   \n",
       "2            8.1              0.28         0.40             6.9      0.050   \n",
       "3            7.2              0.23         0.32             8.5      0.058   \n",
       "4            7.2              0.23         0.32             8.5      0.058   \n",
       "\n",
       "   free sulfur dioxide  total sulfur dioxide  density    pH  sulphates  \\\n",
       "0                 45.0                 170.0   1.0010  3.00       0.45   \n",
       "1                 14.0                 132.0   0.9940  3.30       0.49   \n",
       "2                 30.0                  97.0   0.9951  3.26       0.44   \n",
       "3                 47.0                 186.0   0.9956  3.19       0.40   \n",
       "4                 47.0                 186.0   0.9956  3.19       0.40   \n",
       "\n",
       "   alcohol  \n",
       "0      8.8  \n",
       "1      9.5  \n",
       "2     10.1  \n",
       "3      9.9  \n",
       "4      9.9  "
      ]
     },
     "execution_count": 8,
     "metadata": {},
     "output_type": "execute_result"
    }
   ],
   "source": [
    "wine_df_X = wine_df.iloc[:,:-1]\n",
    "wine_df_X.head()"
   ]
  },
  {
   "cell_type": "markdown",
   "id": "e336dbdc",
   "metadata": {},
   "source": [
    "# Decision Tree Helper functions "
   ]
  },
  {
   "cell_type": "raw",
   "id": "7b26ff37",
   "metadata": {},
   "source": [
    "def get_entropy(labels):\n",
    "    _,count_labels = np.unique(labels, return_counts=True)\n",
    "    prob_i = count_labels / len(labels)\n",
    "    return -np.sum(prob_i*np.log2(prob_i))\n",
    "counts = get_entropy([2,2,4,4,4])\n",
    "print(counts)"
   ]
  },
  {
   "cell_type": "code",
   "execution_count": null,
   "id": "ad9db2c7",
   "metadata": {},
   "outputs": [],
   "source": []
  },
  {
   "cell_type": "code",
   "execution_count": 9,
   "id": "f4515a90",
   "metadata": {},
   "outputs": [
    {
     "name": "stdout",
     "output_type": "stream",
     "text": [
      "0.9709505944546686\n"
     ]
    }
   ],
   "source": [
    "def get_impurity(labels, criteria = 'entropy'):\n",
    "    '''\n",
    "        Gets the impurity of a given node\n",
    "        Input Parameters\n",
    "        ----------\n",
    "        labels : list\n",
    "            holds the list of class labels\n",
    "        criteria : string\n",
    "            possible values : 'entropy', 'gini'\n",
    "            default value : 'entropy'\n",
    "        Returns\n",
    "        --------------\n",
    "        impurity : float\n",
    "            impurity of a given node either as per entropy or gini impurity criteria\n",
    "        '''\n",
    "    _,count_labels = np.unique(labels, return_counts=True) # get the counts of elements belonging to each class\n",
    "    prob_i = count_labels / len(labels) # probability of i-th class \n",
    "    if criteria == 'entropy':\n",
    "        return -np.sum(prob_i*np.log2(prob_i)) # Entropy\n",
    "    elif criteria == 'gini':\n",
    "        return 1-np.sum(prob_i*prob_i) # Gini impurity\n",
    "counts = get_impurity([2,2,4,4,4])\n",
    "print(counts)"
   ]
  },
  {
   "cell_type": "code",
   "execution_count": 10,
   "id": "c2c19b10",
   "metadata": {},
   "outputs": [
    {
     "name": "stdout",
     "output_type": "stream",
     "text": [
      "0.48\n"
     ]
    }
   ],
   "source": [
    "counts = get_impurity([2,2,4,4,4],'gini')\n",
    "print(counts)"
   ]
  },
  {
   "cell_type": "code",
   "execution_count": 11,
   "id": "08632342",
   "metadata": {},
   "outputs": [
    {
     "name": "stdout",
     "output_type": "stream",
     "text": [
      "0.0\n"
     ]
    }
   ],
   "source": [
    "counts = get_impurity([4,4,4,4,4],'gini')\n",
    "print(counts)"
   ]
  },
  {
   "cell_type": "code",
   "execution_count": 12,
   "id": "b6f36ac4",
   "metadata": {},
   "outputs": [
    {
     "name": "stdout",
     "output_type": "stream",
     "text": [
      "0.5\n"
     ]
    }
   ],
   "source": [
    "counts = get_impurity([1,2],'gini')\n",
    "print(counts)"
   ]
  },
  {
   "cell_type": "code",
   "execution_count": 13,
   "id": "f3ccba5e",
   "metadata": {},
   "outputs": [
    {
     "data": {
      "text/plain": [
       "0.27551020408163274"
      ]
     },
     "execution_count": 13,
     "metadata": {},
     "output_type": "execute_result"
    }
   ],
   "source": [
    "def information_gain(child_nodes, parent_node, criteria = 'entropy'):\n",
    "        '''\n",
    "        Gets the impurity reduction when a parent node is divided into child nodes\n",
    "        Input Parameters\n",
    "        ----------\n",
    "        child_nodes : list\n",
    "            holds child node element as lists inside another list\n",
    "        parent_node : list\n",
    "            holds the parent elements as a list\n",
    "        criteria : string\n",
    "            possible values : 'entropy', 'gini'\n",
    "            default value : 'entropy'\n",
    "        Returns\n",
    "        --------------\n",
    "        info_gain : float\n",
    "            information gain ( reduction in impurity) resulting from the split \n",
    "        '''\n",
    "        parent_impurity = get_impurity(parent_node, criteria)# get entropy/gini impurity , based on parameter \"criteria\"\n",
    "        child_impurity_list = [get_impurity(child,criteria) for child in child_nodes]\n",
    "        child_counts = [len(child) for child in child_nodes] # get the number of elments in each child node\n",
    "        # get a weighted average of child impurities, weighted by child node sizes\n",
    "        weighted_avg_child_impurity = np.sum([child_impurity_list[i]*child_counts[i] for i in range(len(child_nodes))])/len(parent_node)\n",
    "        # get the difference with parent node impurity\n",
    "        info_gain = parent_impurity - weighted_avg_child_impurity ## get the impurity difference\n",
    "        return info_gain\n",
    "    \n",
    "information_gain([[1,1,1],[2,1,2,2]],[1,1,1,2,1,2,2],'gini')#example of values    "
   ]
  },
  {
   "cell_type": "code",
   "execution_count": 14,
   "id": "3a489bc3",
   "metadata": {},
   "outputs": [],
   "source": [
    "#training_set.iloc[:,-1].value_counts().to_dict()"
   ]
  },
  {
   "cell_type": "code",
   "execution_count": 15,
   "id": "c6171c9d",
   "metadata": {},
   "outputs": [
    {
     "data": {
      "text/plain": [
       "0.5216406363433185"
      ]
     },
     "execution_count": 15,
     "metadata": {},
     "output_type": "execute_result"
    }
   ],
   "source": [
    "information_gain([np.array([1,1,1]),np.array([2,1,2,2])],np.array([1,1,1,2,1,2,2]))"
   ]
  },
  {
   "cell_type": "code",
   "execution_count": 16,
   "id": "19907fcf",
   "metadata": {},
   "outputs": [],
   "source": [
    "def split_tree(dataset, feature, threshold):\n",
    "    '''\n",
    "    Splits the 'dataset' dataframe into two parts based on the chosen threshold & returns them\n",
    "    \n",
    "    '''\n",
    "    condition_check_success_records = dataset[dataset[feature].astype(float)>=threshold]## satisfies the condition\n",
    "    condition_check_failure_records = dataset[dataset[feature].astype(float)<threshold]## fails the condition\n",
    "    return condition_check_success_records, condition_check_failure_records"
   ]
  },
  {
   "cell_type": "code",
   "execution_count": 17,
   "id": "366fbf12",
   "metadata": {},
   "outputs": [],
   "source": [
    "\n",
    "def get_best_threshold(dataset, feature,criteria ,threshold):\n",
    "    '''for a given feature , find the  best threshold in a Node\n",
    "    Parameters\n",
    "    -------------\n",
    "    dataset - dataframe\n",
    "        The set of records at a given node we need to split further\n",
    "    feature - str\n",
    "        the feature / column/attribute we are checking currently\n",
    "    threshold -\n",
    "        the current threshold. We iterate through all the values in of a feature in the function check_all_features() and\n",
    "        pass them one by one to this function\n",
    "    Returns \n",
    "    -------------\n",
    "    info_gain : float\n",
    "        the info gain resulting from the current splitting condition ( threshold, feature)\n",
    "    threshold : threshold \n",
    "        corresponding [info_gain, threshold] are passed a list to check_all_features()\n",
    "    \n",
    "    '''\n",
    "    left_tree, right_tree = split_tree(dataset, feature, threshold)# success , failure branches\n",
    "    if left_tree.shape[1] == 0 or right_tree.shape[1] == 0:# If Row number of any branch=0, skip\n",
    "                return 0, none\n",
    "    info_gain = information_gain([left_tree.iloc[ :, -1].values, right_tree.iloc[ :, -1].values], dataset.iloc[ :, -1].values, criteria)\n",
    "    return [info_gain, threshold]\n",
    "    \n",
    "                \n",
    "def check_all_features(dataset,criteria, feature):\n",
    "    '''for a given node, check all features to find best splitting condition\n",
    "    Returns\n",
    "    ------------\n",
    "    returns [highest_info_gain, feature, best_threshold] where best_threshold is the best threshold to split a given node\n",
    "    for a given features\n",
    "    '''\n",
    "    all_values = list( set(dataset[feature].astype(float)))\n",
    "    highest_info_gain, optimal_feature, best_threshold =0 ,None, None\n",
    "    info_gain_list = list(map(functools.partial(get_best_threshold, dataset, feature, criteria),all_values))\n",
    "    #info_gain_list = list(map(functools.partial(get_best_threshold, dataset, feature, criteria),eq_100_parts))\n",
    "    highest_info_gain, best_threshold = max(info_gain_list, key=lambda element: element[0])\n",
    "    return [highest_info_gain, feature, best_threshold]\n",
    "                \n",
    "def best_split_conditions(dataset, criteria):\n",
    "    '''for a given node , find the best splitting condition ( i.e. which feature to split, at what threshold & \n",
    "    what is the resulting information gain)'''\n",
    "    highest_info_gain = 0  \n",
    "    num_features = dataset.shape[1] # number of attributes\n",
    "    optimal_feature, best_threshold =None, None\n",
    "    col_list  = dataset.columns[:len(dataset.columns)-1].tolist()\n",
    "    #info_gain, optimal_feature, best_threshold = map(check_all_features, col_list, dataset)\n",
    "    info_gain_list = list(map(functools.partial(check_all_features, dataset, criteria), col_list))\n",
    "    #best_index = np.argmax(info_gain_list[0])\n",
    "    highest_info_gain, optimal_feature, best_threshold =  max(info_gain_list, key=lambda element: element[0])\n",
    "    #print(highest_info_gain, optimal_feature, best_threshold)\n",
    "    return highest_info_gain, optimal_feature, best_threshold"
   ]
  },
  {
   "cell_type": "markdown",
   "id": "1283ab7a",
   "metadata": {},
   "source": [
    "## Tree Node Classes "
   ]
  },
  {
   "cell_type": "code",
   "execution_count": 18,
   "id": "55f645e3",
   "metadata": {},
   "outputs": [],
   "source": [
    "class Non_Terminal_DT_Node:\n",
    "    \"\"\"\n",
    "    A class that represents a Non Terminal Node (Decision Node) in a Decision Tree i.e. a node that is subsequently split into other nodes\n",
    "    ...\n",
    "    Attributes\n",
    "    ----------\n",
    "    true_child_tree : object of the class DecisionTree\n",
    "        holds the the sub tree / child tree / branch which has elements that satisfy the splitting condition\n",
    "    false_child_tree : object of the class DecisionTree\n",
    "        holds the sub tree / child tree / branch which has elements that fails the splitting condition\n",
    "    optimal_feature : str, best_threshold: float\n",
    "        together these two attributes give us the best splitting condition at any node\n",
    "    \"\"\"\n",
    "\n",
    "    def __init__(self, true_child_tree, false_child_tree, optimal_feature, best_threshold):\n",
    "       \n",
    "        self.true_child_tree = true_child_tree\n",
    "        self.false_child_tree = false_child_tree\n",
    "        self.optimal_feature = optimal_feature\n",
    "        self.best_threshold = best_threshold"
   ]
  },
  {
   "cell_type": "code",
   "execution_count": 19,
   "id": "5b6e83af",
   "metadata": {},
   "outputs": [],
   "source": [
    "class Terminal_Node:\n",
    "    \"\"\"\n",
    "    A class that represents a Terminal Node (Leaf Node) in a Decision Tree i.e. a node that is NOT subsequently split into other nodes\n",
    "    ...\n",
    "    Attributes\n",
    "    ----------\n",
    "    predicted_classlabel : str\n",
    "    The Majority class label in a given Leaf Node\n",
    "    \"\"\"\n",
    "    def __init__(self, dataset):\n",
    "        self.predicted_classlabel = dataset.iloc[:,-1].value_counts().idxmax()#to_dict()"
   ]
  },
  {
   "cell_type": "markdown",
   "id": "d9dd3b66",
   "metadata": {},
   "source": [
    "# FUNCTIONS used for  BUILDING the TREE "
   ]
  },
  {
   "cell_type": "code",
   "execution_count": 20,
   "id": "ae6447db",
   "metadata": {},
   "outputs": [],
   "source": [
    " def build_decision_tree(training_set, ig_threshold, criteria, minimum_leaf =5):#\n",
    "        '''\n",
    "        builds the decision tree by learning the optimum splitting condition\n",
    "        Input Parameters\n",
    "        ----------\n",
    "        training_set : dataframe\n",
    "            Holds the records in the current node.\n",
    "        ig_threshold : float\n",
    "            If info gain is less than this threshold, stop splitting & ignore the current split\n",
    "        criteria : string\n",
    "            possible values : 'entropy', 'gini'\n",
    "            default value : 'entropy'\n",
    "        Returns\n",
    "        --------------\n",
    "        Non_Terminal_DT_Node : object of class Non_Terminal_DT_Node\n",
    "            holds the Decision Nodes i.e. the nodes that are split further\n",
    "        Terminal_Node : object of class Terminal_Node\n",
    "            holds the terminal /Leaf nodes\n",
    "        \n",
    "        '''\n",
    "        #minimum_leaf = 5 #\n",
    "        if len(training_set.iloc[:,-1].unique().tolist()) ==1: # IF a node has just one class, declare it as Terminal /Leaf\n",
    "            return Terminal_Node(training_set)\n",
    "        elif len(training_set.iloc[:,-1].unique().tolist()) > 1:\n",
    "            if training_set.shape[0]<=minimum_leaf: \n",
    "                return Terminal_Node(training_set)\n",
    "            info_gain, optimal_feature, best_threshold = best_split_conditions(training_set, criteria)\n",
    "            if info_gain <= ig_threshold :      #or training_set.shape[0]<=minimum_leaf: \n",
    "                return Terminal_Node(training_set)\n",
    "            true_child_set, false_child_set = split_tree(training_set, optimal_feature, best_threshold)\n",
    "            true_child_tree = build_decision_tree(true_child_set, ig_threshold, criteria)\n",
    "            false_child_tree = build_decision_tree(false_child_set, ig_threshold, criteria)\n",
    "            #print(' optimal_feature : '+str(optimal_feature)+' best_threshold : '+str(best_threshold))\n",
    "            return Non_Terminal_DT_Node(true_child_tree, false_child_tree, optimal_feature, best_threshold)"
   ]
  },
  {
   "cell_type": "code",
   "execution_count": 21,
   "id": "e300d498",
   "metadata": {},
   "outputs": [],
   "source": [
    "def classify_test_instance(test_instance, tree_node):\n",
    "        '''\n",
    "        classifies a new test instance based on a previously learnt/built decision tree\n",
    "        Input Parameters\n",
    "        ----------\n",
    "        test_instance : nd-array\n",
    "            Holds the current test instance\n",
    "        tree_node : object of class DecisionTree\n",
    "        Returns\n",
    "        --------------\n",
    "        predicted_classlabel : str\n",
    "            the predicted label for the test instance\n",
    "            '''\n",
    "        \n",
    "        result = 0 #\n",
    "        \n",
    "        if isinstance(tree_node, Terminal_Node):\n",
    "            #print('node.label_prediction_dict :'+str(node.label_prediction_dict))\n",
    "            return tree_node.predicted_classlabel\n",
    "        \n",
    "        test_instance = pd.Series(test_instance)\n",
    "        if float(test_instance[tree_node.optimal_feature])>=tree_node.best_threshold:\n",
    "            return classify_test_instance(test_instance, tree_node.true_child_tree )\n",
    "        else:\n",
    "            return classify_test_instance(test_instance, tree_node.false_child_tree)"
   ]
  },
  {
   "cell_type": "code",
   "execution_count": 22,
   "id": "7ad36d22",
   "metadata": {},
   "outputs": [],
   "source": [
    "class DecisionTree():\n",
    "    \"\"\"\n",
    "    A class that represents a Decision Tree\n",
    "    ...\n",
    "    Attributes\n",
    "    ----------\n",
    "    ig_threshold : float\n",
    "        a information gain threshold that tells when to stop splitting the nodes\n",
    "    criteria : str\n",
    "        the criteria to measure impurity. Two options entropy(default) and gini impurity\n",
    "\n",
    "    Methods\n",
    "    -------\n",
    "    learn (training_set)\n",
    "        Learns / builds the decision tree as per the criteria & information gain minimum threshold\n",
    "    classify (training_set)\n",
    "        Given a test data, predicts the label based on the existing tree\n",
    "    \"\"\"\n",
    "    def __init__(self,ig_threshold, criteria, minimum_leaf =5):\n",
    "        self.ig_threshold = ig_threshold\n",
    "        self.criteria = criteria\n",
    "        self.minimum_leaf =minimum_leaf \n",
    "        tree = {}\n",
    "    \n",
    "    def learn(self, training_set):\n",
    "        # implement this function\n",
    "        self.tree = build_decision_tree(training_set,self.ig_threshold ,criteria, minimum_leaf)\n",
    "        \n",
    "    # implement this function\n",
    "    def classify(self, test_instance):\n",
    "        return classify_test_instance(test_instance, self.tree)"
   ]
  },
  {
   "cell_type": "markdown",
   "id": "5e0aac9d",
   "metadata": {},
   "source": [
    "### THE BELOW FUNCTION IS FROM THE SKELETON CODE . THIS IS MOSTLY KEPT UNCHANGED"
   ]
  },
  {
   "cell_type": "code",
   "execution_count": 23,
   "id": "22afbef6",
   "metadata": {},
   "outputs": [],
   "source": [
    "def run_decision_tree(ig_threshold=0.005, criteria='gini',  minimum_leaf =5):\n",
    "    # Load data set\n",
    "    with open(\"wine-dataset.csv\") as f:\n",
    "        next(f, None)\n",
    "        data = [tuple(line) for line in csv.reader(f, delimiter=\",\")]\n",
    "    print(\"Number of records: %d\" % len(data))\n",
    "    # Split training/test sets\n",
    "    # You need to modify the following code for cross validation.\n",
    "    K = 10\n",
    "    training_set = [x for i, x in enumerate(data) if i % K != 9]\n",
    "    test_set = [x for i, x in enumerate(data) if i % K == 9]\n",
    "    training_set = pd.DataFrame(training_set)\n",
    "    test_set = pd.DataFrame(test_set)\n",
    "    training_set.apply(pd.to_numeric, errors='ignore')\n",
    "    \n",
    "    tree = DecisionTree(ig_threshold, criteria,  minimum_leaf)\n",
    "    # Construct a tree using training set\n",
    "    tree.learn( training_set )\n",
    "    # Classify the test set using the tree we just constructed\n",
    "    results = []\n",
    "    for instance in test_set.astype(float).values:\n",
    "        result = tree.classify( instance[:-1] )\n",
    "        \n",
    "        results.append( float(result) == float(instance[-1]))# check if y_true == y_pred\n",
    "    # Accuracy\n",
    "    accuracy = float(results.count(True))/float(len(results))\n",
    "    print(\"accuracy: %.4f\" % accuracy)\n",
    "    # Writing results to a file (DO NOT CHANGE)\n",
    "    f = open(myname+\"result.txt\", \"w\")\n",
    "    f.write(\"accuracy: %.4f\" % accuracy)\n",
    "    f.close()\n",
    "    return test_set"
   ]
  },
  {
   "cell_type": "code",
   "execution_count": 24,
   "id": "97b30e3b",
   "metadata": {},
   "outputs": [],
   "source": [
    "def run_decision_tree_cross_val(ig_threshold=0.005, criteria='gini', minimum_leaf =5):\n",
    "    # Load data set\n",
    "    with open(\"wine-dataset.csv\") as f:\n",
    "        next(f, None)\n",
    "        data = [tuple(line) for line in csv.reader(f, delimiter=\",\")]\n",
    "    print(\"Number of records: %d\" % len(data))\n",
    "    # Split training/test sets\n",
    "    # You need to modify the following code for cross validation.\n",
    "    K = 10\n",
    "    cross_val_accuracy_list =[]\n",
    "    for kfold in range(K):\n",
    "        training_set = [x for i, x in enumerate(data) if i%K !=kfold]\n",
    "        test_set = [x for i, x in enumerate(data) if i % K == kfold]\n",
    "        training_set = pd.DataFrame(training_set)\n",
    "        test_set = pd.DataFrame(test_set)\n",
    "        training_set.apply(pd.to_numeric, errors='ignore')\n",
    "\n",
    "        tree = DecisionTree(ig_threshold, criteria, minimum_leaf)\n",
    "        # Construct a tree using training set\n",
    "        tree.learn( training_set )\n",
    "        # Classify the test set using the tree we just constructed\n",
    "        results = []\n",
    "        for instance in test_set.astype(float).values:\n",
    "            result = tree.classify( instance[:-1] )\n",
    "\n",
    "            results.append( float(result) == float(instance[-1]))# check if y_true == y_pred\n",
    "        # Accuracy\n",
    "        accuracy = float(results.count(True))/float(len(results))\n",
    "        \n",
    "        cross_val_accuracy_list.append(accuracy)\n",
    "    print(cross_val_accuracy_list)\n",
    "    cross_val_accuracy = sum(cross_val_accuracy_list)/len(cross_val_accuracy_list)\n",
    "    print(\"cross_val_accuracy: %.4f \" % cross_val_accuracy)\n",
    "    # Writing results to a file (DO NOT CHANGE)\n",
    "    f = open(myname+\"CV_result.txt\", \"w\")\n",
    "    f.write(\"accuracy: %.4f\" % cross_val_accuracy)\n",
    "    f.close()\n",
    "    return test_set"
   ]
  },
  {
   "cell_type": "markdown",
   "id": "180bb2da",
   "metadata": {},
   "source": [
    "# We start checking the accuracy for differet hyperparameters next. \n",
    "\n",
    "# NOTE - We only NEED to RUN ONE of the below blocks "
   ]
  },
  {
   "cell_type": "code",
   "execution_count": 25,
   "id": "c80509d0",
   "metadata": {},
   "outputs": [
    {
     "name": "stdout",
     "output_type": "stream",
     "text": [
      "Number of records: 4898\n",
      "accuracy: 0.8139\n",
      "202.66212797164917\n"
     ]
    }
   ],
   "source": [
    "start = time.time()\n",
    "if __name__ == \"__main__\":\n",
    "    ig_threshold =0 #0.01 ALL VALUES IN EACH FEATURE\n",
    "    criteria ='gini'# 'entropy' 'gini'\n",
    "    minimum_leaf =5\n",
    "    test_set = run_decision_tree(ig_threshold, criteria,minimum_leaf)\n",
    "end = time.time()\n",
    "print(end - start)# EXECUTION TIME in SECONDs"
   ]
  },
  {
   "cell_type": "code",
   "execution_count": 26,
   "id": "7167275a",
   "metadata": {},
   "outputs": [
    {
     "name": "stdout",
     "output_type": "stream",
     "text": [
      "Number of records: 4898\n",
      "accuracy: 0.8180\n"
     ]
    }
   ],
   "source": [
    "if __name__ == \"__main__\":\n",
    "    ig_threshold =0 #0.01\n",
    "    criteria ='entropy'# 'entropy' 'gini'\n",
    "    minimum_leaf =5\n",
    "    test_set = run_decision_tree(ig_threshold, criteria, minimum_leaf)"
   ]
  },
  {
   "cell_type": "markdown",
   "id": "215745d2",
   "metadata": {},
   "source": [
    "# CROSS VALIDATION "
   ]
  },
  {
   "cell_type": "code",
   "execution_count": 27,
   "id": "50dbdbbf",
   "metadata": {},
   "outputs": [
    {
     "name": "stdout",
     "output_type": "stream",
     "text": [
      "Number of records: 4898\n",
      "[0.8510204081632653, 0.8612244897959184, 0.8163265306122449, 0.8346938775510204, 0.8408163265306122, 0.8020408163265306, 0.8326530612244898, 0.8346938775510204, 0.8302658486707567, 0.8179959100204499]\n",
      "cross_val_accuracy: 0.8322 \n"
     ]
    }
   ],
   "source": [
    "start = time.time()\n",
    "if __name__ == \"__main__\":\n",
    "    ig_threshold =0\n",
    "    criteria ='entropy'# 'entropy' 'gini'\n",
    "    minimum_leaf =5\n",
    "    test_set = run_decision_tree_cross_val(ig_threshold, criteria, minimum_leaf)\n",
    "start = time.time()# EXECUTION TIME in SECONDs"
   ]
  },
  {
   "cell_type": "code",
   "execution_count": 210,
   "id": "a011e7bf",
   "metadata": {},
   "outputs": [
    {
     "name": "stdout",
     "output_type": "stream",
     "text": [
      "Number of records: 4898\n",
      "accuracy: 0.8160\n"
     ]
    }
   ],
   "source": [
    "if __name__ == \"__main__\":\n",
    "    ig_threshold =0.01\n",
    "    criteria ='entropy'# 'entropy' 'gini'\n",
    "    minimum_leaf =5\n",
    "    test_set = run_decision_tree(ig_threshold, criteria, minimum_leaf)"
   ]
  },
  {
   "cell_type": "raw",
   "id": "4f53a2b0",
   "metadata": {},
   "source": [
    "0.8384 for infinite depth , .82 for .03 info entropy; .8037 for gini, .01"
   ]
  },
  {
   "cell_type": "code",
   "execution_count": 211,
   "id": "f293be67",
   "metadata": {},
   "outputs": [
    {
     "name": "stdout",
     "output_type": "stream",
     "text": [
      "Number of records: 4898\n",
      "[0.8367346938775511, 0.8428571428571429, 0.7979591836734694, 0.8285714285714286, 0.8510204081632653, 0.7959183673469388, 0.8285714285714286, 0.8428571428571429, 0.8404907975460123, 0.8139059304703476]\n",
      "cross_val_accuracy: 0.8279 \n",
      "1150.323976278305\n"
     ]
    }
   ],
   "source": [
    "start = time.time()\n",
    "if __name__ == \"__main__\":\n",
    "    ig_threshold =0#\n",
    "    criteria ='gini'# 'entropy' 'gini'\n",
    "    test_set = run_decision_tree_cross_val(ig_threshold, criteria)\n",
    "end = time.time()\n",
    "print(end-start)# EXECUTION TIME in SECONDs"
   ]
  },
  {
   "cell_type": "code",
   "execution_count": 33,
   "id": "9ab78148",
   "metadata": {},
   "outputs": [
    {
     "name": "stdout",
     "output_type": "stream",
     "text": [
      "Number of records: 4898\n",
      "[0.8040816326530612, 0.8244897959183674, 0.7918367346938775, 0.8020408163265306, 0.8040816326530612, 0.8122448979591836, 0.810204081632653, 0.8061224489795918, 0.7770961145194274, 0.8077709611451943]\n",
      "cross_val_accuracy: 0.8040 \n",
      "time taken to execute : 340.13444328308105\n"
     ]
    }
   ],
   "source": [
    "start = time.time()\n",
    "if __name__ == \"__main__\":\n",
    "    ig_threshold =0.03\n",
    "    criteria ='entropy'# 'entropy' 'gini'\n",
    "    minimum_leaf =5\n",
    "    test_set = run_decision_tree_cross_val(ig_threshold, criteria, minimum_leaf =5) #0.8040 \n",
    "    \n",
    "end = time.time()\n",
    "print('time taken to execute : '+ str(end-start))## EXECUTION TIME in SECONDs"
   ]
  },
  {
   "cell_type": "code",
   "execution_count": 213,
   "id": "3921afef",
   "metadata": {},
   "outputs": [
    {
     "name": "stdout",
     "output_type": "stream",
     "text": [
      "Number of records: 4898\n",
      "[0.8510204081632653, 0.8612244897959184, 0.8163265306122449, 0.8346938775510204, 0.8408163265306122, 0.8020408163265306, 0.8326530612244898, 0.8346938775510204, 0.8302658486707567, 0.8179959100204499]\n",
      "cross_val_accuracy: 0.8322 \n"
     ]
    }
   ],
   "source": [
    "if __name__ == \"__main__\":\n",
    "    ig_threshold =0.001\n",
    "    criteria ='entropy'# 'entropy' 'gini'\n",
    "    test_set = run_decision_tree_cross_val(ig_threshold, criteria)"
   ]
  },
  {
   "cell_type": "code",
   "execution_count": null,
   "id": "d3123ac4",
   "metadata": {},
   "outputs": [],
   "source": [
    "if __name__ == \"__main__\":\n",
    "    ig_threshold =0.0005\n",
    "    criteria ='entropy'# 'entropy' 'gini'\n",
    "    test_set = run_decision_tree_cross_val(ig_threshold, criteria)"
   ]
  },
  {
   "cell_type": "code",
   "execution_count": null,
   "id": "3edc8394",
   "metadata": {},
   "outputs": [],
   "source": [
    "# ENTROPY INCREASED for IG =0.01"
   ]
  },
  {
   "cell_type": "markdown",
   "id": "8cf8bf7f",
   "metadata": {},
   "source": [
    "## Entropy + Pruning -- Improved Accuracy"
   ]
  },
  {
   "cell_type": "code",
   "execution_count": 34,
   "id": "73e07ad9",
   "metadata": {},
   "outputs": [
    {
     "name": "stdout",
     "output_type": "stream",
     "text": [
      "Number of records: 4898\n",
      "[0.8510204081632653, 0.8693877551020408, 0.8183673469387756, 0.8367346938775511, 0.8428571428571429, 0.8, 0.8326530612244898, 0.8346938775510204, 0.8343558282208589, 0.8159509202453987]\n",
      "cross_val_accuracy: 0.8336 \n",
      "1075.1261570453644\n"
     ]
    }
   ],
   "source": [
    "start = time.time()\n",
    "if __name__ == \"__main__\":\n",
    "    ig_threshold =0.01 # better than entropy 0 \n",
    "    criteria ='entropy'# 'entropy' 'gini'\n",
    "    test_set = run_decision_tree_cross_val(ig_threshold, criteria)\n",
    "    \n",
    "end = time.time()\n",
    "print(end - start)# EXECUTION TIME in SECONDs"
   ]
  },
  {
   "cell_type": "code",
   "execution_count": null,
   "id": "b3119333",
   "metadata": {},
   "outputs": [],
   "source": [
    "start = time.time()\n",
    "if __name__ == \"__main__\":\n",
    "    ig_threshold =0.01 # better than entropy 0 \n",
    "    criteria ='entropy'# 'entropy' 'gini'\n",
    "    minimum_leaf = 15\n",
    "    test_set = run_decision_tree_cross_val(ig_threshold, criteria, minimum_leaf)\n",
    "    \n",
    "end = time.time()\n",
    "print(end - start)# EXECUTION TIME in SECONDs"
   ]
  },
  {
   "cell_type": "code",
   "execution_count": 41,
   "id": "43a7b178",
   "metadata": {},
   "outputs": [
    {
     "name": "stdout",
     "output_type": "stream",
     "text": [
      "Number of records: 4898\n",
      "[0.8061224489795918, 0.826530612244898, 0.8040816326530612, 0.8244897959183674, 0.8408163265306122, 0.8061224489795918, 0.8163265306122449, 0.8244897959183674, 0.8077709611451943, 0.7975460122699386]\n",
      "cross_val_accuracy: 0.8154 \n"
     ]
    }
   ],
   "source": [
    "\n",
    "if __name__ == \"__main__\":\n",
    "    ig_threshold =0.02 #  \n",
    "    criteria ='entropy'# 'entropy' 'gini'\n",
    "    test_set = run_decision_tree_cross_val(ig_threshold, criteria)"
   ]
  },
  {
   "cell_type": "code",
   "execution_count": 42,
   "id": "0c7745b7",
   "metadata": {
    "scrolled": true
   },
   "outputs": [
    {
     "name": "stdout",
     "output_type": "stream",
     "text": [
      "Number of records: 4898\n",
      "[0.8448979591836735, 0.8326530612244898, 0.8183673469387756, 0.8428571428571429, 0.8551020408163266, 0.8142857142857143, 0.8326530612244898, 0.8306122448979592, 0.8343558282208589, 0.7975460122699386]\n",
      "cross_val_accuracy: 0.8303 \n",
      "1289.4171986579895\n"
     ]
    }
   ],
   "source": [
    "start = time.time()\n",
    "if __name__ == \"__main__\":\n",
    "    ig_threshold =0.015 # \n",
    "    criteria ='entropy'# 'entropy' 'gini'\n",
    "    test_set = run_decision_tree_cross_val(ig_threshold, criteria)\n",
    "end = time.time()\n",
    "print(end- start)# EXECUTION TIME in SECONDs"
   ]
  },
  {
   "cell_type": "code",
   "execution_count": 39,
   "id": "43164013",
   "metadata": {},
   "outputs": [
    {
     "name": "stdout",
     "output_type": "stream",
     "text": [
      "Number of records: 4898\n",
      "[0.8510204081632653, 0.8612244897959184, 0.8183673469387756, 0.8367346938775511, 0.8428571428571429, 0.8020408163265306, 0.8326530612244898, 0.8346938775510204, 0.8302658486707567, 0.8179959100204499]\n",
      "cross_val_accuracy: 0.8328 \n"
     ]
    }
   ],
   "source": [
    "if __name__ == \"__main__\":\n",
    "    ig_threshold =0.008 # better than entropy 0 \n",
    "    criteria ='entropy'# 'entropy' 'gini'\n",
    "    test_set = run_decision_tree_cross_val(ig_threshold, criteria)"
   ]
  },
  {
   "cell_type": "code",
   "execution_count": 40,
   "id": "5593d34f",
   "metadata": {},
   "outputs": [
    {
     "name": "stdout",
     "output_type": "stream",
     "text": [
      "Number of records: 4898\n",
      "[0.8448979591836735, 0.8693877551020408, 0.8183673469387756, 0.8367346938775511, 0.8428571428571429, 0.8, 0.8408163265306122, 0.8346938775510204, 0.8343558282208589, 0.7995910020449898]\n",
      "cross_val_accuracy: 0.8322 \n"
     ]
    }
   ],
   "source": [
    "if __name__ == \"__main__\":\n",
    "    ig_threshold =0.012 \n",
    "    criteria ='entropy'# 'entropy' 'gini'\n",
    "    test_set = run_decision_tree_cross_val(ig_threshold, criteria)"
   ]
  },
  {
   "cell_type": "code",
   "execution_count": 36,
   "id": "ee20cdb0",
   "metadata": {},
   "outputs": [
    {
     "name": "stdout",
     "output_type": "stream",
     "text": [
      "Number of records: 4898\n",
      "[0.8346938775510204, 0.8571428571428571, 0.8183673469387756, 0.8306122448979592, 0.8551020408163266, 0.8142857142857143, 0.8387755102040816, 0.8346938775510204, 0.8282208588957055, 0.8241308793456033]\n",
      "cross_val_accuracy: 0.8336 \n"
     ]
    }
   ],
   "source": [
    "if __name__ == \"__main__\":\n",
    "    ig_threshold =0.007 \n",
    "    criteria ='gini'# 'entropy' 'gini'\n",
    "    minimum_leaf = 10\n",
    "    test_set = run_decision_tree_cross_val(ig_threshold, criteria, minimum_leaf)"
   ]
  },
  {
   "cell_type": "code",
   "execution_count": 35,
   "id": "6878566c",
   "metadata": {},
   "outputs": [
    {
     "name": "stdout",
     "output_type": "stream",
     "text": [
      "Number of records: 4898\n",
      "[0.8346938775510204, 0.8551020408163266, 0.8183673469387756, 0.8306122448979592, 0.8489795918367347, 0.8163265306122449, 0.8387755102040816, 0.8408163265306122, 0.8425357873210634, 0.8241308793456033]\n",
      "cross_val_accuracy: 0.8350 \n"
     ]
    }
   ],
   "source": [
    "#minimum_leaf\n",
    "if __name__ == \"__main__\":\n",
    "    ig_threshold =0.005 # better than gini 0 \n",
    "    criteria ='gini'# 'entropy' 'gini'\n",
    "    minimum_leaf = 10\n",
    "    test_set = run_decision_tree_cross_val(ig_threshold, criteria, minimum_leaf)"
   ]
  },
  {
   "cell_type": "markdown",
   "id": "3b36f8de",
   "metadata": {},
   "source": [
    "## MAXIMUM ACCURACY from Gini Impurity + Pruning"
   ]
  },
  {
   "cell_type": "code",
   "execution_count": 57,
   "id": "91c2f564",
   "metadata": {},
   "outputs": [
    {
     "name": "stdout",
     "output_type": "stream",
     "text": [
      "Number of records: 4898\n",
      "[0.8346938775510204, 0.8551020408163266, 0.8183673469387756, 0.8306122448979592, 0.8489795918367347, 0.8163265306122449, 0.8387755102040816, 0.8408163265306122, 0.8425357873210634, 0.8241308793456033]\n",
      "cross_val_accuracy: 0.8350 \n",
      "1345.705882549286\n"
     ]
    }
   ],
   "source": [
    "#minimum_leaf\n",
    "start = time.time()\n",
    "if __name__ == \"__main__\":\n",
    "    ig_threshold =0.005 # better than gini 0 \n",
    "    criteria ='gini'# 'entropy' 'gini'\n",
    "    minimum_leaf = 5\n",
    "    test_set = run_decision_tree_cross_val(ig_threshold, criteria, minimum_leaf) #.8350\n",
    "end = time.time()\n",
    "print(end-start)"
   ]
  },
  {
   "cell_type": "code",
   "execution_count": 45,
   "id": "c3d47238",
   "metadata": {},
   "outputs": [
    {
     "name": "stdout",
     "output_type": "stream",
     "text": [
      "Number of records: 4898\n",
      "[0.8346938775510204, 0.8591836734693877, 0.8183673469387756, 0.8306122448979592, 0.8489795918367347, 0.8244897959183674, 0.8387755102040816, 0.8346938775510204, 0.83640081799591, 0.8241308793456033]\n",
      "cross_val_accuracy: 0.8350 \n"
     ]
    }
   ],
   "source": [
    "#minimum_leaf\n",
    "if __name__ == \"__main__\":\n",
    "    ig_threshold =0.006 # better than gini 0 \n",
    "    criteria ='gini'# 'entropy' 'gini'\n",
    "    minimum_leaf = 5\n",
    "    test_set = run_decision_tree_cross_val(ig_threshold, criteria, minimum_leaf) #.8350"
   ]
  },
  {
   "cell_type": "code",
   "execution_count": 75,
   "id": "7814b985",
   "metadata": {},
   "outputs": [
    {
     "name": "stdout",
     "output_type": "stream",
     "text": [
      "Number of records: 4898\n",
      "[0.8510204081632653, 0.8612244897959184, 0.8183673469387756, 0.8367346938775511, 0.8408163265306122, 0.8020408163265306, 0.8326530612244898, 0.8346938775510204, 0.8302658486707567, 0.8179959100204499]\n",
      "cross_val_accuracy: 0.8326 \n",
      "1104.9212188720703\n"
     ]
    }
   ],
   "source": [
    "#minimum_leaf\n",
    "start = time.time()\n",
    "if __name__ == \"__main__\":\n",
    "    ig_threshold =0.006 # better than gini 0 \n",
    "    criteria ='entropy'# 'entropy' 'gini'\n",
    "    minimum_leaf = 5\n",
    "    test_set = run_decision_tree_cross_val(ig_threshold, criteria, minimum_leaf) #.8350\n",
    "end = time.time()\n",
    "print(end - start)"
   ]
  },
  {
   "cell_type": "code",
   "execution_count": 38,
   "id": "e19d1549",
   "metadata": {},
   "outputs": [
    {
     "name": "stdout",
     "output_type": "stream",
     "text": [
      "Number of records: 4898\n",
      "[0.8367346938775511, 0.8551020408163266, 0.8183673469387756, 0.8306122448979592, 0.8469387755102041, 0.8040816326530612, 0.8408163265306122, 0.8408163265306122, 0.8425357873210634, 0.8241308793456033]\n",
      "cross_val_accuracy: 0.8340 \n"
     ]
    }
   ],
   "source": [
    "#minimum_leaf\n",
    "if __name__ == \"__main__\":\n",
    "    ig_threshold =0.004 # better than gini 0 \n",
    "    criteria ='gini'# 'entropy' 'gini'\n",
    "    minimum_leaf = 5\n",
    "    test_set = run_decision_tree_cross_val(ig_threshold, criteria, minimum_leaf)"
   ]
  },
  {
   "cell_type": "code",
   "execution_count": 58,
   "id": "8105ed9f",
   "metadata": {},
   "outputs": [
    {
     "name": "stdout",
     "output_type": "stream",
     "text": [
      "Number of records: 4898\n",
      "[0.8346938775510204, 0.8551020408163266, 0.8183673469387756, 0.8306122448979592, 0.8489795918367347, 0.8163265306122449, 0.8387755102040816, 0.8408163265306122, 0.8425357873210634, 0.8241308793456033]\n",
      "cross_val_accuracy: 0.8350 \n"
     ]
    }
   ],
   "source": [
    "if __name__ == \"__main__\":\n",
    "    run_decision_tree_cross_val()"
   ]
  },
  {
   "cell_type": "code",
   "execution_count": null,
   "id": "267f572f",
   "metadata": {},
   "outputs": [],
   "source": []
  }
 ],
 "metadata": {
  "kernelspec": {
   "display_name": "Python 3",
   "language": "python",
   "name": "python3"
  },
  "language_info": {
   "codemirror_mode": {
    "name": "ipython",
    "version": 3
   },
   "file_extension": ".py",
   "mimetype": "text/x-python",
   "name": "python",
   "nbconvert_exporter": "python",
   "pygments_lexer": "ipython3",
   "version": "3.8.8"
  }
 },
 "nbformat": 4,
 "nbformat_minor": 5
}
